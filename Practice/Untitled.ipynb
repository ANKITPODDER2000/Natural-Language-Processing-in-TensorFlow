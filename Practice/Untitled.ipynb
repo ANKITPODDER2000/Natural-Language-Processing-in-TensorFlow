{
 "cells": [
  {
   "cell_type": "code",
   "execution_count": 1,
   "metadata": {},
   "outputs": [],
   "source": [
    "import tensorflow as tf"
   ]
  },
  {
   "cell_type": "code",
   "execution_count": 2,
   "metadata": {},
   "outputs": [],
   "source": [
    "import pandas as pd\n",
    "import numpy as np\n",
    "\n",
    "import matplotlib.pyplot as plt\n",
    "import seaborn as sns\n",
    "%matplotlib inline"
   ]
  },
  {
   "cell_type": "code",
   "execution_count": 3,
   "metadata": {},
   "outputs": [],
   "source": [
    "from nltk.corpus import stopwords\n",
    "from string import punctuation"
   ]
  },
  {
   "cell_type": "code",
   "execution_count": 4,
   "metadata": {},
   "outputs": [],
   "source": [
    "from tensorflow.keras.preprocessing.text import Tokenizer\n",
    "from tensorflow.keras.preprocessing.sequence import pad_sequences"
   ]
  },
  {
   "cell_type": "code",
   "execution_count": 5,
   "metadata": {},
   "outputs": [],
   "source": [
    "content = pd.read_csv(\"./SpamDitection/SMSSpamCollection\",sep=\"\\t\",names=['spam','message'])"
   ]
  },
  {
   "cell_type": "code",
   "execution_count": 6,
   "metadata": {},
   "outputs": [
    {
     "name": "stdout",
     "output_type": "stream",
     "text": [
      "   spam                                            message\n",
      "0   ham  Go until jurong point, crazy.. Available only ...\n",
      "1   ham                      Ok lar... Joking wif u oni...\n",
      "2  spam  Free entry in 2 a wkly comp to win FA Cup fina...\n",
      "3   ham  U dun say so early hor... U c already then say...\n",
      "4   ham  Nah I don't think he goes to usf, he lives aro...\n"
     ]
    }
   ],
   "source": [
    "print(content.head(n=5))"
   ]
  },
  {
   "cell_type": "code",
   "execution_count": 7,
   "metadata": {},
   "outputs": [],
   "source": [
    "classnames = ['ham','spam']\n",
    "#  'ham'  -> 0\n",
    "#  'spam' ->1"
   ]
  },
  {
   "cell_type": "code",
   "execution_count": 8,
   "metadata": {},
   "outputs": [],
   "source": [
    "content.spam = content.spam.apply(lambda classname : classnames.index(classname))"
   ]
  },
  {
   "cell_type": "code",
   "execution_count": 9,
   "metadata": {},
   "outputs": [
    {
     "data": {
      "text/html": [
       "<div>\n",
       "<style scoped>\n",
       "    .dataframe tbody tr th:only-of-type {\n",
       "        vertical-align: middle;\n",
       "    }\n",
       "\n",
       "    .dataframe tbody tr th {\n",
       "        vertical-align: top;\n",
       "    }\n",
       "\n",
       "    .dataframe thead th {\n",
       "        text-align: right;\n",
       "    }\n",
       "</style>\n",
       "<table border=\"1\" class=\"dataframe\">\n",
       "  <thead>\n",
       "    <tr style=\"text-align: right;\">\n",
       "      <th></th>\n",
       "      <th>spam</th>\n",
       "      <th>message</th>\n",
       "    </tr>\n",
       "  </thead>\n",
       "  <tbody>\n",
       "    <tr>\n",
       "      <th>0</th>\n",
       "      <td>0</td>\n",
       "      <td>Go until jurong point, crazy.. Available only ...</td>\n",
       "    </tr>\n",
       "    <tr>\n",
       "      <th>1</th>\n",
       "      <td>0</td>\n",
       "      <td>Ok lar... Joking wif u oni...</td>\n",
       "    </tr>\n",
       "    <tr>\n",
       "      <th>2</th>\n",
       "      <td>1</td>\n",
       "      <td>Free entry in 2 a wkly comp to win FA Cup fina...</td>\n",
       "    </tr>\n",
       "    <tr>\n",
       "      <th>3</th>\n",
       "      <td>0</td>\n",
       "      <td>U dun say so early hor... U c already then say...</td>\n",
       "    </tr>\n",
       "    <tr>\n",
       "      <th>4</th>\n",
       "      <td>0</td>\n",
       "      <td>Nah I don't think he goes to usf, he lives aro...</td>\n",
       "    </tr>\n",
       "  </tbody>\n",
       "</table>\n",
       "</div>"
      ],
      "text/plain": [
       "   spam                                            message\n",
       "0     0  Go until jurong point, crazy.. Available only ...\n",
       "1     0                      Ok lar... Joking wif u oni...\n",
       "2     1  Free entry in 2 a wkly comp to win FA Cup fina...\n",
       "3     0  U dun say so early hor... U c already then say...\n",
       "4     0  Nah I don't think he goes to usf, he lives aro..."
      ]
     },
     "execution_count": 9,
     "metadata": {},
     "output_type": "execute_result"
    }
   ],
   "source": [
    "content.head(n=5)"
   ]
  },
  {
   "cell_type": "code",
   "execution_count": 10,
   "metadata": {},
   "outputs": [
    {
     "data": {
      "text/plain": [
       "<matplotlib.axes._subplots.AxesSubplot at 0x2b4a2cf39e8>"
      ]
     },
     "execution_count": 10,
     "metadata": {},
     "output_type": "execute_result"
    },
    {
     "data": {
      "image/png": "[encoded data removed]",
      "text/plain": [
       "<Figure size 432x288 with 1 Axes>"
      ]
     },
     "metadata": {
      "needs_background": "light"
     },
     "output_type": "display_data"
    }
   ],
   "source": [
    "sns.countplot(x='spam',data=content)"
   ]
  },
  {
   "cell_type": "code",
   "execution_count": 11,
   "metadata": {},
   "outputs": [
    {
     "name": "stdout",
     "output_type": "stream",
     "text": [
      "Shape of messages : (5572, 2)\n"
     ]
    }
   ],
   "source": [
    "print(\"Shape of messages : %s\"%str(content.shape))"
   ]
  },
  {
   "cell_type": "code",
   "execution_count": 12,
   "metadata": {},
   "outputs": [
    {
     "name": "stdout",
     "output_type": "stream",
     "text": [
      "Total no of spam messages : (747, 2)\n"
     ]
    }
   ],
   "source": [
    "print(\"Total no of spam messages : %s\"%str(content[content['spam']==1].shape))"
   ]
  },
  {
   "cell_type": "markdown",
   "metadata": {},
   "source": [
    "<h1>Text Preprocessing</h1>"
   ]
  },
  {
   "cell_type": "code",
   "execution_count": 13,
   "metadata": {},
   "outputs": [
    {
     "name": "stdout",
     "output_type": "stream",
     "text": [
      "First 10 stopwords : ['i', 'me', 'my', 'myself', 'we', 'our', 'ours', 'ourselves', 'you', \"you're\"]\n",
      "Sample message! Notice: it has punctuation.\n",
      "Sample message Notice it has punctuation\n",
      "Sample message Notice punctuation\n"
     ]
    }
   ],
   "source": [
    "stopword = stopwords.words('english')\n",
    "print(\"First 10 stopwords : %s\"%str(stopword[:10]))\n",
    "\n",
    "msg = 'Sample message! Notice: it has punctuation.'\n",
    "\n",
    "print(msg)\n",
    "msg = ''.join([i for i in msg if i not in punctuation])\n",
    "print(msg)\n",
    "msg = msg.split(\" \")\n",
    "msg = \" \".join([i for i in msg if i not in stopword])\n",
    "print(msg)"
   ]
  },
  {
   "cell_type": "code",
   "execution_count": 99,
   "metadata": {},
   "outputs": [],
   "source": [
    "def text_preprocessing(msg,stopword=stopword,punctuation=punctuation):\n",
    "    msg = ''.join([i for i in msg if i not in punctuation])\n",
    "    msg = msg.split(\" \")\n",
    "    msg = \" \".join([i for i in msg if i.lower() not in stopword])\n",
    "    return msg"
   ]
  },
  {
   "cell_type": "code",
   "execution_count": 100,
   "metadata": {},
   "outputs": [
    {
     "data": {
      "text/plain": [
       "'Sample message Notice punctuation'"
      ]
     },
     "execution_count": 100,
     "metadata": {},
     "output_type": "execute_result"
    }
   ],
   "source": [
    "text_preprocessing('Sample message! Notice: it has punctuation.')"
   ]
  },
  {
   "cell_type": "code",
   "execution_count": 101,
   "metadata": {},
   "outputs": [
    {
     "data": {
      "text/plain": [
       "'Go jurong point crazy Available bugis n great world la e buffet Cine got amore wat'"
      ]
     },
     "execution_count": 101,
     "metadata": {},
     "output_type": "execute_result"
    }
   ],
   "source": [
    "content.message[0]"
   ]
  },
  {
   "cell_type": "code",
   "execution_count": 102,
   "metadata": {},
   "outputs": [],
   "source": [
    "content.message = content.message.apply(text_preprocessing)"
   ]
  },
  {
   "cell_type": "code",
   "execution_count": 103,
   "metadata": {},
   "outputs": [
    {
     "name": "stdout",
     "output_type": "stream",
     "text": [
      "String after preprocessing : Go jurong point crazy Available bugis n great world la e buffet Cine got amore wat\n"
     ]
    }
   ],
   "source": [
    "print(\"String after preprocessing : %s\"%content.message[0])"
   ]
  },
  {
   "cell_type": "markdown",
   "metadata": {},
   "source": [
    "### Data Visualization"
   ]
  },
  {
   "cell_type": "code",
   "execution_count": 104,
   "metadata": {},
   "outputs": [],
   "source": [
    "content['length'] = content.message.apply(len)"
   ]
  },
  {
   "cell_type": "code",
   "execution_count": 105,
   "metadata": {},
   "outputs": [],
   "source": [
    "sns.set_style('darkgrid')"
   ]
  },
  {
   "cell_type": "code",
   "execution_count": 106,
   "metadata": {},
   "outputs": [
    {
     "data": {
      "text/plain": [
       "array([<matplotlib.axes._subplots.AxesSubplot object at 0x000002B4A91C7518>,\n",
       "       <matplotlib.axes._subplots.AxesSubplot object at 0x000002B4A8CE4710>],\n",
       "      dtype=object)"
      ]
     },
     "execution_count": 106,
     "metadata": {},
     "output_type": "execute_result"
    },
    {
     "data": {
      "image/png": "[encoded data removed]",
      "text/plain": [
       "<Figure size 864x288 with 2 Axes>"
      ]
     },
     "metadata": {},
     "output_type": "display_data"
    }
   ],
   "source": [
    "content.hist(column='length', by='spam', bins=50,figsize=(12,4))"
   ]
  },
  {
   "cell_type": "code",
   "execution_count": 107,
   "metadata": {},
   "outputs": [],
   "source": [
    "content.drop('length',axis=1,inplace=True)"
   ]
  },
  {
   "cell_type": "code",
   "execution_count": 108,
   "metadata": {},
   "outputs": [
    {
     "data": {
      "text/html": [
       "<div>\n",
       "<style scoped>\n",
       "    .dataframe tbody tr th:only-of-type {\n",
       "        vertical-align: middle;\n",
       "    }\n",
       "\n",
       "    .dataframe tbody tr th {\n",
       "        vertical-align: top;\n",
       "    }\n",
       "\n",
       "    .dataframe thead th {\n",
       "        text-align: right;\n",
       "    }\n",
       "</style>\n",
       "<table border=\"1\" class=\"dataframe\">\n",
       "  <thead>\n",
       "    <tr style=\"text-align: right;\">\n",
       "      <th></th>\n",
       "      <th>spam</th>\n",
       "      <th>message</th>\n",
       "    </tr>\n",
       "  </thead>\n",
       "  <tbody>\n",
       "    <tr>\n",
       "      <th>0</th>\n",
       "      <td>0</td>\n",
       "      <td>Go jurong point crazy Available bugis n great ...</td>\n",
       "    </tr>\n",
       "    <tr>\n",
       "      <th>1</th>\n",
       "      <td>0</td>\n",
       "      <td>Ok lar Joking wif u oni</td>\n",
       "    </tr>\n",
       "    <tr>\n",
       "      <th>2</th>\n",
       "      <td>1</td>\n",
       "      <td>Free entry 2 wkly comp win FA Cup final tkts 2...</td>\n",
       "    </tr>\n",
       "    <tr>\n",
       "      <th>3</th>\n",
       "      <td>0</td>\n",
       "      <td>U dun say early hor U c already say</td>\n",
       "    </tr>\n",
       "    <tr>\n",
       "      <th>4</th>\n",
       "      <td>0</td>\n",
       "      <td>Nah dont think goes usf lives around though</td>\n",
       "    </tr>\n",
       "  </tbody>\n",
       "</table>\n",
       "</div>"
      ],
      "text/plain": [
       "   spam                                            message\n",
       "0     0  Go jurong point crazy Available bugis n great ...\n",
       "1     0                            Ok lar Joking wif u oni\n",
       "2     1  Free entry 2 wkly comp win FA Cup final tkts 2...\n",
       "3     0                U dun say early hor U c already say\n",
       "4     0        Nah dont think goes usf lives around though"
      ]
     },
     "execution_count": 108,
     "metadata": {},
     "output_type": "execute_result"
    }
   ],
   "source": [
    "content.head()"
   ]
  },
  {
   "cell_type": "markdown",
   "metadata": {},
   "source": [
    "<h1>Train test split</h1>"
   ]
  },
  {
   "cell_type": "code",
   "execution_count": 109,
   "metadata": {},
   "outputs": [],
   "source": [
    "def train_test_split(X,y,random_state=42,test_size=0.25):\n",
    "    m = len(content['message'])\n",
    "    trainSize = int(m * (1 - test_size))\n",
    "    \n",
    "    np.random.seed(random_state)\n",
    "    random_index = np.random.permutation(m)\n",
    "    train = random_index[:trainSize]\n",
    "    test  = random_index[trainSize:]\n",
    "    \n",
    "    return np.array(X[train]),np.array(X[test]),np.array(y[train]),np.array(y[test])"
   ]
  },
  {
   "cell_type": "code",
   "execution_count": 110,
   "metadata": {},
   "outputs": [],
   "source": [
    "X_train,X_test,y_train,y_test = train_test_split(content.message,content.spam,random_state=101)"
   ]
  },
  {
   "cell_type": "code",
   "execution_count": 111,
   "metadata": {},
   "outputs": [
    {
     "name": "stdout",
     "output_type": "stream",
     "text": [
      "Data Details : \n",
      "\n",
      "Train data details : \n",
      "===================================\n",
      "Shape of X_train : (4179,)\n",
      "Shape of y_train : (4179,)\n",
      "\n",
      "Train data details : \n",
      "===================================\n",
      "Shape of X_test : (1393,)\n",
      "Shape of y_test : (1393,)\n"
     ]
    }
   ],
   "source": [
    "print(\"Data Details : \")\n",
    "print(\"\\nTrain data details : \")\n",
    "print(\"===================================\")\n",
    "print(\"Shape of X_train : %s\"%str(X_train.shape))\n",
    "print(\"Shape of y_train : %s\"%str(y_train.shape))\n",
    "print(\"\\nTrain data details : \")\n",
    "print(\"===================================\")\n",
    "print(\"Shape of X_test : %s\"%str(X_test.shape))\n",
    "print(\"Shape of y_test : %s\"%str(y_test.shape))"
   ]
  },
  {
   "cell_type": "markdown",
   "metadata": {},
   "source": [
    "<h1>Tokenizer</h1>"
   ]
  },
  {
   "cell_type": "code",
   "execution_count": 112,
   "metadata": {},
   "outputs": [],
   "source": [
    "vocab_size    = 8000\n",
    "embedding_dim = 16\n",
    "oov_token     = \"<oov>\"\n",
    "padding       = \"post\"\n",
    "maxlen        = 120\n",
    "truncating    = 'post'"
   ]
  },
  {
   "cell_type": "code",
   "execution_count": 113,
   "metadata": {},
   "outputs": [],
   "source": [
    "tokenizer1 = Tokenizer(num_words=vocab_size,oov_token=oov_token)\n",
    "tokenizer1.fit_on_texts(X_train)\n",
    "word_index = tokenizer1.word_index\n",
    "seq = tokenizer1.texts_to_sequences(X_train)\n",
    "pad_seq_train = pad_sequences(seq,maxlen=maxlen,truncating=truncating,padding=padding)     #Training Data"
   ]
  },
  {
   "cell_type": "code",
   "execution_count": 114,
   "metadata": {},
   "outputs": [],
   "source": [
    "def revdict(Dict):\n",
    "    D = dict()\n",
    "    for w,k in Dict.items():\n",
    "        D[k] = w\n",
    "    return D"
   ]
  },
  {
   "cell_type": "code",
   "execution_count": 115,
   "metadata": {},
   "outputs": [],
   "source": [
    "rev_word_index = revdict(word_index)"
   ]
  },
  {
   "cell_type": "code",
   "execution_count": 116,
   "metadata": {},
   "outputs": [],
   "source": [
    "#rev_word_index"
   ]
  },
  {
   "cell_type": "code",
   "execution_count": 117,
   "metadata": {},
   "outputs": [],
   "source": [
    "seqTest      = tokenizer1.texts_to_sequences(X_test)\n",
    "pad_seq_test = pad_sequences(seqTest,maxlen=maxlen,truncating=truncating,padding=padding)     #Testing Data"
   ]
  },
  {
   "cell_type": "markdown",
   "metadata": {},
   "source": [
    "<h1>Model1</h1>"
   ]
  },
  {
   "cell_type": "code",
   "execution_count": 118,
   "metadata": {},
   "outputs": [],
   "source": [
    "model1 = tf.keras.models.Sequential([\n",
    "    tf.keras.layers.Embedding(vocab_size,embedding_dim,input_length=maxlen),\n",
    "    tf.keras.layers.Flatten(),\n",
    "    tf.keras.layers.Dense(6,activation=\"relu\"),\n",
    "    tf.keras.layers.Dense(1,activation=\"sigmoid\")\n",
    "])"
   ]
  },
  {
   "cell_type": "code",
   "execution_count": 119,
   "metadata": {},
   "outputs": [],
   "source": [
    "model1.compile(optimizer='adam',loss=tf.keras.losses.binary_crossentropy,metrics=['acc'])"
   ]
  },
  {
   "cell_type": "code",
   "execution_count": 120,
   "metadata": {},
   "outputs": [
    {
     "name": "stdout",
     "output_type": "stream",
     "text": [
      "Train on 4179 samples, validate on 1393 samples\n",
      "Epoch 1/20\n",
      "4179/4179 [==============================] - 5s 1ms/sample - loss: 0.3801 - acc: 0.8638 - val_loss: 0.3007 - val_acc: 0.8571\n",
      "Epoch 2/20\n",
      "4179/4179 [==============================] - 1s 237us/sample - loss: 0.2004 - acc: 0.8866 - val_loss: 0.1742 - val_acc: 0.9361\n",
      "Epoch 3/20\n",
      "4179/4179 [==============================] - 1s 240us/sample - loss: 0.1400 - acc: 0.9694 - val_loss: 0.1480 - val_acc: 0.9713\n",
      "Epoch 4/20\n",
      "4179/4179 [==============================] - 1s 248us/sample - loss: 0.1140 - acc: 0.9828 - val_loss: 0.1327 - val_acc: 0.9749\n",
      "Epoch 5/20\n",
      "4179/4179 [==============================] - 1s 233us/sample - loss: 0.0979 - acc: 0.9897 - val_loss: 0.1243 - val_acc: 0.9763\n",
      "Epoch 6/20\n",
      "4179/4179 [==============================] - 1s 264us/sample - loss: 0.0862 - acc: 0.9926 - val_loss: 0.1190 - val_acc: 0.9770s - loss: 0.0832 - \n",
      "Epoch 7/20\n",
      "4179/4179 [==============================] - 1s 247us/sample - loss: 0.0767 - acc: 0.9945 - val_loss: 0.1170 - val_acc: 0.9763\n",
      "Epoch 8/20\n",
      "4179/4179 [==============================] - 1s 242us/sample - loss: 0.0688 - acc: 0.9966 - val_loss: 0.1081 - val_acc: 0.9799\n",
      "Epoch 9/20\n",
      "4179/4179 [==============================] - 1s 244us/sample - loss: 0.0627 - acc: 0.9978 - val_loss: 0.1078 - val_acc: 0.9770\n",
      "Epoch 10/20\n",
      "4179/4179 [==============================] - 1s 235us/sample - loss: 0.0572 - acc: 0.9986 - val_loss: 0.1067 - val_acc: 0.9777\n",
      "Epoch 11/20\n",
      "4179/4179 [==============================] - 1s 244us/sample - loss: 0.0525 - acc: 0.9990 - val_loss: 0.1040 - val_acc: 0.9770\n",
      "Epoch 12/20\n",
      "4179/4179 [==============================] - 1s 239us/sample - loss: 0.0484 - acc: 0.9993 - val_loss: 0.1048 - val_acc: 0.9777\n",
      "Epoch 13/20\n",
      "4179/4179 [==============================] - 1s 271us/sample - loss: 0.0446 - acc: 0.9998 - val_loss: 0.1043 - val_acc: 0.9763\n",
      "Epoch 14/20\n",
      "4179/4179 [==============================] - 1s 258us/sample - loss: 0.0413 - acc: 0.9998 - val_loss: 0.1016 - val_acc: 0.9770\n",
      "Epoch 15/20\n",
      "4179/4179 [==============================] - 1s 277us/sample - loss: 0.0382 - acc: 0.9998 - val_loss: 0.1029 - val_acc: 0.9770\n",
      "Epoch 16/20\n",
      "4179/4179 [==============================] - 1s 258us/sample - loss: 0.0356 - acc: 0.9998 - val_loss: 0.0994 - val_acc: 0.9770\n",
      "Epoch 17/20\n",
      "4179/4179 [==============================] - 1s 258us/sample - loss: 0.0330 - acc: 0.9998 - val_loss: 0.1042 - val_acc: 0.9742\n",
      "Epoch 18/20\n",
      "4179/4179 [==============================] - 1s 268us/sample - loss: 0.0307 - acc: 0.9998 - val_loss: 0.0934 - val_acc: 0.9770\n",
      "Epoch 19/20\n",
      "4179/4179 [==============================] - 1s 334us/sample - loss: 0.0286 - acc: 0.9998 - val_loss: 0.0952 - val_acc: 0.9770\n",
      "Epoch 20/20\n",
      "4179/4179 [==============================] - 1s 284us/sample - loss: 0.0267 - acc: 1.0000 - val_loss: 0.0938 - val_acc: 0.9777\n"
     ]
    }
   ],
   "source": [
    "history1 = model1.fit(pad_seq_train,y_train,epochs=20,validation_data=(pad_seq_test,y_test))"
   ]
  },
  {
   "cell_type": "code",
   "execution_count": 121,
   "metadata": {},
   "outputs": [],
   "source": [
    "def loss_acc(history):\n",
    "    fig,ax = plt.subplots(1,2,figsize=(16,6))\n",
    "\n",
    "    ax[0].plot(history.history['acc'],label='Training')\n",
    "    ax[0].plot(history.history['val_acc'],label='Testing')\n",
    "    ax[0].set_title(\"Accurecy\")\n",
    "    ax[0].set_xlabel(\"Epochs\")\n",
    "    ax[0].set_ylabel(\"Acc\")\n",
    "    ax[0].legend()\n",
    "\n",
    "    ax[1].plot(history.history['loss'],label='Training')\n",
    "    ax[1].plot(history.history['val_loss'],label='Testing')\n",
    "    ax[1].set_title(\"Loss\")\n",
    "    ax[1].set_xlabel(\"Epochs\")\n",
    "    ax[1].set_ylabel(\"Loss\")\n",
    "    ax[1].legend()"
   ]
  },
  {
   "cell_type": "code",
   "execution_count": 122,
   "metadata": {},
   "outputs": [
    {
     "data": {
      "image/png": "[encoded data removed]",
      "text/plain": [
       "<Figure size 1152x432 with 2 Axes>"
      ]
     },
     "metadata": {},
     "output_type": "display_data"
    }
   ],
   "source": [
    "loss_acc(history1)"
   ]
  },
  {
   "cell_type": "code",
   "execution_count": 123,
   "metadata": {},
   "outputs": [],
   "source": [
    "#X_test[107]"
   ]
  },
  {
   "cell_type": "code",
   "execution_count": 124,
   "metadata": {},
   "outputs": [],
   "source": [
    "#for i in range(len(y_test)):\n",
    "#    if y_test[i] == 1:\n",
    "#        print(i)"
   ]
  },
  {
   "cell_type": "code",
   "execution_count": 125,
   "metadata": {},
   "outputs": [],
   "source": [
    "#107  137  631"
   ]
  },
  {
   "cell_type": "code",
   "execution_count": 126,
   "metadata": {},
   "outputs": [],
   "source": [
    "#rev_word_index"
   ]
  },
  {
   "cell_type": "code",
   "execution_count": 127,
   "metadata": {},
   "outputs": [],
   "source": [
    "import io\n",
    "out_v = io.open(\"vecs.tsv\",\"w\",encoding='utf-8')\n",
    "out_m = io.open(\"meta.tsv\",\"w\",encoding='utf-8')"
   ]
  },
  {
   "cell_type": "code",
   "execution_count": 128,
   "metadata": {},
   "outputs": [],
   "source": [
    "weights = model1.layers[0].get_weights()[0]"
   ]
  },
  {
   "cell_type": "code",
   "execution_count": 129,
   "metadata": {},
   "outputs": [
    {
     "data": {
      "text/plain": [
       "(8000, 16)"
      ]
     },
     "execution_count": 129,
     "metadata": {},
     "output_type": "execute_result"
    }
   ],
   "source": [
    "weights.shape"
   ]
  },
  {
   "cell_type": "code",
   "execution_count": 130,
   "metadata": {},
   "outputs": [],
   "source": [
    "for word_num in range(1,vocab_size):\n",
    "    word = rev_word_index[word_num]\n",
    "    embedding = weights[word_num]\n",
    "    out_m.write(word+'\\n')\n",
    "    out_v.write('\\t'.join([str(x) for x in embedding]) + '\\n')\n",
    "out_m.close()\n",
    "out_v.close()"
   ]
  },
  {
   "cell_type": "code",
   "execution_count": 151,
   "metadata": {},
   "outputs": [
    {
     "data": {
      "text/plain": [
       "1"
      ]
     },
     "execution_count": 151,
     "metadata": {},
     "output_type": "execute_result"
    }
   ],
   "source": [
    "y_train[48]"
   ]
  },
  {
   "cell_type": "code",
   "execution_count": 141,
   "metadata": {},
   "outputs": [
    {
     "data": {
      "text/plain": [
       "array([[1]])"
      ]
     },
     "execution_count": 141,
     "metadata": {},
     "output_type": "execute_result"
    }
   ],
   "source": [
    "model1.predict_classes(pad_seq_test[401:402])"
   ]
  },
  {
   "cell_type": "code",
   "execution_count": 133,
   "metadata": {},
   "outputs": [
    {
     "data": {
      "text/plain": [
       "1"
      ]
     },
     "execution_count": 133,
     "metadata": {},
     "output_type": "execute_result"
    }
   ],
   "source": [
    "y_test[401]"
   ]
  },
  {
   "cell_type": "code",
   "execution_count": 137,
   "metadata": {},
   "outputs": [],
   "source": [
    "def sen(matrix):\n",
    "    string = \"\"\n",
    "    for i in range(len(matrix)):\n",
    "        if matrix[i]==0:\n",
    "            break\n",
    "        string += rev_word_index[matrix[i]]\n",
    "        string += \" \"\n",
    "    return string"
   ]
  },
  {
   "cell_type": "code",
   "execution_count": 153,
   "metadata": {},
   "outputs": [
    {
     "name": "stdout",
     "output_type": "stream",
     "text": [
      "'ur hmv quiz cashbalance currently £500 maximize ur cashin send <oov> 86688 150pmsg ' is a : spam\n"
     ]
    }
   ],
   "source": [
    "print(\"'%s' is a : %s\"%(sen(pad_seq_test[401]) , classnames[model1.predict_classes(pad_seq_test[401:402])[0,0]]))"
   ]
  }
 ],
 "metadata": {
  "kernelspec": {
   "display_name": "Python 3",
   "language": "python",
   "name": "python3"
  },
  "language_info": {
   "codemirror_mode": {
    "name": "ipython",
    "version": 3
   },
   "file_extension": ".py",
   "mimetype": "text/x-python",
   "name": "python",
   "nbconvert_exporter": "python",
   "pygments_lexer": "ipython3",
   "version": "3.7.3"
  }
 },
 "nbformat": 4,
 "nbformat_minor": 2
}
