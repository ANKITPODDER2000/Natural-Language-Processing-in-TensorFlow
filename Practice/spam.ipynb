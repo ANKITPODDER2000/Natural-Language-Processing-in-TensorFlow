{
 "cells": [
  {
   "cell_type": "code",
   "execution_count": 4,
   "metadata": {},
   "outputs": [],
   "source": [
    "import tensorflow as tf\n",
    "from tensorflow.keras.preprocessing.text import Tokenizer\n",
    "from tensorflow.keras.preprocessing.sequence import pad_sequences"
   ]
  },
  {
   "cell_type": "code",
   "execution_count": 7,
   "metadata": {},
   "outputs": [],
   "source": [
    "import pandas as pd"
   ]
  },
  {
   "cell_type": "code",
   "execution_count": 35,
   "metadata": {},
   "outputs": [],
   "source": [
    "import seaborn as sns\n",
    "sns.set_style(\"darkgrid\")"
   ]
  },
  {
   "cell_type": "code",
   "execution_count": 46,
   "metadata": {},
   "outputs": [],
   "source": [
    "from nltk.corpus import stopwords\n",
    "import string"
   ]
  },
  {
   "cell_type": "code",
   "execution_count": 5,
   "metadata": {},
   "outputs": [],
   "source": [
    "filepath = \"./SpamDitection/SMSSpamCollection\"\n",
    "with open(filepath,\"r\") as f:\n",
    "    content = f.readlines()"
   ]
  },
  {
   "cell_type": "code",
   "execution_count": 9,
   "metadata": {},
   "outputs": [],
   "source": [
    "content = pd.read_csv(filepath,names=['Type',\"Message\"],sep='\\t')"
   ]
  },
  {
   "cell_type": "code",
   "execution_count": 10,
   "metadata": {},
   "outputs": [
    {
     "data": {
      "text/html": [
       "<div>\n",
       "<style scoped>\n",
       "    .dataframe tbody tr th:only-of-type {\n",
       "        vertical-align: middle;\n",
       "    }\n",
       "\n",
       "    .dataframe tbody tr th {\n",
       "        vertical-align: top;\n",
       "    }\n",
       "\n",
       "    .dataframe thead th {\n",
       "        text-align: right;\n",
       "    }\n",
       "</style>\n",
       "<table border=\"1\" class=\"dataframe\">\n",
       "  <thead>\n",
       "    <tr style=\"text-align: right;\">\n",
       "      <th></th>\n",
       "      <th>Type</th>\n",
       "      <th>Message</th>\n",
       "    </tr>\n",
       "  </thead>\n",
       "  <tbody>\n",
       "    <tr>\n",
       "      <th>0</th>\n",
       "      <td>ham</td>\n",
       "      <td>Go until jurong point, crazy.. Available only ...</td>\n",
       "    </tr>\n",
       "    <tr>\n",
       "      <th>1</th>\n",
       "      <td>ham</td>\n",
       "      <td>Ok lar... Joking wif u oni...</td>\n",
       "    </tr>\n",
       "    <tr>\n",
       "      <th>2</th>\n",
       "      <td>spam</td>\n",
       "      <td>Free entry in 2 a wkly comp to win FA Cup fina...</td>\n",
       "    </tr>\n",
       "    <tr>\n",
       "      <th>3</th>\n",
       "      <td>ham</td>\n",
       "      <td>U dun say so early hor... U c already then say...</td>\n",
       "    </tr>\n",
       "    <tr>\n",
       "      <th>4</th>\n",
       "      <td>ham</td>\n",
       "      <td>Nah I don't think he goes to usf, he lives aro...</td>\n",
       "    </tr>\n",
       "  </tbody>\n",
       "</table>\n",
       "</div>"
      ],
      "text/plain": [
       "   Type                                            Message\n",
       "0   ham  Go until jurong point, crazy.. Available only ...\n",
       "1   ham                      Ok lar... Joking wif u oni...\n",
       "2  spam  Free entry in 2 a wkly comp to win FA Cup fina...\n",
       "3   ham  U dun say so early hor... U c already then say...\n",
       "4   ham  Nah I don't think he goes to usf, he lives aro..."
      ]
     },
     "execution_count": 10,
     "metadata": {},
     "output_type": "execute_result"
    }
   ],
   "source": [
    "content.head()"
   ]
  },
  {
   "cell_type": "code",
   "execution_count": 11,
   "metadata": {},
   "outputs": [],
   "source": [
    "typeofmessage = ['ham','spam']"
   ]
  },
  {
   "cell_type": "code",
   "execution_count": 13,
   "metadata": {},
   "outputs": [],
   "source": [
    "content['TypeofMessage'] = content.Type.apply(lambda a : typeofmessage.index(a))"
   ]
  },
  {
   "cell_type": "code",
   "execution_count": 14,
   "metadata": {},
   "outputs": [],
   "source": [
    "content['Length'] = content.Message.apply(len)"
   ]
  },
  {
   "cell_type": "code",
   "execution_count": 15,
   "metadata": {},
   "outputs": [
    {
     "data": {
      "text/html": [
       "<div>\n",
       "<style scoped>\n",
       "    .dataframe tbody tr th:only-of-type {\n",
       "        vertical-align: middle;\n",
       "    }\n",
       "\n",
       "    .dataframe tbody tr th {\n",
       "        vertical-align: top;\n",
       "    }\n",
       "\n",
       "    .dataframe thead th {\n",
       "        text-align: right;\n",
       "    }\n",
       "</style>\n",
       "<table border=\"1\" class=\"dataframe\">\n",
       "  <thead>\n",
       "    <tr style=\"text-align: right;\">\n",
       "      <th></th>\n",
       "      <th>Type</th>\n",
       "      <th>Message</th>\n",
       "      <th>TypeofMessage</th>\n",
       "      <th>Length</th>\n",
       "    </tr>\n",
       "  </thead>\n",
       "  <tbody>\n",
       "    <tr>\n",
       "      <th>0</th>\n",
       "      <td>ham</td>\n",
       "      <td>Go until jurong point, crazy.. Available only ...</td>\n",
       "      <td>0</td>\n",
       "      <td>111</td>\n",
       "    </tr>\n",
       "    <tr>\n",
       "      <th>1</th>\n",
       "      <td>ham</td>\n",
       "      <td>Ok lar... Joking wif u oni...</td>\n",
       "      <td>0</td>\n",
       "      <td>29</td>\n",
       "    </tr>\n",
       "    <tr>\n",
       "      <th>2</th>\n",
       "      <td>spam</td>\n",
       "      <td>Free entry in 2 a wkly comp to win FA Cup fina...</td>\n",
       "      <td>1</td>\n",
       "      <td>155</td>\n",
       "    </tr>\n",
       "    <tr>\n",
       "      <th>3</th>\n",
       "      <td>ham</td>\n",
       "      <td>U dun say so early hor... U c already then say...</td>\n",
       "      <td>0</td>\n",
       "      <td>49</td>\n",
       "    </tr>\n",
       "    <tr>\n",
       "      <th>4</th>\n",
       "      <td>ham</td>\n",
       "      <td>Nah I don't think he goes to usf, he lives aro...</td>\n",
       "      <td>0</td>\n",
       "      <td>61</td>\n",
       "    </tr>\n",
       "  </tbody>\n",
       "</table>\n",
       "</div>"
      ],
      "text/plain": [
       "   Type                                            Message  TypeofMessage  Length\n",
       "0   ham  Go until jurong point, crazy.. Available only ...              0     111\n",
       "1   ham                      Ok lar... Joking wif u oni...              0      29\n",
       "2  spam  Free entry in 2 a wkly comp to win FA Cup fina...              1     155\n",
       "3   ham  U dun say so early hor... U c already then say...              0      49\n",
       "4   ham  Nah I don't think he goes to usf, he lives aro...              0      61"
      ]
     },
     "execution_count": 15,
     "metadata": {},
     "output_type": "execute_result"
    }
   ],
   "source": [
    "content.head()"
   ]
  },
  {
   "cell_type": "code",
   "execution_count": 19,
   "metadata": {},
   "outputs": [
    {
     "data": {
      "text/plain": [
       "910"
      ]
     },
     "execution_count": 19,
     "metadata": {},
     "output_type": "execute_result"
    }
   ],
   "source": [
    "content['Length'].ipynb_checkpoints/max()"
   ]
  },
  {
   "cell_type": "code",
   "execution_count": 22,
   "metadata": {},
   "outputs": [
    {
     "data": {
      "text/plain": [
       "1085"
      ]
     },
     "execution_count": 22,
     "metadata": {},
     "output_type": "execute_result"
    }
   ],
   "source": [
    "content['Length'].values.argmax()"
   ]
  },
  {
   "cell_type": "code",
   "execution_count": 25,
   "metadata": {},
   "outputs": [
    {
     "name": "stdout",
     "output_type": "stream",
     "text": [
      "For me the love should start with attraction.i should feel that I need her every time around me.she should be the first thing which comes in my thoughts.I would start the day and end it with her.she should be there every time I dream.love will be then when my every breath has her name.my life should happen around her.my life will be named to her.I would cry for her.will give all my happiness and take all her sorrows.I will be ready to fight with anyone for her.I will be in love when I will be doing the craziest things for her.love will be when I don't have to proove anyone that my girl is the most beautiful lady on the whole planet.I will always be singing praises for her.love will be when I start up making chicken curry and end up makiing sambar.life will be the most beautiful then.will get every morning and thank god for the day because she is with me.I would like to say a lot..will tell later..\n"
     ]
    }
   ],
   "source": [
    "print(content.iloc[1085]['Message'])"
   ]
  },
  {
   "cell_type": "code",
   "execution_count": 26,
   "metadata": {},
   "outputs": [
    {
     "name": "stdout",
     "output_type": "stream",
     "text": [
      "ham\n"
     ]
    }
   ],
   "source": [
    "print(content.iloc[1085].Type)"
   ]
  },
  {
   "cell_type": "code",
   "execution_count": 28,
   "metadata": {},
   "outputs": [],
   "source": [
    "import matplotlib.pyplot as plt\n",
    "%matplotlib inline"
   ]
  },
  {
   "cell_type": "code",
   "execution_count": 40,
   "metadata": {},
   "outputs": [
    {
     "data": {
      "text/plain": [
       "array([<matplotlib.axes._subplots.AxesSubplot object at 0x000001CD7CA3C3C8>,\n",
       "       <matplotlib.axes._subplots.AxesSubplot object at 0x000001CD7CAE5278>],\n",
       "      dtype=object)"
      ]
     },
     "execution_count": 40,
     "metadata": {},
     "output_type": "execute_result"
    },
    {
     "data": {
      "image/png": "[encoded data removed]",
      "text/plain": [
       "<Figure size 864x288 with 2 Axes>"
      ]
     },
     "metadata": {},
     "output_type": "display_data"
    }
   ],
   "source": [
    "content.hist(column='Length', by='Type', bins=50,figsize=(12,4))"
   ]
  },
  {
   "cell_type": "code",
   "execution_count": 38,
   "metadata": {},
   "outputs": [
    {
     "data": {
      "text/plain": [
       "<matplotlib.axes._subplots.AxesSubplot at 0x1cd7b726358>"
      ]
     },
     "execution_count": 38,
     "metadata": {},
     "output_type": "execute_result"
    },
    {
     "data": {
      "image/png": "[encoded data removed]",
      "text/plain": [
       "<Figure size 432x288 with 1 Axes>"
      ]
     },
     "metadata": {},
     "output_type": "display_data"
    }
   ],
   "source": [
    "sns.countplot(x='Type',data=content)"
   ]
  },
  {
   "cell_type": "markdown",
   "metadata": {},
   "source": [
    "<h1>Text Processing</h1>"
   ]
  },
  {
   "cell_type": "code",
   "execution_count": 51,
   "metadata": {},
   "outputs": [
    {
     "name": "stdout",
     "output_type": "stream",
     "text": [
      "!\"#$%&'()*+,-./:;<=>?@[\\]^_`{|}~\n",
      "['i', 'me', 'my', 'myself', 'we', 'our', 'ours', 'ourselves', 'you', \"you're\"]\n"
     ]
    }
   ],
   "source": [
    "print(string.punctuation)\n",
    "stopword = stopwords.words('english')\n",
    "print(stopword[:10])"
   ]
  },
  {
   "cell_type": "code",
   "execution_count": 54,
   "metadata": {},
   "outputs": [
    {
     "name": "stdout",
     "output_type": "stream",
     "text": [
      "Like Play Football play ground\n"
     ]
    }
   ],
   "source": [
    "stringMsg = \"I Like To Play Football, In The play ground!.\"\n",
    "stringMsg = \"\".join([i for i in stringMsg if i not in string.punctuation])\n",
    "stringMsg = \" \".join([i for i in stringMsg.split(\" \") if i.lower() not in stopword])\n",
    "print(stringMsg)"
   ]
  },
  {
   "cell_type": "code",
   "execution_count": 63,
   "metadata": {},
   "outputs": [],
   "source": [
    "def text_processing(stringMsg):\n",
    "    stringMsg = \"\".join([i for i in stringMsg if i not in string.punctuation])\n",
    "    stringMsg = \" \".join([i for i in stringMsg.split(\" \") if i.lower() not in stopword])\n",
    "    return stringMsg"
   ]
  },
  {
   "cell_type": "code",
   "execution_count": 64,
   "metadata": {},
   "outputs": [],
   "source": [
    "content['Message'] = content['Message'].apply(text_processing)"
   ]
  },
  {
   "cell_type": "code",
   "execution_count": 68,
   "metadata": {},
   "outputs": [],
   "source": [
    "content['Length'] = content['Message'].apply(len)"
   ]
  },
  {
   "cell_type": "code",
   "execution_count": 69,
   "metadata": {},
   "outputs": [
    {
     "data": {
      "text/plain": [
       "array([ 82,  23, 135, ...,  28,  82,  14], dtype=int64)"
      ]
     },
     "execution_count": 69,
     "metadata": {},
     "output_type": "execute_result"
    }
   ],
   "source": [
    "content['Length'].values"
   ]
  },
  {
   "cell_type": "code",
   "execution_count": 73,
   "metadata": {},
   "outputs": [
    {
     "data": {
      "text/plain": [
       "516"
      ]
     },
     "execution_count": 73,
     "metadata": {},
     "output_type": "execute_result"
    }
   ],
   "source": [
    "content['Length'].values.max()"
   ]
  },
  {
   "cell_type": "code",
   "execution_count": 75,
   "metadata": {},
   "outputs": [
    {
     "data": {
      "text/plain": [
       "array(['Go jurong point crazy Available bugis n great world la e buffet Cine got amore wat',\n",
       "       'Ok lar Joking wif u oni',\n",
       "       'Free entry 2 wkly comp win FA Cup final tkts 21st May 2005 Text FA 87121 receive entry questionstd txt rateTCs apply 08452810075over18s',\n",
       "       'U dun say early hor U c already say',\n",
       "       'Nah dont think goes usf lives around though'], dtype=object)"
      ]
     },
     "execution_count": 75,
     "metadata": {},
     "output_type": "execute_result"
    }
   ],
   "source": [
    "content.iloc[:5]['Message'].values"
   ]
  },
  {
   "cell_type": "markdown",
   "metadata": {},
   "source": [
    "<h1>Train Test Split</h1>"
   ]
  },
  {
   "cell_type": "code",
   "execution_count": 77,
   "metadata": {},
   "outputs": [
    {
     "data": {
      "text/plain": [
       "(5572,)"
      ]
     },
     "execution_count": 77,
     "metadata": {},
     "output_type": "execute_result"
    }
   ],
   "source": [
    "content.Message.shape"
   ]
  },
  {
   "cell_type": "code",
   "execution_count": 83,
   "metadata": {},
   "outputs": [],
   "source": [
    "def train_test_split(X,y,random_state=42,test_size=0.25):\n",
    "    import numpy as np\n",
    "    np.random.seed(random_state)\n",
    "    m = X.shape[0]\n",
    "    train_size = int(m * (1-test_size))\n",
    "    random_index = np.random.permutation(m)\n",
    "    train = random_index[:train_size]\n",
    "    test = random_index[train_size:]\n",
    "    \n",
    "    return X[train].values,X[test].values,y[train].values,y[test].values"
   ]
  },
  {
   "cell_type": "code",
   "execution_count": 84,
   "metadata": {},
   "outputs": [],
   "source": [
    "X_train,X_test,y_train,y_test = train_test_split(content.Message,content.TypeofMessage,random_state=101)"
   ]
  },
  {
   "cell_type": "code",
   "execution_count": 85,
   "metadata": {},
   "outputs": [
    {
     "name": "stdout",
     "output_type": "stream",
     "text": [
      "Data Details : \n",
      "\n",
      "Train data details : \n",
      "===================================\n",
      "Shape of X_train : (4179,)\n",
      "Shape of y_train : (4179,)\n",
      "\n",
      "Train data details : \n",
      "===================================\n",
      "Shape of X_test : (1393,)\n",
      "Shape of y_test : (1393,)\n"
     ]
    }
   ],
   "source": [
    "print(\"Data Details : \")\n",
    "print(\"\\nTrain data details : \")\n",
    "print(\"===================================\")\n",
    "print(\"Shape of X_train : %s\"%str(X_train.shape))\n",
    "print(\"Shape of y_train : %s\"%str(y_train.shape))\n",
    "print(\"\\nTrain data details : \")\n",
    "print(\"===================================\")\n",
    "print(\"Shape of X_test : %s\"%str(X_test.shape))\n",
    "print(\"Shape of y_test : %s\"%str(y_test.shape))"
   ]
  },
  {
   "cell_type": "markdown",
   "metadata": {},
   "source": [
    "<h1>Tokenizer</h1>"
   ]
  },
  {
   "cell_type": "code",
   "execution_count": 107,
   "metadata": {},
   "outputs": [],
   "source": [
    "vocab_size = 10000\n",
    "max_len = 120\n",
    "padding = \"post\"\n",
    "truncating = \"post\"\n",
    "embedding_dim = 16\n",
    "oov_token = \"<oov>\""
   ]
  },
  {
   "cell_type": "code",
   "execution_count": 89,
   "metadata": {},
   "outputs": [],
   "source": [
    "tokenizer = Tokenizer(num_words=vocab_size,oov_token=oov_token)\n",
    "tokenizer.fit_on_texts(X_train)\n",
    "word_index = tokenizer.word_index"
   ]
  },
  {
   "cell_type": "code",
   "execution_count": 97,
   "metadata": {},
   "outputs": [],
   "source": [
    "def reverse_dict(Dict):\n",
    "    newDict = dict()\n",
    "    for w,n in Dict.items():\n",
    "        newDict[n] = w\n",
    "    return newDict"
   ]
  },
  {
   "cell_type": "code",
   "execution_count": 98,
   "metadata": {},
   "outputs": [],
   "source": [
    "reverse_word_index = reverse_dict(word_index)"
   ]
  },
  {
   "cell_type": "code",
   "execution_count": 106,
   "metadata": {},
   "outputs": [],
   "source": [
    "#word_index"
   ]
  },
  {
   "cell_type": "code",
   "execution_count": 105,
   "metadata": {},
   "outputs": [],
   "source": [
    "#reverse_word_index"
   ]
  },
  {
   "cell_type": "code",
   "execution_count": 108,
   "metadata": {},
   "outputs": [],
   "source": [
    "seq_train = tokenizer.texts_to_sequences(X_train)\n",
    "X_train1 = pad_sequences(seq_train,maxlen=max_len,padding=padding,truncating=truncating)"
   ]
  },
  {
   "cell_type": "code",
   "execution_count": 109,
   "metadata": {},
   "outputs": [],
   "source": [
    "seq_test = tokenizer.texts_to_sequences(X_test)\n",
    "X_test1 = pad_sequences(seq_test,maxlen=max_len,padding=padding,truncating=truncating)"
   ]
  },
  {
   "cell_type": "code",
   "execution_count": 110,
   "metadata": {},
   "outputs": [
    {
     "name": "stdout",
     "output_type": "stream",
     "text": [
      "Data Details : \n",
      "\n",
      "Train data details : \n",
      "===================================\n",
      "Shape of X_train : (4179, 120)\n",
      "Shape of y_train : (4179,)\n",
      "\n",
      "Train data details : \n",
      "===================================\n",
      "Shape of X_test : (1393, 120)\n",
      "Shape of y_test : (1393,)\n"
     ]
    }
   ],
   "source": [
    "print(\"Data Details : \")\n",
    "print(\"\\nTrain data details : \")\n",
    "print(\"===================================\")\n",
    "print(\"Shape of X_train : %s\"%str(X_train1.shape))\n",
    "print(\"Shape of y_train : %s\"%str(y_train.shape))\n",
    "print(\"\\nTrain data details : \")\n",
    "print(\"===================================\")\n",
    "print(\"Shape of X_test : %s\"%str(X_test1.shape))\n",
    "print(\"Shape of y_test : %s\"%str(y_test.shape))"
   ]
  },
  {
   "cell_type": "code",
   "execution_count": 116,
   "metadata": {},
   "outputs": [],
   "source": [
    "model1 = tf.keras.models.Sequential([\n",
    "    tf.keras.layers.Embedding(vocab_size,embedding_dim,input_length=max_len),\n",
    "    \n",
    "    tf.keras.layers.Flatten(),\n",
    "    tf.keras.layers.Dense(6,activation='relu'),\n",
    "    tf.keras.layers.Dense(1,activation='sigmoid')\n",
    "])"
   ]
  },
  {
   "cell_type": "code",
   "execution_count": 117,
   "metadata": {},
   "outputs": [
    {
     "name": "stdout",
     "output_type": "stream",
     "text": [
      "Model: \"sequential_1\"\n",
      "_________________________________________________________________\n",
      "Layer (type)                 Output Shape              Param #   \n",
      "=================================================================\n",
      "embedding_1 (Embedding)      (None, 120, 16)           160000    \n",
      "_________________________________________________________________\n",
      "flatten_1 (Flatten)          (None, 1920)              0         \n",
      "_________________________________________________________________\n",
      "dense_2 (Dense)              (None, 6)                 11526     \n",
      "_________________________________________________________________\n",
      "dense_3 (Dense)              (None, 1)                 7         \n",
      "=================================================================\n",
      "Total params: 171,533\n",
      "Trainable params: 171,533\n",
      "Non-trainable params: 0\n",
      "_________________________________________________________________\n"
     ]
    }
   ],
   "source": [
    "model1.summary()"
   ]
  },
  {
   "cell_type": "code",
   "execution_count": 118,
   "metadata": {},
   "outputs": [],
   "source": [
    "model1.compile(optimizer='adam',loss=tf.keras.losses.binary_crossentropy,metrics=['acc'])"
   ]
  },
  {
   "cell_type": "code",
   "execution_count": 119,
   "metadata": {},
   "outputs": [
    {
     "name": "stdout",
     "output_type": "stream",
     "text": [
      "Train on 4179 samples, validate on 1393 samples\n",
      "Epoch 1/40\n",
      "4179/4179 [==============================] - 2s 517us/sample - loss: 0.3112 - acc: 0.8650 - val_loss: 0.1980 - val_acc: 0.8571\n",
      "Epoch 2/40\n",
      "4179/4179 [==============================] - 1s 251us/sample - loss: 0.1482 - acc: 0.9615 - val_loss: 0.1447 - val_acc: 0.9706\n",
      "Epoch 3/40\n",
      "4179/4179 [==============================] - 1s 250us/sample - loss: 0.1110 - acc: 0.9844 - val_loss: 0.1333 - val_acc: 0.9734\n",
      "Epoch 4/40\n",
      "4179/4179 [==============================] - 1s 252us/sample - loss: 0.0918 - acc: 0.9921 - val_loss: 0.1239 - val_acc: 0.9763\n",
      "Epoch 5/40\n",
      "4179/4179 [==============================] - 1s 245us/sample - loss: 0.0793 - acc: 0.9952 - val_loss: 0.1177 - val_acc: 0.9799\n",
      "Epoch 6/40\n",
      "4179/4179 [==============================] - 1s 252us/sample - loss: 0.0704 - acc: 0.9974 - val_loss: 0.1224 - val_acc: 0.9763\n",
      "Epoch 7/40\n",
      "4179/4179 [==============================] - 1s 245us/sample - loss: 0.0637 - acc: 0.9983 - val_loss: 0.1105 - val_acc: 0.9785\n",
      "Epoch 8/40\n",
      "4179/4179 [==============================] - 1s 252us/sample - loss: 0.0581 - acc: 0.9990 - val_loss: 0.1083 - val_acc: 0.9785\n",
      "Epoch 9/40\n",
      "4179/4179 [==============================] - 1s 255us/sample - loss: 0.0532 - acc: 0.9993 - val_loss: 0.1087 - val_acc: 0.9799\n",
      "Epoch 10/40\n",
      "4179/4179 [==============================] - 1s 260us/sample - loss: 0.0488 - acc: 0.9998 - val_loss: 0.1082 - val_acc: 0.9792\n",
      "Epoch 11/40\n",
      "4179/4179 [==============================] - 1s 265us/sample - loss: 0.0449 - acc: 0.9998 - val_loss: 0.1074 - val_acc: 0.9792\n",
      "Epoch 12/40\n",
      "4179/4179 [==============================] - 1s 264us/sample - loss: 0.0415 - acc: 0.9998 - val_loss: 0.1058 - val_acc: 0.9785\n",
      "Epoch 13/40\n",
      "4179/4179 [==============================] - 1s 266us/sample - loss: 0.0383 - acc: 0.9998 - val_loss: 0.1049 - val_acc: 0.9756\n",
      "Epoch 14/40\n",
      "4179/4179 [==============================] - 1s 279us/sample - loss: 0.0355 - acc: 1.0000 - val_loss: 0.0988 - val_acc: 0.9785\n",
      "Epoch 15/40\n",
      "4179/4179 [==============================] - 1s 257us/sample - loss: 0.0330 - acc: 1.0000 - val_loss: 0.1020 - val_acc: 0.9763\n",
      "Epoch 16/40\n",
      "4179/4179 [==============================] - 1s 260us/sample - loss: 0.0306 - acc: 1.0000 - val_loss: 0.0920 - val_acc: 0.9799\n",
      "Epoch 17/40\n",
      "4179/4179 [==============================] - 1s 259us/sample - loss: 0.0285 - acc: 1.0000 - val_loss: 0.1034 - val_acc: 0.9763\n",
      "Epoch 18/40\n",
      "4179/4179 [==============================] - 1s 295us/sample - loss: 0.0265 - acc: 1.0000 - val_loss: 0.1036 - val_acc: 0.9756\n",
      "Epoch 19/40\n",
      "4179/4179 [==============================] - 1s 282us/sample - loss: 0.0247 - acc: 1.0000 - val_loss: 0.0960 - val_acc: 0.9785\n",
      "Epoch 20/40\n",
      "4179/4179 [==============================] - 1s 254us/sample - loss: 0.0231 - acc: 1.0000 - val_loss: 0.0971 - val_acc: 0.9770\n",
      "Epoch 21/40\n",
      "4179/4179 [==============================] - 1s 255us/sample - loss: 0.0216 - acc: 1.0000 - val_loss: 0.0969 - val_acc: 0.9770\n",
      "Epoch 22/40\n",
      "4179/4179 [==============================] - 1s 260us/sample - loss: 0.0202 - acc: 1.0000 - val_loss: 0.0954 - val_acc: 0.9770\n",
      "Epoch 23/40\n",
      "4179/4179 [==============================] - 1s 256us/sample - loss: 0.0189 - acc: 1.0000 - val_loss: 0.0923 - val_acc: 0.9792\n",
      "Epoch 24/40\n",
      "4179/4179 [==============================] - 1s 251us/sample - loss: 0.0177 - acc: 1.0000 - val_loss: 0.0935 - val_acc: 0.9785\n",
      "Epoch 25/40\n",
      "4179/4179 [==============================] - 1s 254us/sample - loss: 0.0166 - acc: 1.0000 - val_loss: 0.0962 - val_acc: 0.9763\n",
      "Epoch 26/40\n",
      "4179/4179 [==============================] - 1s 260us/sample - loss: 0.0155 - acc: 1.0000 - val_loss: 0.0984 - val_acc: 0.9770\n",
      "Epoch 27/40\n",
      "4179/4179 [==============================] - 1s 264us/sample - loss: 0.0146 - acc: 1.0000 - val_loss: 0.0937 - val_acc: 0.9777\n",
      "Epoch 28/40\n",
      "4179/4179 [==============================] - 1s 251us/sample - loss: 0.0137 - acc: 1.0000 - val_loss: 0.0921 - val_acc: 0.9792\n",
      "Epoch 29/40\n",
      "4179/4179 [==============================] - 1s 263us/sample - loss: 0.0129 - acc: 1.0000 - val_loss: 0.0882 - val_acc: 0.9799\n",
      "Epoch 30/40\n",
      "4179/4179 [==============================] - 1s 285us/sample - loss: 0.0121 - acc: 1.0000 - val_loss: 0.0933 - val_acc: 0.9792\n",
      "Epoch 31/40\n",
      "4179/4179 [==============================] - 1s 266us/sample - loss: 0.0114 - acc: 1.0000 - val_loss: 0.0906 - val_acc: 0.9799\n",
      "Epoch 32/40\n",
      "4179/4179 [==============================] - 1s 285us/sample - loss: 0.0107 - acc: 1.0000 - val_loss: 0.0907 - val_acc: 0.9799\n",
      "Epoch 33/40\n",
      "4179/4179 [==============================] - 1s 299us/sample - loss: 0.0101 - acc: 1.0000 - val_loss: 0.0921 - val_acc: 0.9792\n",
      "Epoch 34/40\n",
      "4179/4179 [==============================] - 1s 261us/sample - loss: 0.0095 - acc: 1.0000 - val_loss: 0.0915 - val_acc: 0.9792\n",
      "Epoch 35/40\n",
      "4179/4179 [==============================] - 1s 268us/sample - loss: 0.0089 - acc: 1.0000 - val_loss: 0.0921 - val_acc: 0.9792\n",
      "Epoch 36/40\n",
      "4179/4179 [==============================] - 1s 252us/sample - loss: 0.0084 - acc: 1.0000 - val_loss: 0.0879 - val_acc: 0.9813\n",
      "Epoch 37/40\n",
      "4179/4179 [==============================] - 1s 293us/sample - loss: 0.0079 - acc: 1.0000 - val_loss: 0.0921 - val_acc: 0.9806\n",
      "Epoch 38/40\n",
      "4179/4179 [==============================] - 1s 265us/sample - loss: 0.0075 - acc: 1.0000 - val_loss: 0.0905 - val_acc: 0.9813\n",
      "Epoch 39/40\n",
      "4179/4179 [==============================] - 1s 269us/sample - loss: 0.0071 - acc: 1.0000 - val_loss: 0.0900 - val_acc: 0.9813\n",
      "Epoch 40/40\n",
      "4179/4179 [==============================] - 1s 265us/sample - loss: 0.0067 - acc: 1.0000 - val_loss: 0.0930 - val_acc: 0.9806\n"
     ]
    }
   ],
   "source": [
    "history1 = model1.fit(X_train1,y_train,epochs=40,validation_data=(X_test1,y_test))"
   ]
  },
  {
   "cell_type": "code",
   "execution_count": 124,
   "metadata": {},
   "outputs": [],
   "source": [
    "def loss_acc(history):\n",
    "    fig,ax = plt.subplots(1,2,figsize=(16,6))\n",
    "    ax[0].plot(history.history['acc'],label='Train')\n",
    "    ax[0].plot(history.history['val_acc'],label='Test')\n",
    "    ax[0].set_title(\"Accurecy\")\n",
    "    ax[0].set_xlabel(\"Epochs\")\n",
    "    ax[0].set_ylabel(\"acc\")\n",
    "    ax[0].legend()\n",
    "    \n",
    "    ax[1].plot(history.history['loss'],label='Train')\n",
    "    ax[1].plot(history.history['val_loss'],label='Test')\n",
    "    ax[1].set_title(\"Loss\")\n",
    "    ax[1].set_xlabel(\"Epochs\")\n",
    "    ax[1].set_ylabel(\"loss\")\n",
    "    ax[1].legend()"
   ]
  },
  {
   "cell_type": "code",
   "execution_count": 125,
   "metadata": {},
   "outputs": [
    {
     "data": {
      "image/png": "[encoded data removed]",
      "text/plain": [
       "<Figure size 1152x432 with 2 Axes>"
      ]
     },
     "metadata": {},
     "output_type": "display_data"
    }
   ],
   "source": [
    "loss_acc(history1)"
   ]
  },
  {
   "cell_type": "code",
   "execution_count": 126,
   "metadata": {},
   "outputs": [
    {
     "name": "stdout",
     "output_type": "stream",
     "text": [
      "Train on 4179 samples, validate on 1393 samples\n",
      "Epoch 1/40\n",
      "4179/4179 [==============================] - 14s 3ms/sample - loss: 0.4162 - acc: 0.8631 - val_loss: 0.1964 - val_acc: 0.8571\n",
      "Epoch 2/40\n",
      "4179/4179 [==============================] - 4s 972us/sample - loss: 0.1343 - acc: 0.8689 - val_loss: 0.1425 - val_acc: 0.9770\n",
      "Epoch 3/40\n",
      "4179/4179 [==============================] - 4s 958us/sample - loss: 0.1016 - acc: 0.9931 - val_loss: 0.1470 - val_acc: 0.9742s: 0.1011 -\n",
      "Epoch 4/40\n",
      "4179/4179 [==============================] - 4s 1ms/sample - loss: 0.0889 - acc: 0.9971 - val_loss: 0.1436 - val_acc: 0.9777\n",
      "Epoch 5/40\n",
      "4179/4179 [==============================] - 4s 934us/sample - loss: 0.0814 - acc: 0.9986 - val_loss: 0.1448 - val_acc: 0.9770\n",
      "Epoch 6/40\n",
      "4179/4179 [==============================] - 4s 964us/sample - loss: 0.0759 - acc: 0.9990 - val_loss: 0.1368 - val_acc: 0.9799\n",
      "Epoch 7/40\n",
      "4179/4179 [==============================] - 4s 926us/sample - loss: 0.0707 - acc: 0.9995 - val_loss: 0.1423 - val_acc: 0.9770\n",
      "Epoch 8/40\n",
      "4179/4179 [==============================] - 4s 1ms/sample - loss: 0.0660 - acc: 0.9998 - val_loss: 0.1367 - val_acc: 0.9799\n",
      "Epoch 9/40\n",
      "4179/4179 [==============================] - 4s 923us/sample - loss: 0.0616 - acc: 0.9998 - val_loss: 0.1341 - val_acc: 0.9799\n",
      "Epoch 10/40\n",
      "4179/4179 [==============================] - 4s 916us/sample - loss: 0.0575 - acc: 0.9998 - val_loss: 0.1348 - val_acc: 0.9792\n",
      "Epoch 11/40\n",
      "4179/4179 [==============================] - 4s 867us/sample - loss: 0.0536 - acc: 0.9998 - val_loss: 0.1333 - val_acc: 0.9792\n",
      "Epoch 12/40\n",
      "4179/4179 [==============================] - 4s 912us/sample - loss: 0.0500 - acc: 0.9998 - val_loss: 0.1328 - val_acc: 0.9799\n",
      "Epoch 13/40\n",
      "4179/4179 [==============================] - 4s 900us/sample - loss: 0.0467 - acc: 0.9998 - val_loss: 0.1316 - val_acc: 0.9785\n",
      "Epoch 14/40\n",
      "4179/4179 [==============================] - 4s 902us/sample - loss: 0.0437 - acc: 0.9998 - val_loss: 0.1266 - val_acc: 0.9799\n",
      "Epoch 15/40\n",
      "4179/4179 [==============================] - 4s 908us/sample - loss: 0.0408 - acc: 0.9998 - val_loss: 0.1283 - val_acc: 0.9792\n",
      "Epoch 16/40\n",
      "4179/4179 [==============================] - 4s 898us/sample - loss: 0.0382 - acc: 0.9998 - val_loss: 0.1260 - val_acc: 0.9799\n",
      "Epoch 17/40\n",
      "4179/4179 [==============================] - 4s 890us/sample - loss: 0.0357 - acc: 0.9998 - val_loss: 0.1173 - val_acc: 0.9806\n",
      "Epoch 18/40\n",
      "4179/4179 [==============================] - 4s 890us/sample - loss: 0.0334 - acc: 0.9998 - val_loss: 0.1172 - val_acc: 0.9821\n",
      "Epoch 19/40\n",
      "4179/4179 [==============================] - 4s 904us/sample - loss: 0.0313 - acc: 0.9998 - val_loss: 0.1126 - val_acc: 0.9813\n",
      "Epoch 20/40\n",
      "4179/4179 [==============================] - 4s 917us/sample - loss: 0.0293 - acc: 0.9998 - val_loss: 0.1170 - val_acc: 0.9821\n",
      "Epoch 21/40\n",
      "4179/4179 [==============================] - 4s 936us/sample - loss: 0.0275 - acc: 0.9998 - val_loss: 0.1212 - val_acc: 0.9806\n",
      "Epoch 22/40\n",
      "4179/4179 [==============================] - 4s 914us/sample - loss: 0.0258 - acc: 0.9998 - val_loss: 0.1142 - val_acc: 0.9813\n",
      "Epoch 23/40\n",
      "4179/4179 [==============================] - 4s 972us/sample - loss: 0.0242 - acc: 0.9998 - val_loss: 0.1074 - val_acc: 0.9821\n",
      "Epoch 24/40\n",
      "4179/4179 [==============================] - 4s 895us/sample - loss: 0.0228 - acc: 0.9998 - val_loss: 0.1162 - val_acc: 0.9821\n",
      "Epoch 25/40\n",
      "4179/4179 [==============================] - 4s 894us/sample - loss: 0.0214 - acc: 0.9998 - val_loss: 0.1209 - val_acc: 0.9806\n",
      "Epoch 26/40\n",
      "4179/4179 [==============================] - 4s 964us/sample - loss: 0.0201 - acc: 0.9998 - val_loss: 0.1111 - val_acc: 0.9828\n",
      "Epoch 27/40\n",
      "4179/4179 [==============================] - 4s 949us/sample - loss: 0.0189 - acc: 0.9998 - val_loss: 0.1156 - val_acc: 0.9806\n",
      "Epoch 28/40\n",
      "4179/4179 [==============================] - 4s 876us/sample - loss: 0.0179 - acc: 0.9998 - val_loss: 0.1078 - val_acc: 0.9828\n",
      "Epoch 29/40\n",
      "4179/4179 [==============================] - 4s 959us/sample - loss: 0.0168 - acc: 0.9998 - val_loss: 0.1124 - val_acc: 0.9813\n",
      "Epoch 30/40\n",
      "4179/4179 [==============================] - 4s 906us/sample - loss: 0.0159 - acc: 0.9998 - val_loss: 0.1042 - val_acc: 0.9828\n",
      "Epoch 31/40\n",
      "4179/4179 [==============================] - 4s 909us/sample - loss: 0.0150 - acc: 0.9998 - val_loss: 0.0977 - val_acc: 0.9828\n",
      "Epoch 32/40\n",
      "4179/4179 [==============================] - 4s 883us/sample - loss: 0.0142 - acc: 0.9998 - val_loss: 0.1037 - val_acc: 0.9821\n",
      "Epoch 33/40\n",
      "4179/4179 [==============================] - 4s 868us/sample - loss: 0.0134 - acc: 0.9998 - val_loss: 0.1093 - val_acc: 0.9806\n",
      "Epoch 34/40\n",
      "4179/4179 [==============================] - 4s 917us/sample - loss: 0.0127 - acc: 0.9998 - val_loss: 0.1129 - val_acc: 0.9813\n",
      "Epoch 35/40\n",
      "4179/4179 [==============================] - 4s 878us/sample - loss: 0.0120 - acc: 0.9998 - val_loss: 0.1033 - val_acc: 0.9828\n",
      "Epoch 36/40\n",
      "4179/4179 [==============================] - 4s 893us/sample - loss: 0.0114 - acc: 0.9998 - val_loss: 0.1089 - val_acc: 0.9799\n",
      "Epoch 37/40\n",
      "4179/4179 [==============================] - 4s 847us/sample - loss: 0.0108 - acc: 0.9998 - val_loss: 0.1013 - val_acc: 0.9821\n",
      "Epoch 38/40\n",
      "4179/4179 [==============================] - 4s 886us/sample - loss: 0.0102 - acc: 0.9998 - val_loss: 0.1069 - val_acc: 0.9813\n",
      "Epoch 39/40\n",
      "4179/4179 [==============================] - 4s 868us/sample - loss: 0.0097 - acc: 0.9998 - val_loss: 0.1114 - val_acc: 0.9799\n",
      "Epoch 40/40\n",
      "4179/4179 [==============================] - 4s 929us/sample - loss: 0.0092 - acc: 0.9998 - val_loss: 0.1148 - val_acc: 0.9806\n"
     ]
    }
   ],
   "source": [
    "model2 = tf.keras.models.Sequential([\n",
    "    tf.keras.layers.Embedding(vocab_size,embedding_dim,input_length=max_len),\n",
    "    \n",
    "    tf.keras.layers.Conv1D(128, 5, activation='relu'),\n",
    "    tf.keras.layers.GlobalMaxPooling1D(),\n",
    "    \n",
    "    tf.keras.layers.Dense(6,activation='relu'),\n",
    "    tf.keras.layers.Dense(1,activation='sigmoid')\n",
    "])\n",
    "\n",
    "model2.compile(optimizer='adam',loss=tf.keras.losses.binary_crossentropy,metrics=['acc'])\n",
    "history2 = model2.fit(X_train1,y_train,epochs=40,validation_data=(X_test1,y_test))"
   ]
  },
  {
   "cell_type": "code",
   "execution_count": 127,
   "metadata": {},
   "outputs": [
    {
     "data": {
      "image/png": "[encoded data removed]",
      "text/plain": [
       "<Figure size 1152x432 with 2 Axes>"
      ]
     },
     "metadata": {},
     "output_type": "display_data"
    }
   ],
   "source": [
    "loss_acc(history2)"
   ]
  },
  {
   "cell_type": "code",
   "execution_count": 129,
   "metadata": {},
   "outputs": [
    {
     "name": "stdout",
     "output_type": "stream",
     "text": [
      "Train on 4179 samples, validate on 1393 samples\n",
      "Epoch 1/40\n",
      "4179/4179 [==============================] - 39s 9ms/sample - loss: 0.3371 - acc: 0.8849 - val_loss: 0.0767 - val_acc: 0.9799\n",
      "Epoch 2/40\n",
      "4179/4179 [==============================] - 29s 7ms/sample - loss: 0.0446 - acc: 0.9864 - val_loss: 0.0619 - val_acc: 0.9842\n",
      "Epoch 3/40\n",
      "4179/4179 [==============================] - 31s 7ms/sample - loss: 0.0118 - acc: 0.9971 - val_loss: 0.0936 - val_acc: 0.9835\n",
      "Epoch 4/40\n",
      "4179/4179 [==============================] - 30s 7ms/sample - loss: 0.0025 - acc: 0.9993 - val_loss: 0.1129 - val_acc: 0.9842\n",
      "Epoch 5/40\n",
      "4179/4179 [==============================] - 29s 7ms/sample - loss: 2.5884e-04 - acc: 1.0000 - val_loss: 0.0797 - val_acc: 0.9849\n",
      "Epoch 6/40\n",
      "4179/4179 [==============================] - 30s 7ms/sample - loss: 8.2720e-04 - acc: 0.9998 - val_loss: 0.0930 - val_acc: 0.9792\n",
      "Epoch 7/40\n",
      "4179/4179 [==============================] - 29s 7ms/sample - loss: 6.3767e-04 - acc: 0.9998 - val_loss: 0.1174 - val_acc: 0.9842\n",
      "Epoch 8/40\n",
      "4179/4179 [==============================] - 30s 7ms/sample - loss: 5.8537e-05 - acc: 1.0000 - val_loss: 0.1324 - val_acc: 0.9842\n",
      "Epoch 9/40\n",
      "4179/4179 [==============================] - 29s 7ms/sample - loss: 3.7277e-05 - acc: 1.0000 - val_loss: 0.1371 - val_acc: 0.9849\n",
      "Epoch 10/40\n",
      "4179/4179 [==============================] - 29s 7ms/sample - loss: 2.6257e-05 - acc: 1.0000 - val_loss: 0.1426 - val_acc: 0.9842\n",
      "Epoch 11/40\n",
      "4179/4179 [==============================] - 30s 7ms/sample - loss: 1.9617e-05 - acc: 1.0000 - val_loss: 0.1468 - val_acc: 0.9842\n",
      "Epoch 12/40\n",
      "4179/4179 [==============================] - 30s 7ms/sample - loss: 1.5182e-05 - acc: 1.0000 - val_loss: 0.1504 - val_acc: 0.9842\n",
      "Epoch 13/40\n",
      "4179/4179 [==============================] - 30s 7ms/sample - loss: 1.1978e-05 - acc: 1.0000 - val_loss: 0.1543 - val_acc: 0.9842\n",
      "Epoch 14/40\n",
      "4179/4179 [==============================] - 31s 7ms/sample - loss: 9.6842e-06 - acc: 1.0000 - val_loss: 0.1572 - val_acc: 0.9842\n",
      "Epoch 15/40\n",
      "4179/4179 [==============================] - 29s 7ms/sample - loss: 7.8943e-06 - acc: 1.0000 - val_loss: 0.1602 - val_acc: 0.9842\n",
      "Epoch 16/40\n",
      "4179/4179 [==============================] - 30s 7ms/sample - loss: 6.5687e-06 - acc: 1.0000 - val_loss: 0.1633 - val_acc: 0.9842\n",
      "Epoch 17/40\n",
      "4179/4179 [==============================] - 29s 7ms/sample - loss: 5.5293e-06 - acc: 1.0000 - val_loss: 0.1659 - val_acc: 0.9842\n",
      "Epoch 18/40\n",
      "4179/4179 [==============================] - 30s 7ms/sample - loss: 4.6517e-06 - acc: 1.0000 - val_loss: 0.1694 - val_acc: 0.9842\n",
      "Epoch 19/40\n",
      "4179/4179 [==============================] - 30s 7ms/sample - loss: 3.9855e-06 - acc: 1.0000 - val_loss: 0.1719 - val_acc: 0.9842\n",
      "Epoch 20/40\n",
      "4179/4179 [==============================] - 30s 7ms/sample - loss: 3.4299e-06 - acc: 1.0000 - val_loss: 0.1742 - val_acc: 0.9842\n",
      "Epoch 21/40\n",
      "4179/4179 [==============================] - 29s 7ms/sample - loss: 2.9631e-06 - acc: 1.0000 - val_loss: 0.1763 - val_acc: 0.9842\n",
      "Epoch 22/40\n",
      "4179/4179 [==============================] - 29s 7ms/sample - loss: 2.5760e-06 - acc: 1.0000 - val_loss: 0.1783 - val_acc: 0.9842\n",
      "Epoch 23/40\n",
      "4179/4179 [==============================] - 29s 7ms/sample - loss: 2.2509e-06 - acc: 1.0000 - val_loss: 0.1806 - val_acc: 0.9842\n",
      "Epoch 24/40\n",
      "4179/4179 [==============================] - 29s 7ms/sample - loss: 1.9695e-06 - acc: 1.0000 - val_loss: 0.1826 - val_acc: 0.9842\n",
      "Epoch 25/40\n",
      "4179/4179 [==============================] - 29s 7ms/sample - loss: 1.7324e-06 - acc: 1.0000 - val_loss: 0.1846 - val_acc: 0.9842\n",
      "Epoch 26/40\n",
      "4179/4179 [==============================] - 30s 7ms/sample - loss: 1.5264e-06 - acc: 1.0000 - val_loss: 0.1866 - val_acc: 0.9842\n",
      "Epoch 27/40\n",
      "4179/4179 [==============================] - 30s 7ms/sample - loss: 1.3546e-06 - acc: 1.0000 - val_loss: 0.1885 - val_acc: 0.9842\n",
      "Epoch 28/40\n",
      "4179/4179 [==============================] - 30s 7ms/sample - loss: 1.2008e-06 - acc: 1.0000 - val_loss: 0.1904 - val_acc: 0.9842\n",
      "Epoch 29/40\n",
      "4179/4179 [==============================] - 30s 7ms/sample - loss: 1.0648e-06 - acc: 1.0000 - val_loss: 0.1922 - val_acc: 0.9842\n",
      "Epoch 30/40\n",
      "4179/4179 [==============================] - 30s 7ms/sample - loss: 9.4952e-07 - acc: 1.0000 - val_loss: 0.1939 - val_acc: 0.9842\n",
      "Epoch 31/40\n",
      "4179/4179 [==============================] - 30s 7ms/sample - loss: 8.4803e-07 - acc: 1.0000 - val_loss: 0.1956 - val_acc: 0.9842\n",
      "Epoch 32/40\n",
      "4179/4179 [==============================] - 30s 7ms/sample - loss: 7.6015e-07 - acc: 1.0000 - val_loss: 0.1975 - val_acc: 0.9842\n",
      "Epoch 33/40\n",
      "4179/4179 [==============================] - 30s 7ms/sample - loss: 6.8010e-07 - acc: 1.0000 - val_loss: 0.1992 - val_acc: 0.9842\n",
      "Epoch 34/40\n",
      "4179/4179 [==============================] - 31s 7ms/sample - loss: 6.1039e-07 - acc: 1.0000 - val_loss: 0.2010 - val_acc: 0.9842\n",
      "Epoch 35/40\n",
      "4179/4179 [==============================] - 30s 7ms/sample - loss: 5.4901e-07 - acc: 1.0000 - val_loss: 0.2029 - val_acc: 0.9842\n",
      "Epoch 36/40\n",
      "4179/4179 [==============================] - 30s 7ms/sample - loss: 4.9408e-07 - acc: 1.0000 - val_loss: 0.2045 - val_acc: 0.9842\n",
      "Epoch 37/40\n",
      "4179/4179 [==============================] - 30s 7ms/sample - loss: 4.4606e-07 - acc: 1.0000 - val_loss: 0.2062 - val_acc: 0.9842\n",
      "Epoch 38/40\n",
      "4179/4179 [==============================] - 31s 8ms/sample - loss: 4.0209e-07 - acc: 1.0000 - val_loss: 0.2079 - val_acc: 0.9842\n",
      "Epoch 39/40\n",
      "4179/4179 [==============================] - 31s 7ms/sample - loss: 3.6376e-07 - acc: 1.0000 - val_loss: 0.2095 - val_acc: 0.9842\n",
      "Epoch 40/40\n",
      "4179/4179 [==============================] - 31s 7ms/sample - loss: 3.2879e-07 - acc: 1.0000 - val_loss: 0.2113 - val_acc: 0.9842\n"
     ]
    }
   ],
   "source": [
    "model2 = tf.keras.models.Sequential([\n",
    "    tf.keras.layers.Embedding(vocab_size,embedding_dim,input_length=max_len),\n",
    "    \n",
    "    tf.keras.layers.Bidirectional(tf.keras.layers.LSTM(64,return_sequences=True)),\n",
    "    tf.keras.layers.Conv1D(128, 5, activation='relu'),\n",
    "    tf.keras.layers.GlobalMaxPooling1D(),\n",
    "    \n",
    "    tf.keras.layers.Dense(6,activation='relu'),\n",
    "    tf.keras.layers.Dense(1,activation='sigmoid')\n",
    "])\n",
    "\n",
    "model2.compile(optimizer='adam',loss=tf.keras.losses.binary_crossentropy,metrics=['acc'])\n",
    "history2 = model2.fit(X_train1,y_train,epochs=40,validation_data=(X_test1,y_test))"
   ]
  },
  {
   "cell_type": "code",
   "execution_count": 130,
   "metadata": {},
   "outputs": [
    {
     "data": {
      "image/png": "[encoded data removed]",
      "text/plain": [
       "<Figure size 1152x432 with 2 Axes>"
      ]
     },
     "metadata": {},
     "output_type": "display_data"
    }
   ],
   "source": [
    "loss_acc(history2)"
   ]
  },
  {
   "cell_type": "code",
   "execution_count": 133,
   "metadata": {},
   "outputs": [
    {
     "data": {
      "text/plain": [
       "array([[0]])"
      ]
     },
     "execution_count": 133,
     "metadata": {},
     "output_type": "execute_result"
    }
   ],
   "source": [
    "model2.predict_classes(X_test1[0:1])"
   ]
  },
  {
   "cell_type": "code",
   "execution_count": 134,
   "metadata": {},
   "outputs": [
    {
     "data": {
      "text/plain": [
       "0"
      ]
     },
     "execution_count": 134,
     "metadata": {},
     "output_type": "execute_result"
    }
   ],
   "source": [
    "y_test[0]"
   ]
  },
  {
   "cell_type": "code",
   "execution_count": 137,
   "metadata": {},
   "outputs": [],
   "source": [
    "def sen(matrix):\n",
    "    string = \"\"\n",
    "    for i in range(len(matrix)):\n",
    "        if matrix[i]==0:\n",
    "            break\n",
    "        string += reverse_word_index[matrix[i]]\n",
    "        string += \" \"\n",
    "    return string"
   ]
  },
  {
   "cell_type": "code",
   "execution_count": 138,
   "metadata": {},
   "outputs": [
    {
     "data": {
      "text/plain": [
       "'somewhere <oov> <oov> moon light someone think u dreams come true <oov> amp sweet dreams '"
      ]
     },
     "execution_count": 138,
     "metadata": {},
     "output_type": "execute_result"
    }
   ],
   "source": [
    "sen(X_test1[0])"
   ]
  },
  {
   "cell_type": "code",
   "execution_count": 139,
   "metadata": {},
   "outputs": [
    {
     "data": {
      "text/plain": [
       "'somewhere beneath pale moon light someone think u dreams come true goodnite amp sweet dreams'"
      ]
     },
     "execution_count": 139,
     "metadata": {},
     "output_type": "execute_result"
    }
   ],
   "source": [
    "X_test[0]"
   ]
  },
  {
   "cell_type": "code",
   "execution_count": 140,
   "metadata": {},
   "outputs": [
    {
     "data": {
      "text/plain": [
       "array([[1]])"
      ]
     },
     "execution_count": 140,
     "metadata": {},
     "output_type": "execute_result"
    }
   ],
   "source": [
    "model2.predict_classes(X_test1[401:402])"
   ]
  },
  {
   "cell_type": "code",
   "execution_count": 141,
   "metadata": {},
   "outputs": [
    {
     "data": {
      "text/plain": [
       "'ur hmv quiz cashbalance currently £500 maximize ur cashin send <oov> 86688 150pmsg '"
      ]
     },
     "execution_count": 141,
     "metadata": {},
     "output_type": "execute_result"
    }
   ],
   "source": [
    "sen(X_test1[401])"
   ]
  },
  {
   "cell_type": "code",
   "execution_count": 142,
   "metadata": {},
   "outputs": [
    {
     "data": {
      "text/plain": [
       "'Ur HMV Quiz cashbalance currently £500  maximize ur cashin send HMV1 86688 150pmsg'"
      ]
     },
     "execution_count": 142,
     "metadata": {},
     "output_type": "execute_result"
    }
   ],
   "source": [
    "X_test[401]"
   ]
  },
  {
   "cell_type": "code",
   "execution_count": 144,
   "metadata": {},
   "outputs": [
    {
     "name": "stdout",
     "output_type": "stream",
     "text": [
      "'ur hmv quiz cashbalance currently £500 maximize ur cashin send <oov> 86688 150pmsg ' is a : 1\n"
     ]
    }
   ],
   "source": [
    "print(\"'%s' is a : %s\"%(sen(X_test1[401]) ,model1.predict_classes(X_test1[401:402])[0,0]))"
   ]
  },
  {
   "cell_type": "code",
   "execution_count": null,
   "metadata": {},
   "outputs": [],
   "source": []
  }
 ],
 "metadata": {
  "kernelspec": {
   "display_name": "Python 3",
   "language": "python",
   "name": "python3"
  },
  "language_info": {
   "codemirror_mode": {
    "name": "ipython",
    "version": 3
   },
   "file_extension": ".py",
   "mimetype": "text/x-python",
   "name": "python",
   "nbconvert_exporter": "python",
   "pygments_lexer": "ipython3",
   "version": "3.7.3"
  }
 },
 "nbformat": 4,
 "nbformat_minor": 2
}
