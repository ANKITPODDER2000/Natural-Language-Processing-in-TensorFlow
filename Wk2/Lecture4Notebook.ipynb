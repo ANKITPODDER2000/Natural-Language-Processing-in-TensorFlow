{
 "cells": [
  {
   "cell_type": "markdown",
   "metadata": {},
   "source": [
    "# !pip install -q  tensorflow-datasets"
   ]
  },
  {
   "cell_type": "code",
   "execution_count": 2,
   "metadata": {},
   "outputs": [],
   "source": [
    "import tensorflow as tf"
   ]
  },
  {
   "cell_type": "code",
   "execution_count": 3,
   "metadata": {},
   "outputs": [],
   "source": [
    "import tensorflow_datasets as tfds"
   ]
  },
  {
   "cell_type": "code",
   "execution_count": 4,
   "metadata": {},
   "outputs": [],
   "source": [
    "imdb , info = tfds.load(name=\"imdb_reviews\",with_info=True,as_supervised=True)"
   ]
  },
  {
   "cell_type": "code",
   "execution_count": 5,
   "metadata": {},
   "outputs": [],
   "source": [
    "import numpy as np"
   ]
  },
  {
   "cell_type": "code",
   "execution_count": 6,
   "metadata": {},
   "outputs": [],
   "source": [
    "train_data , test_data = imdb['train'],imdb['test']"
   ]
  },
  {
   "cell_type": "code",
   "execution_count": 7,
   "metadata": {},
   "outputs": [],
   "source": [
    "train_sentence = []\n",
    "train_label    = []\n",
    "test_sentence  = []\n",
    "test_label     = []\n",
    "\n",
    "for s,l in train_data:\n",
    "    train_sentence.append(s.numpy())\n",
    "    train_label.append(l.numpy())\n",
    "    \n",
    "for s,l in test_data:\n",
    "    test_sentence.append(s.numpy())\n",
    "    test_label.append(l.numpy())"
   ]
  },
  {
   "cell_type": "code",
   "execution_count": 8,
   "metadata": {},
   "outputs": [
    {
     "data": {
      "text/plain": [
       "'This is a big step down after the surprisingly enjoyable original. This sequel isn\\\\\\'t nearly as fun as part one, and it instead spends too much time on plot development. Tim Thomerson is still the best thing about this series, but his wisecracking is toned down in this entry. The performances are all adequate, but this time the script lets us down. The action is merely routine and the plot is only mildly interesting, so I need lots of silly laughs in order to stay entertained during a \"Trancers\" movie. Unfortunately, the laughs are few and far between, and so, this film is watchable at best.'"
      ]
     },
     "execution_count": 8,
     "metadata": {},
     "output_type": "execute_result"
    }
   ],
   "source": [
    "str(train_sentence[0])[2:-1]"
   ]
  },
  {
   "cell_type": "code",
   "execution_count": 9,
   "metadata": {},
   "outputs": [
    {
     "data": {
      "text/plain": [
       "0"
      ]
     },
     "execution_count": 9,
     "metadata": {},
     "output_type": "execute_result"
    }
   ],
   "source": [
    "train_label[0]"
   ]
  },
  {
   "cell_type": "code",
   "execution_count": 10,
   "metadata": {},
   "outputs": [],
   "source": [
    "train_label_final = np.array(train_label)\n",
    "test_label_final  = np.array(test_label)"
   ]
  },
  {
   "cell_type": "code",
   "execution_count": 14,
   "metadata": {},
   "outputs": [],
   "source": [
    "for i in range(len(test_sentence)):\n",
    "    test_sentence[i] = str(test_sentence[i])[2:-1]"
   ]
  },
  {
   "cell_type": "code",
   "execution_count": 15,
   "metadata": {},
   "outputs": [],
   "source": [
    "for i in range(len(train_sentence)):\n",
    "    train_sentence[i] = str(train_sentence[i])[2:-1]"
   ]
  },
  {
   "cell_type": "code",
   "execution_count": 11,
   "metadata": {},
   "outputs": [],
   "source": [
    "vocab_size = 10000\n",
    "emdedding_dim = 16\n",
    "max_len = 120\n",
    "trunc_type = 'post'\n",
    "oov_tok = '<OOV>'"
   ]
  },
  {
   "cell_type": "code",
   "execution_count": 12,
   "metadata": {},
   "outputs": [],
   "source": [
    "from tensorflow.keras.preprocessing.text import Tokenizer\n",
    "from tensorflow.keras.preprocessing.sequence import pad_sequences"
   ]
  },
  {
   "cell_type": "code",
   "execution_count": 16,
   "metadata": {},
   "outputs": [],
   "source": [
    "tokenizer = Tokenizer(num_words=vocab_size,oov_token=oov_tok)\n",
    "tokenizer.fit_on_texts(train_sentence)\n",
    "word_index = tokenizer.word_index\n",
    "sequence = tokenizer.texts_to_sequences(train_sentence)\n",
    "padded = pad_sequences(sequence,maxlen=max_len,truncating=trunc_type)"
   ]
  },
  {
   "cell_type": "code",
   "execution_count": 17,
   "metadata": {},
   "outputs": [
    {
     "data": {
      "text/plain": [
       "107"
      ]
     },
     "execution_count": 17,
     "metadata": {},
     "output_type": "execute_result"
    }
   ],
   "source": [
    "len(sequence[0])"
   ]
  },
  {
   "cell_type": "code",
   "execution_count": 18,
   "metadata": {},
   "outputs": [],
   "source": [
    "test_sequence = tokenizer.texts_to_sequences(test_sentence)\n",
    "test_padded   = pad_sequences(test_sequence,maxlen=max_len)"
   ]
  },
  {
   "cell_type": "code",
   "execution_count": null,
   "metadata": {},
   "outputs": [],
   "source": []
  },
  {
   "cell_type": "code",
   "execution_count": 19,
   "metadata": {},
   "outputs": [],
   "source": [
    "model1 = tf.keras.models.Sequential([\n",
    "    tf.keras.layers.Embedding(vocab_size,emdedding_dim,input_length=max_len),\n",
    "    tf.keras.layers.Flatten(),\n",
    "    tf.keras.layers.Dense(6,activation=\"relu\"),\n",
    "    tf.keras.layers.Dense(1,activation=\"sigmoid\")\n",
    "])"
   ]
  },
  {
   "cell_type": "code",
   "execution_count": 20,
   "metadata": {},
   "outputs": [],
   "source": [
    "model1.compile(optimizer='adam',loss=tf.keras.losses.binary_crossentropy,metrics=['acc'])"
   ]
  },
  {
   "cell_type": "code",
   "execution_count": 21,
   "metadata": {},
   "outputs": [
    {
     "name": "stdout",
     "output_type": "stream",
     "text": [
      "Model: \"sequential\"\n",
      "_________________________________________________________________\n",
      "Layer (type)                 Output Shape              Param #   \n",
      "=================================================================\n",
      "embedding (Embedding)        (None, 120, 16)           160000    \n",
      "_________________________________________________________________\n",
      "flatten (Flatten)            (None, 1920)              0         \n",
      "_________________________________________________________________\n",
      "dense (Dense)                (None, 6)                 11526     \n",
      "_________________________________________________________________\n",
      "dense_1 (Dense)              (None, 1)                 7         \n",
      "=================================================================\n",
      "Total params: 171,533\n",
      "Trainable params: 171,533\n",
      "Non-trainable params: 0\n",
      "_________________________________________________________________\n"
     ]
    }
   ],
   "source": [
    "model1.summary()"
   ]
  },
  {
   "cell_type": "code",
   "execution_count": 22,
   "metadata": {},
   "outputs": [
    {
     "name": "stdout",
     "output_type": "stream",
     "text": [
      "Train on 25000 samples, validate on 25000 samples\n",
      "Epoch 1/10\n",
      "25000/25000 [==============================] - ETA: 35:15 - loss: 0.6912 - acc: 0.50 - ETA: 7:10 - loss: 0.6940 - acc: 0.4938 - ETA: 4:33 - loss: 0.6944 - acc: 0.488 - ETA: 2:50 - loss: 0.6931 - acc: 0.497 - ETA: 2:04 - loss: 0.6931 - acc: 0.498 - ETA: 1:43 - loss: 0.6930 - acc: 0.501 - ETA: 1:25 - loss: 0.6927 - acc: 0.509 - ETA: 1:15 - loss: 0.6930 - acc: 0.501 - ETA: 1:05 - loss: 0.6930 - acc: 0.498 - ETA: 58s - loss: 0.6932 - acc: 0.491 - ETA: 51s - loss: 0.6930 - acc: 0.49 - ETA: 47s - loss: 0.6927 - acc: 0.50 - ETA: 44s - loss: 0.6925 - acc: 0.50 - ETA: 41s - loss: 0.6924 - acc: 0.51 - ETA: 39s - loss: 0.6922 - acc: 0.51 - ETA: 37s - loss: 0.6927 - acc: 0.50 - ETA: 35s - loss: 0.6929 - acc: 0.50 - ETA: 33s - loss: 0.6928 - acc: 0.50 - ETA: 31s - loss: 0.6925 - acc: 0.51 - ETA: 30s - loss: 0.6926 - acc: 0.51 - ETA: 29s - loss: 0.6926 - acc: 0.51 - ETA: 28s - loss: 0.6925 - acc: 0.51 - ETA: 27s - loss: 0.6924 - acc: 0.51 - ETA: 26s - loss: 0.6923 - acc: 0.51 - ETA: 25s - loss: 0.6925 - acc: 0.51 - ETA: 23s - loss: 0.6922 - acc: 0.51 - ETA: 22s - loss: 0.6922 - acc: 0.51 - ETA: 22s - loss: 0.6920 - acc: 0.52 - ETA: 21s - loss: 0.6918 - acc: 0.52 - ETA: 21s - loss: 0.6915 - acc: 0.52 - ETA: 20s - loss: 0.6916 - acc: 0.52 - ETA: 20s - loss: 0.6914 - acc: 0.52 - ETA: 19s - loss: 0.6911 - acc: 0.52 - ETA: 19s - loss: 0.6909 - acc: 0.53 - ETA: 18s - loss: 0.6907 - acc: 0.53 - ETA: 18s - loss: 0.6905 - acc: 0.53 - ETA: 18s - loss: 0.6905 - acc: 0.53 - ETA: 17s - loss: 0.6902 - acc: 0.53 - ETA: 17s - loss: 0.6901 - acc: 0.53 - ETA: 17s - loss: 0.6900 - acc: 0.53 - ETA: 16s - loss: 0.6894 - acc: 0.53 - ETA: 16s - loss: 0.6891 - acc: 0.54 - ETA: 15s - loss: 0.6887 - acc: 0.54 - ETA: 15s - loss: 0.6883 - acc: 0.54 - ETA: 15s - loss: 0.6877 - acc: 0.54 - ETA: 15s - loss: 0.6871 - acc: 0.54 - ETA: 14s - loss: 0.6863 - acc: 0.55 - ETA: 14s - loss: 0.6852 - acc: 0.55 - ETA: 14s - loss: 0.6850 - acc: 0.55 - ETA: 13s - loss: 0.6842 - acc: 0.55 - ETA: 13s - loss: 0.6835 - acc: 0.55 - ETA: 13s - loss: 0.6822 - acc: 0.56 - ETA: 13s - loss: 0.6808 - acc: 0.56 - ETA: 12s - loss: 0.6798 - acc: 0.56 - ETA: 12s - loss: 0.6782 - acc: 0.57 - ETA: 12s - loss: 0.6765 - acc: 0.57 - ETA: 12s - loss: 0.6746 - acc: 0.57 - ETA: 11s - loss: 0.6719 - acc: 0.58 - ETA: 11s - loss: 0.6706 - acc: 0.58 - ETA: 11s - loss: 0.6685 - acc: 0.58 - ETA: 11s - loss: 0.6667 - acc: 0.58 - ETA: 11s - loss: 0.6647 - acc: 0.59 - ETA: 10s - loss: 0.6624 - acc: 0.59 - ETA: 10s - loss: 0.6592 - acc: 0.59 - ETA: 10s - loss: 0.6571 - acc: 0.60 - ETA: 10s - loss: 0.6540 - acc: 0.60 - ETA: 10s - loss: 0.6525 - acc: 0.60 - ETA: 10s - loss: 0.6499 - acc: 0.60 - ETA: 9s - loss: 0.6474 - acc: 0.6123 - ETA: 9s - loss: 0.6451 - acc: 0.614 - ETA: 9s - loss: 0.6416 - acc: 0.617 - ETA: 9s - loss: 0.6401 - acc: 0.619 - ETA: 9s - loss: 0.6376 - acc: 0.621 - ETA: 9s - loss: 0.6351 - acc: 0.624 - ETA: 9s - loss: 0.6333 - acc: 0.625 - ETA: 8s - loss: 0.6309 - acc: 0.627 - ETA: 8s - loss: 0.6282 - acc: 0.629 - ETA: 8s - loss: 0.6263 - acc: 0.631 - ETA: 8s - loss: 0.6237 - acc: 0.633 - ETA: 8s - loss: 0.6226 - acc: 0.635 - ETA: 8s - loss: 0.6208 - acc: 0.636 - ETA: 8s - loss: 0.6167 - acc: 0.640 - ETA: 8s - loss: 0.6154 - acc: 0.641 - ETA: 7s - loss: 0.6137 - acc: 0.642 - ETA: 7s - loss: 0.6120 - acc: 0.644 - ETA: 7s - loss: 0.6094 - acc: 0.646 - ETA: 7s - loss: 0.6055 - acc: 0.650 - ETA: 7s - loss: 0.6021 - acc: 0.652 - ETA: 7s - loss: 0.6000 - acc: 0.654 - ETA: 7s - loss: 0.5983 - acc: 0.656 - ETA: 7s - loss: 0.5967 - acc: 0.657 - ETA: 7s - loss: 0.5945 - acc: 0.659 - ETA: 7s - loss: 0.5935 - acc: 0.660 - ETA: 6s - loss: 0.5916 - acc: 0.661 - ETA: 6s - loss: 0.5898 - acc: 0.663 - ETA: 6s - loss: 0.5872 - acc: 0.665 - ETA: 6s - loss: 0.5860 - acc: 0.666 - ETA: 6s - loss: 0.5844 - acc: 0.667 - ETA: 6s - loss: 0.5819 - acc: 0.670 - ETA: 6s - loss: 0.5810 - acc: 0.671 - ETA: 6s - loss: 0.5798 - acc: 0.672 - ETA: 6s - loss: 0.5775 - acc: 0.674 - ETA: 6s - loss: 0.5771 - acc: 0.674 - ETA: 5s - loss: 0.5751 - acc: 0.676 - ETA: 5s - loss: 0.5726 - acc: 0.678 - ETA: 5s - loss: 0.5713 - acc: 0.679 - ETA: 5s - loss: 0.5693 - acc: 0.681 - ETA: 5s - loss: 0.5682 - acc: 0.682 - ETA: 5s - loss: 0.5663 - acc: 0.684 - ETA: 5s - loss: 0.5644 - acc: 0.685 - ETA: 5s - loss: 0.5631 - acc: 0.686 - ETA: 5s - loss: 0.5620 - acc: 0.687 - ETA: 4s - loss: 0.5604 - acc: 0.688 - ETA: 4s - loss: 0.5587 - acc: 0.690 - ETA: 4s - loss: 0.5568 - acc: 0.691 - ETA: 4s - loss: 0.5551 - acc: 0.692 - ETA: 4s - loss: 0.5527 - acc: 0.694 - ETA: 4s - loss: 0.5510 - acc: 0.696 - ETA: 4s - loss: 0.5498 - acc: 0.697 - ETA: 4s - loss: 0.5489 - acc: 0.697 - ETA: 4s - loss: 0.5471 - acc: 0.699 - ETA: 4s - loss: 0.5463 - acc: 0.700 - ETA: 3s - loss: 0.5443 - acc: 0.701 - ETA: 3s - loss: 0.5423 - acc: 0.703 - ETA: 3s - loss: 0.5409 - acc: 0.704 - ETA: 3s - loss: 0.5390 - acc: 0.706 - ETA: 3s - loss: 0.5380 - acc: 0.706 - ETA: 3s - loss: 0.5368 - acc: 0.707 - ETA: 3s - loss: 0.5357 - acc: 0.708 - ETA: 3s - loss: 0.5349 - acc: 0.709 - ETA: 3s - loss: 0.5339 - acc: 0.710 - ETA: 3s - loss: 0.5329 - acc: 0.710 - ETA: 3s - loss: 0.5317 - acc: 0.711 - ETA: 3s - loss: 0.5305 - acc: 0.712 - ETA: 3s - loss: 0.5297 - acc: 0.713 - ETA: 2s - loss: 0.5283 - acc: 0.713 - ETA: 2s - loss: 0.5270 - acc: 0.714 - ETA: 2s - loss: 0.5260 - acc: 0.715 - ETA: 2s - loss: 0.5250 - acc: 0.716 - ETA: 2s - loss: 0.5240 - acc: 0.717 - ETA: 2s - loss: 0.5222 - acc: 0.718 - ETA: 2s - loss: 0.5214 - acc: 0.719 - ETA: 2s - loss: 0.5202 - acc: 0.720 - ETA: 2s - loss: 0.5183 - acc: 0.721 - ETA: 2s - loss: 0.5176 - acc: 0.721 - ETA: 2s - loss: 0.5168 - acc: 0.722 - ETA: 2s - loss: 0.5156 - acc: 0.723 - ETA: 2s - loss: 0.5147 - acc: 0.724 - ETA: 1s - loss: 0.5141 - acc: 0.724 - ETA: 1s - loss: 0.5129 - acc: 0.725 - ETA: 1s - loss: 0.5117 - acc: 0.726 - ETA: 1s - loss: 0.5107 - acc: 0.727 - ETA: 1s - loss: 0.5101 - acc: 0.727 - ETA: 1s - loss: 0.5092 - acc: 0.728 - ETA: 1s - loss: 0.5087 - acc: 0.729 - ETA: 1s - loss: 0.5079 - acc: 0.729 - ETA: 1s - loss: 0.5070 - acc: 0.730 - ETA: 1s - loss: 0.5061 - acc: 0.731 - ETA: 1s - loss: 0.5052 - acc: 0.731 - ETA: 1s - loss: 0.5045 - acc: 0.732 - ETA: 1s - loss: 0.5036 - acc: 0.733 - ETA: 0s - loss: 0.5024 - acc: 0.734 - ETA: 0s - loss: 0.5019 - acc: 0.734 - ETA: 0s - loss: 0.5010 - acc: 0.735 - ETA: 0s - loss: 0.5000 - acc: 0.735 - ETA: 0s - loss: 0.4990 - acc: 0.736 - ETA: 0s - loss: 0.4978 - acc: 0.737 - ETA: 0s - loss: 0.4970 - acc: 0.738 - ETA: 0s - loss: 0.4961 - acc: 0.738 - ETA: 0s - loss: 0.4951 - acc: 0.739 - ETA: 0s - loss: 0.4942 - acc: 0.740 - ETA: 0s - loss: 0.4931 - acc: 0.741 - ETA: 0s - loss: 0.4927 - acc: 0.741 - ETA: 0s - loss: 0.4923 - acc: 0.741 - 14s 567us/sample - loss: 0.4916 - acc: 0.7422 - val_loss: 0.3422 - val_acc: 0.8515\n",
      "Epoch 2/10\n"
     ]
    },
    {
     "name": "stdout",
     "output_type": "stream",
     "text": [
      "25000/25000 [==============================] - ETA: 11s - loss: 0.2572 - acc: 0.84 - ETA: 11s - loss: 0.2159 - acc: 0.90 - ETA: 9s - loss: 0.2315 - acc: 0.9091 - ETA: 8s - loss: 0.2336 - acc: 0.918 - ETA: 8s - loss: 0.2318 - acc: 0.919 - ETA: 9s - loss: 0.2327 - acc: 0.919 - ETA: 9s - loss: 0.2389 - acc: 0.915 - ETA: 9s - loss: 0.2427 - acc: 0.914 - ETA: 8s - loss: 0.2425 - acc: 0.912 - ETA: 8s - loss: 0.2445 - acc: 0.909 - ETA: 8s - loss: 0.2453 - acc: 0.910 - ETA: 8s - loss: 0.2547 - acc: 0.906 - ETA: 8s - loss: 0.2527 - acc: 0.907 - ETA: 8s - loss: 0.2553 - acc: 0.906 - ETA: 8s - loss: 0.2544 - acc: 0.908 - ETA: 7s - loss: 0.2486 - acc: 0.910 - ETA: 7s - loss: 0.2443 - acc: 0.912 - ETA: 7s - loss: 0.2474 - acc: 0.911 - ETA: 7s - loss: 0.2473 - acc: 0.912 - ETA: 7s - loss: 0.2530 - acc: 0.909 - ETA: 7s - loss: 0.2522 - acc: 0.909 - ETA: 7s - loss: 0.2539 - acc: 0.909 - ETA: 7s - loss: 0.2541 - acc: 0.909 - ETA: 7s - loss: 0.2552 - acc: 0.908 - ETA: 7s - loss: 0.2575 - acc: 0.907 - ETA: 7s - loss: 0.2546 - acc: 0.909 - ETA: 7s - loss: 0.2546 - acc: 0.908 - ETA: 7s - loss: 0.2541 - acc: 0.907 - ETA: 7s - loss: 0.2543 - acc: 0.907 - ETA: 7s - loss: 0.2529 - acc: 0.907 - ETA: 7s - loss: 0.2515 - acc: 0.909 - ETA: 7s - loss: 0.2492 - acc: 0.909 - ETA: 7s - loss: 0.2492 - acc: 0.909 - ETA: 7s - loss: 0.2484 - acc: 0.910 - ETA: 7s - loss: 0.2482 - acc: 0.910 - ETA: 7s - loss: 0.2471 - acc: 0.911 - ETA: 7s - loss: 0.2457 - acc: 0.911 - ETA: 7s - loss: 0.2453 - acc: 0.911 - ETA: 6s - loss: 0.2436 - acc: 0.912 - ETA: 6s - loss: 0.2445 - acc: 0.912 - ETA: 6s - loss: 0.2431 - acc: 0.913 - ETA: 6s - loss: 0.2434 - acc: 0.913 - ETA: 6s - loss: 0.2428 - acc: 0.913 - ETA: 7s - loss: 0.2431 - acc: 0.912 - ETA: 6s - loss: 0.2434 - acc: 0.912 - ETA: 6s - loss: 0.2425 - acc: 0.912 - ETA: 6s - loss: 0.2408 - acc: 0.913 - ETA: 6s - loss: 0.2410 - acc: 0.913 - ETA: 6s - loss: 0.2407 - acc: 0.912 - ETA: 6s - loss: 0.2416 - acc: 0.912 - ETA: 6s - loss: 0.2411 - acc: 0.912 - ETA: 6s - loss: 0.2406 - acc: 0.912 - ETA: 6s - loss: 0.2412 - acc: 0.912 - ETA: 6s - loss: 0.2419 - acc: 0.912 - ETA: 6s - loss: 0.2413 - acc: 0.912 - ETA: 6s - loss: 0.2413 - acc: 0.912 - ETA: 6s - loss: 0.2417 - acc: 0.912 - ETA: 6s - loss: 0.2413 - acc: 0.912 - ETA: 6s - loss: 0.2406 - acc: 0.913 - ETA: 6s - loss: 0.2406 - acc: 0.913 - ETA: 6s - loss: 0.2404 - acc: 0.912 - ETA: 6s - loss: 0.2408 - acc: 0.912 - ETA: 6s - loss: 0.2411 - acc: 0.912 - ETA: 6s - loss: 0.2404 - acc: 0.912 - ETA: 6s - loss: 0.2411 - acc: 0.911 - ETA: 5s - loss: 0.2415 - acc: 0.911 - ETA: 5s - loss: 0.2413 - acc: 0.911 - ETA: 5s - loss: 0.2416 - acc: 0.910 - ETA: 5s - loss: 0.2415 - acc: 0.910 - ETA: 5s - loss: 0.2411 - acc: 0.911 - ETA: 5s - loss: 0.2410 - acc: 0.911 - ETA: 5s - loss: 0.2405 - acc: 0.911 - ETA: 5s - loss: 0.2405 - acc: 0.911 - ETA: 5s - loss: 0.2415 - acc: 0.910 - ETA: 5s - loss: 0.2415 - acc: 0.910 - ETA: 5s - loss: 0.2411 - acc: 0.910 - ETA: 5s - loss: 0.2410 - acc: 0.910 - ETA: 5s - loss: 0.2402 - acc: 0.911 - ETA: 5s - loss: 0.2411 - acc: 0.910 - ETA: 5s - loss: 0.2411 - acc: 0.910 - ETA: 5s - loss: 0.2410 - acc: 0.910 - ETA: 5s - loss: 0.2410 - acc: 0.910 - ETA: 5s - loss: 0.2408 - acc: 0.910 - ETA: 5s - loss: 0.2430 - acc: 0.910 - ETA: 4s - loss: 0.2429 - acc: 0.910 - ETA: 4s - loss: 0.2428 - acc: 0.910 - ETA: 4s - loss: 0.2430 - acc: 0.910 - ETA: 4s - loss: 0.2434 - acc: 0.909 - ETA: 4s - loss: 0.2432 - acc: 0.909 - ETA: 4s - loss: 0.2428 - acc: 0.910 - ETA: 4s - loss: 0.2425 - acc: 0.910 - ETA: 4s - loss: 0.2436 - acc: 0.909 - ETA: 4s - loss: 0.2438 - acc: 0.909 - ETA: 4s - loss: 0.2440 - acc: 0.909 - ETA: 4s - loss: 0.2436 - acc: 0.909 - ETA: 4s - loss: 0.2444 - acc: 0.909 - ETA: 4s - loss: 0.2443 - acc: 0.909 - ETA: 4s - loss: 0.2443 - acc: 0.909 - ETA: 4s - loss: 0.2433 - acc: 0.909 - ETA: 3s - loss: 0.2430 - acc: 0.909 - ETA: 3s - loss: 0.2427 - acc: 0.909 - ETA: 3s - loss: 0.2429 - acc: 0.909 - ETA: 3s - loss: 0.2425 - acc: 0.909 - ETA: 3s - loss: 0.2429 - acc: 0.909 - ETA: 3s - loss: 0.2428 - acc: 0.909 - ETA: 3s - loss: 0.2429 - acc: 0.909 - ETA: 3s - loss: 0.2424 - acc: 0.909 - ETA: 3s - loss: 0.2420 - acc: 0.909 - ETA: 3s - loss: 0.2411 - acc: 0.910 - ETA: 3s - loss: 0.2405 - acc: 0.910 - ETA: 3s - loss: 0.2409 - acc: 0.909 - ETA: 3s - loss: 0.2401 - acc: 0.910 - ETA: 3s - loss: 0.2406 - acc: 0.910 - ETA: 3s - loss: 0.2404 - acc: 0.909 - ETA: 3s - loss: 0.2411 - acc: 0.909 - ETA: 3s - loss: 0.2407 - acc: 0.909 - ETA: 3s - loss: 0.2403 - acc: 0.909 - ETA: 2s - loss: 0.2400 - acc: 0.909 - ETA: 2s - loss: 0.2395 - acc: 0.910 - ETA: 2s - loss: 0.2396 - acc: 0.910 - ETA: 2s - loss: 0.2393 - acc: 0.910 - ETA: 2s - loss: 0.2386 - acc: 0.910 - ETA: 2s - loss: 0.2387 - acc: 0.910 - ETA: 2s - loss: 0.2386 - acc: 0.910 - ETA: 2s - loss: 0.2388 - acc: 0.909 - ETA: 2s - loss: 0.2391 - acc: 0.909 - ETA: 2s - loss: 0.2385 - acc: 0.910 - ETA: 2s - loss: 0.2385 - acc: 0.910 - ETA: 2s - loss: 0.2385 - acc: 0.910 - ETA: 2s - loss: 0.2386 - acc: 0.910 - ETA: 2s - loss: 0.2392 - acc: 0.909 - ETA: 2s - loss: 0.2394 - acc: 0.909 - ETA: 2s - loss: 0.2399 - acc: 0.909 - ETA: 2s - loss: 0.2397 - acc: 0.908 - ETA: 1s - loss: 0.2391 - acc: 0.909 - ETA: 1s - loss: 0.2385 - acc: 0.909 - ETA: 1s - loss: 0.2385 - acc: 0.909 - ETA: 1s - loss: 0.2383 - acc: 0.909 - ETA: 1s - loss: 0.2380 - acc: 0.909 - ETA: 1s - loss: 0.2378 - acc: 0.909 - ETA: 1s - loss: 0.2378 - acc: 0.909 - ETA: 1s - loss: 0.2376 - acc: 0.909 - ETA: 1s - loss: 0.2372 - acc: 0.909 - ETA: 1s - loss: 0.2370 - acc: 0.909 - ETA: 1s - loss: 0.2366 - acc: 0.910 - ETA: 1s - loss: 0.2372 - acc: 0.909 - ETA: 1s - loss: 0.2372 - acc: 0.909 - ETA: 1s - loss: 0.2374 - acc: 0.909 - ETA: 1s - loss: 0.2379 - acc: 0.909 - ETA: 1s - loss: 0.2385 - acc: 0.909 - ETA: 0s - loss: 0.2382 - acc: 0.909 - ETA: 0s - loss: 0.2381 - acc: 0.909 - ETA: 0s - loss: 0.2382 - acc: 0.909 - ETA: 0s - loss: 0.2384 - acc: 0.909 - ETA: 0s - loss: 0.2381 - acc: 0.908 - ETA: 0s - loss: 0.2383 - acc: 0.908 - ETA: 0s - loss: 0.2386 - acc: 0.908 - ETA: 0s - loss: 0.2384 - acc: 0.908 - ETA: 0s - loss: 0.2383 - acc: 0.908 - ETA: 0s - loss: 0.2386 - acc: 0.908 - ETA: 0s - loss: 0.2386 - acc: 0.908 - ETA: 0s - loss: 0.2390 - acc: 0.908 - ETA: 0s - loss: 0.2389 - acc: 0.908 - ETA: 0s - loss: 0.2390 - acc: 0.908 - ETA: 0s - loss: 0.2388 - acc: 0.908 - ETA: 0s - loss: 0.2386 - acc: 0.908 - ETA: 0s - loss: 0.2380 - acc: 0.908 - ETA: 0s - loss: 0.2375 - acc: 0.908 - 11s 451us/sample - loss: 0.2377 - acc: 0.9088 - val_loss: 0.3663 - val_acc: 0.8400\n",
      "Epoch 3/10\n"
     ]
    },
    {
     "name": "stdout",
     "output_type": "stream",
     "text": [
      "25000/25000 [==============================] - ETA: 11s - loss: 0.1168 - acc: 0.96 - ETA: 14s - loss: 0.1349 - acc: 0.96 - ETA: 11s - loss: 0.1496 - acc: 0.95 - ETA: 9s - loss: 0.1248 - acc: 0.9665 - ETA: 10s - loss: 0.1166 - acc: 0.97 - ETA: 9s - loss: 0.1155 - acc: 0.9742 - ETA: 9s - loss: 0.1151 - acc: 0.974 - ETA: 9s - loss: 0.1117 - acc: 0.977 - ETA: 9s - loss: 0.1090 - acc: 0.977 - ETA: 8s - loss: 0.1078 - acc: 0.975 - ETA: 8s - loss: 0.1068 - acc: 0.976 - ETA: 8s - loss: 0.1075 - acc: 0.976 - ETA: 7s - loss: 0.1093 - acc: 0.975 - ETA: 7s - loss: 0.1092 - acc: 0.975 - ETA: 7s - loss: 0.1063 - acc: 0.976 - ETA: 7s - loss: 0.1051 - acc: 0.976 - ETA: 7s - loss: 0.1038 - acc: 0.976 - ETA: 7s - loss: 0.1030 - acc: 0.976 - ETA: 7s - loss: 0.1016 - acc: 0.976 - ETA: 7s - loss: 0.1015 - acc: 0.977 - ETA: 7s - loss: 0.1002 - acc: 0.977 - ETA: 7s - loss: 0.0999 - acc: 0.978 - ETA: 7s - loss: 0.0985 - acc: 0.978 - ETA: 7s - loss: 0.0981 - acc: 0.978 - ETA: 7s - loss: 0.0972 - acc: 0.978 - ETA: 7s - loss: 0.0989 - acc: 0.977 - ETA: 7s - loss: 0.0989 - acc: 0.977 - ETA: 7s - loss: 0.0986 - acc: 0.978 - ETA: 7s - loss: 0.0983 - acc: 0.977 - ETA: 7s - loss: 0.0976 - acc: 0.978 - ETA: 7s - loss: 0.0969 - acc: 0.978 - ETA: 7s - loss: 0.0971 - acc: 0.978 - ETA: 7s - loss: 0.0968 - acc: 0.978 - ETA: 7s - loss: 0.0962 - acc: 0.978 - ETA: 7s - loss: 0.0967 - acc: 0.978 - ETA: 7s - loss: 0.0965 - acc: 0.978 - ETA: 7s - loss: 0.0966 - acc: 0.978 - ETA: 6s - loss: 0.0965 - acc: 0.977 - ETA: 6s - loss: 0.0982 - acc: 0.977 - ETA: 6s - loss: 0.0974 - acc: 0.977 - ETA: 6s - loss: 0.0981 - acc: 0.977 - ETA: 6s - loss: 0.0979 - acc: 0.976 - ETA: 6s - loss: 0.0978 - acc: 0.976 - ETA: 6s - loss: 0.0981 - acc: 0.976 - ETA: 6s - loss: 0.0983 - acc: 0.976 - ETA: 6s - loss: 0.0979 - acc: 0.977 - ETA: 6s - loss: 0.0976 - acc: 0.977 - ETA: 6s - loss: 0.0984 - acc: 0.976 - ETA: 6s - loss: 0.0989 - acc: 0.976 - ETA: 6s - loss: 0.0985 - acc: 0.977 - ETA: 6s - loss: 0.0975 - acc: 0.977 - ETA: 5s - loss: 0.0966 - acc: 0.977 - ETA: 5s - loss: 0.0961 - acc: 0.977 - ETA: 5s - loss: 0.0961 - acc: 0.977 - ETA: 5s - loss: 0.0962 - acc: 0.977 - ETA: 5s - loss: 0.0959 - acc: 0.978 - ETA: 5s - loss: 0.0956 - acc: 0.978 - ETA: 5s - loss: 0.0951 - acc: 0.978 - ETA: 5s - loss: 0.0945 - acc: 0.978 - ETA: 5s - loss: 0.0946 - acc: 0.978 - ETA: 5s - loss: 0.0948 - acc: 0.978 - ETA: 5s - loss: 0.0948 - acc: 0.978 - ETA: 5s - loss: 0.0944 - acc: 0.978 - ETA: 5s - loss: 0.0943 - acc: 0.978 - ETA: 5s - loss: 0.0945 - acc: 0.978 - ETA: 5s - loss: 0.0941 - acc: 0.978 - ETA: 4s - loss: 0.0941 - acc: 0.978 - ETA: 4s - loss: 0.0941 - acc: 0.977 - ETA: 4s - loss: 0.0940 - acc: 0.978 - ETA: 4s - loss: 0.0938 - acc: 0.978 - ETA: 4s - loss: 0.0932 - acc: 0.978 - ETA: 4s - loss: 0.0929 - acc: 0.978 - ETA: 4s - loss: 0.0925 - acc: 0.978 - ETA: 4s - loss: 0.0927 - acc: 0.978 - ETA: 4s - loss: 0.0927 - acc: 0.978 - ETA: 4s - loss: 0.0925 - acc: 0.978 - ETA: 4s - loss: 0.0925 - acc: 0.978 - ETA: 4s - loss: 0.0922 - acc: 0.978 - ETA: 4s - loss: 0.0917 - acc: 0.978 - ETA: 4s - loss: 0.0916 - acc: 0.978 - ETA: 4s - loss: 0.0912 - acc: 0.978 - ETA: 3s - loss: 0.0912 - acc: 0.978 - ETA: 3s - loss: 0.0913 - acc: 0.978 - ETA: 3s - loss: 0.0914 - acc: 0.978 - ETA: 3s - loss: 0.0915 - acc: 0.978 - ETA: 3s - loss: 0.0910 - acc: 0.978 - ETA: 3s - loss: 0.0908 - acc: 0.978 - ETA: 3s - loss: 0.0908 - acc: 0.978 - ETA: 3s - loss: 0.0908 - acc: 0.978 - ETA: 3s - loss: 0.0906 - acc: 0.978 - ETA: 3s - loss: 0.0906 - acc: 0.978 - ETA: 3s - loss: 0.0906 - acc: 0.978 - ETA: 3s - loss: 0.0910 - acc: 0.978 - ETA: 3s - loss: 0.0906 - acc: 0.978 - ETA: 3s - loss: 0.0906 - acc: 0.977 - ETA: 3s - loss: 0.0913 - acc: 0.977 - ETA: 3s - loss: 0.0913 - acc: 0.977 - ETA: 3s - loss: 0.0913 - acc: 0.977 - ETA: 3s - loss: 0.0912 - acc: 0.977 - ETA: 3s - loss: 0.0911 - acc: 0.977 - ETA: 3s - loss: 0.0909 - acc: 0.977 - ETA: 2s - loss: 0.0905 - acc: 0.977 - ETA: 2s - loss: 0.0902 - acc: 0.977 - ETA: 2s - loss: 0.0903 - acc: 0.977 - ETA: 2s - loss: 0.0901 - acc: 0.977 - ETA: 2s - loss: 0.0898 - acc: 0.977 - ETA: 2s - loss: 0.0899 - acc: 0.977 - ETA: 2s - loss: 0.0895 - acc: 0.977 - ETA: 2s - loss: 0.0894 - acc: 0.977 - ETA: 2s - loss: 0.0899 - acc: 0.977 - ETA: 2s - loss: 0.0898 - acc: 0.977 - ETA: 2s - loss: 0.0896 - acc: 0.977 - ETA: 2s - loss: 0.0898 - acc: 0.977 - ETA: 2s - loss: 0.0898 - acc: 0.977 - ETA: 2s - loss: 0.0897 - acc: 0.977 - ETA: 2s - loss: 0.0897 - acc: 0.977 - ETA: 2s - loss: 0.0900 - acc: 0.977 - ETA: 2s - loss: 0.0899 - acc: 0.977 - ETA: 1s - loss: 0.0902 - acc: 0.976 - ETA: 1s - loss: 0.0901 - acc: 0.977 - ETA: 1s - loss: 0.0898 - acc: 0.977 - ETA: 1s - loss: 0.0898 - acc: 0.977 - ETA: 1s - loss: 0.0896 - acc: 0.977 - ETA: 1s - loss: 0.0897 - acc: 0.977 - ETA: 1s - loss: 0.0895 - acc: 0.977 - ETA: 1s - loss: 0.0896 - acc: 0.977 - ETA: 1s - loss: 0.0893 - acc: 0.977 - ETA: 1s - loss: 0.0893 - acc: 0.977 - ETA: 1s - loss: 0.0892 - acc: 0.977 - ETA: 1s - loss: 0.0892 - acc: 0.977 - ETA: 1s - loss: 0.0889 - acc: 0.977 - ETA: 1s - loss: 0.0887 - acc: 0.977 - ETA: 1s - loss: 0.0890 - acc: 0.977 - ETA: 1s - loss: 0.0888 - acc: 0.977 - ETA: 1s - loss: 0.0888 - acc: 0.977 - ETA: 0s - loss: 0.0887 - acc: 0.977 - ETA: 0s - loss: 0.0888 - acc: 0.977 - ETA: 0s - loss: 0.0885 - acc: 0.977 - ETA: 0s - loss: 0.0885 - acc: 0.977 - ETA: 0s - loss: 0.0885 - acc: 0.977 - ETA: 0s - loss: 0.0886 - acc: 0.977 - ETA: 0s - loss: 0.0887 - acc: 0.977 - ETA: 0s - loss: 0.0888 - acc: 0.977 - ETA: 0s - loss: 0.0888 - acc: 0.976 - ETA: 0s - loss: 0.0890 - acc: 0.976 - ETA: 0s - loss: 0.0889 - acc: 0.976 - ETA: 0s - loss: 0.0888 - acc: 0.976 - ETA: 0s - loss: 0.0883 - acc: 0.976 - ETA: 0s - loss: 0.0882 - acc: 0.976 - ETA: 0s - loss: 0.0880 - acc: 0.977 - ETA: 0s - loss: 0.0877 - acc: 0.977 - ETA: 0s - loss: 0.0875 - acc: 0.977 - ETA: 0s - loss: 0.0875 - acc: 0.977 - 10s 396us/sample - loss: 0.0876 - acc: 0.9771 - val_loss: 0.4492 - val_acc: 0.8281\n",
      "Epoch 4/10\n"
     ]
    },
    {
     "name": "stdout",
     "output_type": "stream",
     "text": [
      "25000/25000 [==============================] - ETA: 14s - loss: 0.0181 - acc: 1.00 - ETA: 8s - loss: 0.0236 - acc: 0.9961 - ETA: 7s - loss: 0.0244 - acc: 0.995 - ETA: 7s - loss: 0.0232 - acc: 0.996 - ETA: 7s - loss: 0.0288 - acc: 0.996 - ETA: 7s - loss: 0.0285 - acc: 0.996 - ETA: 7s - loss: 0.0266 - acc: 0.996 - ETA: 7s - loss: 0.0261 - acc: 0.996 - ETA: 7s - loss: 0.0255 - acc: 0.996 - ETA: 7s - loss: 0.0303 - acc: 0.995 - ETA: 7s - loss: 0.0294 - acc: 0.996 - ETA: 7s - loss: 0.0290 - acc: 0.996 - ETA: 6s - loss: 0.0280 - acc: 0.996 - ETA: 6s - loss: 0.0277 - acc: 0.996 - ETA: 6s - loss: 0.0286 - acc: 0.996 - ETA: 6s - loss: 0.0278 - acc: 0.996 - ETA: 6s - loss: 0.0287 - acc: 0.996 - ETA: 6s - loss: 0.0289 - acc: 0.995 - ETA: 6s - loss: 0.0290 - acc: 0.995 - ETA: 6s - loss: 0.0289 - acc: 0.995 - ETA: 6s - loss: 0.0286 - acc: 0.995 - ETA: 6s - loss: 0.0283 - acc: 0.995 - ETA: 6s - loss: 0.0283 - acc: 0.995 - ETA: 6s - loss: 0.0281 - acc: 0.995 - ETA: 6s - loss: 0.0281 - acc: 0.995 - ETA: 6s - loss: 0.0276 - acc: 0.995 - ETA: 6s - loss: 0.0272 - acc: 0.995 - ETA: 6s - loss: 0.0269 - acc: 0.995 - ETA: 6s - loss: 0.0267 - acc: 0.996 - ETA: 6s - loss: 0.0264 - acc: 0.996 - ETA: 6s - loss: 0.0261 - acc: 0.996 - ETA: 5s - loss: 0.0259 - acc: 0.996 - ETA: 5s - loss: 0.0256 - acc: 0.996 - ETA: 5s - loss: 0.0253 - acc: 0.996 - ETA: 5s - loss: 0.0250 - acc: 0.996 - ETA: 5s - loss: 0.0249 - acc: 0.996 - ETA: 5s - loss: 0.0245 - acc: 0.996 - ETA: 5s - loss: 0.0242 - acc: 0.996 - ETA: 5s - loss: 0.0241 - acc: 0.996 - ETA: 5s - loss: 0.0239 - acc: 0.997 - ETA: 5s - loss: 0.0236 - acc: 0.997 - ETA: 5s - loss: 0.0234 - acc: 0.997 - ETA: 5s - loss: 0.0233 - acc: 0.997 - ETA: 5s - loss: 0.0232 - acc: 0.997 - ETA: 5s - loss: 0.0232 - acc: 0.997 - ETA: 5s - loss: 0.0231 - acc: 0.997 - ETA: 4s - loss: 0.0240 - acc: 0.996 - ETA: 4s - loss: 0.0246 - acc: 0.996 - ETA: 4s - loss: 0.0245 - acc: 0.996 - ETA: 4s - loss: 0.0242 - acc: 0.996 - ETA: 4s - loss: 0.0241 - acc: 0.996 - ETA: 4s - loss: 0.0242 - acc: 0.996 - ETA: 4s - loss: 0.0242 - acc: 0.996 - ETA: 4s - loss: 0.0245 - acc: 0.996 - ETA: 4s - loss: 0.0244 - acc: 0.996 - ETA: 4s - loss: 0.0247 - acc: 0.996 - ETA: 4s - loss: 0.0247 - acc: 0.996 - ETA: 4s - loss: 0.0247 - acc: 0.996 - ETA: 4s - loss: 0.0248 - acc: 0.996 - ETA: 4s - loss: 0.0248 - acc: 0.996 - ETA: 4s - loss: 0.0247 - acc: 0.996 - ETA: 4s - loss: 0.0246 - acc: 0.996 - ETA: 4s - loss: 0.0245 - acc: 0.996 - ETA: 4s - loss: 0.0247 - acc: 0.996 - ETA: 4s - loss: 0.0246 - acc: 0.996 - ETA: 4s - loss: 0.0244 - acc: 0.996 - ETA: 4s - loss: 0.0244 - acc: 0.996 - ETA: 4s - loss: 0.0246 - acc: 0.996 - ETA: 4s - loss: 0.0248 - acc: 0.996 - ETA: 4s - loss: 0.0247 - acc: 0.996 - ETA: 3s - loss: 0.0246 - acc: 0.996 - ETA: 3s - loss: 0.0249 - acc: 0.996 - ETA: 3s - loss: 0.0247 - acc: 0.996 - ETA: 3s - loss: 0.0249 - acc: 0.996 - ETA: 3s - loss: 0.0251 - acc: 0.996 - ETA: 3s - loss: 0.0250 - acc: 0.996 - ETA: 3s - loss: 0.0249 - acc: 0.996 - ETA: 3s - loss: 0.0253 - acc: 0.996 - ETA: 3s - loss: 0.0251 - acc: 0.996 - ETA: 3s - loss: 0.0250 - acc: 0.996 - ETA: 3s - loss: 0.0249 - acc: 0.996 - ETA: 3s - loss: 0.0249 - acc: 0.996 - ETA: 3s - loss: 0.0248 - acc: 0.996 - ETA: 3s - loss: 0.0247 - acc: 0.996 - ETA: 3s - loss: 0.0252 - acc: 0.996 - ETA: 3s - loss: 0.0251 - acc: 0.996 - ETA: 3s - loss: 0.0250 - acc: 0.996 - ETA: 3s - loss: 0.0251 - acc: 0.996 - ETA: 3s - loss: 0.0249 - acc: 0.996 - ETA: 3s - loss: 0.0249 - acc: 0.996 - ETA: 2s - loss: 0.0247 - acc: 0.996 - ETA: 2s - loss: 0.0247 - acc: 0.996 - ETA: 2s - loss: 0.0247 - acc: 0.996 - ETA: 2s - loss: 0.0248 - acc: 0.996 - ETA: 2s - loss: 0.0246 - acc: 0.996 - ETA: 2s - loss: 0.0251 - acc: 0.996 - ETA: 2s - loss: 0.0250 - acc: 0.996 - ETA: 2s - loss: 0.0248 - acc: 0.996 - ETA: 2s - loss: 0.0248 - acc: 0.996 - ETA: 2s - loss: 0.0247 - acc: 0.996 - ETA: 2s - loss: 0.0247 - acc: 0.996 - ETA: 2s - loss: 0.0247 - acc: 0.996 - ETA: 2s - loss: 0.0246 - acc: 0.996 - ETA: 2s - loss: 0.0246 - acc: 0.996 - ETA: 2s - loss: 0.0245 - acc: 0.996 - ETA: 2s - loss: 0.0244 - acc: 0.996 - ETA: 2s - loss: 0.0244 - acc: 0.996 - ETA: 2s - loss: 0.0243 - acc: 0.996 - ETA: 2s - loss: 0.0243 - acc: 0.996 - ETA: 1s - loss: 0.0243 - acc: 0.996 - ETA: 1s - loss: 0.0245 - acc: 0.996 - ETA: 1s - loss: 0.0244 - acc: 0.996 - ETA: 1s - loss: 0.0243 - acc: 0.996 - ETA: 1s - loss: 0.0244 - acc: 0.996 - ETA: 1s - loss: 0.0243 - acc: 0.996 - ETA: 1s - loss: 0.0242 - acc: 0.996 - ETA: 1s - loss: 0.0241 - acc: 0.996 - ETA: 1s - loss: 0.0240 - acc: 0.996 - ETA: 1s - loss: 0.0242 - acc: 0.996 - ETA: 1s - loss: 0.0241 - acc: 0.996 - ETA: 1s - loss: 0.0241 - acc: 0.996 - ETA: 1s - loss: 0.0240 - acc: 0.996 - ETA: 1s - loss: 0.0239 - acc: 0.996 - ETA: 1s - loss: 0.0238 - acc: 0.996 - ETA: 1s - loss: 0.0237 - acc: 0.996 - ETA: 1s - loss: 0.0237 - acc: 0.997 - ETA: 0s - loss: 0.0236 - acc: 0.997 - ETA: 0s - loss: 0.0235 - acc: 0.997 - ETA: 0s - loss: 0.0236 - acc: 0.997 - ETA: 0s - loss: 0.0235 - acc: 0.997 - ETA: 0s - loss: 0.0234 - acc: 0.997 - ETA: 0s - loss: 0.0234 - acc: 0.997 - ETA: 0s - loss: 0.0233 - acc: 0.997 - ETA: 0s - loss: 0.0232 - acc: 0.997 - ETA: 0s - loss: 0.0233 - acc: 0.997 - ETA: 0s - loss: 0.0233 - acc: 0.997 - ETA: 0s - loss: 0.0232 - acc: 0.997 - ETA: 0s - loss: 0.0232 - acc: 0.997 - ETA: 0s - loss: 0.0237 - acc: 0.996 - ETA: 0s - loss: 0.0238 - acc: 0.996 - ETA: 0s - loss: 0.0238 - acc: 0.996 - ETA: 0s - loss: 0.0237 - acc: 0.996 - ETA: 0s - loss: 0.0238 - acc: 0.996 - ETA: 0s - loss: 0.0237 - acc: 0.996 - ETA: 0s - loss: 0.0237 - acc: 0.996 - 10s 382us/sample - loss: 0.0237 - acc: 0.9968 - val_loss: 0.5232 - val_acc: 0.8266\n",
      "Epoch 5/10\n"
     ]
    },
    {
     "name": "stdout",
     "output_type": "stream",
     "text": [
      "25000/25000 [==============================] - ETA: 14s - loss: 0.0041 - acc: 1.00 - ETA: 8s - loss: 0.0059 - acc: 1.0000 - ETA: 8s - loss: 0.0059 - acc: 1.000 - ETA: 8s - loss: 0.0083 - acc: 0.998 - ETA: 7s - loss: 0.0076 - acc: 0.998 - ETA: 7s - loss: 0.0074 - acc: 0.999 - ETA: 7s - loss: 0.0072 - acc: 0.999 - ETA: 7s - loss: 0.0070 - acc: 0.999 - ETA: 7s - loss: 0.0067 - acc: 0.999 - ETA: 7s - loss: 0.0085 - acc: 0.998 - ETA: 6s - loss: 0.0082 - acc: 0.998 - ETA: 7s - loss: 0.0081 - acc: 0.999 - ETA: 7s - loss: 0.0078 - acc: 0.999 - ETA: 7s - loss: 0.0076 - acc: 0.999 - ETA: 7s - loss: 0.0075 - acc: 0.999 - ETA: 7s - loss: 0.0074 - acc: 0.999 - ETA: 7s - loss: 0.0074 - acc: 0.999 - ETA: 7s - loss: 0.0072 - acc: 0.999 - ETA: 7s - loss: 0.0071 - acc: 0.999 - ETA: 7s - loss: 0.0071 - acc: 0.999 - ETA: 6s - loss: 0.0069 - acc: 0.999 - ETA: 6s - loss: 0.0069 - acc: 0.999 - ETA: 6s - loss: 0.0068 - acc: 0.999 - ETA: 6s - loss: 0.0068 - acc: 0.999 - ETA: 6s - loss: 0.0068 - acc: 0.999 - ETA: 6s - loss: 0.0067 - acc: 0.999 - ETA: 6s - loss: 0.0067 - acc: 0.999 - ETA: 6s - loss: 0.0067 - acc: 0.999 - ETA: 6s - loss: 0.0066 - acc: 0.999 - ETA: 6s - loss: 0.0067 - acc: 0.999 - ETA: 6s - loss: 0.0066 - acc: 0.999 - ETA: 6s - loss: 0.0065 - acc: 0.999 - ETA: 5s - loss: 0.0065 - acc: 0.999 - ETA: 5s - loss: 0.0064 - acc: 0.999 - ETA: 5s - loss: 0.0064 - acc: 0.999 - ETA: 5s - loss: 0.0063 - acc: 0.999 - ETA: 5s - loss: 0.0064 - acc: 0.999 - ETA: 5s - loss: 0.0063 - acc: 0.999 - ETA: 5s - loss: 0.0062 - acc: 0.999 - ETA: 5s - loss: 0.0062 - acc: 0.999 - ETA: 5s - loss: 0.0061 - acc: 0.999 - ETA: 5s - loss: 0.0065 - acc: 0.999 - ETA: 5s - loss: 0.0065 - acc: 0.999 - ETA: 5s - loss: 0.0065 - acc: 0.999 - ETA: 5s - loss: 0.0065 - acc: 0.999 - ETA: 5s - loss: 0.0064 - acc: 0.999 - ETA: 5s - loss: 0.0064 - acc: 0.999 - ETA: 4s - loss: 0.0064 - acc: 0.999 - ETA: 4s - loss: 0.0063 - acc: 0.999 - ETA: 4s - loss: 0.0063 - acc: 0.999 - ETA: 4s - loss: 0.0063 - acc: 0.999 - ETA: 4s - loss: 0.0063 - acc: 0.999 - ETA: 4s - loss: 0.0063 - acc: 0.999 - ETA: 4s - loss: 0.0063 - acc: 0.999 - ETA: 4s - loss: 0.0067 - acc: 0.999 - ETA: 4s - loss: 0.0066 - acc: 0.999 - ETA: 4s - loss: 0.0067 - acc: 0.999 - ETA: 4s - loss: 0.0067 - acc: 0.999 - ETA: 4s - loss: 0.0067 - acc: 0.999 - ETA: 4s - loss: 0.0067 - acc: 0.999 - ETA: 4s - loss: 0.0066 - acc: 0.999 - ETA: 4s - loss: 0.0067 - acc: 0.999 - ETA: 4s - loss: 0.0067 - acc: 0.999 - ETA: 4s - loss: 0.0067 - acc: 0.999 - ETA: 3s - loss: 0.0070 - acc: 0.999 - ETA: 3s - loss: 0.0070 - acc: 0.999 - ETA: 3s - loss: 0.0069 - acc: 0.999 - ETA: 3s - loss: 0.0070 - acc: 0.999 - ETA: 3s - loss: 0.0070 - acc: 0.999 - ETA: 3s - loss: 0.0070 - acc: 0.999 - ETA: 3s - loss: 0.0070 - acc: 0.999 - ETA: 3s - loss: 0.0069 - acc: 0.999 - ETA: 3s - loss: 0.0069 - acc: 0.999 - ETA: 3s - loss: 0.0069 - acc: 0.999 - ETA: 3s - loss: 0.0069 - acc: 0.999 - ETA: 3s - loss: 0.0069 - acc: 0.999 - ETA: 3s - loss: 0.0068 - acc: 0.999 - ETA: 3s - loss: 0.0068 - acc: 0.999 - ETA: 3s - loss: 0.0068 - acc: 0.999 - ETA: 3s - loss: 0.0068 - acc: 0.999 - ETA: 3s - loss: 0.0067 - acc: 0.999 - ETA: 3s - loss: 0.0067 - acc: 0.999 - ETA: 3s - loss: 0.0067 - acc: 0.999 - ETA: 2s - loss: 0.0067 - acc: 0.999 - ETA: 2s - loss: 0.0069 - acc: 0.999 - ETA: 2s - loss: 0.0069 - acc: 0.999 - ETA: 2s - loss: 0.0069 - acc: 0.999 - ETA: 2s - loss: 0.0069 - acc: 0.999 - ETA: 2s - loss: 0.0070 - acc: 0.999 - ETA: 2s - loss: 0.0069 - acc: 0.999 - ETA: 2s - loss: 0.0069 - acc: 0.999 - ETA: 2s - loss: 0.0069 - acc: 0.999 - ETA: 2s - loss: 0.0069 - acc: 0.999 - ETA: 2s - loss: 0.0069 - acc: 0.999 - ETA: 2s - loss: 0.0070 - acc: 0.999 - ETA: 2s - loss: 0.0069 - acc: 0.999 - ETA: 2s - loss: 0.0069 - acc: 0.999 - ETA: 2s - loss: 0.0069 - acc: 0.999 - ETA: 2s - loss: 0.0072 - acc: 0.999 - ETA: 2s - loss: 0.0072 - acc: 0.999 - ETA: 2s - loss: 0.0072 - acc: 0.999 - ETA: 2s - loss: 0.0072 - acc: 0.999 - ETA: 2s - loss: 0.0071 - acc: 0.999 - ETA: 1s - loss: 0.0071 - acc: 0.999 - ETA: 1s - loss: 0.0071 - acc: 0.999 - ETA: 1s - loss: 0.0071 - acc: 0.999 - ETA: 1s - loss: 0.0070 - acc: 0.999 - ETA: 1s - loss: 0.0071 - acc: 0.999 - ETA: 1s - loss: 0.0071 - acc: 0.999 - ETA: 1s - loss: 0.0070 - acc: 0.999 - ETA: 1s - loss: 0.0070 - acc: 0.999 - ETA: 1s - loss: 0.0070 - acc: 0.999 - ETA: 1s - loss: 0.0070 - acc: 0.999 - ETA: 1s - loss: 0.0073 - acc: 0.999 - ETA: 1s - loss: 0.0073 - acc: 0.999 - ETA: 1s - loss: 0.0073 - acc: 0.999 - ETA: 1s - loss: 0.0072 - acc: 0.999 - ETA: 1s - loss: 0.0072 - acc: 0.999 - ETA: 1s - loss: 0.0072 - acc: 0.999 - ETA: 1s - loss: 0.0071 - acc: 0.999 - ETA: 1s - loss: 0.0072 - acc: 0.999 - ETA: 1s - loss: 0.0071 - acc: 0.999 - ETA: 0s - loss: 0.0071 - acc: 0.999 - ETA: 0s - loss: 0.0071 - acc: 0.999 - ETA: 0s - loss: 0.0071 - acc: 0.999 - ETA: 0s - loss: 0.0070 - acc: 0.999 - ETA: 0s - loss: 0.0071 - acc: 0.999 - ETA: 0s - loss: 0.0071 - acc: 0.999 - ETA: 0s - loss: 0.0071 - acc: 0.999 - ETA: 0s - loss: 0.0070 - acc: 0.999 - ETA: 0s - loss: 0.0070 - acc: 0.999 - ETA: 0s - loss: 0.0070 - acc: 0.999 - ETA: 0s - loss: 0.0070 - acc: 0.999 - ETA: 0s - loss: 0.0069 - acc: 0.999 - ETA: 0s - loss: 0.0069 - acc: 0.999 - ETA: 0s - loss: 0.0069 - acc: 0.999 - ETA: 0s - loss: 0.0069 - acc: 0.999 - ETA: 0s - loss: 0.0069 - acc: 0.999 - ETA: 0s - loss: 0.0068 - acc: 0.999 - ETA: 0s - loss: 0.0068 - acc: 0.999 - ETA: 0s - loss: 0.0068 - acc: 0.999 - 9s 372us/sample - loss: 0.0068 - acc: 0.9993 - val_loss: 0.5882 - val_acc: 0.8248\n",
      "Epoch 6/10\n"
     ]
    },
    {
     "name": "stdout",
     "output_type": "stream",
     "text": [
      "25000/25000 [==============================] - ETA: 10s - loss: 0.0033 - acc: 1.00 - ETA: 10s - loss: 0.0021 - acc: 1.00 - ETA: 8s - loss: 0.0022 - acc: 1.0000 - ETA: 8s - loss: 0.0022 - acc: 1.000 - ETA: 8s - loss: 0.0022 - acc: 1.000 - ETA: 7s - loss: 0.0023 - acc: 1.000 - ETA: 7s - loss: 0.0023 - acc: 1.000 - ETA: 7s - loss: 0.0023 - acc: 1.000 - ETA: 7s - loss: 0.0023 - acc: 1.000 - ETA: 7s - loss: 0.0023 - acc: 1.000 - ETA: 7s - loss: 0.0023 - acc: 1.000 - ETA: 7s - loss: 0.0023 - acc: 1.000 - ETA: 7s - loss: 0.0023 - acc: 1.000 - ETA: 6s - loss: 0.0023 - acc: 1.000 - ETA: 7s - loss: 0.0023 - acc: 1.000 - ETA: 6s - loss: 0.0023 - acc: 1.000 - ETA: 6s - loss: 0.0023 - acc: 1.000 - ETA: 6s - loss: 0.0023 - acc: 1.000 - ETA: 6s - loss: 0.0023 - acc: 1.000 - ETA: 6s - loss: 0.0023 - acc: 1.000 - ETA: 6s - loss: 0.0023 - acc: 1.000 - ETA: 6s - loss: 0.0023 - acc: 1.000 - ETA: 6s - loss: 0.0023 - acc: 1.000 - ETA: 6s - loss: 0.0023 - acc: 1.000 - ETA: 6s - loss: 0.0023 - acc: 1.000 - ETA: 6s - loss: 0.0023 - acc: 1.000 - ETA: 6s - loss: 0.0023 - acc: 1.000 - ETA: 6s - loss: 0.0023 - acc: 1.000 - ETA: 6s - loss: 0.0023 - acc: 1.000 - ETA: 6s - loss: 0.0023 - acc: 1.000 - ETA: 6s - loss: 0.0023 - acc: 1.000 - ETA: 6s - loss: 0.0023 - acc: 1.000 - ETA: 5s - loss: 0.0022 - acc: 1.000 - ETA: 5s - loss: 0.0022 - acc: 1.000 - ETA: 5s - loss: 0.0022 - acc: 1.000 - ETA: 5s - loss: 0.0022 - acc: 1.000 - ETA: 5s - loss: 0.0022 - acc: 1.000 - ETA: 5s - loss: 0.0022 - acc: 1.000 - ETA: 5s - loss: 0.0022 - acc: 1.000 - ETA: 5s - loss: 0.0022 - acc: 1.000 - ETA: 5s - loss: 0.0022 - acc: 1.000 - ETA: 5s - loss: 0.0022 - acc: 1.000 - ETA: 5s - loss: 0.0022 - acc: 1.000 - ETA: 5s - loss: 0.0022 - acc: 1.000 - ETA: 5s - loss: 0.0022 - acc: 1.000 - ETA: 5s - loss: 0.0022 - acc: 1.000 - ETA: 5s - loss: 0.0022 - acc: 1.000 - ETA: 5s - loss: 0.0022 - acc: 1.000 - ETA: 4s - loss: 0.0022 - acc: 1.000 - ETA: 4s - loss: 0.0022 - acc: 1.000 - ETA: 4s - loss: 0.0022 - acc: 1.000 - ETA: 4s - loss: 0.0022 - acc: 1.000 - ETA: 4s - loss: 0.0022 - acc: 1.000 - ETA: 4s - loss: 0.0022 - acc: 1.000 - ETA: 4s - loss: 0.0022 - acc: 1.000 - ETA: 4s - loss: 0.0022 - acc: 1.000 - ETA: 4s - loss: 0.0021 - acc: 1.000 - ETA: 4s - loss: 0.0022 - acc: 1.000 - ETA: 4s - loss: 0.0022 - acc: 1.000 - ETA: 4s - loss: 0.0022 - acc: 1.000 - ETA: 4s - loss: 0.0022 - acc: 1.000 - ETA: 4s - loss: 0.0022 - acc: 1.000 - ETA: 4s - loss: 0.0022 - acc: 1.000 - ETA: 4s - loss: 0.0022 - acc: 1.000 - ETA: 4s - loss: 0.0022 - acc: 1.000 - ETA: 3s - loss: 0.0022 - acc: 1.000 - ETA: 3s - loss: 0.0021 - acc: 1.000 - ETA: 3s - loss: 0.0021 - acc: 1.000 - ETA: 3s - loss: 0.0021 - acc: 1.000 - ETA: 3s - loss: 0.0021 - acc: 1.000 - ETA: 3s - loss: 0.0021 - acc: 1.000 - ETA: 3s - loss: 0.0021 - acc: 1.000 - ETA: 3s - loss: 0.0021 - acc: 1.000 - ETA: 3s - loss: 0.0021 - acc: 1.000 - ETA: 3s - loss: 0.0022 - acc: 1.000 - ETA: 3s - loss: 0.0022 - acc: 1.000 - ETA: 3s - loss: 0.0022 - acc: 1.000 - ETA: 3s - loss: 0.0022 - acc: 1.000 - ETA: 3s - loss: 0.0022 - acc: 1.000 - ETA: 3s - loss: 0.0022 - acc: 1.000 - ETA: 3s - loss: 0.0022 - acc: 1.000 - ETA: 3s - loss: 0.0022 - acc: 1.000 - ETA: 3s - loss: 0.0021 - acc: 1.000 - ETA: 3s - loss: 0.0021 - acc: 1.000 - ETA: 3s - loss: 0.0021 - acc: 1.000 - ETA: 2s - loss: 0.0021 - acc: 1.000 - ETA: 2s - loss: 0.0021 - acc: 1.000 - ETA: 2s - loss: 0.0021 - acc: 1.000 - ETA: 2s - loss: 0.0021 - acc: 1.000 - ETA: 2s - loss: 0.0021 - acc: 1.000 - ETA: 2s - loss: 0.0021 - acc: 1.000 - ETA: 2s - loss: 0.0021 - acc: 1.000 - ETA: 2s - loss: 0.0021 - acc: 1.000 - ETA: 2s - loss: 0.0021 - acc: 1.000 - ETA: 2s - loss: 0.0021 - acc: 1.000 - ETA: 2s - loss: 0.0021 - acc: 1.000 - ETA: 2s - loss: 0.0021 - acc: 1.000 - ETA: 2s - loss: 0.0021 - acc: 1.000 - ETA: 2s - loss: 0.0021 - acc: 1.000 - ETA: 2s - loss: 0.0021 - acc: 1.000 - ETA: 2s - loss: 0.0021 - acc: 1.000 - ETA: 2s - loss: 0.0021 - acc: 1.000 - ETA: 2s - loss: 0.0021 - acc: 1.000 - ETA: 2s - loss: 0.0021 - acc: 1.000 - ETA: 2s - loss: 0.0021 - acc: 1.000 - ETA: 1s - loss: 0.0021 - acc: 1.000 - ETA: 1s - loss: 0.0021 - acc: 1.000 - ETA: 1s - loss: 0.0021 - acc: 1.000 - ETA: 1s - loss: 0.0021 - acc: 1.000 - ETA: 1s - loss: 0.0021 - acc: 1.000 - ETA: 1s - loss: 0.0021 - acc: 1.000 - ETA: 1s - loss: 0.0021 - acc: 1.000 - ETA: 1s - loss: 0.0021 - acc: 1.000 - ETA: 1s - loss: 0.0021 - acc: 1.000 - ETA: 1s - loss: 0.0020 - acc: 1.000 - ETA: 1s - loss: 0.0020 - acc: 1.000 - ETA: 1s - loss: 0.0020 - acc: 1.000 - ETA: 1s - loss: 0.0020 - acc: 1.000 - ETA: 1s - loss: 0.0020 - acc: 1.000 - ETA: 1s - loss: 0.0020 - acc: 1.000 - ETA: 1s - loss: 0.0020 - acc: 1.000 - ETA: 1s - loss: 0.0020 - acc: 1.000 - ETA: 1s - loss: 0.0020 - acc: 1.000 - ETA: 1s - loss: 0.0020 - acc: 1.000 - ETA: 0s - loss: 0.0020 - acc: 1.000 - ETA: 0s - loss: 0.0020 - acc: 1.000 - ETA: 0s - loss: 0.0020 - acc: 1.000 - ETA: 0s - loss: 0.0020 - acc: 1.000 - ETA: 0s - loss: 0.0020 - acc: 1.000 - ETA: 0s - loss: 0.0020 - acc: 1.000 - ETA: 0s - loss: 0.0020 - acc: 1.000 - ETA: 0s - loss: 0.0020 - acc: 1.000 - ETA: 0s - loss: 0.0020 - acc: 1.000 - ETA: 0s - loss: 0.0020 - acc: 1.000 - ETA: 0s - loss: 0.0020 - acc: 1.000 - ETA: 0s - loss: 0.0020 - acc: 1.000 - ETA: 0s - loss: 0.0020 - acc: 1.000 - ETA: 0s - loss: 0.0020 - acc: 1.000 - ETA: 0s - loss: 0.0020 - acc: 1.000 - ETA: 0s - loss: 0.0020 - acc: 1.000 - ETA: 0s - loss: 0.0020 - acc: 1.000 - ETA: 0s - loss: 0.0020 - acc: 1.000 - 9s 370us/sample - loss: 0.0020 - acc: 1.0000 - val_loss: 0.6399 - val_acc: 0.8274\n",
      "Epoch 7/10\n"
     ]
    },
    {
     "name": "stdout",
     "output_type": "stream",
     "text": [
      "25000/25000 [==============================] - ETA: 19s - loss: 8.0128e-04 - acc: 1.00 - ETA: 8s - loss: 8.3779e-04 - acc: 1.0000 - ETA: 9s - loss: 8.7887e-04 - acc: 1.000 - ETA: 8s - loss: 8.5268e-04 - acc: 1.000 - ETA: 8s - loss: 8.6224e-04 - acc: 1.000 - ETA: 8s - loss: 9.1843e-04 - acc: 1.000 - ETA: 8s - loss: 9.3425e-04 - acc: 1.000 - ETA: 7s - loss: 9.1920e-04 - acc: 1.000 - ETA: 7s - loss: 9.1274e-04 - acc: 1.000 - ETA: 8s - loss: 9.1540e-04 - acc: 1.000 - ETA: 7s - loss: 8.9972e-04 - acc: 1.000 - ETA: 7s - loss: 8.9194e-04 - acc: 1.000 - ETA: 7s - loss: 9.0314e-04 - acc: 1.000 - ETA: 7s - loss: 8.9414e-04 - acc: 1.000 - ETA: 7s - loss: 9.0703e-04 - acc: 1.000 - ETA: 7s - loss: 9.1767e-04 - acc: 1.000 - ETA: 7s - loss: 9.2299e-04 - acc: 1.000 - ETA: 6s - loss: 9.2129e-04 - acc: 1.000 - ETA: 6s - loss: 9.2760e-04 - acc: 1.000 - ETA: 6s - loss: 9.3094e-04 - acc: 1.000 - ETA: 6s - loss: 9.3004e-04 - acc: 1.000 - ETA: 6s - loss: 9.2597e-04 - acc: 1.000 - ETA: 6s - loss: 9.4018e-04 - acc: 1.000 - ETA: 6s - loss: 9.3576e-04 - acc: 1.000 - ETA: 6s - loss: 9.3693e-04 - acc: 1.000 - ETA: 6s - loss: 9.3109e-04 - acc: 1.000 - ETA: 6s - loss: 9.4779e-04 - acc: 1.000 - ETA: 6s - loss: 9.4925e-04 - acc: 1.000 - ETA: 6s - loss: 9.5029e-04 - acc: 1.000 - ETA: 6s - loss: 9.4320e-04 - acc: 1.000 - ETA: 6s - loss: 9.5256e-04 - acc: 1.000 - ETA: 6s - loss: 9.4904e-04 - acc: 1.000 - ETA: 5s - loss: 9.4923e-04 - acc: 1.000 - ETA: 5s - loss: 9.5042e-04 - acc: 1.000 - ETA: 5s - loss: 9.4857e-04 - acc: 1.000 - ETA: 5s - loss: 9.5477e-04 - acc: 1.000 - ETA: 5s - loss: 9.5041e-04 - acc: 1.000 - ETA: 5s - loss: 9.4762e-04 - acc: 1.000 - ETA: 5s - loss: 9.4520e-04 - acc: 1.000 - ETA: 5s - loss: 9.4879e-04 - acc: 1.000 - ETA: 5s - loss: 9.4909e-04 - acc: 1.000 - ETA: 5s - loss: 9.4648e-04 - acc: 1.000 - ETA: 5s - loss: 9.5094e-04 - acc: 1.000 - ETA: 5s - loss: 9.4999e-04 - acc: 1.000 - ETA: 5s - loss: 9.4684e-04 - acc: 1.000 - ETA: 5s - loss: 9.4465e-04 - acc: 1.000 - ETA: 5s - loss: 9.3711e-04 - acc: 1.000 - ETA: 5s - loss: 9.3607e-04 - acc: 1.000 - ETA: 5s - loss: 9.3408e-04 - acc: 1.000 - ETA: 5s - loss: 9.3169e-04 - acc: 1.000 - ETA: 4s - loss: 9.2709e-04 - acc: 1.000 - ETA: 4s - loss: 9.1918e-04 - acc: 1.000 - ETA: 4s - loss: 9.1565e-04 - acc: 1.000 - ETA: 4s - loss: 9.1345e-04 - acc: 1.000 - ETA: 4s - loss: 9.1213e-04 - acc: 1.000 - ETA: 4s - loss: 9.1010e-04 - acc: 1.000 - ETA: 4s - loss: 9.0385e-04 - acc: 1.000 - ETA: 4s - loss: 8.9951e-04 - acc: 1.000 - ETA: 4s - loss: 9.0503e-04 - acc: 1.000 - ETA: 4s - loss: 9.0493e-04 - acc: 1.000 - ETA: 4s - loss: 9.0393e-04 - acc: 1.000 - ETA: 4s - loss: 9.0133e-04 - acc: 1.000 - ETA: 4s - loss: 9.0184e-04 - acc: 1.000 - ETA: 4s - loss: 9.0042e-04 - acc: 1.000 - ETA: 4s - loss: 9.0305e-04 - acc: 1.000 - ETA: 4s - loss: 9.0401e-04 - acc: 1.000 - ETA: 4s - loss: 9.0189e-04 - acc: 1.000 - ETA: 4s - loss: 9.0297e-04 - acc: 1.000 - ETA: 3s - loss: 9.0136e-04 - acc: 1.000 - ETA: 3s - loss: 9.0248e-04 - acc: 1.000 - ETA: 3s - loss: 9.3161e-04 - acc: 1.000 - ETA: 3s - loss: 9.5240e-04 - acc: 1.000 - ETA: 3s - loss: 9.5270e-04 - acc: 1.000 - ETA: 3s - loss: 9.5428e-04 - acc: 1.000 - ETA: 3s - loss: 9.5231e-04 - acc: 1.000 - ETA: 3s - loss: 9.5106e-04 - acc: 1.000 - ETA: 3s - loss: 9.4629e-04 - acc: 1.000 - ETA: 3s - loss: 9.4746e-04 - acc: 1.000 - ETA: 3s - loss: 9.5483e-04 - acc: 1.000 - ETA: 3s - loss: 9.5444e-04 - acc: 1.000 - ETA: 3s - loss: 9.5683e-04 - acc: 1.000 - ETA: 3s - loss: 9.5681e-04 - acc: 1.000 - ETA: 3s - loss: 9.5658e-04 - acc: 1.000 - ETA: 3s - loss: 9.5662e-04 - acc: 1.000 - ETA: 3s - loss: 9.5505e-04 - acc: 1.000 - ETA: 3s - loss: 9.5160e-04 - acc: 1.000 - ETA: 3s - loss: 9.5033e-04 - acc: 1.000 - ETA: 3s - loss: 9.4756e-04 - acc: 1.000 - ETA: 3s - loss: 9.5085e-04 - acc: 1.000 - ETA: 3s - loss: 9.4900e-04 - acc: 1.000 - ETA: 3s - loss: 9.4709e-04 - acc: 1.000 - ETA: 3s - loss: 9.4822e-04 - acc: 1.000 - ETA: 3s - loss: 9.4604e-04 - acc: 1.000 - ETA: 3s - loss: 9.4520e-04 - acc: 1.000 - ETA: 2s - loss: 9.4268e-04 - acc: 1.000 - ETA: 2s - loss: 9.4322e-04 - acc: 1.000 - ETA: 2s - loss: 9.3937e-04 - acc: 1.000 - ETA: 2s - loss: 9.4082e-04 - acc: 1.000 - ETA: 2s - loss: 9.3686e-04 - acc: 1.000 - ETA: 2s - loss: 9.3364e-04 - acc: 1.000 - ETA: 2s - loss: 9.4188e-04 - acc: 1.000 - ETA: 2s - loss: 9.3999e-04 - acc: 1.000 - ETA: 2s - loss: 9.3854e-04 - acc: 1.000 - ETA: 2s - loss: 9.3684e-04 - acc: 1.000 - ETA: 2s - loss: 9.3592e-04 - acc: 1.000 - ETA: 2s - loss: 9.4453e-04 - acc: 1.000 - ETA: 2s - loss: 9.4523e-04 - acc: 1.000 - ETA: 2s - loss: 9.4430e-04 - acc: 1.000 - ETA: 2s - loss: 9.4381e-04 - acc: 1.000 - ETA: 2s - loss: 9.4456e-04 - acc: 1.000 - ETA: 2s - loss: 9.4048e-04 - acc: 1.000 - ETA: 1s - loss: 9.3770e-04 - acc: 1.000 - ETA: 1s - loss: 9.3690e-04 - acc: 1.000 - ETA: 1s - loss: 9.3611e-04 - acc: 1.000 - ETA: 1s - loss: 9.3524e-04 - acc: 1.000 - ETA: 1s - loss: 9.3529e-04 - acc: 1.000 - ETA: 1s - loss: 9.3440e-04 - acc: 1.000 - ETA: 1s - loss: 9.3375e-04 - acc: 1.000 - ETA: 1s - loss: 9.3226e-04 - acc: 1.000 - ETA: 1s - loss: 9.3006e-04 - acc: 1.000 - ETA: 1s - loss: 9.3013e-04 - acc: 1.000 - ETA: 1s - loss: 9.2824e-04 - acc: 1.000 - ETA: 1s - loss: 9.2576e-04 - acc: 1.000 - ETA: 1s - loss: 9.2380e-04 - acc: 1.000 - ETA: 1s - loss: 9.2266e-04 - acc: 1.000 - ETA: 1s - loss: 9.2462e-04 - acc: 1.000 - ETA: 1s - loss: 9.2359e-04 - acc: 1.000 - ETA: 1s - loss: 9.2558e-04 - acc: 1.000 - ETA: 1s - loss: 9.2418e-04 - acc: 1.000 - ETA: 0s - loss: 9.2739e-04 - acc: 1.000 - ETA: 0s - loss: 9.2513e-04 - acc: 1.000 - ETA: 0s - loss: 9.2327e-04 - acc: 1.000 - ETA: 0s - loss: 9.2101e-04 - acc: 1.000 - ETA: 0s - loss: 9.1812e-04 - acc: 1.000 - ETA: 0s - loss: 9.1735e-04 - acc: 1.000 - ETA: 0s - loss: 9.1599e-04 - acc: 1.000 - ETA: 0s - loss: 9.1384e-04 - acc: 1.000 - ETA: 0s - loss: 9.1219e-04 - acc: 1.000 - ETA: 0s - loss: 9.1092e-04 - acc: 1.000 - ETA: 0s - loss: 9.0828e-04 - acc: 1.000 - ETA: 0s - loss: 9.0655e-04 - acc: 1.000 - ETA: 0s - loss: 9.0542e-04 - acc: 1.000 - ETA: 0s - loss: 9.0464e-04 - acc: 1.000 - ETA: 0s - loss: 9.0417e-04 - acc: 1.000 - ETA: 0s - loss: 9.0381e-04 - acc: 1.000 - ETA: 0s - loss: 9.0205e-04 - acc: 1.000 - ETA: 0s - loss: 9.0086e-04 - acc: 1.000 - 10s 381us/sample - loss: 9.0028e-04 - acc: 1.0000 - val_loss: 0.6820 - val_acc: 0.8289\n",
      "Epoch 8/10\n"
     ]
    },
    {
     "name": "stdout",
     "output_type": "stream",
     "text": [
      "25000/25000 [==============================] - ETA: 6s - loss: 4.2736e-04 - acc: 1.000 - ETA: 8s - loss: 4.9404e-04 - acc: 1.000 - ETA: 8s - loss: 5.7034e-04 - acc: 1.000 - ETA: 8s - loss: 5.5584e-04 - acc: 1.000 - ETA: 7s - loss: 5.3440e-04 - acc: 1.000 - ETA: 7s - loss: 5.3294e-04 - acc: 1.000 - ETA: 7s - loss: 5.3607e-04 - acc: 1.000 - ETA: 7s - loss: 5.3458e-04 - acc: 1.000 - ETA: 7s - loss: 5.3835e-04 - acc: 1.000 - ETA: 7s - loss: 5.3538e-04 - acc: 1.000 - ETA: 7s - loss: 5.3596e-04 - acc: 1.000 - ETA: 7s - loss: 5.2777e-04 - acc: 1.000 - ETA: 7s - loss: 5.1947e-04 - acc: 1.000 - ETA: 7s - loss: 5.1938e-04 - acc: 1.000 - ETA: 7s - loss: 5.0321e-04 - acc: 1.000 - ETA: 7s - loss: 4.9955e-04 - acc: 1.000 - ETA: 6s - loss: 5.0907e-04 - acc: 1.000 - ETA: 6s - loss: 5.0842e-04 - acc: 1.000 - ETA: 6s - loss: 5.0366e-04 - acc: 1.000 - ETA: 6s - loss: 5.1144e-04 - acc: 1.000 - ETA: 6s - loss: 5.1176e-04 - acc: 1.000 - ETA: 6s - loss: 5.0798e-04 - acc: 1.000 - ETA: 6s - loss: 5.0510e-04 - acc: 1.000 - ETA: 6s - loss: 5.0969e-04 - acc: 1.000 - ETA: 6s - loss: 5.0525e-04 - acc: 1.000 - ETA: 6s - loss: 5.0410e-04 - acc: 1.000 - ETA: 6s - loss: 5.1120e-04 - acc: 1.000 - ETA: 5s - loss: 5.0804e-04 - acc: 1.000 - ETA: 5s - loss: 5.0898e-04 - acc: 1.000 - ETA: 5s - loss: 5.1361e-04 - acc: 1.000 - ETA: 5s - loss: 5.1569e-04 - acc: 1.000 - ETA: 5s - loss: 5.1698e-04 - acc: 1.000 - ETA: 5s - loss: 5.1300e-04 - acc: 1.000 - ETA: 5s - loss: 5.1084e-04 - acc: 1.000 - ETA: 5s - loss: 5.1017e-04 - acc: 1.000 - ETA: 5s - loss: 5.0985e-04 - acc: 1.000 - ETA: 5s - loss: 5.1102e-04 - acc: 1.000 - ETA: 5s - loss: 5.1079e-04 - acc: 1.000 - ETA: 5s - loss: 5.0840e-04 - acc: 1.000 - ETA: 5s - loss: 5.0633e-04 - acc: 1.000 - ETA: 5s - loss: 5.0487e-04 - acc: 1.000 - ETA: 5s - loss: 5.0318e-04 - acc: 1.000 - ETA: 5s - loss: 5.0180e-04 - acc: 1.000 - ETA: 5s - loss: 4.9980e-04 - acc: 1.000 - ETA: 5s - loss: 4.9849e-04 - acc: 1.000 - ETA: 4s - loss: 4.9828e-04 - acc: 1.000 - ETA: 4s - loss: 4.9729e-04 - acc: 1.000 - ETA: 4s - loss: 4.9722e-04 - acc: 1.000 - ETA: 4s - loss: 4.9701e-04 - acc: 1.000 - ETA: 4s - loss: 4.9582e-04 - acc: 1.000 - ETA: 4s - loss: 4.9248e-04 - acc: 1.000 - ETA: 4s - loss: 4.9423e-04 - acc: 1.000 - ETA: 4s - loss: 4.9490e-04 - acc: 1.000 - ETA: 4s - loss: 4.9463e-04 - acc: 1.000 - ETA: 4s - loss: 4.9229e-04 - acc: 1.000 - ETA: 4s - loss: 4.9217e-04 - acc: 1.000 - ETA: 4s - loss: 4.9077e-04 - acc: 1.000 - ETA: 4s - loss: 4.8926e-04 - acc: 1.000 - ETA: 4s - loss: 4.9291e-04 - acc: 1.000 - ETA: 4s - loss: 4.9132e-04 - acc: 1.000 - ETA: 4s - loss: 4.9106e-04 - acc: 1.000 - ETA: 4s - loss: 4.9111e-04 - acc: 1.000 - ETA: 4s - loss: 4.8980e-04 - acc: 1.000 - ETA: 4s - loss: 4.8874e-04 - acc: 1.000 - ETA: 3s - loss: 4.8769e-04 - acc: 1.000 - ETA: 3s - loss: 4.8689e-04 - acc: 1.000 - ETA: 3s - loss: 4.8507e-04 - acc: 1.000 - ETA: 3s - loss: 4.8566e-04 - acc: 1.000 - ETA: 3s - loss: 4.8451e-04 - acc: 1.000 - ETA: 3s - loss: 4.8244e-04 - acc: 1.000 - ETA: 3s - loss: 4.8231e-04 - acc: 1.000 - ETA: 3s - loss: 4.8189e-04 - acc: 1.000 - ETA: 3s - loss: 4.8116e-04 - acc: 1.000 - ETA: 3s - loss: 4.8186e-04 - acc: 1.000 - ETA: 3s - loss: 4.8061e-04 - acc: 1.000 - ETA: 3s - loss: 4.8062e-04 - acc: 1.000 - ETA: 3s - loss: 4.7889e-04 - acc: 1.000 - ETA: 3s - loss: 4.7758e-04 - acc: 1.000 - ETA: 3s - loss: 4.7571e-04 - acc: 1.000 - ETA: 3s - loss: 4.7496e-04 - acc: 1.000 - ETA: 3s - loss: 4.8575e-04 - acc: 1.000 - ETA: 3s - loss: 4.8514e-04 - acc: 1.000 - ETA: 3s - loss: 4.8511e-04 - acc: 1.000 - ETA: 3s - loss: 4.9608e-04 - acc: 1.000 - ETA: 3s - loss: 4.9712e-04 - acc: 1.000 - ETA: 2s - loss: 4.9564e-04 - acc: 1.000 - ETA: 2s - loss: 4.9618e-04 - acc: 1.000 - ETA: 2s - loss: 4.9644e-04 - acc: 1.000 - ETA: 2s - loss: 4.9625e-04 - acc: 1.000 - ETA: 2s - loss: 4.9853e-04 - acc: 1.000 - ETA: 2s - loss: 4.9737e-04 - acc: 1.000 - ETA: 2s - loss: 4.9699e-04 - acc: 1.000 - ETA: 2s - loss: 4.9583e-04 - acc: 1.000 - ETA: 2s - loss: 4.9546e-04 - acc: 1.000 - ETA: 2s - loss: 4.9468e-04 - acc: 1.000 - ETA: 2s - loss: 4.9337e-04 - acc: 1.000 - ETA: 2s - loss: 4.9327e-04 - acc: 1.000 - ETA: 2s - loss: 4.9258e-04 - acc: 1.000 - ETA: 2s - loss: 4.9261e-04 - acc: 1.000 - ETA: 2s - loss: 4.9180e-04 - acc: 1.000 - ETA: 2s - loss: 4.8972e-04 - acc: 1.000 - ETA: 2s - loss: 4.8980e-04 - acc: 1.000 - ETA: 2s - loss: 4.9518e-04 - acc: 1.000 - ETA: 2s - loss: 4.9427e-04 - acc: 1.000 - ETA: 1s - loss: 4.9312e-04 - acc: 1.000 - ETA: 1s - loss: 4.9317e-04 - acc: 1.000 - ETA: 1s - loss: 4.9226e-04 - acc: 1.000 - ETA: 1s - loss: 4.9162e-04 - acc: 1.000 - ETA: 1s - loss: 4.9170e-04 - acc: 1.000 - ETA: 1s - loss: 4.9073e-04 - acc: 1.000 - ETA: 1s - loss: 4.8863e-04 - acc: 1.000 - ETA: 1s - loss: 4.8860e-04 - acc: 1.000 - ETA: 1s - loss: 4.9830e-04 - acc: 1.000 - ETA: 1s - loss: 4.9865e-04 - acc: 1.000 - ETA: 1s - loss: 5.0366e-04 - acc: 1.000 - ETA: 1s - loss: 5.0424e-04 - acc: 1.000 - ETA: 1s - loss: 5.0793e-04 - acc: 1.000 - ETA: 1s - loss: 5.0732e-04 - acc: 1.000 - ETA: 1s - loss: 5.0727e-04 - acc: 1.000 - ETA: 1s - loss: 5.0614e-04 - acc: 1.000 - ETA: 1s - loss: 5.0633e-04 - acc: 1.000 - ETA: 1s - loss: 5.0610e-04 - acc: 1.000 - ETA: 0s - loss: 5.0577e-04 - acc: 1.000 - ETA: 0s - loss: 5.0623e-04 - acc: 1.000 - ETA: 0s - loss: 5.0524e-04 - acc: 1.000 - ETA: 0s - loss: 5.0459e-04 - acc: 1.000 - ETA: 0s - loss: 5.0333e-04 - acc: 1.000 - ETA: 0s - loss: 5.0249e-04 - acc: 1.000 - ETA: 0s - loss: 5.0205e-04 - acc: 1.000 - ETA: 0s - loss: 5.0160e-04 - acc: 1.000 - ETA: 0s - loss: 5.0047e-04 - acc: 1.000 - ETA: 0s - loss: 4.9951e-04 - acc: 1.000 - ETA: 0s - loss: 4.9870e-04 - acc: 1.000 - ETA: 0s - loss: 4.9825e-04 - acc: 1.000 - ETA: 0s - loss: 4.9915e-04 - acc: 1.000 - ETA: 0s - loss: 4.9945e-04 - acc: 1.000 - ETA: 0s - loss: 4.9886e-04 - acc: 1.000 - ETA: 0s - loss: 4.9830e-04 - acc: 1.000 - ETA: 0s - loss: 4.9956e-04 - acc: 1.000 - ETA: 0s - loss: 4.9836e-04 - acc: 1.000 - ETA: 0s - loss: 4.9751e-04 - acc: 1.000 - ETA: 0s - loss: 4.9752e-04 - acc: 1.000 - ETA: 0s - loss: 4.9693e-04 - acc: 1.000 - 9s 371us/sample - loss: 4.9686e-04 - acc: 1.0000 - val_loss: 0.7242 - val_acc: 0.8284\n",
      "Epoch 9/10\n"
     ]
    },
    {
     "name": "stdout",
     "output_type": "stream",
     "text": [
      "25000/25000 [==============================] - ETA: 13s - loss: 2.4915e-04 - acc: 1.00 - ETA: 9s - loss: 3.0966e-04 - acc: 1.0000 - ETA: 8s - loss: 3.6042e-04 - acc: 1.000 - ETA: 8s - loss: 3.3057e-04 - acc: 1.000 - ETA: 8s - loss: 3.1219e-04 - acc: 1.000 - ETA: 8s - loss: 3.2539e-04 - acc: 1.000 - ETA: 8s - loss: 3.2882e-04 - acc: 1.000 - ETA: 8s - loss: 3.2319e-04 - acc: 1.000 - ETA: 7s - loss: 3.1409e-04 - acc: 1.000 - ETA: 7s - loss: 3.1107e-04 - acc: 1.000 - ETA: 7s - loss: 3.1166e-04 - acc: 1.000 - ETA: 7s - loss: 3.0972e-04 - acc: 1.000 - ETA: 7s - loss: 3.0641e-04 - acc: 1.000 - ETA: 7s - loss: 3.0305e-04 - acc: 1.000 - ETA: 7s - loss: 3.0355e-04 - acc: 1.000 - ETA: 7s - loss: 2.9969e-04 - acc: 1.000 - ETA: 7s - loss: 2.9644e-04 - acc: 1.000 - ETA: 7s - loss: 2.9987e-04 - acc: 1.000 - ETA: 7s - loss: 2.9698e-04 - acc: 1.000 - ETA: 7s - loss: 3.0554e-04 - acc: 1.000 - ETA: 7s - loss: 3.0717e-04 - acc: 1.000 - ETA: 7s - loss: 3.0375e-04 - acc: 1.000 - ETA: 7s - loss: 2.9834e-04 - acc: 1.000 - ETA: 7s - loss: 3.0154e-04 - acc: 1.000 - ETA: 7s - loss: 3.0469e-04 - acc: 1.000 - ETA: 7s - loss: 3.0462e-04 - acc: 1.000 - ETA: 7s - loss: 3.0485e-04 - acc: 1.000 - ETA: 7s - loss: 3.0260e-04 - acc: 1.000 - ETA: 7s - loss: 3.0069e-04 - acc: 1.000 - ETA: 7s - loss: 3.0109e-04 - acc: 1.000 - ETA: 7s - loss: 2.9779e-04 - acc: 1.000 - ETA: 7s - loss: 2.9842e-04 - acc: 1.000 - ETA: 7s - loss: 2.9778e-04 - acc: 1.000 - ETA: 7s - loss: 2.9612e-04 - acc: 1.000 - ETA: 7s - loss: 2.9824e-04 - acc: 1.000 - ETA: 7s - loss: 2.9750e-04 - acc: 1.000 - ETA: 6s - loss: 2.9497e-04 - acc: 1.000 - ETA: 6s - loss: 2.9364e-04 - acc: 1.000 - ETA: 6s - loss: 2.9089e-04 - acc: 1.000 - ETA: 6s - loss: 2.8954e-04 - acc: 1.000 - ETA: 6s - loss: 2.9320e-04 - acc: 1.000 - ETA: 6s - loss: 2.9524e-04 - acc: 1.000 - ETA: 6s - loss: 2.9468e-04 - acc: 1.000 - ETA: 6s - loss: 2.9466e-04 - acc: 1.000 - ETA: 6s - loss: 2.9340e-04 - acc: 1.000 - ETA: 6s - loss: 2.9365e-04 - acc: 1.000 - ETA: 5s - loss: 2.9357e-04 - acc: 1.000 - ETA: 5s - loss: 2.9395e-04 - acc: 1.000 - ETA: 5s - loss: 2.9284e-04 - acc: 1.000 - ETA: 5s - loss: 2.9237e-04 - acc: 1.000 - ETA: 5s - loss: 2.9220e-04 - acc: 1.000 - ETA: 5s - loss: 2.9246e-04 - acc: 1.000 - ETA: 5s - loss: 2.9251e-04 - acc: 1.000 - ETA: 5s - loss: 2.9274e-04 - acc: 1.000 - ETA: 5s - loss: 2.9382e-04 - acc: 1.000 - ETA: 5s - loss: 2.9279e-04 - acc: 1.000 - ETA: 5s - loss: 2.9269e-04 - acc: 1.000 - ETA: 5s - loss: 2.9235e-04 - acc: 1.000 - ETA: 5s - loss: 2.9240e-04 - acc: 1.000 - ETA: 5s - loss: 2.9234e-04 - acc: 1.000 - ETA: 4s - loss: 2.9195e-04 - acc: 1.000 - ETA: 4s - loss: 2.9085e-04 - acc: 1.000 - ETA: 4s - loss: 2.8955e-04 - acc: 1.000 - ETA: 4s - loss: 2.8944e-04 - acc: 1.000 - ETA: 4s - loss: 2.8875e-04 - acc: 1.000 - ETA: 4s - loss: 2.8792e-04 - acc: 1.000 - ETA: 4s - loss: 2.8816e-04 - acc: 1.000 - ETA: 4s - loss: 2.8759e-04 - acc: 1.000 - ETA: 4s - loss: 2.8659e-04 - acc: 1.000 - ETA: 4s - loss: 2.8586e-04 - acc: 1.000 - ETA: 4s - loss: 2.8510e-04 - acc: 1.000 - ETA: 4s - loss: 2.8524e-04 - acc: 1.000 - ETA: 4s - loss: 2.8418e-04 - acc: 1.000 - ETA: 4s - loss: 2.8367e-04 - acc: 1.000 - ETA: 4s - loss: 2.8279e-04 - acc: 1.000 - ETA: 4s - loss: 2.8198e-04 - acc: 1.000 - ETA: 4s - loss: 2.8214e-04 - acc: 1.000 - ETA: 3s - loss: 2.8155e-04 - acc: 1.000 - ETA: 3s - loss: 2.8083e-04 - acc: 1.000 - ETA: 3s - loss: 2.8110e-04 - acc: 1.000 - ETA: 3s - loss: 2.8169e-04 - acc: 1.000 - ETA: 3s - loss: 2.8164e-04 - acc: 1.000 - ETA: 3s - loss: 2.8877e-04 - acc: 1.000 - ETA: 3s - loss: 2.8831e-04 - acc: 1.000 - ETA: 3s - loss: 2.9428e-04 - acc: 1.000 - ETA: 3s - loss: 2.9399e-04 - acc: 1.000 - ETA: 3s - loss: 2.9886e-04 - acc: 1.000 - ETA: 3s - loss: 2.9830e-04 - acc: 1.000 - ETA: 3s - loss: 3.0557e-04 - acc: 1.000 - ETA: 3s - loss: 3.0463e-04 - acc: 1.000 - ETA: 3s - loss: 3.0355e-04 - acc: 1.000 - ETA: 3s - loss: 3.0428e-04 - acc: 1.000 - ETA: 3s - loss: 3.0339e-04 - acc: 1.000 - ETA: 3s - loss: 3.0276e-04 - acc: 1.000 - ETA: 2s - loss: 3.0321e-04 - acc: 1.000 - ETA: 2s - loss: 3.0335e-04 - acc: 1.000 - ETA: 2s - loss: 3.0345e-04 - acc: 1.000 - ETA: 2s - loss: 3.0233e-04 - acc: 1.000 - ETA: 2s - loss: 3.0168e-04 - acc: 1.000 - ETA: 2s - loss: 3.0074e-04 - acc: 1.000 - ETA: 2s - loss: 3.0054e-04 - acc: 1.000 - ETA: 2s - loss: 3.0013e-04 - acc: 1.000 - ETA: 2s - loss: 2.9948e-04 - acc: 1.000 - ETA: 2s - loss: 2.9890e-04 - acc: 1.000 - ETA: 2s - loss: 2.9859e-04 - acc: 1.000 - ETA: 2s - loss: 2.9776e-04 - acc: 1.000 - ETA: 2s - loss: 2.9720e-04 - acc: 1.000 - ETA: 2s - loss: 2.9702e-04 - acc: 1.000 - ETA: 2s - loss: 2.9687e-04 - acc: 1.000 - ETA: 2s - loss: 2.9672e-04 - acc: 1.000 - ETA: 2s - loss: 2.9623e-04 - acc: 1.000 - ETA: 1s - loss: 2.9543e-04 - acc: 1.000 - ETA: 1s - loss: 2.9430e-04 - acc: 1.000 - ETA: 1s - loss: 2.9368e-04 - acc: 1.000 - ETA: 1s - loss: 2.9350e-04 - acc: 1.000 - ETA: 1s - loss: 2.9271e-04 - acc: 1.000 - ETA: 1s - loss: 2.9254e-04 - acc: 1.000 - ETA: 1s - loss: 2.9307e-04 - acc: 1.000 - ETA: 1s - loss: 2.9362e-04 - acc: 1.000 - ETA: 1s - loss: 2.9290e-04 - acc: 1.000 - ETA: 1s - loss: 2.9252e-04 - acc: 1.000 - ETA: 1s - loss: 2.9225e-04 - acc: 1.000 - ETA: 1s - loss: 2.9199e-04 - acc: 1.000 - ETA: 1s - loss: 2.9141e-04 - acc: 1.000 - ETA: 1s - loss: 2.9098e-04 - acc: 1.000 - ETA: 1s - loss: 2.9064e-04 - acc: 1.000 - ETA: 1s - loss: 2.8996e-04 - acc: 1.000 - ETA: 1s - loss: 2.8947e-04 - acc: 1.000 - ETA: 0s - loss: 2.8919e-04 - acc: 1.000 - ETA: 0s - loss: 2.8871e-04 - acc: 1.000 - ETA: 0s - loss: 2.8861e-04 - acc: 1.000 - ETA: 0s - loss: 2.8823e-04 - acc: 1.000 - ETA: 0s - loss: 2.8803e-04 - acc: 1.000 - ETA: 0s - loss: 2.8723e-04 - acc: 1.000 - ETA: 0s - loss: 2.8663e-04 - acc: 1.000 - ETA: 0s - loss: 2.8647e-04 - acc: 1.000 - ETA: 0s - loss: 2.8622e-04 - acc: 1.000 - ETA: 0s - loss: 2.8629e-04 - acc: 1.000 - ETA: 0s - loss: 2.8574e-04 - acc: 1.000 - ETA: 0s - loss: 2.8550e-04 - acc: 1.000 - ETA: 0s - loss: 2.8497e-04 - acc: 1.000 - ETA: 0s - loss: 2.8444e-04 - acc: 1.000 - ETA: 0s - loss: 2.8410e-04 - acc: 1.000 - ETA: 0s - loss: 2.8359e-04 - acc: 1.000 - ETA: 0s - loss: 2.8324e-04 - acc: 1.000 - ETA: 0s - loss: 2.8248e-04 - acc: 1.000 - 9s 379us/sample - loss: 2.8247e-04 - acc: 1.0000 - val_loss: 0.7596 - val_acc: 0.8285\n",
      "Epoch 10/10\n"
     ]
    },
    {
     "name": "stdout",
     "output_type": "stream",
     "text": [
      "25000/25000 [==============================] - ETA: 12s - loss: 1.4290e-04 - acc: 1.00 - ETA: 12s - loss: 1.7727e-04 - acc: 1.00 - ETA: 8s - loss: 1.5596e-04 - acc: 1.0000 - ETA: 7s - loss: 1.6204e-04 - acc: 1.000 - ETA: 7s - loss: 1.6645e-04 - acc: 1.000 - ETA: 7s - loss: 1.8179e-04 - acc: 1.000 - ETA: 7s - loss: 1.8134e-04 - acc: 1.000 - ETA: 7s - loss: 1.8198e-04 - acc: 1.000 - ETA: 6s - loss: 1.7732e-04 - acc: 1.000 - ETA: 6s - loss: 1.7716e-04 - acc: 1.000 - ETA: 6s - loss: 1.7803e-04 - acc: 1.000 - ETA: 6s - loss: 1.7784e-04 - acc: 1.000 - ETA: 6s - loss: 1.7897e-04 - acc: 1.000 - ETA: 6s - loss: 1.8026e-04 - acc: 1.000 - ETA: 6s - loss: 1.7842e-04 - acc: 1.000 - ETA: 6s - loss: 1.7745e-04 - acc: 1.000 - ETA: 6s - loss: 1.8054e-04 - acc: 1.000 - ETA: 6s - loss: 1.7700e-04 - acc: 1.000 - ETA: 6s - loss: 1.7731e-04 - acc: 1.000 - ETA: 6s - loss: 1.7531e-04 - acc: 1.000 - ETA: 6s - loss: 1.7606e-04 - acc: 1.000 - ETA: 6s - loss: 1.7530e-04 - acc: 1.000 - ETA: 6s - loss: 1.7489e-04 - acc: 1.000 - ETA: 6s - loss: 1.7465e-04 - acc: 1.000 - ETA: 6s - loss: 1.7376e-04 - acc: 1.000 - ETA: 6s - loss: 1.7504e-04 - acc: 1.000 - ETA: 5s - loss: 1.7471e-04 - acc: 1.000 - ETA: 5s - loss: 1.7494e-04 - acc: 1.000 - ETA: 5s - loss: 1.7417e-04 - acc: 1.000 - ETA: 5s - loss: 1.7335e-04 - acc: 1.000 - ETA: 5s - loss: 1.7323e-04 - acc: 1.000 - ETA: 5s - loss: 1.7186e-04 - acc: 1.000 - ETA: 5s - loss: 1.7257e-04 - acc: 1.000 - ETA: 5s - loss: 1.7316e-04 - acc: 1.000 - ETA: 5s - loss: 1.7247e-04 - acc: 1.000 - ETA: 5s - loss: 1.7195e-04 - acc: 1.000 - ETA: 5s - loss: 1.7114e-04 - acc: 1.000 - ETA: 5s - loss: 1.7142e-04 - acc: 1.000 - ETA: 5s - loss: 1.7226e-04 - acc: 1.000 - ETA: 5s - loss: 1.7296e-04 - acc: 1.000 - ETA: 5s - loss: 1.7237e-04 - acc: 1.000 - ETA: 5s - loss: 1.7293e-04 - acc: 1.000 - ETA: 5s - loss: 1.7193e-04 - acc: 1.000 - ETA: 5s - loss: 1.7125e-04 - acc: 1.000 - ETA: 4s - loss: 1.7146e-04 - acc: 1.000 - ETA: 4s - loss: 1.7126e-04 - acc: 1.000 - ETA: 4s - loss: 1.7177e-04 - acc: 1.000 - ETA: 4s - loss: 1.7147e-04 - acc: 1.000 - ETA: 4s - loss: 1.7093e-04 - acc: 1.000 - ETA: 4s - loss: 1.7240e-04 - acc: 1.000 - ETA: 4s - loss: 1.7185e-04 - acc: 1.000 - ETA: 4s - loss: 1.7218e-04 - acc: 1.000 - ETA: 4s - loss: 1.7238e-04 - acc: 1.000 - ETA: 4s - loss: 1.7228e-04 - acc: 1.000 - ETA: 4s - loss: 1.7195e-04 - acc: 1.000 - ETA: 4s - loss: 1.7223e-04 - acc: 1.000 - ETA: 4s - loss: 1.7235e-04 - acc: 1.000 - ETA: 4s - loss: 1.7222e-04 - acc: 1.000 - ETA: 4s - loss: 1.7184e-04 - acc: 1.000 - ETA: 4s - loss: 1.7462e-04 - acc: 1.000 - ETA: 4s - loss: 1.7402e-04 - acc: 1.000 - ETA: 4s - loss: 1.7391e-04 - acc: 1.000 - ETA: 4s - loss: 1.7404e-04 - acc: 1.000 - ETA: 4s - loss: 1.7408e-04 - acc: 1.000 - ETA: 4s - loss: 1.7539e-04 - acc: 1.000 - ETA: 4s - loss: 1.7489e-04 - acc: 1.000 - ETA: 4s - loss: 1.7492e-04 - acc: 1.000 - ETA: 3s - loss: 1.7446e-04 - acc: 1.000 - ETA: 3s - loss: 1.7603e-04 - acc: 1.000 - ETA: 3s - loss: 1.7613e-04 - acc: 1.000 - ETA: 3s - loss: 1.7618e-04 - acc: 1.000 - ETA: 3s - loss: 1.7639e-04 - acc: 1.000 - ETA: 3s - loss: 1.7709e-04 - acc: 1.000 - ETA: 3s - loss: 1.7711e-04 - acc: 1.000 - ETA: 3s - loss: 1.7662e-04 - acc: 1.000 - ETA: 3s - loss: 1.7652e-04 - acc: 1.000 - ETA: 3s - loss: 1.7728e-04 - acc: 1.000 - ETA: 3s - loss: 1.7710e-04 - acc: 1.000 - ETA: 3s - loss: 1.7730e-04 - acc: 1.000 - ETA: 3s - loss: 1.7704e-04 - acc: 1.000 - ETA: 3s - loss: 1.7644e-04 - acc: 1.000 - ETA: 3s - loss: 1.7613e-04 - acc: 1.000 - ETA: 3s - loss: 1.7610e-04 - acc: 1.000 - ETA: 3s - loss: 1.7603e-04 - acc: 1.000 - ETA: 3s - loss: 1.7599e-04 - acc: 1.000 - ETA: 3s - loss: 1.7585e-04 - acc: 1.000 - ETA: 3s - loss: 1.7571e-04 - acc: 1.000 - ETA: 3s - loss: 1.7493e-04 - acc: 1.000 - ETA: 3s - loss: 1.7471e-04 - acc: 1.000 - ETA: 3s - loss: 1.7424e-04 - acc: 1.000 - ETA: 3s - loss: 1.7396e-04 - acc: 1.000 - ETA: 3s - loss: 1.7374e-04 - acc: 1.000 - ETA: 3s - loss: 1.7388e-04 - acc: 1.000 - ETA: 3s - loss: 1.7352e-04 - acc: 1.000 - ETA: 3s - loss: 1.7341e-04 - acc: 1.000 - ETA: 2s - loss: 1.7334e-04 - acc: 1.000 - ETA: 2s - loss: 1.7308e-04 - acc: 1.000 - ETA: 2s - loss: 1.7315e-04 - acc: 1.000 - ETA: 2s - loss: 1.7245e-04 - acc: 1.000 - ETA: 2s - loss: 1.7238e-04 - acc: 1.000 - ETA: 2s - loss: 1.7217e-04 - acc: 1.000 - ETA: 2s - loss: 1.7237e-04 - acc: 1.000 - ETA: 2s - loss: 1.7159e-04 - acc: 1.000 - ETA: 2s - loss: 1.7130e-04 - acc: 1.000 - ETA: 2s - loss: 1.7117e-04 - acc: 1.000 - ETA: 2s - loss: 1.7113e-04 - acc: 1.000 - ETA: 2s - loss: 1.7109e-04 - acc: 1.000 - ETA: 2s - loss: 1.7058e-04 - acc: 1.000 - ETA: 2s - loss: 1.7053e-04 - acc: 1.000 - ETA: 2s - loss: 1.7035e-04 - acc: 1.000 - ETA: 2s - loss: 1.6991e-04 - acc: 1.000 - ETA: 2s - loss: 1.6968e-04 - acc: 1.000 - ETA: 2s - loss: 1.6937e-04 - acc: 1.000 - ETA: 1s - loss: 1.6915e-04 - acc: 1.000 - ETA: 1s - loss: 1.6916e-04 - acc: 1.000 - ETA: 1s - loss: 1.6884e-04 - acc: 1.000 - ETA: 1s - loss: 1.6815e-04 - acc: 1.000 - ETA: 1s - loss: 1.6805e-04 - acc: 1.000 - ETA: 1s - loss: 1.6756e-04 - acc: 1.000 - ETA: 1s - loss: 1.6701e-04 - acc: 1.000 - ETA: 1s - loss: 1.6668e-04 - acc: 1.000 - ETA: 1s - loss: 1.6639e-04 - acc: 1.000 - ETA: 1s - loss: 1.6611e-04 - acc: 1.000 - ETA: 1s - loss: 1.6631e-04 - acc: 1.000 - ETA: 1s - loss: 1.6633e-04 - acc: 1.000 - ETA: 1s - loss: 1.6631e-04 - acc: 1.000 - ETA: 1s - loss: 1.6590e-04 - acc: 1.000 - ETA: 1s - loss: 1.6590e-04 - acc: 1.000 - ETA: 1s - loss: 1.6592e-04 - acc: 1.000 - ETA: 1s - loss: 1.6569e-04 - acc: 1.000 - ETA: 1s - loss: 1.6554e-04 - acc: 1.000 - ETA: 0s - loss: 1.6519e-04 - acc: 1.000 - ETA: 0s - loss: 1.6545e-04 - acc: 1.000 - ETA: 0s - loss: 1.6519e-04 - acc: 1.000 - ETA: 0s - loss: 1.6496e-04 - acc: 1.000 - ETA: 0s - loss: 1.6482e-04 - acc: 1.000 - ETA: 0s - loss: 1.6454e-04 - acc: 1.000 - ETA: 0s - loss: 1.6434e-04 - acc: 1.000 - ETA: 0s - loss: 1.6401e-04 - acc: 1.000 - ETA: 0s - loss: 1.6393e-04 - acc: 1.000 - ETA: 0s - loss: 1.6395e-04 - acc: 1.000 - ETA: 0s - loss: 1.6352e-04 - acc: 1.000 - ETA: 0s - loss: 1.6326e-04 - acc: 1.000 - ETA: 0s - loss: 1.6299e-04 - acc: 1.000 - ETA: 0s - loss: 1.6302e-04 - acc: 1.000 - ETA: 0s - loss: 1.6282e-04 - acc: 1.000 - ETA: 0s - loss: 1.6263e-04 - acc: 1.000 - ETA: 0s - loss: 1.6244e-04 - acc: 1.000 - ETA: 0s - loss: 1.6221e-04 - acc: 1.000 - 10s 386us/sample - loss: 1.6220e-04 - acc: 1.0000 - val_loss: 0.7957 - val_acc: 0.8284\n"
     ]
    }
   ],
   "source": [
    "history = model1.fit(padded,train_label_final,epochs=10,validation_data=(test_padded,test_label_final))"
   ]
  },
  {
   "cell_type": "code",
   "execution_count": 23,
   "metadata": {},
   "outputs": [],
   "source": [
    "weights = model1.layers[0].get_weights()[0]"
   ]
  },
  {
   "cell_type": "code",
   "execution_count": 24,
   "metadata": {},
   "outputs": [
    {
     "data": {
      "text/plain": [
       "(10000, 16)"
      ]
     },
     "execution_count": 24,
     "metadata": {},
     "output_type": "execute_result"
    }
   ],
   "source": [
    "weights.shape"
   ]
  },
  {
   "cell_type": "code",
   "execution_count": 25,
   "metadata": {},
   "outputs": [],
   "source": [
    "reverse_word_index = dict([(value,key) for (key,value) in word_index.items()])"
   ]
  },
  {
   "cell_type": "code",
   "execution_count": 26,
   "metadata": {},
   "outputs": [],
   "source": [
    "import io"
   ]
  },
  {
   "cell_type": "code",
   "execution_count": 27,
   "metadata": {},
   "outputs": [],
   "source": [
    "out_v = io.open(\"vecs.tsv\",\"w\",encoding='utf-8')\n",
    "out_m = io.open(\"meta.tsv\",\"w\",encoding='utf-8')"
   ]
  },
  {
   "cell_type": "code",
   "execution_count": 28,
   "metadata": {},
   "outputs": [],
   "source": [
    "for word_num in range(1,vocab_size):\n",
    "    word = reverse_word_index[word_num]\n",
    "    embedding = weights[word_num]\n",
    "    out_m.write(word+'\\n')\n",
    "    out_v.write('\\t'.join([str(x) for x in embedding]) + '\\n')\n",
    "out_m.close()\n",
    "out_v.close()"
   ]
  },
  {
   "cell_type": "code",
   "execution_count": 29,
   "metadata": {},
   "outputs": [
    {
     "data": {
      "text/plain": [
       "array([ 0.02825627,  0.00834996, -0.04371049,  0.02685196,  0.03628504,\n",
       "        0.00297034,  0.00527533, -0.01787513, -0.00093686, -0.03207723,\n",
       "       -0.01693283, -0.01183231, -0.0505828 ,  0.07710297, -0.01004159,\n",
       "       -0.04056597], dtype=float32)"
      ]
     },
     "execution_count": 29,
     "metadata": {},
     "output_type": "execute_result"
    }
   ],
   "source": [
    "weights[0]"
   ]
  },
  {
   "cell_type": "code",
   "execution_count": 32,
   "metadata": {},
   "outputs": [
    {
     "data": {
      "text/plain": [
       "'of'"
      ]
     },
     "execution_count": 32,
     "metadata": {},
     "output_type": "execute_result"
    }
   ],
   "source": [
    "reverse_word_index[5]"
   ]
  },
  {
   "cell_type": "code",
   "execution_count": 33,
   "metadata": {},
   "outputs": [
    {
     "data": {
      "text/plain": [
       "84459"
      ]
     },
     "execution_count": 33,
     "metadata": {},
     "output_type": "execute_result"
    }
   ],
   "source": [
    "len(word_index)"
   ]
  },
  {
   "cell_type": "code",
   "execution_count": 53,
   "metadata": {},
   "outputs": [],
   "source": [
    "sen = [\"i am ankit\",\"hi there\"]\n",
    "tk = Tokenizer(3)"
   ]
  },
  {
   "cell_type": "code",
   "execution_count": 54,
   "metadata": {},
   "outputs": [
    {
     "name": "stdout",
     "output_type": "stream",
     "text": [
      "{'i': 1, 'am': 2, 'ankit': 3, 'hi': 4, 'there': 5}\n"
     ]
    }
   ],
   "source": [
    "tk.fit_on_texts(sen)\n",
    "print(tk.word_index)"
   ]
  },
  {
   "cell_type": "code",
   "execution_count": 55,
   "metadata": {},
   "outputs": [
    {
     "data": {
      "text/plain": [
       "[[1, 2], []]"
      ]
     },
     "execution_count": 55,
     "metadata": {},
     "output_type": "execute_result"
    }
   ],
   "source": [
    "tk.texts_to_sequences(sen)"
   ]
  },
  {
   "cell_type": "code",
   "execution_count": null,
   "metadata": {},
   "outputs": [],
   "source": []
  }
 ],
 "metadata": {
  "kernelspec": {
   "display_name": "Python 3",
   "language": "python",
   "name": "python3"
  },
  "language_info": {
   "codemirror_mode": {
    "name": "ipython",
    "version": 3
   },
   "file_extension": ".py",
   "mimetype": "text/x-python",
   "name": "python",
   "nbconvert_exporter": "python",
   "pygments_lexer": "ipython3",
   "version": "3.7.3"
  }
 },
 "nbformat": 4,
 "nbformat_minor": 2
}
