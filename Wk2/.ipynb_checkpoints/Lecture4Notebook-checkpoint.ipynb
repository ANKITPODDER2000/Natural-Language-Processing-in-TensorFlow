{
 "cells": [
  {
   "cell_type": "code",
   "execution_count": 12,
   "metadata": {},
   "outputs": [],
   "source": [
    "#!pip install -q  tensorflow-datasets"
   ]
  },
  {
   "cell_type": "code",
   "execution_count": 10,
   "metadata": {},
   "outputs": [],
   "source": [
    "import tensorflow as tf"
   ]
  },
  {
   "cell_type": "code",
   "execution_count": 11,
   "metadata": {},
   "outputs": [],
   "source": [
    "import tensorflow_datasets as tfds"
   ]
  },
  {
   "cell_type": "code",
   "execution_count": 15,
   "metadata": {},
   "outputs": [],
   "source": [
    "imdb , info = tfds.load(name=\"imdb_reviews\",with_info=True,as_supervised=True)"
   ]
  },
  {
   "cell_type": "code",
   "execution_count": 16,
   "metadata": {},
   "outputs": [],
   "source": [
    "import numpy as np"
   ]
  },
  {
   "cell_type": "code",
   "execution_count": 17,
   "metadata": {},
   "outputs": [],
   "source": [
    "train_data , test_data = imdb['train'],imdb['test']"
   ]
  },
  {
   "cell_type": "code",
   "execution_count": 81,
   "metadata": {},
   "outputs": [],
   "source": [
    "train_sentence = []\n",
    "train_label    = []\n",
    "test_sentence  = []\n",
    "test_label     = []\n",
    "\n",
    "for s,l in train_data:\n",
    "    train_sentence.append(s.numpy())\n",
    "    train_label.append(l.numpy())\n",
    "    \n",
    "for s,l in test_data:\n",
    "    test_sentence.append(s.numpy())\n",
    "    test_label.append(l.numpy())"
   ]
  },
  {
   "cell_type": "code",
   "execution_count": 72,
   "metadata": {},
   "outputs": [
    {
     "data": {
      "text/plain": [
       "'This is a big step down after the surprisingly enjoyable original. This sequel isn\\\\\\'t nearly as fun as part one, and it instead spends too much time on plot development. Tim Thomerson is still the best thing about this series, but his wisecracking is toned down in this entry. The performances are all adequate, but this time the script lets us down. The action is merely routine and the plot is only mildly interesting, so I need lots of silly laughs in order to stay entertained during a \"Trancers\" movie. Unfortunately, the laughs are few and far between, and so, this film is watchable at best.'"
      ]
     },
     "execution_count": 72,
     "metadata": {},
     "output_type": "execute_result"
    }
   ],
   "source": [
    "str(train_sentence[0])[2:-1]"
   ]
  },
  {
   "cell_type": "code",
   "execution_count": 31,
   "metadata": {},
   "outputs": [
    {
     "data": {
      "text/plain": [
       "0"
      ]
     },
     "execution_count": 31,
     "metadata": {},
     "output_type": "execute_result"
    }
   ],
   "source": [
    "train_label[0]"
   ]
  },
  {
   "cell_type": "code",
   "execution_count": 32,
   "metadata": {},
   "outputs": [],
   "source": [
    "train_label_final = np.array(train_label)\n",
    "test_label_final  = np.array(test_label)"
   ]
  },
  {
   "cell_type": "code",
   "execution_count": 83,
   "metadata": {},
   "outputs": [],
   "source": [
    "'''\n",
    "for i in range(len(test_sentence)):\n",
    "    test_sentence[i] = str(test_sentence[i])[2:-1]\n",
    "'''"
   ]
  },
  {
   "cell_type": "code",
   "execution_count": 36,
   "metadata": {},
   "outputs": [],
   "source": [
    "vocab_size = 10000\n",
    "emdedding_dim = 16\n",
    "max_len = 120\n",
    "trunc_type = 'post'\n",
    "oov_tok = '<OOV>'"
   ]
  },
  {
   "cell_type": "code",
   "execution_count": 37,
   "metadata": {},
   "outputs": [],
   "source": [
    "from tensorflow.keras.preprocessing.text import Tokenizer\n",
    "from tensorflow.keras.preprocessing.sequence import pad_sequences"
   ]
  },
  {
   "cell_type": "code",
   "execution_count": 78,
   "metadata": {},
   "outputs": [],
   "source": [
    "tokenizer = Tokenizer(num_words=vocab_size,oov_token=oov_tok)\n",
    "tokenizer.fit_on_texts(train_sentence)\n",
    "word_index = tokenizer.word_index\n",
    "sequence = tokenizer.texts_to_sequences(train_sentence)\n",
    "padded = pad_sequences(sequence,maxlen=max_len,truncating=trunc_type)"
   ]
  },
  {
   "cell_type": "code",
   "execution_count": 82,
   "metadata": {},
   "outputs": [],
   "source": [
    "'''\n",
    "for i in range(len(train_sentence)):\n",
    "    train_sentence[i] = str(train_sentence[i])[2:-1]\n",
    "'''"
   ]
  },
  {
   "cell_type": "code",
   "execution_count": 93,
   "metadata": {},
   "outputs": [
    {
     "data": {
      "text/plain": [
       "107"
      ]
     },
     "execution_count": 93,
     "metadata": {},
     "output_type": "execute_result"
    }
   ],
   "source": [
    "len(sequence[0])"
   ]
  },
  {
   "cell_type": "code",
   "execution_count": 94,
   "metadata": {},
   "outputs": [],
   "source": [
    "test_sequence = tokenizer.texts_to_sequences(test_sentence)\n",
    "test_padded   = pad_sequences(test_sequence,maxlen=max_len)"
   ]
  },
  {
   "cell_type": "code",
   "execution_count": null,
   "metadata": {},
   "outputs": [],
   "source": []
  },
  {
   "cell_type": "code",
   "execution_count": 100,
   "metadata": {},
   "outputs": [],
   "source": [
    "model1 = tf.keras.models.Sequential([\n",
    "    tf.keras.layers.Embedding(vocab_size,emdedding_dim,input_length=max_len),\n",
    "    tf.keras.layers.Flatten(),\n",
    "    tf.keras.layers.Dense(6,activation=\"relu\"),\n",
    "    tf.keras.layers.Dense(1,activation=\"sigmoid\")\n",
    "])"
   ]
  },
  {
   "cell_type": "code",
   "execution_count": 101,
   "metadata": {},
   "outputs": [],
   "source": [
    "model1.compile(optimizer='adam',loss=tf.keras.losses.binary_crossentropy,metrics=['acc'])"
   ]
  },
  {
   "cell_type": "code",
   "execution_count": 102,
   "metadata": {},
   "outputs": [
    {
     "name": "stdout",
     "output_type": "stream",
     "text": [
      "Model: \"sequential_1\"\n",
      "_________________________________________________________________\n",
      "Layer (type)                 Output Shape              Param #   \n",
      "=================================================================\n",
      "embedding_1 (Embedding)      (None, 120, 16)           160000    \n",
      "_________________________________________________________________\n",
      "flatten_1 (Flatten)          (None, 1920)              0         \n",
      "_________________________________________________________________\n",
      "dense_2 (Dense)              (None, 6)                 11526     \n",
      "_________________________________________________________________\n",
      "dense_3 (Dense)              (None, 1)                 7         \n",
      "=================================================================\n",
      "Total params: 171,533\n",
      "Trainable params: 171,533\n",
      "Non-trainable params: 0\n",
      "_________________________________________________________________\n"
     ]
    }
   ],
   "source": [
    "model1.summary()"
   ]
  },
  {
   "cell_type": "code",
   "execution_count": 103,
   "metadata": {},
   "outputs": [
    {
     "name": "stdout",
     "output_type": "stream",
     "text": [
      "Train on 25000 samples, validate on 25000 samples\n",
      "Epoch 1/10\n",
      "25000/25000 [==============================] - ETA: 20:21 - loss: 0.6926 - acc: 0.53 - ETA: 5:14 - loss: 0.6907 - acc: 0.5781 - ETA: 2:41 - loss: 0.6919 - acc: 0.531 - ETA: 1:42 - loss: 0.6931 - acc: 0.507 - ETA: 1:20 - loss: 0.6930 - acc: 0.501 - ETA: 1:03 - loss: 0.6933 - acc: 0.491 - ETA: 53s - loss: 0.6934 - acc: 0.488 - ETA: 47s - loss: 0.6932 - acc: 0.49 - ETA: 41s - loss: 0.6932 - acc: 0.49 - ETA: 38s - loss: 0.6932 - acc: 0.49 - ETA: 35s - loss: 0.6937 - acc: 0.48 - ETA: 33s - loss: 0.6938 - acc: 0.47 - ETA: 30s - loss: 0.6939 - acc: 0.47 - ETA: 29s - loss: 0.6938 - acc: 0.47 - ETA: 28s - loss: 0.6940 - acc: 0.47 - ETA: 26s - loss: 0.6939 - acc: 0.47 - ETA: 25s - loss: 0.6939 - acc: 0.47 - ETA: 24s - loss: 0.6938 - acc: 0.47 - ETA: 23s - loss: 0.6936 - acc: 0.48 - ETA: 22s - loss: 0.6935 - acc: 0.48 - ETA: 21s - loss: 0.6935 - acc: 0.48 - ETA: 20s - loss: 0.6934 - acc: 0.49 - ETA: 20s - loss: 0.6932 - acc: 0.49 - ETA: 19s - loss: 0.6933 - acc: 0.49 - ETA: 19s - loss: 0.6932 - acc: 0.49 - ETA: 18s - loss: 0.6932 - acc: 0.49 - ETA: 18s - loss: 0.6930 - acc: 0.49 - ETA: 17s - loss: 0.6928 - acc: 0.50 - ETA: 17s - loss: 0.6927 - acc: 0.50 - ETA: 17s - loss: 0.6925 - acc: 0.50 - ETA: 16s - loss: 0.6924 - acc: 0.50 - ETA: 16s - loss: 0.6925 - acc: 0.50 - ETA: 15s - loss: 0.6925 - acc: 0.50 - ETA: 15s - loss: 0.6925 - acc: 0.50 - ETA: 15s - loss: 0.6925 - acc: 0.50 - ETA: 15s - loss: 0.6925 - acc: 0.50 - ETA: 15s - loss: 0.6925 - acc: 0.50 - ETA: 14s - loss: 0.6923 - acc: 0.51 - ETA: 14s - loss: 0.6923 - acc: 0.51 - ETA: 14s - loss: 0.6921 - acc: 0.51 - ETA: 13s - loss: 0.6917 - acc: 0.51 - ETA: 13s - loss: 0.6915 - acc: 0.52 - ETA: 13s - loss: 0.6913 - acc: 0.52 - ETA: 13s - loss: 0.6909 - acc: 0.52 - ETA: 12s - loss: 0.6908 - acc: 0.52 - ETA: 12s - loss: 0.6908 - acc: 0.52 - ETA: 12s - loss: 0.6901 - acc: 0.53 - ETA: 11s - loss: 0.6896 - acc: 0.53 - ETA: 11s - loss: 0.6894 - acc: 0.53 - ETA: 11s - loss: 0.6887 - acc: 0.53 - ETA: 11s - loss: 0.6881 - acc: 0.54 - ETA: 11s - loss: 0.6872 - acc: 0.54 - ETA: 11s - loss: 0.6870 - acc: 0.54 - ETA: 11s - loss: 0.6865 - acc: 0.54 - ETA: 11s - loss: 0.6863 - acc: 0.54 - ETA: 11s - loss: 0.6857 - acc: 0.55 - ETA: 10s - loss: 0.6848 - acc: 0.55 - ETA: 10s - loss: 0.6838 - acc: 0.55 - ETA: 10s - loss: 0.6835 - acc: 0.55 - ETA: 10s - loss: 0.6824 - acc: 0.55 - ETA: 10s - loss: 0.6807 - acc: 0.56 - ETA: 10s - loss: 0.6792 - acc: 0.56 - ETA: 10s - loss: 0.6775 - acc: 0.57 - ETA: 9s - loss: 0.6765 - acc: 0.5730 - ETA: 9s - loss: 0.6750 - acc: 0.575 - ETA: 9s - loss: 0.6738 - acc: 0.577 - ETA: 9s - loss: 0.6726 - acc: 0.578 - ETA: 9s - loss: 0.6714 - acc: 0.580 - ETA: 9s - loss: 0.6698 - acc: 0.582 - ETA: 9s - loss: 0.6685 - acc: 0.584 - ETA: 9s - loss: 0.6666 - acc: 0.587 - ETA: 8s - loss: 0.6648 - acc: 0.590 - ETA: 8s - loss: 0.6626 - acc: 0.592 - ETA: 8s - loss: 0.6601 - acc: 0.595 - ETA: 8s - loss: 0.6581 - acc: 0.597 - ETA: 8s - loss: 0.6564 - acc: 0.599 - ETA: 8s - loss: 0.6545 - acc: 0.602 - ETA: 8s - loss: 0.6522 - acc: 0.605 - ETA: 8s - loss: 0.6491 - acc: 0.608 - ETA: 7s - loss: 0.6468 - acc: 0.611 - ETA: 7s - loss: 0.6441 - acc: 0.613 - ETA: 7s - loss: 0.6422 - acc: 0.615 - ETA: 7s - loss: 0.6402 - acc: 0.617 - ETA: 7s - loss: 0.6375 - acc: 0.620 - ETA: 7s - loss: 0.6359 - acc: 0.621 - ETA: 7s - loss: 0.6333 - acc: 0.624 - ETA: 7s - loss: 0.6308 - acc: 0.626 - ETA: 7s - loss: 0.6284 - acc: 0.629 - ETA: 7s - loss: 0.6272 - acc: 0.630 - ETA: 7s - loss: 0.6253 - acc: 0.631 - ETA: 6s - loss: 0.6230 - acc: 0.633 - ETA: 6s - loss: 0.6208 - acc: 0.635 - ETA: 6s - loss: 0.6185 - acc: 0.637 - ETA: 6s - loss: 0.6163 - acc: 0.639 - ETA: 6s - loss: 0.6139 - acc: 0.641 - ETA: 6s - loss: 0.6121 - acc: 0.643 - ETA: 6s - loss: 0.6095 - acc: 0.645 - ETA: 6s - loss: 0.6072 - acc: 0.647 - ETA: 6s - loss: 0.6058 - acc: 0.648 - ETA: 6s - loss: 0.6048 - acc: 0.649 - ETA: 6s - loss: 0.6039 - acc: 0.650 - ETA: 5s - loss: 0.6025 - acc: 0.651 - ETA: 5s - loss: 0.6006 - acc: 0.653 - ETA: 5s - loss: 0.5987 - acc: 0.655 - ETA: 5s - loss: 0.5969 - acc: 0.656 - ETA: 5s - loss: 0.5940 - acc: 0.659 - ETA: 5s - loss: 0.5916 - acc: 0.661 - ETA: 5s - loss: 0.5887 - acc: 0.663 - ETA: 5s - loss: 0.5856 - acc: 0.665 - ETA: 5s - loss: 0.5840 - acc: 0.666 - ETA: 5s - loss: 0.5836 - acc: 0.666 - ETA: 5s - loss: 0.5828 - acc: 0.667 - ETA: 4s - loss: 0.5809 - acc: 0.668 - ETA: 4s - loss: 0.5794 - acc: 0.669 - ETA: 4s - loss: 0.5776 - acc: 0.671 - ETA: 4s - loss: 0.5755 - acc: 0.673 - ETA: 4s - loss: 0.5743 - acc: 0.674 - ETA: 4s - loss: 0.5729 - acc: 0.675 - ETA: 4s - loss: 0.5716 - acc: 0.676 - ETA: 4s - loss: 0.5698 - acc: 0.677 - ETA: 4s - loss: 0.5676 - acc: 0.679 - ETA: 4s - loss: 0.5656 - acc: 0.680 - ETA: 4s - loss: 0.5637 - acc: 0.682 - ETA: 4s - loss: 0.5620 - acc: 0.683 - ETA: 3s - loss: 0.5607 - acc: 0.684 - ETA: 3s - loss: 0.5592 - acc: 0.686 - ETA: 3s - loss: 0.5572 - acc: 0.687 - ETA: 3s - loss: 0.5551 - acc: 0.689 - ETA: 3s - loss: 0.5538 - acc: 0.690 - ETA: 3s - loss: 0.5531 - acc: 0.691 - ETA: 3s - loss: 0.5517 - acc: 0.692 - ETA: 3s - loss: 0.5510 - acc: 0.693 - ETA: 3s - loss: 0.5500 - acc: 0.695 - ETA: 3s - loss: 0.5483 - acc: 0.696 - ETA: 3s - loss: 0.5465 - acc: 0.697 - ETA: 3s - loss: 0.5455 - acc: 0.699 - ETA: 3s - loss: 0.5451 - acc: 0.699 - ETA: 2s - loss: 0.5443 - acc: 0.700 - ETA: 2s - loss: 0.5433 - acc: 0.701 - ETA: 2s - loss: 0.5417 - acc: 0.702 - ETA: 2s - loss: 0.5402 - acc: 0.703 - ETA: 2s - loss: 0.5391 - acc: 0.704 - ETA: 2s - loss: 0.5380 - acc: 0.705 - ETA: 2s - loss: 0.5364 - acc: 0.706 - ETA: 2s - loss: 0.5354 - acc: 0.707 - ETA: 2s - loss: 0.5346 - acc: 0.707 - ETA: 2s - loss: 0.5331 - acc: 0.709 - ETA: 2s - loss: 0.5322 - acc: 0.709 - ETA: 2s - loss: 0.5310 - acc: 0.710 - ETA: 2s - loss: 0.5305 - acc: 0.711 - ETA: 2s - loss: 0.5301 - acc: 0.711 - ETA: 1s - loss: 0.5291 - acc: 0.712 - ETA: 1s - loss: 0.5285 - acc: 0.713 - ETA: 1s - loss: 0.5268 - acc: 0.714 - ETA: 1s - loss: 0.5259 - acc: 0.715 - ETA: 1s - loss: 0.5253 - acc: 0.716 - ETA: 1s - loss: 0.5241 - acc: 0.717 - ETA: 1s - loss: 0.5225 - acc: 0.718 - ETA: 1s - loss: 0.5213 - acc: 0.719 - ETA: 1s - loss: 0.5209 - acc: 0.719 - ETA: 1s - loss: 0.5204 - acc: 0.719 - ETA: 1s - loss: 0.5194 - acc: 0.720 - ETA: 1s - loss: 0.5185 - acc: 0.721 - ETA: 1s - loss: 0.5174 - acc: 0.722 - ETA: 1s - loss: 0.5160 - acc: 0.723 - ETA: 0s - loss: 0.5153 - acc: 0.723 - ETA: 0s - loss: 0.5138 - acc: 0.724 - ETA: 0s - loss: 0.5131 - acc: 0.725 - ETA: 0s - loss: 0.5123 - acc: 0.726 - ETA: 0s - loss: 0.5107 - acc: 0.727 - ETA: 0s - loss: 0.5100 - acc: 0.728 - ETA: 0s - loss: 0.5090 - acc: 0.728 - ETA: 0s - loss: 0.5084 - acc: 0.729 - ETA: 0s - loss: 0.5077 - acc: 0.730 - ETA: 0s - loss: 0.5067 - acc: 0.731 - ETA: 0s - loss: 0.5058 - acc: 0.731 - ETA: 0s - loss: 0.5050 - acc: 0.732 - ETA: 0s - loss: 0.5038 - acc: 0.732 - ETA: 0s - loss: 0.5029 - acc: 0.733 - 13s 529us/sample - loss: 0.5029 - acc: 0.7336 - val_loss: 0.3436 - val_acc: 0.8493\n",
      "Epoch 2/10\n"
     ]
    },
    {
     "name": "stdout",
     "output_type": "stream",
     "text": [
      "25000/25000 [==============================] - ETA: 12s - loss: 0.2450 - acc: 0.90 - ETA: 17s - loss: 0.1955 - acc: 0.94 - ETA: 11s - loss: 0.2341 - acc: 0.92 - ETA: 12s - loss: 0.2524 - acc: 0.91 - ETA: 10s - loss: 0.2550 - acc: 0.90 - ETA: 10s - loss: 0.2506 - acc: 0.91 - ETA: 10s - loss: 0.2493 - acc: 0.91 - ETA: 9s - loss: 0.2471 - acc: 0.9131 - ETA: 9s - loss: 0.2448 - acc: 0.914 - ETA: 8s - loss: 0.2442 - acc: 0.915 - ETA: 8s - loss: 0.2375 - acc: 0.918 - ETA: 8s - loss: 0.2417 - acc: 0.915 - ETA: 8s - loss: 0.2429 - acc: 0.913 - ETA: 8s - loss: 0.2468 - acc: 0.910 - ETA: 7s - loss: 0.2499 - acc: 0.909 - ETA: 7s - loss: 0.2503 - acc: 0.909 - ETA: 7s - loss: 0.2475 - acc: 0.909 - ETA: 7s - loss: 0.2479 - acc: 0.908 - ETA: 7s - loss: 0.2473 - acc: 0.908 - ETA: 7s - loss: 0.2493 - acc: 0.907 - ETA: 7s - loss: 0.2478 - acc: 0.908 - ETA: 7s - loss: 0.2482 - acc: 0.908 - ETA: 7s - loss: 0.2495 - acc: 0.907 - ETA: 7s - loss: 0.2479 - acc: 0.907 - ETA: 7s - loss: 0.2485 - acc: 0.907 - ETA: 7s - loss: 0.2464 - acc: 0.907 - ETA: 7s - loss: 0.2466 - acc: 0.906 - ETA: 7s - loss: 0.2470 - acc: 0.905 - ETA: 7s - loss: 0.2469 - acc: 0.905 - ETA: 7s - loss: 0.2458 - acc: 0.905 - ETA: 7s - loss: 0.2451 - acc: 0.905 - ETA: 7s - loss: 0.2430 - acc: 0.906 - ETA: 7s - loss: 0.2431 - acc: 0.907 - ETA: 7s - loss: 0.2423 - acc: 0.907 - ETA: 7s - loss: 0.2414 - acc: 0.908 - ETA: 6s - loss: 0.2424 - acc: 0.908 - ETA: 6s - loss: 0.2429 - acc: 0.907 - ETA: 6s - loss: 0.2445 - acc: 0.906 - ETA: 6s - loss: 0.2446 - acc: 0.906 - ETA: 6s - loss: 0.2457 - acc: 0.906 - ETA: 6s - loss: 0.2454 - acc: 0.906 - ETA: 6s - loss: 0.2454 - acc: 0.906 - ETA: 6s - loss: 0.2453 - acc: 0.905 - ETA: 6s - loss: 0.2447 - acc: 0.906 - ETA: 6s - loss: 0.2443 - acc: 0.906 - ETA: 6s - loss: 0.2451 - acc: 0.906 - ETA: 6s - loss: 0.2447 - acc: 0.906 - ETA: 6s - loss: 0.2452 - acc: 0.906 - ETA: 6s - loss: 0.2447 - acc: 0.906 - ETA: 6s - loss: 0.2453 - acc: 0.906 - ETA: 6s - loss: 0.2444 - acc: 0.906 - ETA: 6s - loss: 0.2452 - acc: 0.906 - ETA: 6s - loss: 0.2444 - acc: 0.906 - ETA: 5s - loss: 0.2449 - acc: 0.906 - ETA: 5s - loss: 0.2452 - acc: 0.906 - ETA: 5s - loss: 0.2437 - acc: 0.907 - ETA: 5s - loss: 0.2433 - acc: 0.907 - ETA: 5s - loss: 0.2428 - acc: 0.907 - ETA: 5s - loss: 0.2422 - acc: 0.907 - ETA: 5s - loss: 0.2425 - acc: 0.907 - ETA: 5s - loss: 0.2436 - acc: 0.906 - ETA: 5s - loss: 0.2437 - acc: 0.906 - ETA: 5s - loss: 0.2426 - acc: 0.907 - ETA: 5s - loss: 0.2443 - acc: 0.906 - ETA: 5s - loss: 0.2442 - acc: 0.906 - ETA: 5s - loss: 0.2446 - acc: 0.905 - ETA: 5s - loss: 0.2457 - acc: 0.905 - ETA: 5s - loss: 0.2455 - acc: 0.905 - ETA: 5s - loss: 0.2459 - acc: 0.905 - ETA: 4s - loss: 0.2456 - acc: 0.905 - ETA: 4s - loss: 0.2457 - acc: 0.905 - ETA: 4s - loss: 0.2461 - acc: 0.905 - ETA: 4s - loss: 0.2453 - acc: 0.905 - ETA: 4s - loss: 0.2451 - acc: 0.906 - ETA: 4s - loss: 0.2460 - acc: 0.905 - ETA: 4s - loss: 0.2460 - acc: 0.905 - ETA: 4s - loss: 0.2458 - acc: 0.905 - ETA: 4s - loss: 0.2455 - acc: 0.905 - ETA: 4s - loss: 0.2457 - acc: 0.905 - ETA: 4s - loss: 0.2458 - acc: 0.905 - ETA: 4s - loss: 0.2456 - acc: 0.905 - ETA: 4s - loss: 0.2462 - acc: 0.905 - ETA: 4s - loss: 0.2463 - acc: 0.905 - ETA: 4s - loss: 0.2465 - acc: 0.905 - ETA: 4s - loss: 0.2468 - acc: 0.905 - ETA: 4s - loss: 0.2463 - acc: 0.906 - ETA: 3s - loss: 0.2460 - acc: 0.906 - ETA: 3s - loss: 0.2458 - acc: 0.906 - ETA: 3s - loss: 0.2455 - acc: 0.906 - ETA: 3s - loss: 0.2451 - acc: 0.906 - ETA: 3s - loss: 0.2457 - acc: 0.906 - ETA: 3s - loss: 0.2456 - acc: 0.906 - ETA: 3s - loss: 0.2445 - acc: 0.907 - ETA: 3s - loss: 0.2446 - acc: 0.907 - ETA: 3s - loss: 0.2440 - acc: 0.907 - ETA: 3s - loss: 0.2435 - acc: 0.907 - ETA: 3s - loss: 0.2430 - acc: 0.907 - ETA: 3s - loss: 0.2435 - acc: 0.907 - ETA: 3s - loss: 0.2434 - acc: 0.907 - ETA: 3s - loss: 0.2435 - acc: 0.906 - ETA: 3s - loss: 0.2445 - acc: 0.906 - ETA: 3s - loss: 0.2444 - acc: 0.906 - ETA: 3s - loss: 0.2443 - acc: 0.906 - ETA: 3s - loss: 0.2447 - acc: 0.906 - ETA: 2s - loss: 0.2444 - acc: 0.906 - ETA: 2s - loss: 0.2442 - acc: 0.906 - ETA: 2s - loss: 0.2448 - acc: 0.906 - ETA: 2s - loss: 0.2445 - acc: 0.906 - ETA: 2s - loss: 0.2442 - acc: 0.906 - ETA: 2s - loss: 0.2440 - acc: 0.906 - ETA: 2s - loss: 0.2439 - acc: 0.906 - ETA: 2s - loss: 0.2437 - acc: 0.906 - ETA: 2s - loss: 0.2440 - acc: 0.906 - ETA: 2s - loss: 0.2444 - acc: 0.906 - ETA: 2s - loss: 0.2447 - acc: 0.905 - ETA: 2s - loss: 0.2447 - acc: 0.905 - ETA: 2s - loss: 0.2441 - acc: 0.906 - ETA: 2s - loss: 0.2439 - acc: 0.906 - ETA: 2s - loss: 0.2444 - acc: 0.905 - ETA: 2s - loss: 0.2440 - acc: 0.906 - ETA: 2s - loss: 0.2442 - acc: 0.905 - ETA: 2s - loss: 0.2443 - acc: 0.905 - ETA: 2s - loss: 0.2443 - acc: 0.905 - ETA: 1s - loss: 0.2444 - acc: 0.905 - ETA: 1s - loss: 0.2446 - acc: 0.905 - ETA: 1s - loss: 0.2442 - acc: 0.905 - ETA: 1s - loss: 0.2440 - acc: 0.905 - ETA: 1s - loss: 0.2438 - acc: 0.905 - ETA: 1s - loss: 0.2436 - acc: 0.905 - ETA: 1s - loss: 0.2435 - acc: 0.905 - ETA: 1s - loss: 0.2434 - acc: 0.905 - ETA: 1s - loss: 0.2439 - acc: 0.905 - ETA: 1s - loss: 0.2440 - acc: 0.905 - ETA: 1s - loss: 0.2443 - acc: 0.905 - ETA: 1s - loss: 0.2444 - acc: 0.905 - ETA: 1s - loss: 0.2444 - acc: 0.905 - ETA: 1s - loss: 0.2445 - acc: 0.905 - ETA: 1s - loss: 0.2447 - acc: 0.905 - ETA: 1s - loss: 0.2446 - acc: 0.905 - ETA: 1s - loss: 0.2441 - acc: 0.905 - ETA: 0s - loss: 0.2438 - acc: 0.905 - ETA: 0s - loss: 0.2435 - acc: 0.905 - ETA: 0s - loss: 0.2439 - acc: 0.905 - ETA: 0s - loss: 0.2438 - acc: 0.905 - ETA: 0s - loss: 0.2438 - acc: 0.905 - ETA: 0s - loss: 0.2438 - acc: 0.905 - ETA: 0s - loss: 0.2431 - acc: 0.906 - ETA: 0s - loss: 0.2429 - acc: 0.906 - ETA: 0s - loss: 0.2434 - acc: 0.905 - ETA: 0s - loss: 0.2436 - acc: 0.905 - ETA: 0s - loss: 0.2436 - acc: 0.905 - ETA: 0s - loss: 0.2432 - acc: 0.905 - ETA: 0s - loss: 0.2433 - acc: 0.905 - ETA: 0s - loss: 0.2433 - acc: 0.905 - ETA: 0s - loss: 0.2438 - acc: 0.905 - ETA: 0s - loss: 0.2438 - acc: 0.905 - ETA: 0s - loss: 0.2437 - acc: 0.905 - ETA: 0s - loss: 0.2434 - acc: 0.905 - ETA: 0s - loss: 0.2433 - acc: 0.905 - 10s 413us/sample - loss: 0.2432 - acc: 0.9054 - val_loss: 0.3661 - val_acc: 0.8387\n",
      "Epoch 3/10\n"
     ]
    },
    {
     "name": "stdout",
     "output_type": "stream",
     "text": [
      "25000/25000 [==============================] - ETA: 13s - loss: 0.1531 - acc: 0.93 - ETA: 8s - loss: 0.1398 - acc: 0.9598 - ETA: 9s - loss: 0.1306 - acc: 0.968 - ETA: 9s - loss: 0.1213 - acc: 0.966 - ETA: 8s - loss: 0.1132 - acc: 0.971 - ETA: 8s - loss: 0.1143 - acc: 0.972 - ETA: 7s - loss: 0.1095 - acc: 0.975 - ETA: 7s - loss: 0.1102 - acc: 0.973 - ETA: 7s - loss: 0.1090 - acc: 0.974 - ETA: 7s - loss: 0.1076 - acc: 0.975 - ETA: 7s - loss: 0.1117 - acc: 0.974 - ETA: 7s - loss: 0.1136 - acc: 0.973 - ETA: 7s - loss: 0.1132 - acc: 0.973 - ETA: 7s - loss: 0.1138 - acc: 0.973 - ETA: 6s - loss: 0.1156 - acc: 0.972 - ETA: 6s - loss: 0.1152 - acc: 0.971 - ETA: 6s - loss: 0.1134 - acc: 0.972 - ETA: 6s - loss: 0.1124 - acc: 0.973 - ETA: 6s - loss: 0.1114 - acc: 0.973 - ETA: 6s - loss: 0.1101 - acc: 0.973 - ETA: 6s - loss: 0.1111 - acc: 0.973 - ETA: 6s - loss: 0.1112 - acc: 0.973 - ETA: 6s - loss: 0.1107 - acc: 0.972 - ETA: 6s - loss: 0.1103 - acc: 0.973 - ETA: 6s - loss: 0.1093 - acc: 0.973 - ETA: 6s - loss: 0.1077 - acc: 0.974 - ETA: 6s - loss: 0.1062 - acc: 0.974 - ETA: 6s - loss: 0.1056 - acc: 0.974 - ETA: 6s - loss: 0.1045 - acc: 0.975 - ETA: 6s - loss: 0.1042 - acc: 0.975 - ETA: 6s - loss: 0.1040 - acc: 0.975 - ETA: 6s - loss: 0.1058 - acc: 0.974 - ETA: 6s - loss: 0.1054 - acc: 0.974 - ETA: 5s - loss: 0.1058 - acc: 0.974 - ETA: 5s - loss: 0.1058 - acc: 0.974 - ETA: 5s - loss: 0.1061 - acc: 0.974 - ETA: 5s - loss: 0.1072 - acc: 0.973 - ETA: 5s - loss: 0.1067 - acc: 0.974 - ETA: 5s - loss: 0.1062 - acc: 0.974 - ETA: 5s - loss: 0.1061 - acc: 0.974 - ETA: 5s - loss: 0.1053 - acc: 0.974 - ETA: 5s - loss: 0.1046 - acc: 0.974 - ETA: 5s - loss: 0.1042 - acc: 0.975 - ETA: 5s - loss: 0.1039 - acc: 0.975 - ETA: 5s - loss: 0.1032 - acc: 0.975 - ETA: 5s - loss: 0.1032 - acc: 0.975 - ETA: 5s - loss: 0.1023 - acc: 0.975 - ETA: 5s - loss: 0.1020 - acc: 0.975 - ETA: 5s - loss: 0.1013 - acc: 0.975 - ETA: 4s - loss: 0.1005 - acc: 0.976 - ETA: 4s - loss: 0.1007 - acc: 0.975 - ETA: 4s - loss: 0.1002 - acc: 0.976 - ETA: 4s - loss: 0.1002 - acc: 0.975 - ETA: 4s - loss: 0.1003 - acc: 0.975 - ETA: 4s - loss: 0.0997 - acc: 0.976 - ETA: 4s - loss: 0.0989 - acc: 0.976 - ETA: 4s - loss: 0.0983 - acc: 0.976 - ETA: 4s - loss: 0.0983 - acc: 0.976 - ETA: 4s - loss: 0.0985 - acc: 0.976 - ETA: 4s - loss: 0.0986 - acc: 0.976 - ETA: 4s - loss: 0.0988 - acc: 0.975 - ETA: 4s - loss: 0.0984 - acc: 0.975 - ETA: 4s - loss: 0.0988 - acc: 0.975 - ETA: 4s - loss: 0.0993 - acc: 0.975 - ETA: 4s - loss: 0.0991 - acc: 0.975 - ETA: 4s - loss: 0.0986 - acc: 0.975 - ETA: 4s - loss: 0.0987 - acc: 0.975 - ETA: 4s - loss: 0.0988 - acc: 0.975 - ETA: 3s - loss: 0.0990 - acc: 0.975 - ETA: 3s - loss: 0.0989 - acc: 0.975 - ETA: 3s - loss: 0.0986 - acc: 0.975 - ETA: 3s - loss: 0.0983 - acc: 0.975 - ETA: 3s - loss: 0.0982 - acc: 0.975 - ETA: 3s - loss: 0.0981 - acc: 0.975 - ETA: 3s - loss: 0.0981 - acc: 0.975 - ETA: 3s - loss: 0.0986 - acc: 0.975 - ETA: 3s - loss: 0.0986 - acc: 0.975 - ETA: 3s - loss: 0.0985 - acc: 0.975 - ETA: 3s - loss: 0.0986 - acc: 0.975 - ETA: 3s - loss: 0.0991 - acc: 0.975 - ETA: 3s - loss: 0.0992 - acc: 0.975 - ETA: 3s - loss: 0.0988 - acc: 0.975 - ETA: 3s - loss: 0.0985 - acc: 0.975 - ETA: 3s - loss: 0.0984 - acc: 0.975 - ETA: 3s - loss: 0.0980 - acc: 0.975 - ETA: 3s - loss: 0.0979 - acc: 0.975 - ETA: 3s - loss: 0.0983 - acc: 0.975 - ETA: 2s - loss: 0.0985 - acc: 0.975 - ETA: 2s - loss: 0.0983 - acc: 0.975 - ETA: 2s - loss: 0.0981 - acc: 0.975 - ETA: 2s - loss: 0.0984 - acc: 0.975 - ETA: 2s - loss: 0.0988 - acc: 0.975 - ETA: 2s - loss: 0.0987 - acc: 0.975 - ETA: 2s - loss: 0.0987 - acc: 0.975 - ETA: 2s - loss: 0.0983 - acc: 0.975 - ETA: 2s - loss: 0.0982 - acc: 0.975 - ETA: 2s - loss: 0.0981 - acc: 0.975 - ETA: 2s - loss: 0.0977 - acc: 0.975 - ETA: 2s - loss: 0.0979 - acc: 0.975 - ETA: 2s - loss: 0.0985 - acc: 0.975 - ETA: 2s - loss: 0.0983 - acc: 0.975 - ETA: 2s - loss: 0.0986 - acc: 0.975 - ETA: 2s - loss: 0.0985 - acc: 0.975 - ETA: 2s - loss: 0.0982 - acc: 0.975 - ETA: 2s - loss: 0.0982 - acc: 0.975 - ETA: 2s - loss: 0.0980 - acc: 0.975 - ETA: 2s - loss: 0.0980 - acc: 0.975 - ETA: 2s - loss: 0.0980 - acc: 0.975 - ETA: 1s - loss: 0.0980 - acc: 0.975 - ETA: 1s - loss: 0.0976 - acc: 0.975 - ETA: 1s - loss: 0.0977 - acc: 0.975 - ETA: 1s - loss: 0.0976 - acc: 0.975 - ETA: 1s - loss: 0.0977 - acc: 0.975 - ETA: 1s - loss: 0.0974 - acc: 0.975 - ETA: 1s - loss: 0.0976 - acc: 0.974 - ETA: 1s - loss: 0.0974 - acc: 0.974 - ETA: 1s - loss: 0.0972 - acc: 0.974 - ETA: 1s - loss: 0.0974 - acc: 0.974 - ETA: 1s - loss: 0.0973 - acc: 0.974 - ETA: 1s - loss: 0.0971 - acc: 0.974 - ETA: 1s - loss: 0.0977 - acc: 0.974 - ETA: 0s - loss: 0.0978 - acc: 0.974 - ETA: 0s - loss: 0.0981 - acc: 0.974 - ETA: 0s - loss: 0.0977 - acc: 0.974 - ETA: 0s - loss: 0.0977 - acc: 0.974 - ETA: 0s - loss: 0.0976 - acc: 0.974 - ETA: 0s - loss: 0.0975 - acc: 0.974 - ETA: 0s - loss: 0.0972 - acc: 0.974 - ETA: 0s - loss: 0.0972 - acc: 0.974 - ETA: 0s - loss: 0.0973 - acc: 0.974 - ETA: 0s - loss: 0.0976 - acc: 0.974 - ETA: 0s - loss: 0.0978 - acc: 0.974 - ETA: 0s - loss: 0.0976 - acc: 0.974 - ETA: 0s - loss: 0.0973 - acc: 0.974 - 9s 357us/sample - loss: 0.0976 - acc: 0.9740 - val_loss: 0.4512 - val_acc: 0.8297\n",
      "Epoch 4/10\n"
     ]
    },
    {
     "name": "stdout",
     "output_type": "stream",
     "text": [
      "25000/25000 [==============================] - ETA: 3s - loss: 0.0288 - acc: 1.000 - ETA: 4s - loss: 0.0354 - acc: 0.990 - ETA: 4s - loss: 0.0338 - acc: 0.991 - ETA: 4s - loss: 0.0294 - acc: 0.994 - ETA: 4s - loss: 0.0293 - acc: 0.994 - ETA: 4s - loss: 0.0294 - acc: 0.995 - ETA: 4s - loss: 0.0293 - acc: 0.995 - ETA: 4s - loss: 0.0296 - acc: 0.995 - ETA: 4s - loss: 0.0291 - acc: 0.995 - ETA: 4s - loss: 0.0283 - acc: 0.995 - ETA: 4s - loss: 0.0275 - acc: 0.996 - ETA: 4s - loss: 0.0269 - acc: 0.996 - ETA: 4s - loss: 0.0265 - acc: 0.996 - ETA: 4s - loss: 0.0262 - acc: 0.996 - ETA: 4s - loss: 0.0263 - acc: 0.996 - ETA: 4s - loss: 0.0258 - acc: 0.996 - ETA: 4s - loss: 0.0253 - acc: 0.997 - ETA: 4s - loss: 0.0255 - acc: 0.996 - ETA: 4s - loss: 0.0254 - acc: 0.997 - ETA: 4s - loss: 0.0256 - acc: 0.997 - ETA: 4s - loss: 0.0254 - acc: 0.997 - ETA: 4s - loss: 0.0253 - acc: 0.997 - ETA: 3s - loss: 0.0253 - acc: 0.997 - ETA: 4s - loss: 0.0253 - acc: 0.997 - ETA: 4s - loss: 0.0255 - acc: 0.997 - ETA: 4s - loss: 0.0255 - acc: 0.997 - ETA: 4s - loss: 0.0253 - acc: 0.997 - ETA: 4s - loss: 0.0250 - acc: 0.997 - ETA: 4s - loss: 0.0250 - acc: 0.997 - ETA: 3s - loss: 0.0248 - acc: 0.997 - ETA: 3s - loss: 0.0246 - acc: 0.997 - ETA: 3s - loss: 0.0248 - acc: 0.997 - ETA: 3s - loss: 0.0245 - acc: 0.997 - ETA: 3s - loss: 0.0248 - acc: 0.997 - ETA: 3s - loss: 0.0245 - acc: 0.997 - ETA: 3s - loss: 0.0244 - acc: 0.997 - ETA: 3s - loss: 0.0246 - acc: 0.997 - ETA: 3s - loss: 0.0244 - acc: 0.997 - ETA: 3s - loss: 0.0244 - acc: 0.997 - ETA: 3s - loss: 0.0247 - acc: 0.997 - ETA: 3s - loss: 0.0246 - acc: 0.997 - ETA: 3s - loss: 0.0245 - acc: 0.997 - ETA: 3s - loss: 0.0244 - acc: 0.997 - ETA: 3s - loss: 0.0244 - acc: 0.997 - ETA: 3s - loss: 0.0243 - acc: 0.997 - ETA: 3s - loss: 0.0242 - acc: 0.997 - ETA: 3s - loss: 0.0241 - acc: 0.997 - ETA: 3s - loss: 0.0239 - acc: 0.997 - ETA: 3s - loss: 0.0240 - acc: 0.997 - ETA: 3s - loss: 0.0239 - acc: 0.997 - ETA: 3s - loss: 0.0238 - acc: 0.997 - ETA: 3s - loss: 0.0238 - acc: 0.997 - ETA: 3s - loss: 0.0237 - acc: 0.997 - ETA: 3s - loss: 0.0238 - acc: 0.997 - ETA: 3s - loss: 0.0238 - acc: 0.997 - ETA: 3s - loss: 0.0239 - acc: 0.997 - ETA: 3s - loss: 0.0239 - acc: 0.997 - ETA: 3s - loss: 0.0242 - acc: 0.997 - ETA: 3s - loss: 0.0242 - acc: 0.997 - ETA: 3s - loss: 0.0241 - acc: 0.997 - ETA: 3s - loss: 0.0243 - acc: 0.997 - ETA: 3s - loss: 0.0246 - acc: 0.997 - ETA: 3s - loss: 0.0246 - acc: 0.996 - ETA: 3s - loss: 0.0246 - acc: 0.996 - ETA: 3s - loss: 0.0247 - acc: 0.996 - ETA: 2s - loss: 0.0247 - acc: 0.996 - ETA: 2s - loss: 0.0246 - acc: 0.996 - ETA: 2s - loss: 0.0247 - acc: 0.996 - ETA: 2s - loss: 0.0247 - acc: 0.996 - ETA: 2s - loss: 0.0251 - acc: 0.996 - ETA: 2s - loss: 0.0250 - acc: 0.996 - ETA: 2s - loss: 0.0250 - acc: 0.996 - ETA: 2s - loss: 0.0248 - acc: 0.996 - ETA: 2s - loss: 0.0250 - acc: 0.996 - ETA: 2s - loss: 0.0251 - acc: 0.996 - ETA: 2s - loss: 0.0250 - acc: 0.996 - ETA: 2s - loss: 0.0249 - acc: 0.996 - ETA: 2s - loss: 0.0248 - acc: 0.996 - ETA: 2s - loss: 0.0249 - acc: 0.996 - ETA: 2s - loss: 0.0248 - acc: 0.996 - ETA: 2s - loss: 0.0251 - acc: 0.996 - ETA: 2s - loss: 0.0249 - acc: 0.996 - ETA: 2s - loss: 0.0249 - acc: 0.996 - ETA: 2s - loss: 0.0247 - acc: 0.996 - ETA: 2s - loss: 0.0247 - acc: 0.996 - ETA: 1s - loss: 0.0250 - acc: 0.996 - ETA: 1s - loss: 0.0252 - acc: 0.996 - ETA: 1s - loss: 0.0253 - acc: 0.996 - ETA: 1s - loss: 0.0251 - acc: 0.996 - ETA: 1s - loss: 0.0251 - acc: 0.996 - ETA: 1s - loss: 0.0250 - acc: 0.996 - ETA: 1s - loss: 0.0249 - acc: 0.996 - ETA: 1s - loss: 0.0248 - acc: 0.996 - ETA: 1s - loss: 0.0252 - acc: 0.996 - ETA: 1s - loss: 0.0254 - acc: 0.996 - ETA: 1s - loss: 0.0256 - acc: 0.996 - ETA: 1s - loss: 0.0255 - acc: 0.996 - ETA: 1s - loss: 0.0254 - acc: 0.996 - ETA: 1s - loss: 0.0254 - acc: 0.996 - ETA: 1s - loss: 0.0253 - acc: 0.996 - ETA: 1s - loss: 0.0253 - acc: 0.996 - ETA: 1s - loss: 0.0254 - acc: 0.996 - ETA: 1s - loss: 0.0253 - acc: 0.996 - ETA: 1s - loss: 0.0252 - acc: 0.996 - ETA: 1s - loss: 0.0254 - acc: 0.996 - ETA: 0s - loss: 0.0253 - acc: 0.996 - ETA: 0s - loss: 0.0252 - acc: 0.996 - ETA: 0s - loss: 0.0252 - acc: 0.996 - ETA: 0s - loss: 0.0252 - acc: 0.996 - ETA: 0s - loss: 0.0253 - acc: 0.996 - ETA: 0s - loss: 0.0255 - acc: 0.996 - ETA: 0s - loss: 0.0257 - acc: 0.996 - ETA: 0s - loss: 0.0256 - acc: 0.996 - ETA: 0s - loss: 0.0256 - acc: 0.996 - ETA: 0s - loss: 0.0258 - acc: 0.996 - ETA: 0s - loss: 0.0257 - acc: 0.996 - ETA: 0s - loss: 0.0258 - acc: 0.996 - ETA: 0s - loss: 0.0258 - acc: 0.996 - ETA: 0s - loss: 0.0260 - acc: 0.996 - ETA: 0s - loss: 0.0259 - acc: 0.996 - ETA: 0s - loss: 0.0258 - acc: 0.996 - ETA: 0s - loss: 0.0257 - acc: 0.996 - ETA: 0s - loss: 0.0257 - acc: 0.996 - ETA: 0s - loss: 0.0257 - acc: 0.996 - ETA: 0s - loss: 0.0256 - acc: 0.996 - 9s 349us/sample - loss: 0.0256 - acc: 0.9962 - val_loss: 0.5250 - val_acc: 0.8276\n",
      "Epoch 5/10\n"
     ]
    },
    {
     "name": "stdout",
     "output_type": "stream",
     "text": [
      "25000/25000 [==============================] - ETA: 14s - loss: 0.0073 - acc: 1.00 - ETA: 8s - loss: 0.0078 - acc: 1.0000 - ETA: 8s - loss: 0.0070 - acc: 1.000 - ETA: 7s - loss: 0.0071 - acc: 1.000 - ETA: 7s - loss: 0.0071 - acc: 1.000 - ETA: 7s - loss: 0.0071 - acc: 1.000 - ETA: 7s - loss: 0.0070 - acc: 1.000 - ETA: 7s - loss: 0.0072 - acc: 1.000 - ETA: 7s - loss: 0.0071 - acc: 1.000 - ETA: 7s - loss: 0.0070 - acc: 1.000 - ETA: 7s - loss: 0.0068 - acc: 1.000 - ETA: 7s - loss: 0.0071 - acc: 1.000 - ETA: 7s - loss: 0.0070 - acc: 1.000 - ETA: 7s - loss: 0.0071 - acc: 1.000 - ETA: 7s - loss: 0.0098 - acc: 0.998 - ETA: 6s - loss: 0.0097 - acc: 0.998 - ETA: 6s - loss: 0.0095 - acc: 0.999 - ETA: 6s - loss: 0.0093 - acc: 0.999 - ETA: 6s - loss: 0.0091 - acc: 0.999 - ETA: 6s - loss: 0.0090 - acc: 0.999 - ETA: 6s - loss: 0.0088 - acc: 0.999 - ETA: 6s - loss: 0.0086 - acc: 0.999 - ETA: 6s - loss: 0.0084 - acc: 0.999 - ETA: 6s - loss: 0.0084 - acc: 0.999 - ETA: 6s - loss: 0.0082 - acc: 0.999 - ETA: 6s - loss: 0.0081 - acc: 0.999 - ETA: 6s - loss: 0.0080 - acc: 0.999 - ETA: 6s - loss: 0.0079 - acc: 0.999 - ETA: 6s - loss: 0.0082 - acc: 0.999 - ETA: 6s - loss: 0.0082 - acc: 0.999 - ETA: 6s - loss: 0.0080 - acc: 0.999 - ETA: 6s - loss: 0.0080 - acc: 0.999 - ETA: 6s - loss: 0.0084 - acc: 0.999 - ETA: 6s - loss: 0.0083 - acc: 0.999 - ETA: 6s - loss: 0.0082 - acc: 0.999 - ETA: 6s - loss: 0.0082 - acc: 0.999 - ETA: 5s - loss: 0.0081 - acc: 0.999 - ETA: 5s - loss: 0.0079 - acc: 0.999 - ETA: 5s - loss: 0.0079 - acc: 0.999 - ETA: 5s - loss: 0.0079 - acc: 0.999 - ETA: 5s - loss: 0.0083 - acc: 0.999 - ETA: 5s - loss: 0.0082 - acc: 0.999 - ETA: 5s - loss: 0.0085 - acc: 0.999 - ETA: 5s - loss: 0.0084 - acc: 0.999 - ETA: 5s - loss: 0.0085 - acc: 0.999 - ETA: 5s - loss: 0.0084 - acc: 0.999 - ETA: 5s - loss: 0.0084 - acc: 0.999 - ETA: 5s - loss: 0.0083 - acc: 0.999 - ETA: 5s - loss: 0.0083 - acc: 0.999 - ETA: 4s - loss: 0.0083 - acc: 0.999 - ETA: 4s - loss: 0.0082 - acc: 0.999 - ETA: 4s - loss: 0.0081 - acc: 0.999 - ETA: 4s - loss: 0.0081 - acc: 0.999 - ETA: 4s - loss: 0.0080 - acc: 0.999 - ETA: 4s - loss: 0.0080 - acc: 0.999 - ETA: 4s - loss: 0.0080 - acc: 0.999 - ETA: 4s - loss: 0.0079 - acc: 0.999 - ETA: 4s - loss: 0.0079 - acc: 0.999 - ETA: 4s - loss: 0.0078 - acc: 0.999 - ETA: 4s - loss: 0.0078 - acc: 0.999 - ETA: 4s - loss: 0.0077 - acc: 0.999 - ETA: 4s - loss: 0.0079 - acc: 0.999 - ETA: 4s - loss: 0.0079 - acc: 0.999 - ETA: 4s - loss: 0.0079 - acc: 0.999 - ETA: 4s - loss: 0.0078 - acc: 0.999 - ETA: 4s - loss: 0.0077 - acc: 0.999 - ETA: 4s - loss: 0.0077 - acc: 0.999 - ETA: 4s - loss: 0.0077 - acc: 0.999 - ETA: 4s - loss: 0.0076 - acc: 0.999 - ETA: 3s - loss: 0.0076 - acc: 0.999 - ETA: 3s - loss: 0.0076 - acc: 0.999 - ETA: 3s - loss: 0.0076 - acc: 0.999 - ETA: 3s - loss: 0.0076 - acc: 0.999 - ETA: 3s - loss: 0.0075 - acc: 0.999 - ETA: 3s - loss: 0.0075 - acc: 0.999 - ETA: 3s - loss: 0.0075 - acc: 0.999 - ETA: 3s - loss: 0.0074 - acc: 0.999 - ETA: 3s - loss: 0.0074 - acc: 0.999 - ETA: 3s - loss: 0.0074 - acc: 0.999 - ETA: 3s - loss: 0.0074 - acc: 0.999 - ETA: 3s - loss: 0.0076 - acc: 0.999 - ETA: 3s - loss: 0.0075 - acc: 0.999 - ETA: 3s - loss: 0.0075 - acc: 0.999 - ETA: 3s - loss: 0.0075 - acc: 0.999 - ETA: 3s - loss: 0.0075 - acc: 0.999 - ETA: 3s - loss: 0.0075 - acc: 0.999 - ETA: 3s - loss: 0.0074 - acc: 0.999 - ETA: 2s - loss: 0.0074 - acc: 0.999 - ETA: 2s - loss: 0.0074 - acc: 0.999 - ETA: 2s - loss: 0.0074 - acc: 0.999 - ETA: 2s - loss: 0.0073 - acc: 0.999 - ETA: 2s - loss: 0.0073 - acc: 0.999 - ETA: 2s - loss: 0.0073 - acc: 0.999 - ETA: 2s - loss: 0.0074 - acc: 0.999 - ETA: 2s - loss: 0.0074 - acc: 0.999 - ETA: 2s - loss: 0.0075 - acc: 0.999 - ETA: 2s - loss: 0.0074 - acc: 0.999 - ETA: 2s - loss: 0.0074 - acc: 0.999 - ETA: 2s - loss: 0.0074 - acc: 0.999 - ETA: 2s - loss: 0.0073 - acc: 0.999 - ETA: 2s - loss: 0.0073 - acc: 0.999 - ETA: 2s - loss: 0.0073 - acc: 0.999 - ETA: 2s - loss: 0.0072 - acc: 0.999 - ETA: 2s - loss: 0.0072 - acc: 0.999 - ETA: 2s - loss: 0.0072 - acc: 0.999 - ETA: 1s - loss: 0.0071 - acc: 0.999 - ETA: 1s - loss: 0.0071 - acc: 0.999 - ETA: 1s - loss: 0.0071 - acc: 0.999 - ETA: 1s - loss: 0.0072 - acc: 0.999 - ETA: 1s - loss: 0.0072 - acc: 0.999 - ETA: 1s - loss: 0.0072 - acc: 0.999 - ETA: 1s - loss: 0.0072 - acc: 0.999 - ETA: 1s - loss: 0.0072 - acc: 0.999 - ETA: 1s - loss: 0.0072 - acc: 0.999 - ETA: 1s - loss: 0.0071 - acc: 0.999 - ETA: 1s - loss: 0.0071 - acc: 0.999 - ETA: 1s - loss: 0.0071 - acc: 0.999 - ETA: 1s - loss: 0.0071 - acc: 0.999 - ETA: 1s - loss: 0.0071 - acc: 0.999 - ETA: 1s - loss: 0.0071 - acc: 0.999 - ETA: 1s - loss: 0.0071 - acc: 0.999 - ETA: 1s - loss: 0.0071 - acc: 0.999 - ETA: 1s - loss: 0.0071 - acc: 0.999 - ETA: 1s - loss: 0.0071 - acc: 0.999 - ETA: 1s - loss: 0.0071 - acc: 0.999 - ETA: 0s - loss: 0.0070 - acc: 0.999 - ETA: 0s - loss: 0.0070 - acc: 0.999 - ETA: 0s - loss: 0.0070 - acc: 0.999 - ETA: 0s - loss: 0.0070 - acc: 0.999 - ETA: 0s - loss: 0.0070 - acc: 0.999 - ETA: 0s - loss: 0.0069 - acc: 0.999 - ETA: 0s - loss: 0.0069 - acc: 0.999 - ETA: 0s - loss: 0.0069 - acc: 0.999 - ETA: 0s - loss: 0.0069 - acc: 0.999 - ETA: 0s - loss: 0.0069 - acc: 0.999 - ETA: 0s - loss: 0.0068 - acc: 0.999 - ETA: 0s - loss: 0.0068 - acc: 0.999 - ETA: 0s - loss: 0.0068 - acc: 0.999 - ETA: 0s - loss: 0.0070 - acc: 0.999 - ETA: 0s - loss: 0.0070 - acc: 0.999 - ETA: 0s - loss: 0.0069 - acc: 0.999 - ETA: 0s - loss: 0.0069 - acc: 0.999 - ETA: 0s - loss: 0.0069 - acc: 0.999 - 9s 373us/sample - loss: 0.0069 - acc: 0.9994 - val_loss: 0.5910 - val_acc: 0.8268\n",
      "Epoch 6/10\n"
     ]
    },
    {
     "name": "stdout",
     "output_type": "stream",
     "text": [
      "25000/25000 [==============================] - ETA: 13s - loss: 0.0023 - acc: 1.00 - ETA: 7s - loss: 0.0021 - acc: 1.0000 - ETA: 7s - loss: 0.0020 - acc: 1.000 - ETA: 8s - loss: 0.0025 - acc: 1.000 - ETA: 8s - loss: 0.0025 - acc: 1.000 - ETA: 7s - loss: 0.0024 - acc: 1.000 - ETA: 7s - loss: 0.0023 - acc: 1.000 - ETA: 7s - loss: 0.0024 - acc: 1.000 - ETA: 7s - loss: 0.0024 - acc: 1.000 - ETA: 7s - loss: 0.0024 - acc: 1.000 - ETA: 7s - loss: 0.0024 - acc: 1.000 - ETA: 7s - loss: 0.0024 - acc: 1.000 - ETA: 7s - loss: 0.0024 - acc: 1.000 - ETA: 7s - loss: 0.0024 - acc: 1.000 - ETA: 6s - loss: 0.0023 - acc: 1.000 - ETA: 6s - loss: 0.0023 - acc: 1.000 - ETA: 6s - loss: 0.0023 - acc: 1.000 - ETA: 6s - loss: 0.0023 - acc: 1.000 - ETA: 6s - loss: 0.0023 - acc: 1.000 - ETA: 6s - loss: 0.0023 - acc: 1.000 - ETA: 6s - loss: 0.0023 - acc: 1.000 - ETA: 6s - loss: 0.0023 - acc: 1.000 - ETA: 6s - loss: 0.0023 - acc: 1.000 - ETA: 6s - loss: 0.0023 - acc: 1.000 - ETA: 6s - loss: 0.0023 - acc: 1.000 - ETA: 6s - loss: 0.0023 - acc: 1.000 - ETA: 6s - loss: 0.0023 - acc: 1.000 - ETA: 6s - loss: 0.0023 - acc: 1.000 - ETA: 6s - loss: 0.0023 - acc: 1.000 - ETA: 6s - loss: 0.0023 - acc: 1.000 - ETA: 6s - loss: 0.0023 - acc: 1.000 - ETA: 6s - loss: 0.0023 - acc: 1.000 - ETA: 6s - loss: 0.0023 - acc: 1.000 - ETA: 6s - loss: 0.0022 - acc: 1.000 - ETA: 5s - loss: 0.0023 - acc: 1.000 - ETA: 6s - loss: 0.0023 - acc: 1.000 - ETA: 5s - loss: 0.0022 - acc: 1.000 - ETA: 5s - loss: 0.0022 - acc: 1.000 - ETA: 5s - loss: 0.0022 - acc: 1.000 - ETA: 5s - loss: 0.0022 - acc: 1.000 - ETA: 5s - loss: 0.0022 - acc: 1.000 - ETA: 5s - loss: 0.0022 - acc: 1.000 - ETA: 5s - loss: 0.0022 - acc: 1.000 - ETA: 5s - loss: 0.0022 - acc: 1.000 - ETA: 5s - loss: 0.0022 - acc: 1.000 - ETA: 5s - loss: 0.0022 - acc: 1.000 - ETA: 5s - loss: 0.0022 - acc: 1.000 - ETA: 5s - loss: 0.0022 - acc: 1.000 - ETA: 5s - loss: 0.0022 - acc: 1.000 - ETA: 5s - loss: 0.0022 - acc: 1.000 - ETA: 5s - loss: 0.0022 - acc: 1.000 - ETA: 4s - loss: 0.0022 - acc: 1.000 - ETA: 4s - loss: 0.0022 - acc: 1.000 - ETA: 4s - loss: 0.0022 - acc: 1.000 - ETA: 4s - loss: 0.0022 - acc: 1.000 - ETA: 4s - loss: 0.0021 - acc: 1.000 - ETA: 4s - loss: 0.0021 - acc: 1.000 - ETA: 4s - loss: 0.0021 - acc: 1.000 - ETA: 4s - loss: 0.0021 - acc: 1.000 - ETA: 4s - loss: 0.0021 - acc: 1.000 - ETA: 4s - loss: 0.0021 - acc: 1.000 - ETA: 4s - loss: 0.0021 - acc: 1.000 - ETA: 4s - loss: 0.0021 - acc: 1.000 - ETA: 4s - loss: 0.0021 - acc: 1.000 - ETA: 4s - loss: 0.0021 - acc: 1.000 - ETA: 4s - loss: 0.0021 - acc: 1.000 - ETA: 4s - loss: 0.0021 - acc: 1.000 - ETA: 3s - loss: 0.0021 - acc: 1.000 - ETA: 3s - loss: 0.0021 - acc: 1.000 - ETA: 3s - loss: 0.0021 - acc: 1.000 - ETA: 3s - loss: 0.0021 - acc: 1.000 - ETA: 3s - loss: 0.0021 - acc: 1.000 - ETA: 3s - loss: 0.0020 - acc: 1.000 - ETA: 3s - loss: 0.0020 - acc: 1.000 - ETA: 3s - loss: 0.0020 - acc: 1.000 - ETA: 3s - loss: 0.0020 - acc: 1.000 - ETA: 3s - loss: 0.0020 - acc: 1.000 - ETA: 3s - loss: 0.0020 - acc: 1.000 - ETA: 3s - loss: 0.0020 - acc: 1.000 - ETA: 3s - loss: 0.0020 - acc: 1.000 - ETA: 3s - loss: 0.0020 - acc: 1.000 - ETA: 3s - loss: 0.0020 - acc: 1.000 - ETA: 3s - loss: 0.0020 - acc: 1.000 - ETA: 3s - loss: 0.0020 - acc: 1.000 - ETA: 3s - loss: 0.0020 - acc: 1.000 - ETA: 3s - loss: 0.0020 - acc: 1.000 - ETA: 3s - loss: 0.0020 - acc: 1.000 - ETA: 3s - loss: 0.0020 - acc: 1.000 - ETA: 2s - loss: 0.0020 - acc: 1.000 - ETA: 2s - loss: 0.0020 - acc: 1.000 - ETA: 2s - loss: 0.0020 - acc: 1.000 - ETA: 2s - loss: 0.0020 - acc: 1.000 - ETA: 2s - loss: 0.0020 - acc: 1.000 - ETA: 2s - loss: 0.0020 - acc: 1.000 - ETA: 2s - loss: 0.0020 - acc: 1.000 - ETA: 2s - loss: 0.0020 - acc: 1.000 - ETA: 2s - loss: 0.0020 - acc: 1.000 - ETA: 2s - loss: 0.0020 - acc: 1.000 - ETA: 2s - loss: 0.0020 - acc: 1.000 - ETA: 2s - loss: 0.0020 - acc: 1.000 - ETA: 2s - loss: 0.0020 - acc: 1.000 - ETA: 2s - loss: 0.0020 - acc: 1.000 - ETA: 2s - loss: 0.0020 - acc: 1.000 - ETA: 2s - loss: 0.0020 - acc: 1.000 - ETA: 2s - loss: 0.0020 - acc: 1.000 - ETA: 2s - loss: 0.0020 - acc: 1.000 - ETA: 2s - loss: 0.0020 - acc: 1.000 - ETA: 1s - loss: 0.0020 - acc: 1.000 - ETA: 1s - loss: 0.0020 - acc: 1.000 - ETA: 1s - loss: 0.0020 - acc: 1.000 - ETA: 1s - loss: 0.0020 - acc: 1.000 - ETA: 1s - loss: 0.0020 - acc: 1.000 - ETA: 1s - loss: 0.0020 - acc: 1.000 - ETA: 1s - loss: 0.0020 - acc: 1.000 - ETA: 1s - loss: 0.0020 - acc: 1.000 - ETA: 1s - loss: 0.0020 - acc: 1.000 - ETA: 1s - loss: 0.0020 - acc: 1.000 - ETA: 1s - loss: 0.0020 - acc: 1.000 - ETA: 1s - loss: 0.0020 - acc: 1.000 - ETA: 1s - loss: 0.0020 - acc: 1.000 - ETA: 1s - loss: 0.0020 - acc: 1.000 - ETA: 1s - loss: 0.0020 - acc: 1.000 - ETA: 1s - loss: 0.0020 - acc: 1.000 - ETA: 1s - loss: 0.0020 - acc: 1.000 - ETA: 0s - loss: 0.0020 - acc: 1.000 - ETA: 0s - loss: 0.0020 - acc: 1.000 - ETA: 0s - loss: 0.0020 - acc: 1.000 - ETA: 0s - loss: 0.0020 - acc: 1.000 - ETA: 0s - loss: 0.0020 - acc: 1.000 - ETA: 0s - loss: 0.0020 - acc: 1.000 - ETA: 0s - loss: 0.0020 - acc: 1.000 - ETA: 0s - loss: 0.0020 - acc: 1.000 - ETA: 0s - loss: 0.0020 - acc: 1.000 - ETA: 0s - loss: 0.0020 - acc: 1.000 - ETA: 0s - loss: 0.0020 - acc: 1.000 - ETA: 0s - loss: 0.0020 - acc: 1.000 - ETA: 0s - loss: 0.0020 - acc: 1.000 - ETA: 0s - loss: 0.0020 - acc: 1.000 - ETA: 0s - loss: 0.0020 - acc: 1.000 - ETA: 0s - loss: 0.0020 - acc: 1.000 - ETA: 0s - loss: 0.0020 - acc: 1.000 - ETA: 0s - loss: 0.0020 - acc: 1.000 - ETA: 0s - loss: 0.0020 - acc: 1.000 - ETA: 0s - loss: 0.0020 - acc: 1.000 - 9s 371us/sample - loss: 0.0020 - acc: 1.0000 - val_loss: 0.6462 - val_acc: 0.8282\n",
      "Epoch 7/10\n"
     ]
    },
    {
     "name": "stdout",
     "output_type": "stream",
     "text": [
      "25000/25000 [==============================] - ETA: 23s - loss: 6.4712e-04 - acc: 1.00 - ETA: 12s - loss: 0.0013 - acc: 1.0000   - ETA: 9s - loss: 0.0011 - acc: 1.0000 - ETA: 8s - loss: 0.0010 - acc: 1.000 - ETA: 8s - loss: 0.0010 - acc: 1.000 - ETA: 8s - loss: 0.0011 - acc: 1.000 - ETA: 7s - loss: 0.0011 - acc: 1.000 - ETA: 7s - loss: 0.0010 - acc: 1.000 - ETA: 7s - loss: 0.0011 - acc: 1.000 - ETA: 7s - loss: 0.0011 - acc: 1.000 - ETA: 7s - loss: 0.0011 - acc: 1.000 - ETA: 7s - loss: 0.0011 - acc: 1.000 - ETA: 7s - loss: 0.0011 - acc: 1.000 - ETA: 7s - loss: 0.0011 - acc: 1.000 - ETA: 7s - loss: 0.0011 - acc: 1.000 - ETA: 7s - loss: 0.0011 - acc: 1.000 - ETA: 7s - loss: 0.0011 - acc: 1.000 - ETA: 7s - loss: 0.0011 - acc: 1.000 - ETA: 7s - loss: 0.0011 - acc: 1.000 - ETA: 7s - loss: 0.0011 - acc: 1.000 - ETA: 6s - loss: 0.0011 - acc: 1.000 - ETA: 6s - loss: 0.0011 - acc: 1.000 - ETA: 6s - loss: 0.0011 - acc: 1.000 - ETA: 6s - loss: 0.0011 - acc: 1.000 - ETA: 6s - loss: 0.0011 - acc: 1.000 - ETA: 6s - loss: 0.0011 - acc: 1.000 - ETA: 6s - loss: 0.0011 - acc: 1.000 - ETA: 6s - loss: 0.0011 - acc: 1.000 - ETA: 6s - loss: 0.0011 - acc: 1.000 - ETA: 6s - loss: 0.0011 - acc: 1.000 - ETA: 6s - loss: 0.0011 - acc: 1.000 - ETA: 6s - loss: 0.0011 - acc: 1.000 - ETA: 6s - loss: 0.0011 - acc: 1.000 - ETA: 6s - loss: 0.0011 - acc: 1.000 - ETA: 6s - loss: 0.0011 - acc: 1.000 - ETA: 6s - loss: 0.0011 - acc: 1.000 - ETA: 6s - loss: 0.0011 - acc: 1.000 - ETA: 5s - loss: 0.0011 - acc: 1.000 - ETA: 5s - loss: 0.0011 - acc: 1.000 - ETA: 5s - loss: 0.0010 - acc: 1.000 - ETA: 5s - loss: 0.0010 - acc: 1.000 - ETA: 5s - loss: 0.0010 - acc: 1.000 - ETA: 5s - loss: 0.0010 - acc: 1.000 - ETA: 5s - loss: 0.0010 - acc: 1.000 - ETA: 5s - loss: 0.0010 - acc: 1.000 - ETA: 5s - loss: 0.0010 - acc: 1.000 - ETA: 5s - loss: 0.0010 - acc: 1.000 - ETA: 5s - loss: 0.0010 - acc: 1.000 - ETA: 5s - loss: 0.0010 - acc: 1.000 - ETA: 5s - loss: 0.0010 - acc: 1.000 - ETA: 5s - loss: 0.0010 - acc: 1.000 - ETA: 5s - loss: 0.0010 - acc: 1.000 - ETA: 5s - loss: 0.0010 - acc: 1.000 - ETA: 4s - loss: 0.0010 - acc: 1.000 - ETA: 4s - loss: 0.0010 - acc: 1.000 - ETA: 4s - loss: 0.0010 - acc: 1.000 - ETA: 4s - loss: 0.0010 - acc: 1.000 - ETA: 4s - loss: 0.0010 - acc: 1.000 - ETA: 4s - loss: 0.0010 - acc: 1.000 - ETA: 4s - loss: 0.0010 - acc: 1.000 - ETA: 4s - loss: 0.0010 - acc: 1.000 - ETA: 4s - loss: 0.0010 - acc: 1.000 - ETA: 4s - loss: 0.0010 - acc: 1.000 - ETA: 4s - loss: 0.0010 - acc: 1.000 - ETA: 4s - loss: 0.0010 - acc: 1.000 - ETA: 4s - loss: 0.0010 - acc: 1.000 - ETA: 4s - loss: 0.0010 - acc: 1.000 - ETA: 4s - loss: 0.0010 - acc: 1.000 - ETA: 4s - loss: 0.0010 - acc: 1.000 - ETA: 4s - loss: 0.0010 - acc: 1.000 - ETA: 4s - loss: 9.9951e-04 - acc: 1.000 - ETA: 3s - loss: 9.9343e-04 - acc: 1.000 - ETA: 3s - loss: 9.9234e-04 - acc: 1.000 - ETA: 3s - loss: 9.9172e-04 - acc: 1.000 - ETA: 3s - loss: 9.8965e-04 - acc: 1.000 - ETA: 3s - loss: 9.8645e-04 - acc: 1.000 - ETA: 3s - loss: 9.8410e-04 - acc: 1.000 - ETA: 3s - loss: 9.8375e-04 - acc: 1.000 - ETA: 3s - loss: 9.8327e-04 - acc: 1.000 - ETA: 3s - loss: 9.8293e-04 - acc: 1.000 - ETA: 3s - loss: 9.8291e-04 - acc: 1.000 - ETA: 3s - loss: 9.8286e-04 - acc: 1.000 - ETA: 3s - loss: 9.8028e-04 - acc: 1.000 - ETA: 3s - loss: 9.7860e-04 - acc: 1.000 - ETA: 3s - loss: 9.7651e-04 - acc: 1.000 - ETA: 3s - loss: 9.7300e-04 - acc: 1.000 - ETA: 3s - loss: 9.7007e-04 - acc: 1.000 - ETA: 3s - loss: 9.6491e-04 - acc: 1.000 - ETA: 3s - loss: 9.6491e-04 - acc: 1.000 - ETA: 3s - loss: 9.6294e-04 - acc: 1.000 - ETA: 3s - loss: 9.6119e-04 - acc: 1.000 - ETA: 2s - loss: 9.6106e-04 - acc: 1.000 - ETA: 2s - loss: 9.6254e-04 - acc: 1.000 - ETA: 2s - loss: 9.6044e-04 - acc: 1.000 - ETA: 2s - loss: 9.5844e-04 - acc: 1.000 - ETA: 2s - loss: 9.5866e-04 - acc: 1.000 - ETA: 2s - loss: 9.5639e-04 - acc: 1.000 - ETA: 2s - loss: 9.5260e-04 - acc: 1.000 - ETA: 2s - loss: 9.5032e-04 - acc: 1.000 - ETA: 2s - loss: 9.4864e-04 - acc: 1.000 - ETA: 2s - loss: 9.4827e-04 - acc: 1.000 - ETA: 2s - loss: 9.4775e-04 - acc: 1.000 - ETA: 2s - loss: 9.4575e-04 - acc: 1.000 - ETA: 2s - loss: 9.4401e-04 - acc: 1.000 - ETA: 2s - loss: 9.4275e-04 - acc: 1.000 - ETA: 2s - loss: 9.4051e-04 - acc: 1.000 - ETA: 2s - loss: 9.3829e-04 - acc: 1.000 - ETA: 1s - loss: 9.3800e-04 - acc: 1.000 - ETA: 1s - loss: 9.3957e-04 - acc: 1.000 - ETA: 1s - loss: 9.3668e-04 - acc: 1.000 - ETA: 1s - loss: 9.3652e-04 - acc: 1.000 - ETA: 1s - loss: 9.3585e-04 - acc: 1.000 - ETA: 1s - loss: 9.3216e-04 - acc: 1.000 - ETA: 1s - loss: 9.2920e-04 - acc: 1.000 - ETA: 1s - loss: 9.2563e-04 - acc: 1.000 - ETA: 1s - loss: 9.2366e-04 - acc: 1.000 - ETA: 1s - loss: 9.2229e-04 - acc: 1.000 - ETA: 1s - loss: 9.2212e-04 - acc: 1.000 - ETA: 1s - loss: 9.1980e-04 - acc: 1.000 - ETA: 1s - loss: 9.1667e-04 - acc: 1.000 - ETA: 1s - loss: 9.1738e-04 - acc: 1.000 - ETA: 1s - loss: 9.2049e-04 - acc: 1.000 - ETA: 1s - loss: 9.1766e-04 - acc: 1.000 - ETA: 1s - loss: 9.1523e-04 - acc: 1.000 - ETA: 1s - loss: 9.1606e-04 - acc: 1.000 - ETA: 0s - loss: 9.1441e-04 - acc: 1.000 - ETA: 0s - loss: 9.1402e-04 - acc: 1.000 - ETA: 0s - loss: 9.1196e-04 - acc: 1.000 - ETA: 0s - loss: 9.0925e-04 - acc: 1.000 - ETA: 0s - loss: 9.0882e-04 - acc: 1.000 - ETA: 0s - loss: 9.0721e-04 - acc: 1.000 - ETA: 0s - loss: 9.0735e-04 - acc: 1.000 - ETA: 0s - loss: 9.0628e-04 - acc: 1.000 - ETA: 0s - loss: 9.0702e-04 - acc: 1.000 - ETA: 0s - loss: 9.0549e-04 - acc: 1.000 - ETA: 0s - loss: 9.0476e-04 - acc: 1.000 - ETA: 0s - loss: 9.0393e-04 - acc: 1.000 - ETA: 0s - loss: 9.0482e-04 - acc: 1.000 - ETA: 0s - loss: 9.0309e-04 - acc: 1.000 - ETA: 0s - loss: 9.0278e-04 - acc: 1.000 - ETA: 0s - loss: 9.0152e-04 - acc: 1.000 - ETA: 0s - loss: 8.9974e-04 - acc: 1.000 - ETA: 0s - loss: 8.9913e-04 - acc: 1.000 - ETA: 0s - loss: 8.9878e-04 - acc: 1.000 - 9s 375us/sample - loss: 8.9872e-04 - acc: 1.0000 - val_loss: 0.6894 - val_acc: 0.8286\n",
      "Epoch 8/10\n"
     ]
    },
    {
     "name": "stdout",
     "output_type": "stream",
     "text": [
      "25000/25000 [==============================] - ETA: 17s - loss: 4.0921e-04 - acc: 1.00 - ETA: 10s - loss: 4.9735e-04 - acc: 1.00 - ETA: 9s - loss: 4.7030e-04 - acc: 1.0000 - ETA: 9s - loss: 4.7443e-04 - acc: 1.000 - ETA: 9s - loss: 5.2641e-04 - acc: 1.000 - ETA: 8s - loss: 5.3085e-04 - acc: 1.000 - ETA: 8s - loss: 5.4119e-04 - acc: 1.000 - ETA: 8s - loss: 5.4198e-04 - acc: 1.000 - ETA: 8s - loss: 5.3709e-04 - acc: 1.000 - ETA: 8s - loss: 5.4252e-04 - acc: 1.000 - ETA: 8s - loss: 5.7744e-04 - acc: 1.000 - ETA: 8s - loss: 5.6425e-04 - acc: 1.000 - ETA: 7s - loss: 5.6822e-04 - acc: 1.000 - ETA: 7s - loss: 5.7201e-04 - acc: 1.000 - ETA: 7s - loss: 5.6827e-04 - acc: 1.000 - ETA: 7s - loss: 5.6118e-04 - acc: 1.000 - ETA: 7s - loss: 5.6325e-04 - acc: 1.000 - ETA: 7s - loss: 5.5952e-04 - acc: 1.000 - ETA: 7s - loss: 5.5215e-04 - acc: 1.000 - ETA: 7s - loss: 5.4380e-04 - acc: 1.000 - ETA: 7s - loss: 5.4117e-04 - acc: 1.000 - ETA: 7s - loss: 5.3997e-04 - acc: 1.000 - ETA: 7s - loss: 5.3268e-04 - acc: 1.000 - ETA: 6s - loss: 5.3162e-04 - acc: 1.000 - ETA: 6s - loss: 5.3117e-04 - acc: 1.000 - ETA: 6s - loss: 5.2650e-04 - acc: 1.000 - ETA: 6s - loss: 5.2535e-04 - acc: 1.000 - ETA: 6s - loss: 5.2169e-04 - acc: 1.000 - ETA: 6s - loss: 5.1604e-04 - acc: 1.000 - ETA: 6s - loss: 5.1235e-04 - acc: 1.000 - ETA: 6s - loss: 5.1117e-04 - acc: 1.000 - ETA: 6s - loss: 5.1367e-04 - acc: 1.000 - ETA: 6s - loss: 5.1144e-04 - acc: 1.000 - ETA: 6s - loss: 5.1084e-04 - acc: 1.000 - ETA: 6s - loss: 5.1500e-04 - acc: 1.000 - ETA: 6s - loss: 5.1717e-04 - acc: 1.000 - ETA: 6s - loss: 5.1498e-04 - acc: 1.000 - ETA: 5s - loss: 5.1599e-04 - acc: 1.000 - ETA: 5s - loss: 5.1215e-04 - acc: 1.000 - ETA: 5s - loss: 5.1217e-04 - acc: 1.000 - ETA: 5s - loss: 5.1449e-04 - acc: 1.000 - ETA: 5s - loss: 5.1576e-04 - acc: 1.000 - ETA: 5s - loss: 5.1748e-04 - acc: 1.000 - ETA: 5s - loss: 5.1736e-04 - acc: 1.000 - ETA: 5s - loss: 5.1588e-04 - acc: 1.000 - ETA: 5s - loss: 5.1774e-04 - acc: 1.000 - ETA: 5s - loss: 5.1706e-04 - acc: 1.000 - ETA: 5s - loss: 5.1697e-04 - acc: 1.000 - ETA: 5s - loss: 5.1910e-04 - acc: 1.000 - ETA: 5s - loss: 5.1755e-04 - acc: 1.000 - ETA: 5s - loss: 5.1886e-04 - acc: 1.000 - ETA: 5s - loss: 5.1854e-04 - acc: 1.000 - ETA: 4s - loss: 5.1923e-04 - acc: 1.000 - ETA: 4s - loss: 5.1736e-04 - acc: 1.000 - ETA: 4s - loss: 5.1832e-04 - acc: 1.000 - ETA: 4s - loss: 5.1967e-04 - acc: 1.000 - ETA: 4s - loss: 5.1793e-04 - acc: 1.000 - ETA: 4s - loss: 5.1866e-04 - acc: 1.000 - ETA: 4s - loss: 5.1836e-04 - acc: 1.000 - ETA: 4s - loss: 5.1863e-04 - acc: 1.000 - ETA: 4s - loss: 5.1714e-04 - acc: 1.000 - ETA: 4s - loss: 5.1634e-04 - acc: 1.000 - ETA: 4s - loss: 5.1600e-04 - acc: 1.000 - ETA: 4s - loss: 5.1460e-04 - acc: 1.000 - ETA: 4s - loss: 5.1340e-04 - acc: 1.000 - ETA: 4s - loss: 5.1314e-04 - acc: 1.000 - ETA: 4s - loss: 5.1175e-04 - acc: 1.000 - ETA: 4s - loss: 5.0939e-04 - acc: 1.000 - ETA: 4s - loss: 5.0938e-04 - acc: 1.000 - ETA: 4s - loss: 5.0855e-04 - acc: 1.000 - ETA: 4s - loss: 5.0852e-04 - acc: 1.000 - ETA: 4s - loss: 5.0758e-04 - acc: 1.000 - ETA: 3s - loss: 5.0494e-04 - acc: 1.000 - ETA: 3s - loss: 5.0320e-04 - acc: 1.000 - ETA: 3s - loss: 5.0374e-04 - acc: 1.000 - ETA: 3s - loss: 5.0376e-04 - acc: 1.000 - ETA: 3s - loss: 5.0279e-04 - acc: 1.000 - ETA: 3s - loss: 5.0485e-04 - acc: 1.000 - ETA: 3s - loss: 5.0408e-04 - acc: 1.000 - ETA: 3s - loss: 5.0365e-04 - acc: 1.000 - ETA: 3s - loss: 5.0267e-04 - acc: 1.000 - ETA: 3s - loss: 5.0222e-04 - acc: 1.000 - ETA: 3s - loss: 5.0312e-04 - acc: 1.000 - ETA: 3s - loss: 5.0257e-04 - acc: 1.000 - ETA: 3s - loss: 5.0301e-04 - acc: 1.000 - ETA: 3s - loss: 5.0327e-04 - acc: 1.000 - ETA: 3s - loss: 5.0369e-04 - acc: 1.000 - ETA: 3s - loss: 5.0125e-04 - acc: 1.000 - ETA: 3s - loss: 5.0046e-04 - acc: 1.000 - ETA: 3s - loss: 5.0094e-04 - acc: 1.000 - ETA: 3s - loss: 5.0088e-04 - acc: 1.000 - ETA: 3s - loss: 5.0109e-04 - acc: 1.000 - ETA: 2s - loss: 5.0095e-04 - acc: 1.000 - ETA: 2s - loss: 4.9997e-04 - acc: 1.000 - ETA: 2s - loss: 5.0054e-04 - acc: 1.000 - ETA: 2s - loss: 5.0095e-04 - acc: 1.000 - ETA: 2s - loss: 5.0096e-04 - acc: 1.000 - ETA: 2s - loss: 5.0023e-04 - acc: 1.000 - ETA: 2s - loss: 4.9916e-04 - acc: 1.000 - ETA: 2s - loss: 4.9852e-04 - acc: 1.000 - ETA: 2s - loss: 4.9865e-04 - acc: 1.000 - ETA: 2s - loss: 4.9843e-04 - acc: 1.000 - ETA: 2s - loss: 4.9839e-04 - acc: 1.000 - ETA: 2s - loss: 4.9711e-04 - acc: 1.000 - ETA: 2s - loss: 4.9621e-04 - acc: 1.000 - ETA: 2s - loss: 4.9634e-04 - acc: 1.000 - ETA: 2s - loss: 4.9814e-04 - acc: 1.000 - ETA: 2s - loss: 4.9798e-04 - acc: 1.000 - ETA: 2s - loss: 4.9742e-04 - acc: 1.000 - ETA: 2s - loss: 4.9779e-04 - acc: 1.000 - ETA: 2s - loss: 4.9890e-04 - acc: 1.000 - ETA: 1s - loss: 4.9786e-04 - acc: 1.000 - ETA: 1s - loss: 4.9671e-04 - acc: 1.000 - ETA: 1s - loss: 4.9731e-04 - acc: 1.000 - ETA: 1s - loss: 4.9790e-04 - acc: 1.000 - ETA: 1s - loss: 4.9700e-04 - acc: 1.000 - ETA: 1s - loss: 4.9593e-04 - acc: 1.000 - ETA: 1s - loss: 4.9495e-04 - acc: 1.000 - ETA: 1s - loss: 4.9568e-04 - acc: 1.000 - ETA: 1s - loss: 4.9473e-04 - acc: 1.000 - ETA: 1s - loss: 4.9464e-04 - acc: 1.000 - ETA: 1s - loss: 4.9450e-04 - acc: 1.000 - ETA: 1s - loss: 4.9268e-04 - acc: 1.000 - ETA: 1s - loss: 4.9193e-04 - acc: 1.000 - ETA: 1s - loss: 4.9498e-04 - acc: 1.000 - ETA: 1s - loss: 4.9546e-04 - acc: 1.000 - ETA: 1s - loss: 4.9499e-04 - acc: 1.000 - ETA: 1s - loss: 4.9657e-04 - acc: 1.000 - ETA: 0s - loss: 4.9520e-04 - acc: 1.000 - ETA: 0s - loss: 4.9383e-04 - acc: 1.000 - ETA: 0s - loss: 4.9262e-04 - acc: 1.000 - ETA: 0s - loss: 4.9158e-04 - acc: 1.000 - ETA: 0s - loss: 4.9072e-04 - acc: 1.000 - ETA: 0s - loss: 4.9101e-04 - acc: 1.000 - ETA: 0s - loss: 4.9088e-04 - acc: 1.000 - ETA: 0s - loss: 4.9106e-04 - acc: 1.000 - ETA: 0s - loss: 4.9030e-04 - acc: 1.000 - ETA: 0s - loss: 4.8927e-04 - acc: 1.000 - ETA: 0s - loss: 4.8856e-04 - acc: 1.000 - ETA: 0s - loss: 4.8864e-04 - acc: 1.000 - ETA: 0s - loss: 4.8807e-04 - acc: 1.000 - ETA: 0s - loss: 4.8713e-04 - acc: 1.000 - ETA: 0s - loss: 4.8636e-04 - acc: 1.000 - ETA: 0s - loss: 4.8581e-04 - acc: 1.000 - ETA: 0s - loss: 4.8482e-04 - acc: 1.000 - ETA: 0s - loss: 4.8356e-04 - acc: 1.000 - 9s 380us/sample - loss: 4.8299e-04 - acc: 1.0000 - val_loss: 0.7297 - val_acc: 0.8283\n",
      "Epoch 9/10\n"
     ]
    },
    {
     "name": "stdout",
     "output_type": "stream",
     "text": [
      "25000/25000 [==============================] - ETA: 12s - loss: 5.9692e-04 - acc: 1.00 - ETA: 10s - loss: 3.1909e-04 - acc: 1.00 - ETA: 8s - loss: 2.9468e-04 - acc: 1.0000 - ETA: 8s - loss: 2.9020e-04 - acc: 1.000 - ETA: 7s - loss: 2.9782e-04 - acc: 1.000 - ETA: 7s - loss: 2.9650e-04 - acc: 1.000 - ETA: 7s - loss: 3.0535e-04 - acc: 1.000 - ETA: 7s - loss: 3.0787e-04 - acc: 1.000 - ETA: 7s - loss: 3.0589e-04 - acc: 1.000 - ETA: 7s - loss: 3.0723e-04 - acc: 1.000 - ETA: 6s - loss: 3.1113e-04 - acc: 1.000 - ETA: 7s - loss: 3.1084e-04 - acc: 1.000 - ETA: 7s - loss: 3.0823e-04 - acc: 1.000 - ETA: 6s - loss: 3.1287e-04 - acc: 1.000 - ETA: 6s - loss: 3.1145e-04 - acc: 1.000 - ETA: 6s - loss: 3.0665e-04 - acc: 1.000 - ETA: 6s - loss: 3.0698e-04 - acc: 1.000 - ETA: 6s - loss: 3.0542e-04 - acc: 1.000 - ETA: 6s - loss: 3.0543e-04 - acc: 1.000 - ETA: 6s - loss: 3.0520e-04 - acc: 1.000 - ETA: 6s - loss: 3.0330e-04 - acc: 1.000 - ETA: 6s - loss: 3.0236e-04 - acc: 1.000 - ETA: 6s - loss: 3.0378e-04 - acc: 1.000 - ETA: 6s - loss: 3.0814e-04 - acc: 1.000 - ETA: 6s - loss: 3.0821e-04 - acc: 1.000 - ETA: 6s - loss: 3.0757e-04 - acc: 1.000 - ETA: 6s - loss: 3.0810e-04 - acc: 1.000 - ETA: 6s - loss: 3.0648e-04 - acc: 1.000 - ETA: 6s - loss: 3.0478e-04 - acc: 1.000 - ETA: 6s - loss: 3.0259e-04 - acc: 1.000 - ETA: 6s - loss: 3.0361e-04 - acc: 1.000 - ETA: 6s - loss: 3.0387e-04 - acc: 1.000 - ETA: 5s - loss: 3.0486e-04 - acc: 1.000 - ETA: 5s - loss: 3.0658e-04 - acc: 1.000 - ETA: 5s - loss: 3.0648e-04 - acc: 1.000 - ETA: 5s - loss: 3.0584e-04 - acc: 1.000 - ETA: 5s - loss: 3.0443e-04 - acc: 1.000 - ETA: 5s - loss: 3.0438e-04 - acc: 1.000 - ETA: 5s - loss: 3.0477e-04 - acc: 1.000 - ETA: 5s - loss: 3.0299e-04 - acc: 1.000 - ETA: 5s - loss: 3.0368e-04 - acc: 1.000 - ETA: 5s - loss: 3.0268e-04 - acc: 1.000 - ETA: 5s - loss: 3.0151e-04 - acc: 1.000 - ETA: 5s - loss: 3.0144e-04 - acc: 1.000 - ETA: 5s - loss: 3.0083e-04 - acc: 1.000 - ETA: 5s - loss: 3.0107e-04 - acc: 1.000 - ETA: 5s - loss: 2.9999e-04 - acc: 1.000 - ETA: 5s - loss: 2.9981e-04 - acc: 1.000 - ETA: 5s - loss: 2.9996e-04 - acc: 1.000 - ETA: 5s - loss: 2.9916e-04 - acc: 1.000 - ETA: 5s - loss: 2.9865e-04 - acc: 1.000 - ETA: 4s - loss: 2.9853e-04 - acc: 1.000 - ETA: 4s - loss: 2.9918e-04 - acc: 1.000 - ETA: 4s - loss: 2.9853e-04 - acc: 1.000 - ETA: 4s - loss: 2.9867e-04 - acc: 1.000 - ETA: 4s - loss: 2.9799e-04 - acc: 1.000 - ETA: 4s - loss: 2.9727e-04 - acc: 1.000 - ETA: 4s - loss: 2.9626e-04 - acc: 1.000 - ETA: 4s - loss: 2.9485e-04 - acc: 1.000 - ETA: 4s - loss: 2.9450e-04 - acc: 1.000 - ETA: 4s - loss: 2.9400e-04 - acc: 1.000 - ETA: 4s - loss: 2.9368e-04 - acc: 1.000 - ETA: 4s - loss: 2.9253e-04 - acc: 1.000 - ETA: 4s - loss: 2.9308e-04 - acc: 1.000 - ETA: 4s - loss: 2.9471e-04 - acc: 1.000 - ETA: 4s - loss: 2.9546e-04 - acc: 1.000 - ETA: 4s - loss: 2.9494e-04 - acc: 1.000 - ETA: 4s - loss: 2.9517e-04 - acc: 1.000 - ETA: 3s - loss: 2.9481e-04 - acc: 1.000 - ETA: 3s - loss: 2.9429e-04 - acc: 1.000 - ETA: 3s - loss: 2.9410e-04 - acc: 1.000 - ETA: 3s - loss: 2.9385e-04 - acc: 1.000 - ETA: 3s - loss: 2.9473e-04 - acc: 1.000 - ETA: 3s - loss: 2.9439e-04 - acc: 1.000 - ETA: 3s - loss: 2.9380e-04 - acc: 1.000 - ETA: 3s - loss: 2.9374e-04 - acc: 1.000 - ETA: 3s - loss: 2.9329e-04 - acc: 1.000 - ETA: 3s - loss: 2.9261e-04 - acc: 1.000 - ETA: 3s - loss: 2.9207e-04 - acc: 1.000 - ETA: 3s - loss: 2.9140e-04 - acc: 1.000 - ETA: 3s - loss: 2.9050e-04 - acc: 1.000 - ETA: 3s - loss: 2.9038e-04 - acc: 1.000 - ETA: 3s - loss: 2.9014e-04 - acc: 1.000 - ETA: 3s - loss: 2.8985e-04 - acc: 1.000 - ETA: 3s - loss: 2.8942e-04 - acc: 1.000 - ETA: 3s - loss: 2.8943e-04 - acc: 1.000 - ETA: 3s - loss: 2.8893e-04 - acc: 1.000 - ETA: 3s - loss: 2.8878e-04 - acc: 1.000 - ETA: 2s - loss: 2.8860e-04 - acc: 1.000 - ETA: 2s - loss: 2.8828e-04 - acc: 1.000 - ETA: 2s - loss: 2.8760e-04 - acc: 1.000 - ETA: 2s - loss: 2.8672e-04 - acc: 1.000 - ETA: 2s - loss: 2.8579e-04 - acc: 1.000 - ETA: 2s - loss: 2.8571e-04 - acc: 1.000 - ETA: 2s - loss: 2.8610e-04 - acc: 1.000 - ETA: 2s - loss: 2.8596e-04 - acc: 1.000 - ETA: 2s - loss: 2.8512e-04 - acc: 1.000 - ETA: 2s - loss: 2.8495e-04 - acc: 1.000 - ETA: 2s - loss: 2.8458e-04 - acc: 1.000 - ETA: 2s - loss: 2.8423e-04 - acc: 1.000 - ETA: 2s - loss: 2.8419e-04 - acc: 1.000 - ETA: 2s - loss: 2.8358e-04 - acc: 1.000 - ETA: 2s - loss: 2.9076e-04 - acc: 1.000 - ETA: 2s - loss: 2.9257e-04 - acc: 1.000 - ETA: 2s - loss: 2.9561e-04 - acc: 1.000 - ETA: 2s - loss: 2.9561e-04 - acc: 1.000 - ETA: 2s - loss: 2.9912e-04 - acc: 1.000 - ETA: 2s - loss: 3.0292e-04 - acc: 1.000 - ETA: 1s - loss: 3.0488e-04 - acc: 1.000 - ETA: 1s - loss: 3.0609e-04 - acc: 1.000 - ETA: 1s - loss: 3.0523e-04 - acc: 1.000 - ETA: 1s - loss: 3.0701e-04 - acc: 1.000 - ETA: 1s - loss: 3.0638e-04 - acc: 1.000 - ETA: 1s - loss: 3.0553e-04 - acc: 1.000 - ETA: 1s - loss: 3.0541e-04 - acc: 1.000 - ETA: 1s - loss: 3.0522e-04 - acc: 1.000 - ETA: 1s - loss: 3.0444e-04 - acc: 1.000 - ETA: 1s - loss: 3.0438e-04 - acc: 1.000 - ETA: 1s - loss: 3.0451e-04 - acc: 1.000 - ETA: 1s - loss: 3.0460e-04 - acc: 1.000 - ETA: 1s - loss: 3.0349e-04 - acc: 1.000 - ETA: 1s - loss: 3.0307e-04 - acc: 1.000 - ETA: 1s - loss: 3.0256e-04 - acc: 1.000 - ETA: 1s - loss: 3.0221e-04 - acc: 1.000 - ETA: 1s - loss: 3.0168e-04 - acc: 1.000 - ETA: 1s - loss: 3.0173e-04 - acc: 1.000 - ETA: 1s - loss: 3.0123e-04 - acc: 1.000 - ETA: 0s - loss: 3.0015e-04 - acc: 1.000 - ETA: 0s - loss: 2.9954e-04 - acc: 1.000 - ETA: 0s - loss: 2.9892e-04 - acc: 1.000 - ETA: 0s - loss: 2.9841e-04 - acc: 1.000 - ETA: 0s - loss: 2.9770e-04 - acc: 1.000 - ETA: 0s - loss: 2.9714e-04 - acc: 1.000 - ETA: 0s - loss: 2.9645e-04 - acc: 1.000 - ETA: 0s - loss: 2.9639e-04 - acc: 1.000 - ETA: 0s - loss: 2.9612e-04 - acc: 1.000 - ETA: 0s - loss: 2.9558e-04 - acc: 1.000 - ETA: 0s - loss: 2.9515e-04 - acc: 1.000 - ETA: 0s - loss: 2.9459e-04 - acc: 1.000 - ETA: 0s - loss: 2.9464e-04 - acc: 1.000 - ETA: 0s - loss: 2.9457e-04 - acc: 1.000 - ETA: 0s - loss: 2.9450e-04 - acc: 1.000 - ETA: 0s - loss: 2.9390e-04 - acc: 1.000 - ETA: 0s - loss: 2.9301e-04 - acc: 1.000 - 9s 374us/sample - loss: 2.9254e-04 - acc: 1.0000 - val_loss: 0.7693 - val_acc: 0.8284\n",
      "Epoch 10/10\n"
     ]
    },
    {
     "name": "stdout",
     "output_type": "stream",
     "text": [
      "25000/25000 [==============================] - ETA: 14s - loss: 1.4070e-04 - acc: 1.00 - ETA: 7s - loss: 2.0316e-04 - acc: 1.0000 - ETA: 6s - loss: 2.1886e-04 - acc: 1.000 - ETA: 6s - loss: 1.9519e-04 - acc: 1.000 - ETA: 6s - loss: 1.8711e-04 - acc: 1.000 - ETA: 7s - loss: 1.9419e-04 - acc: 1.000 - ETA: 7s - loss: 1.9480e-04 - acc: 1.000 - ETA: 7s - loss: 1.9001e-04 - acc: 1.000 - ETA: 7s - loss: 1.8734e-04 - acc: 1.000 - ETA: 7s - loss: 1.8447e-04 - acc: 1.000 - ETA: 7s - loss: 1.8495e-04 - acc: 1.000 - ETA: 7s - loss: 1.8833e-04 - acc: 1.000 - ETA: 7s - loss: 1.8788e-04 - acc: 1.000 - ETA: 8s - loss: 1.8672e-04 - acc: 1.000 - ETA: 7s - loss: 1.8825e-04 - acc: 1.000 - ETA: 7s - loss: 1.8673e-04 - acc: 1.000 - ETA: 7s - loss: 1.8616e-04 - acc: 1.000 - ETA: 7s - loss: 1.8807e-04 - acc: 1.000 - ETA: 7s - loss: 1.8646e-04 - acc: 1.000 - ETA: 7s - loss: 1.8503e-04 - acc: 1.000 - ETA: 7s - loss: 1.8379e-04 - acc: 1.000 - ETA: 7s - loss: 1.8483e-04 - acc: 1.000 - ETA: 7s - loss: 1.8388e-04 - acc: 1.000 - ETA: 7s - loss: 1.8392e-04 - acc: 1.000 - ETA: 7s - loss: 1.8355e-04 - acc: 1.000 - ETA: 7s - loss: 1.8424e-04 - acc: 1.000 - ETA: 7s - loss: 1.8480e-04 - acc: 1.000 - ETA: 7s - loss: 1.8456e-04 - acc: 1.000 - ETA: 7s - loss: 1.8309e-04 - acc: 1.000 - ETA: 6s - loss: 1.8355e-04 - acc: 1.000 - ETA: 6s - loss: 1.8252e-04 - acc: 1.000 - ETA: 6s - loss: 1.8163e-04 - acc: 1.000 - ETA: 6s - loss: 1.8161e-04 - acc: 1.000 - ETA: 6s - loss: 1.8044e-04 - acc: 1.000 - ETA: 6s - loss: 1.7925e-04 - acc: 1.000 - ETA: 6s - loss: 1.8019e-04 - acc: 1.000 - ETA: 6s - loss: 1.8128e-04 - acc: 1.000 - ETA: 6s - loss: 1.8008e-04 - acc: 1.000 - ETA: 6s - loss: 1.8079e-04 - acc: 1.000 - ETA: 6s - loss: 1.8080e-04 - acc: 1.000 - ETA: 6s - loss: 1.7893e-04 - acc: 1.000 - ETA: 6s - loss: 1.7845e-04 - acc: 1.000 - ETA: 5s - loss: 1.7892e-04 - acc: 1.000 - ETA: 5s - loss: 1.7831e-04 - acc: 1.000 - ETA: 5s - loss: 1.7772e-04 - acc: 1.000 - ETA: 5s - loss: 1.7742e-04 - acc: 1.000 - ETA: 5s - loss: 1.7660e-04 - acc: 1.000 - ETA: 5s - loss: 1.7700e-04 - acc: 1.000 - ETA: 5s - loss: 1.7746e-04 - acc: 1.000 - ETA: 5s - loss: 1.7716e-04 - acc: 1.000 - ETA: 5s - loss: 1.7668e-04 - acc: 1.000 - ETA: 5s - loss: 1.7733e-04 - acc: 1.000 - ETA: 5s - loss: 1.7745e-04 - acc: 1.000 - ETA: 5s - loss: 1.7655e-04 - acc: 1.000 - ETA: 5s - loss: 1.7599e-04 - acc: 1.000 - ETA: 5s - loss: 1.7598e-04 - acc: 1.000 - ETA: 5s - loss: 1.7555e-04 - acc: 1.000 - ETA: 5s - loss: 1.7529e-04 - acc: 1.000 - ETA: 4s - loss: 1.7543e-04 - acc: 1.000 - ETA: 4s - loss: 1.7482e-04 - acc: 1.000 - ETA: 4s - loss: 1.7496e-04 - acc: 1.000 - ETA: 4s - loss: 1.7465e-04 - acc: 1.000 - ETA: 4s - loss: 1.7584e-04 - acc: 1.000 - ETA: 4s - loss: 1.7584e-04 - acc: 1.000 - ETA: 4s - loss: 1.7528e-04 - acc: 1.000 - ETA: 4s - loss: 1.7522e-04 - acc: 1.000 - ETA: 4s - loss: 1.7469e-04 - acc: 1.000 - ETA: 4s - loss: 1.7470e-04 - acc: 1.000 - ETA: 4s - loss: 1.7472e-04 - acc: 1.000 - ETA: 4s - loss: 1.7451e-04 - acc: 1.000 - ETA: 4s - loss: 1.7368e-04 - acc: 1.000 - ETA: 4s - loss: 1.7351e-04 - acc: 1.000 - ETA: 4s - loss: 1.7482e-04 - acc: 1.000 - ETA: 4s - loss: 1.7535e-04 - acc: 1.000 - ETA: 4s - loss: 1.7532e-04 - acc: 1.000 - ETA: 4s - loss: 1.7498e-04 - acc: 1.000 - ETA: 3s - loss: 1.7491e-04 - acc: 1.000 - ETA: 3s - loss: 1.7482e-04 - acc: 1.000 - ETA: 3s - loss: 1.7485e-04 - acc: 1.000 - ETA: 3s - loss: 1.7460e-04 - acc: 1.000 - ETA: 3s - loss: 1.7481e-04 - acc: 1.000 - ETA: 3s - loss: 1.7436e-04 - acc: 1.000 - ETA: 3s - loss: 1.7531e-04 - acc: 1.000 - ETA: 3s - loss: 1.7513e-04 - acc: 1.000 - ETA: 3s - loss: 1.7467e-04 - acc: 1.000 - ETA: 3s - loss: 1.7392e-04 - acc: 1.000 - ETA: 3s - loss: 1.7374e-04 - acc: 1.000 - ETA: 3s - loss: 1.7364e-04 - acc: 1.000 - ETA: 3s - loss: 1.7361e-04 - acc: 1.000 - ETA: 3s - loss: 1.7342e-04 - acc: 1.000 - ETA: 3s - loss: 1.7357e-04 - acc: 1.000 - ETA: 3s - loss: 1.7335e-04 - acc: 1.000 - ETA: 3s - loss: 1.7345e-04 - acc: 1.000 - ETA: 3s - loss: 1.7323e-04 - acc: 1.000 - ETA: 2s - loss: 1.7385e-04 - acc: 1.000 - ETA: 2s - loss: 1.7430e-04 - acc: 1.000 - ETA: 2s - loss: 1.7445e-04 - acc: 1.000 - ETA: 2s - loss: 1.7461e-04 - acc: 1.000 - ETA: 2s - loss: 1.7414e-04 - acc: 1.000 - ETA: 2s - loss: 1.7381e-04 - acc: 1.000 - ETA: 2s - loss: 1.7331e-04 - acc: 1.000 - ETA: 2s - loss: 1.7307e-04 - acc: 1.000 - ETA: 2s - loss: 1.7264e-04 - acc: 1.000 - ETA: 2s - loss: 1.7255e-04 - acc: 1.000 - ETA: 2s - loss: 1.7251e-04 - acc: 1.000 - ETA: 2s - loss: 1.7241e-04 - acc: 1.000 - ETA: 2s - loss: 1.7196e-04 - acc: 1.000 - ETA: 2s - loss: 1.7166e-04 - acc: 1.000 - ETA: 2s - loss: 1.7160e-04 - acc: 1.000 - ETA: 2s - loss: 1.7130e-04 - acc: 1.000 - ETA: 2s - loss: 1.7104e-04 - acc: 1.000 - ETA: 1s - loss: 1.7157e-04 - acc: 1.000 - ETA: 1s - loss: 1.7131e-04 - acc: 1.000 - ETA: 1s - loss: 1.7095e-04 - acc: 1.000 - ETA: 1s - loss: 1.7062e-04 - acc: 1.000 - ETA: 1s - loss: 1.7092e-04 - acc: 1.000 - ETA: 1s - loss: 1.7135e-04 - acc: 1.000 - ETA: 1s - loss: 1.7137e-04 - acc: 1.000 - ETA: 1s - loss: 1.7116e-04 - acc: 1.000 - ETA: 1s - loss: 1.7073e-04 - acc: 1.000 - ETA: 1s - loss: 1.7055e-04 - acc: 1.000 - ETA: 1s - loss: 1.7020e-04 - acc: 1.000 - ETA: 1s - loss: 1.7007e-04 - acc: 1.000 - ETA: 1s - loss: 1.7018e-04 - acc: 1.000 - ETA: 1s - loss: 1.7012e-04 - acc: 1.000 - ETA: 1s - loss: 1.6951e-04 - acc: 1.000 - ETA: 1s - loss: 1.6953e-04 - acc: 1.000 - ETA: 1s - loss: 1.6922e-04 - acc: 1.000 - ETA: 1s - loss: 1.6920e-04 - acc: 1.000 - ETA: 0s - loss: 1.6898e-04 - acc: 1.000 - ETA: 0s - loss: 1.6879e-04 - acc: 1.000 - ETA: 0s - loss: 1.6888e-04 - acc: 1.000 - ETA: 0s - loss: 1.6866e-04 - acc: 1.000 - ETA: 0s - loss: 1.6853e-04 - acc: 1.000 - ETA: 0s - loss: 1.6823e-04 - acc: 1.000 - ETA: 0s - loss: 1.6792e-04 - acc: 1.000 - ETA: 0s - loss: 1.6789e-04 - acc: 1.000 - ETA: 0s - loss: 1.6756e-04 - acc: 1.000 - ETA: 0s - loss: 1.6728e-04 - acc: 1.000 - ETA: 0s - loss: 1.6708e-04 - acc: 1.000 - ETA: 0s - loss: 1.6662e-04 - acc: 1.000 - ETA: 0s - loss: 1.6617e-04 - acc: 1.000 - ETA: 0s - loss: 1.6646e-04 - acc: 1.000 - ETA: 0s - loss: 1.6628e-04 - acc: 1.000 - ETA: 0s - loss: 1.6608e-04 - acc: 1.000 - ETA: 0s - loss: 1.6590e-04 - acc: 1.000 - ETA: 0s - loss: 1.6563e-04 - acc: 1.000 - ETA: 0s - loss: 1.6553e-04 - acc: 1.000 - 10s 381us/sample - loss: 1.6552e-04 - acc: 1.0000 - val_loss: 0.8076 - val_acc: 0.8286\n"
     ]
    }
   ],
   "source": [
    "history = model1.fit(padded,train_label_final,epochs=10,validation_data=(test_padded,test_label_final))"
   ]
  },
  {
   "cell_type": "code",
   "execution_count": 124,
   "metadata": {},
   "outputs": [],
   "source": [
    "weights = model1.layers[0].get_weights()[0]"
   ]
  },
  {
   "cell_type": "code",
   "execution_count": 125,
   "metadata": {},
   "outputs": [
    {
     "data": {
      "text/plain": [
       "(10000, 16)"
      ]
     },
     "execution_count": 125,
     "metadata": {},
     "output_type": "execute_result"
    }
   ],
   "source": [
    "weights.shape"
   ]
  },
  {
   "cell_type": "code",
   "execution_count": 121,
   "metadata": {},
   "outputs": [],
   "source": [
    "reverse_word_index = dict([(value,key) for (key,value) in word_index.items()])"
   ]
  },
  {
   "cell_type": "code",
   "execution_count": 118,
   "metadata": {},
   "outputs": [],
   "source": [
    "import io"
   ]
  },
  {
   "cell_type": "code",
   "execution_count": 119,
   "metadata": {},
   "outputs": [],
   "source": [
    "out_v = io.open(\"vecs.tsv\",\"w\",encoding='utf-8')\n",
    "out_m = io.open(\"meta.tsv\",\"w\",encoding='utf-8')"
   ]
  },
  {
   "cell_type": "code",
   "execution_count": null,
   "metadata": {},
   "outputs": [],
   "source": [
    "for word_num in range(1,vocab_size):\n",
    "    word = reverse_word_index[word_num]\n",
    "    embedding = weights[word_num]\n",
    "    out_m.write(word+'\\n')\n",
    "    out_v.write('\\t'.join([str(x) for x in embedding]) + '\\n')"
   ]
  },
  {
   "cell_type": "code",
   "execution_count": null,
   "metadata": {},
   "outputs": [],
   "source": []
  },
  {
   "cell_type": "code",
   "execution_count": null,
   "metadata": {},
   "outputs": [],
   "source": []
  },
  {
   "cell_type": "code",
   "execution_count": null,
   "metadata": {},
   "outputs": [],
   "source": []
  },
  {
   "cell_type": "code",
   "execution_count": null,
   "metadata": {},
   "outputs": [],
   "source": []
  },
  {
   "cell_type": "code",
   "execution_count": null,
   "metadata": {},
   "outputs": [],
   "source": []
  }
 ],
 "metadata": {
  "kernelspec": {
   "display_name": "Python 3",
   "language": "python",
   "name": "python3"
  },
  "language_info": {
   "codemirror_mode": {
    "name": "ipython",
    "version": 3
   },
   "file_extension": ".py",
   "mimetype": "text/x-python",
   "name": "python",
   "nbconvert_exporter": "python",
   "pygments_lexer": "ipython3",
   "version": "3.7.3"
  }
 },
 "nbformat": 4,
 "nbformat_minor": 2
}
