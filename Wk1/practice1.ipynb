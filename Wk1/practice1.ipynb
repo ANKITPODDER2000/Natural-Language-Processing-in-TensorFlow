{
 "cells": [
  {
   "cell_type": "code",
   "execution_count": 2,
   "metadata": {},
   "outputs": [],
   "source": [
    "from tensorflow.keras.preprocessing.text import Tokenizer\n",
    "from tensorflow.keras.preprocessing.sequence import pad_sequences"
   ]
  },
  {
   "cell_type": "code",
   "execution_count": 3,
   "metadata": {},
   "outputs": [],
   "source": [
    "import json"
   ]
  },
  {
   "cell_type": "code",
   "execution_count": 5,
   "metadata": {},
   "outputs": [],
   "source": [
    "with open(\"./Sarcasm_Headlines_Dataset.json\",'r') as f:\n",
    "    dataset = f.read().split(\"\\n\")"
   ]
  },
  {
   "cell_type": "code",
   "execution_count": 7,
   "metadata": {},
   "outputs": [],
   "source": [
    "dataset = dataset[:-1]"
   ]
  },
  {
   "cell_type": "code",
   "execution_count": 13,
   "metadata": {},
   "outputs": [],
   "source": [
    "data = []\n",
    "for i in dataset:\n",
    "    data.append(json.loads(i))"
   ]
  },
  {
   "cell_type": "code",
   "execution_count": 17,
   "metadata": {},
   "outputs": [],
   "source": [
    "headline = []\n",
    "for i in data:\n",
    "    headline.append(i['headline'])"
   ]
  },
  {
   "cell_type": "code",
   "execution_count": 19,
   "metadata": {},
   "outputs": [],
   "source": [
    "tokenizer = Tokenizer(oov_token=\"<oov>\")\n",
    "tokenizer.fit_on_texts(headline)\n",
    "word_index = tokenizer.word_index\n",
    "seq = tokenizer.texts_to_sequences(headline)\n",
    "pad_seq = pad_sequences(seq,padding=\"post\")"
   ]
  },
  {
   "cell_type": "code",
   "execution_count": 21,
   "metadata": {},
   "outputs": [],
   "source": [
    "rev_word_index = {}\n",
    "for key,value in word_index.items():\n",
    "    rev_word_index[value] = key"
   ]
  },
  {
   "cell_type": "code",
   "execution_count": 25,
   "metadata": {},
   "outputs": [],
   "source": [
    "def sequences_to_texts(seq):\n",
    "    LINE = []\n",
    "    for i in seq:\n",
    "        line = \"\"\n",
    "        for val in i:\n",
    "            line += rev_word_index[val] +\" \"\n",
    "        line = line[:-1]\n",
    "        LINE.append(line)\n",
    "    return LINE"
   ]
  },
  {
   "cell_type": "code",
   "execution_count": 32,
   "metadata": {},
   "outputs": [
    {
     "name": "stdout",
     "output_type": "stream",
     "text": [
      "Seq is :=  [[80, 108, 58, 2, 162, 823]]\n",
      "Predicted line :=  ['i would like to take coffee']\n"
     ]
    }
   ],
   "source": [
    "line = [\"I would like to take coffee\"]\n",
    "s = tokenizer.texts_to_sequences(line)\n",
    "print(\"Seq is := \",s)\n",
    "print(\"Predicted line := \",sequences_to_texts(s))"
   ]
  }
 ],
 "metadata": {
  "kernelspec": {
   "display_name": "Python 3",
   "language": "python",
   "name": "python3"
  },
  "language_info": {
   "codemirror_mode": {
    "name": "ipython",
    "version": 3
   },
   "file_extension": ".py",
   "mimetype": "text/x-python",
   "name": "python",
   "nbconvert_exporter": "python",
   "pygments_lexer": "ipython3",
   "version": "3.7.3"
  }
 },
 "nbformat": 4,
 "nbformat_minor": 2
}
