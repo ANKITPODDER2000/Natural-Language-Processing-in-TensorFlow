{
 "cells": [
  {
   "cell_type": "code",
   "execution_count": 3,
   "metadata": {},
   "outputs": [],
   "source": [
    "from tensorflow.keras.preprocessing.text import Tokenizer"
   ]
  },
  {
   "cell_type": "code",
   "execution_count": 4,
   "metadata": {},
   "outputs": [],
   "source": [
    "#Out of Vocabulary\n",
    "tokenizer = Tokenizer(num_words=100,oov_token=\"<OOV>\")\n",
    "sen = [\n",
    "    'I Like to eat street food.',\n",
    "    'I like to write c programming instead python'\n",
    "]\n",
    "\n",
    "tokenizer.fit_on_texts(sen)"
   ]
  },
  {
   "cell_type": "code",
   "execution_count": 5,
   "metadata": {},
   "outputs": [
    {
     "name": "stdout",
     "output_type": "stream",
     "text": [
      "{'<OOV>': 1, 'i': 2, 'like': 3, 'to': 4, 'eat': 5, 'street': 6, 'food': 7, 'write': 8, 'c': 9, 'programming': 10, 'instead': 11, 'python': 12}\n"
     ]
    }
   ],
   "source": [
    "print(tokenizer.word_index)"
   ]
  },
  {
   "cell_type": "code",
   "execution_count": 6,
   "metadata": {},
   "outputs": [
    {
     "name": "stdout",
     "output_type": "stream",
     "text": [
      "[[2, 3, 4, 5, 6, 7], [2, 3, 4, 8, 9, 10, 11, 12]]\n"
     ]
    }
   ],
   "source": [
    "print(tokenizer.texts_to_sequences(sen))"
   ]
  },
  {
   "cell_type": "code",
   "execution_count": 7,
   "metadata": {},
   "outputs": [],
   "source": [
    "sen.append(\"He is willing to learn Programming.\")"
   ]
  },
  {
   "cell_type": "code",
   "execution_count": 8,
   "metadata": {},
   "outputs": [
    {
     "name": "stdout",
     "output_type": "stream",
     "text": [
      "['I Like to eat street food.', 'I like to write c programming instead python', 'He is willing to learn Programming.']\n"
     ]
    }
   ],
   "source": [
    "print(sen)"
   ]
  },
  {
   "cell_type": "code",
   "execution_count": 9,
   "metadata": {},
   "outputs": [
    {
     "name": "stdout",
     "output_type": "stream",
     "text": [
      "[[2, 3, 4, 5, 6, 7], [2, 3, 4, 8, 9, 10, 11, 12], [1, 1, 1, 4, 1, 10]]\n"
     ]
    }
   ],
   "source": [
    "print(tokenizer.texts_to_sequences(sen))"
   ]
  },
  {
   "cell_type": "code",
   "execution_count": null,
   "metadata": {},
   "outputs": [],
   "source": []
  }
 ],
 "metadata": {
  "kernelspec": {
   "display_name": "Python 3",
   "language": "python",
   "name": "python3"
  },
  "language_info": {
   "codemirror_mode": {
    "name": "ipython",
    "version": 3
   },
   "file_extension": ".py",
   "mimetype": "text/x-python",
   "name": "python",
   "nbconvert_exporter": "python",
   "pygments_lexer": "ipython3",
   "version": "3.7.3"
  }
 },
 "nbformat": 4,
 "nbformat_minor": 2
}
