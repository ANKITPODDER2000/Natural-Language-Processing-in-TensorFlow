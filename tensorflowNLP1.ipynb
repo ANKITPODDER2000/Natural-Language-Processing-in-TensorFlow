{
  "nbformat": 4,
  "nbformat_minor": 0,
  "metadata": {
    "colab": {
      "name": "tensorflowNLP1.ipynb",
      "provenance": [],
      "authorship_tag": "ABX9TyMCWXkCUnLZxlxdRAIRC+C6",
      "include_colab_link": true
    },
    "kernelspec": {
      "name": "python3",
      "display_name": "Python 3"
    },
    "accelerator": "GPU"
  },
  "cells": [
    {
      "cell_type": "markdown",
      "metadata": {
        "id": "view-in-github",
        "colab_type": "text"
      },
      "source": [
        "<a href=\"https://colab.research.google.com/github/ANKITPODDER2000/Natural-Language-Processing-in-TensorFlow/blob/master/tensorflowNLP1.ipynb\" target=\"_parent\"><img src=\"https://colab.research.google.com/assets/colab-badge.svg\" alt=\"Open In Colab\"/></a>"
      ]
    },
    {
      "cell_type": "code",
      "metadata": {
        "id": "0CzEN1pjTZJy",
        "colab_type": "code",
        "colab": {}
      },
      "source": [
        "import tensorflow as tf"
      ],
      "execution_count": 0,
      "outputs": []
    },
    {
      "cell_type": "code",
      "metadata": {
        "id": "GE7XoRyGTxlL",
        "colab_type": "code",
        "colab": {}
      },
      "source": [
        "import tensorflow_datasets as tfds"
      ],
      "execution_count": 0,
      "outputs": []
    },
    {
      "cell_type": "code",
      "metadata": {
        "id": "aXC_3wtPT3y6",
        "colab_type": "code",
        "colab": {}
      },
      "source": [
        "imdb , info = tfds.load(name=\"imdb_reviews\",with_info=True,as_supervised=True)"
      ],
      "execution_count": 0,
      "outputs": []
    },
    {
      "cell_type": "code",
      "metadata": {
        "id": "VebQuXHnUOpf",
        "colab_type": "code",
        "colab": {}
      },
      "source": [
        "train_sentence = []\n",
        "train_label    = []\n",
        "test_sentence  = []\n",
        "test_label     = []\n",
        "\n",
        "for s,l in imdb['train']:\n",
        "    train_sentence.append(s.numpy())\n",
        "    train_label.append(l.numpy())\n",
        "\n",
        "for s,l in imdb['test']:\n",
        "    test_sentence.append(s.numpy())\n",
        "    test_label.append(l.numpy())"
      ],
      "execution_count": 0,
      "outputs": []
    },
    {
      "cell_type": "code",
      "metadata": {
        "id": "Z6iRDNTrXVum",
        "colab_type": "code",
        "colab": {
          "base_uri": "https://localhost:8080/",
          "height": 185
        },
        "outputId": "b688c5ad-7fd1-4d33-a200-7f755fd53f41"
      },
      "source": [
        "print(\"Details :\\n********************************\")\n",
        "print(\"\\nTrain len :\\n================================\")\n",
        "print(\"train_sentence len : \",len(train_sentence))\n",
        "print(\"\\nTest len :\\n================================\")\n",
        "print(\"test_sentence len : \",len(test_sentence))"
      ],
      "execution_count": 15,
      "outputs": [
        {
          "output_type": "stream",
          "text": [
            "Details :\n",
            "********************************\n",
            "\n",
            "Train len :\n",
            "================================\n",
            "train_sentence len :  25000\n",
            "\n",
            "Test len :\n",
            "================================\n",
            "test_sentence len :  25000\n"
          ],
          "name": "stdout"
        }
      ]
    },
    {
      "cell_type": "code",
      "metadata": {
        "id": "W5jGssnyXrsv",
        "colab_type": "code",
        "colab": {}
      },
      "source": [
        "import numpy as np"
      ],
      "execution_count": 0,
      "outputs": []
    },
    {
      "cell_type": "code",
      "metadata": {
        "id": "GxnNaJagYCBl",
        "colab_type": "code",
        "colab": {}
      },
      "source": [
        "train_label_final = np.array(train_label)\n",
        "test_label_final  = np.array(test_label)"
      ],
      "execution_count": 0,
      "outputs": []
    },
    {
      "cell_type": "code",
      "metadata": {
        "id": "8X4J8a2vYKCR",
        "colab_type": "code",
        "colab": {
          "base_uri": "https://localhost:8080/",
          "height": 218
        },
        "outputId": "9bdf89aa-cd39-4991-eacd-755ba22828a9"
      },
      "source": [
        "print(\"Details :\\n********************************\")\n",
        "print(\"\\nTrain len :\\n================================\")\n",
        "print(\"train_sentence len : \",len(train_sentence))\n",
        "print(\"Shape of train_label : \",train_label_final.shape)\n",
        "print(\"\\nTest len :\\n================================\")\n",
        "print(\"test_sentence len : \",len(test_sentence))\n",
        "print(\"Shape of test_label : \",test_label_final.shape)"
      ],
      "execution_count": 18,
      "outputs": [
        {
          "output_type": "stream",
          "text": [
            "Details :\n",
            "********************************\n",
            "\n",
            "Train len :\n",
            "================================\n",
            "train_sentence len :  25000\n",
            "Shape of train_label :  (25000,)\n",
            "\n",
            "Test len :\n",
            "================================\n",
            "test_sentence len :  25000\n",
            "Shape of test_label :  (25000,)\n"
          ],
          "name": "stdout"
        }
      ]
    },
    {
      "cell_type": "code",
      "metadata": {
        "id": "gNjBJhipZMHO",
        "colab_type": "code",
        "colab": {}
      },
      "source": [
        "for i in range(len(train_sentence)):\n",
        "    train_sentence[i] = str(train_sentence[i])[2:-1]"
      ],
      "execution_count": 0,
      "outputs": []
    },
    {
      "cell_type": "code",
      "metadata": {
        "id": "3xWbaNItZMyK",
        "colab_type": "code",
        "colab": {}
      },
      "source": [
        "for i in range(len(test_sentence)):\n",
        "    test_sentence[i] = str(test_sentence[i])[2:-1]"
      ],
      "execution_count": 0,
      "outputs": []
    },
    {
      "cell_type": "code",
      "metadata": {
        "id": "7D9QiNXmZM3E",
        "colab_type": "code",
        "colab": {
          "base_uri": "https://localhost:8080/",
          "height": 218
        },
        "outputId": "4b9c2294-15a6-49fc-e4a7-4ac86806c20e"
      },
      "source": [
        "print(\"Details :\\n********************************\")\n",
        "print(\"\\nTrain len :\\n================================\")\n",
        "print(\"train_sentence len : \",len(train_sentence))\n",
        "print(\"Shape of train_label : \",train_label_final.shape)\n",
        "print(\"\\nTest len :\\n================================\")\n",
        "print(\"test_sentence len : \",len(test_sentence))\n",
        "print(\"Shape of test_label : \",test_label_final.shape)"
      ],
      "execution_count": 26,
      "outputs": [
        {
          "output_type": "stream",
          "text": [
            "Details :\n",
            "********************************\n",
            "\n",
            "Train len :\n",
            "================================\n",
            "train_sentence len :  25000\n",
            "Shape of train_label :  (25000,)\n",
            "\n",
            "Test len :\n",
            "================================\n",
            "test_sentence len :  25000\n",
            "Shape of test_label :  (25000,)\n"
          ],
          "name": "stdout"
        }
      ]
    },
    {
      "cell_type": "code",
      "metadata": {
        "id": "ROx2NFkIZcN6",
        "colab_type": "code",
        "colab": {}
      },
      "source": [
        "#train_sentence[0]"
      ],
      "execution_count": 0,
      "outputs": []
    },
    {
      "cell_type": "code",
      "metadata": {
        "id": "vL_8fbG6YX4R",
        "colab_type": "code",
        "colab": {}
      },
      "source": [
        "from tensorflow.keras.preprocessing.text import Tokenizer\n",
        "from tensorflow.keras.preprocessing.sequence import pad_sequences"
      ],
      "execution_count": 0,
      "outputs": []
    },
    {
      "cell_type": "code",
      "metadata": {
        "id": "z-M3p6w2YomY",
        "colab_type": "code",
        "colab": {}
      },
      "source": [
        "vocab_size = 10000\n",
        "oov_token = \"<OOV>\""
      ],
      "execution_count": 0,
      "outputs": []
    },
    {
      "cell_type": "code",
      "metadata": {
        "id": "pNOLr6UTYzk-",
        "colab_type": "code",
        "colab": {}
      },
      "source": [
        "tokenizer = Tokenizer(num_words=vocab_size,oov_token=oov_token)\n",
        "tokenizer.fit_on_texts(train_sentence)\n",
        "word_index = tokenizer.word_index\n",
        "sequece_train = tokenizer.texts_to_sequences(train_sentence)\n",
        "X_train = pad_sequences(sequences=sequece_train,maxlen=120,padding='post',truncating=\"post\")"
      ],
      "execution_count": 0,
      "outputs": []
    },
    {
      "cell_type": "code",
      "metadata": {
        "id": "aEQvaGUHZkMO",
        "colab_type": "code",
        "colab": {
          "base_uri": "https://localhost:8080/",
          "height": 34
        },
        "outputId": "b855e96b-6595-4118-d057-3e39bb4f0414"
      },
      "source": [
        "print(\"Shape of X_train : \",X_train.shape)"
      ],
      "execution_count": 31,
      "outputs": [
        {
          "output_type": "stream",
          "text": [
            "Shape of X_train :  (25000, 120)\n"
          ],
          "name": "stdout"
        }
      ]
    },
    {
      "cell_type": "code",
      "metadata": {
        "id": "iT5ZF8lLacFy",
        "colab_type": "code",
        "colab": {}
      },
      "source": [
        "#X_train[0]"
      ],
      "execution_count": 0,
      "outputs": []
    },
    {
      "cell_type": "code",
      "metadata": {
        "id": "nY3w8frOaerP",
        "colab_type": "code",
        "colab": {}
      },
      "source": [
        "sequence_test = tokenizer.texts_to_sequences(test_sentence)\n",
        "X_test = pad_sequences(sequence_test,maxlen=120,truncating='post',padding='post')"
      ],
      "execution_count": 0,
      "outputs": []
    },
    {
      "cell_type": "code",
      "metadata": {
        "id": "HcCnMjrqa9C1",
        "colab_type": "code",
        "colab": {
          "base_uri": "https://localhost:8080/",
          "height": 34
        },
        "outputId": "5f9abc51-8226-4b2d-96b2-50b8ef224d05"
      },
      "source": [
        "print(\"X_test shape : \",X_train.shape)"
      ],
      "execution_count": 35,
      "outputs": [
        {
          "output_type": "stream",
          "text": [
            "X_test shape :  (25000, 120)\n"
          ],
          "name": "stdout"
        }
      ]
    },
    {
      "cell_type": "code",
      "metadata": {
        "id": "5wHsiNNwbDes",
        "colab_type": "code",
        "colab": {
          "base_uri": "https://localhost:8080/",
          "height": 218
        },
        "outputId": "f06b66c6-0524-4a07-8305-6679f5546f29"
      },
      "source": [
        "print(\"Details :\\n********************************\")\n",
        "print(\"\\nTrain Shape :\\n================================\")\n",
        "print(\"X_train shape : \",X_train.shape)\n",
        "print(\"Shape of train_label : \",train_label_final.shape)\n",
        "print(\"\\nTest Shape :\\n================================\")\n",
        "print(\"X_test shape : \",X_test.shape)\n",
        "print(\"Shape of test_label : \",test_label_final.shape)"
      ],
      "execution_count": 36,
      "outputs": [
        {
          "output_type": "stream",
          "text": [
            "Details :\n",
            "********************************\n",
            "\n",
            "Train Shape :\n",
            "================================\n",
            "X_train shape :  (25000, 120)\n",
            "Shape of train_label :  (25000,)\n",
            "\n",
            "Test Shape :\n",
            "================================\n",
            "X_test shape :  (25000, 120)\n",
            "Shape of test_label :  (25000,)\n"
          ],
          "name": "stdout"
        }
      ]
    },
    {
      "cell_type": "code",
      "metadata": {
        "id": "rNB7ZmQ-bS0G",
        "colab_type": "code",
        "colab": {}
      },
      "source": [
        "model1 = tf.keras.models.Sequential([\n",
        "    tf.keras.layers.Embedding(vocab_size,16,input_length=120),\n",
        "\n",
        "    tf.keras.layers.Flatten(),\n",
        "    tf.keras.layers.Dense(6,activation='relu'),\n",
        "    tf.keras.layers.Dense(1,activation='sigmoid')\n",
        "])\n",
        "\n",
        "model1.compile(optimizer='adam',loss=tf.keras.losses.binary_crossentropy,metrics=['acc'])"
      ],
      "execution_count": 0,
      "outputs": []
    },
    {
      "cell_type": "code",
      "metadata": {
        "id": "PmSNuRVFcZMd",
        "colab_type": "code",
        "colab": {
          "base_uri": "https://localhost:8080/",
          "height": 286
        },
        "outputId": "8053dd72-9359-40ae-86fe-5b3b2e38eb7a"
      },
      "source": [
        "model1.summary()"
      ],
      "execution_count": 39,
      "outputs": [
        {
          "output_type": "stream",
          "text": [
            "Model: \"sequential_1\"\n",
            "_________________________________________________________________\n",
            "Layer (type)                 Output Shape              Param #   \n",
            "=================================================================\n",
            "embedding_1 (Embedding)      (None, 120, 16)           160000    \n",
            "_________________________________________________________________\n",
            "flatten_1 (Flatten)          (None, 1920)              0         \n",
            "_________________________________________________________________\n",
            "dense_2 (Dense)              (None, 6)                 11526     \n",
            "_________________________________________________________________\n",
            "dense_3 (Dense)              (None, 1)                 7         \n",
            "=================================================================\n",
            "Total params: 171,533\n",
            "Trainable params: 171,533\n",
            "Non-trainable params: 0\n",
            "_________________________________________________________________\n"
          ],
          "name": "stdout"
        }
      ]
    },
    {
      "cell_type": "code",
      "metadata": {
        "id": "HXvSWHKBcnHM",
        "colab_type": "code",
        "colab": {
          "base_uri": "https://localhost:8080/",
          "height": 353
        },
        "outputId": "5defd0a3-d85f-4757-c5f7-bb8fd94a6b0e"
      },
      "source": [
        "history = model1.fit(X_train,train_label_final,epochs=10,validation_data=(X_test,test_label_final))"
      ],
      "execution_count": 40,
      "outputs": [
        {
          "output_type": "stream",
          "text": [
            "Epoch 1/10\n",
            "782/782 [==============================] - 7s 9ms/step - loss: 0.4947 - acc: 0.7439 - val_loss: 0.3876 - val_acc: 0.8262\n",
            "Epoch 2/10\n",
            "782/782 [==============================] - 7s 9ms/step - loss: 0.2355 - acc: 0.9100 - val_loss: 0.4160 - val_acc: 0.8160\n",
            "Epoch 3/10\n",
            "782/782 [==============================] - 7s 9ms/step - loss: 0.0874 - acc: 0.9779 - val_loss: 0.5137 - val_acc: 0.8057\n",
            "Epoch 4/10\n",
            "782/782 [==============================] - 7s 9ms/step - loss: 0.0215 - acc: 0.9973 - val_loss: 0.6006 - val_acc: 0.8047\n",
            "Epoch 5/10\n",
            "782/782 [==============================] - 7s 9ms/step - loss: 0.0052 - acc: 0.9996 - val_loss: 0.6740 - val_acc: 0.8060\n",
            "Epoch 6/10\n",
            "782/782 [==============================] - 7s 9ms/step - loss: 0.0017 - acc: 1.0000 - val_loss: 0.7319 - val_acc: 0.8067\n",
            "Epoch 7/10\n",
            "782/782 [==============================] - 7s 9ms/step - loss: 8.2411e-04 - acc: 1.0000 - val_loss: 0.7812 - val_acc: 0.8066\n",
            "Epoch 8/10\n",
            "782/782 [==============================] - 7s 9ms/step - loss: 4.5939e-04 - acc: 1.0000 - val_loss: 0.8292 - val_acc: 0.8071\n",
            "Epoch 9/10\n",
            "782/782 [==============================] - 7s 9ms/step - loss: 2.6579e-04 - acc: 1.0000 - val_loss: 0.8703 - val_acc: 0.8073\n",
            "Epoch 10/10\n",
            "782/782 [==============================] - 7s 8ms/step - loss: 1.5775e-04 - acc: 1.0000 - val_loss: 0.9149 - val_acc: 0.8068\n"
          ],
          "name": "stdout"
        }
      ]
    },
    {
      "cell_type": "code",
      "metadata": {
        "id": "4bueMJJlc9Ub",
        "colab_type": "code",
        "colab": {}
      },
      "source": [
        "import matplotlib.pyplot as plt\n",
        "%matplotlib inline"
      ],
      "execution_count": 0,
      "outputs": []
    },
    {
      "cell_type": "code",
      "metadata": {
        "id": "VZTJBR4ldXDp",
        "colab_type": "code",
        "colab": {}
      },
      "source": [
        "def plotHostory(history):\n",
        "    fig,ax = plt.subplots(1,2,figsize=(20,9))\n",
        "\n",
        "    ax[0].plot(history.history['acc'],label=\"Train\",marker='o')\n",
        "    ax[0].plot(history.history['val_acc'],label = \"Test\",marker='o')\n",
        "    ax[1].set_title(\"Accurecy\")\n",
        "    ax[0].legend()\n",
        "\n",
        "    ax[1].plot(history.history['loss'],label=\"Train\",marker='o')\n",
        "    ax[1].plot(history.history['val_loss'],label = \"Test\",marker='o')\n",
        "    ax[1].set_title(\"Loss\")\n",
        "    ax[1].legend()"
      ],
      "execution_count": 0,
      "outputs": []
    },
    {
      "cell_type": "code",
      "metadata": {
        "id": "qI2XlkD5eKbL",
        "colab_type": "code",
        "colab": {
          "base_uri": "https://localhost:8080/",
          "height": 553
        },
        "outputId": "62182038-d490-4b0d-aa35-707bfb0d4680"
      },
      "source": [
        "plotHostory(history)"
      ],
      "execution_count": 48,
      "outputs": [
        {
          "output_type": "display_data",
          "data": {
            "image/png": "[encoded data removed]",
            "text/plain": [
              "<Figure size 1440x648 with 2 Axes>"
            ]
          },
          "metadata": {
            "tags": [],
            "needs_background": "light"
          }
        }
      ]
    },
    {
      "cell_type": "code",
      "metadata": {
        "id": "FTosNwbbeMgb",
        "colab_type": "code",
        "colab": {}
      },
      "source": [
        ""
      ],
      "execution_count": 0,
      "outputs": []
    }
  ]
}