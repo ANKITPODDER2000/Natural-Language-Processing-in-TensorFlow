{
 "cells": [
  {
   "cell_type": "code",
   "execution_count": 1,
   "metadata": {},
   "outputs": [
    {
     "name": "stdout",
     "output_type": "stream",
     "text": [
      "Version iof tensorflow is :=  2.1.0\n"
     ]
    }
   ],
   "source": [
    "import tensorflow as tf\n",
    "print(\"Version iof tensorflow is := \",tf.__version__)\n",
    "import matplotlib.pyplot as plt\n",
    "%matplotlib inline"
   ]
  },
  {
   "cell_type": "code",
   "execution_count": 2,
   "metadata": {},
   "outputs": [],
   "source": [
    "import json"
   ]
  },
  {
   "cell_type": "code",
   "execution_count": 3,
   "metadata": {},
   "outputs": [],
   "source": [
    "with open(\"./Sarcasm_Headlines_Dataset.json\",\"r\") as f:\n",
    "    doc = f.read()"
   ]
  },
  {
   "cell_type": "code",
   "execution_count": 6,
   "metadata": {},
   "outputs": [],
   "source": [
    "doc = doc.split(\"\\n\")"
   ]
  },
  {
   "cell_type": "code",
   "execution_count": 20,
   "metadata": {},
   "outputs": [],
   "source": [
    "data  = []\n",
    "label = []\n",
    "\n",
    "for i in range(len(doc)-1):\n",
    "    d = json.loads(doc[i])\n",
    "    data.append(d['headline'])\n",
    "    label.append(d['is_sarcastic'])"
   ]
  },
  {
   "cell_type": "code",
   "execution_count": 42,
   "metadata": {},
   "outputs": [],
   "source": [
    "train_data = data[:20000]\n",
    "train_label = label[:20000]\n",
    "\n",
    "test_data  = data[20000:]\n",
    "test_label = label[20000:]"
   ]
  },
  {
   "cell_type": "code",
   "execution_count": 33,
   "metadata": {},
   "outputs": [],
   "source": [
    "num_words = 10000\n",
    "maxlen = 40\n",
    "embedding_dim = 32\n",
    "truncating = \"post\"\n",
    "padding = \"post\"\n",
    "oov_token = \"<OOV>\""
   ]
  },
  {
   "cell_type": "code",
   "execution_count": 34,
   "metadata": {},
   "outputs": [],
   "source": [
    "tokenizer = tf.keras.preprocessing.text.Tokenizer(num_words=num_words,oov_token=oov_token)\n",
    "tokenizer.fit_on_texts(train_data)\n",
    "word_index = tokenizer.word_index\n",
    "train_seq = tokenizer.texts_to_sequences(train_data)\n",
    "train_seq = tf.keras.preprocessing.sequence.pad_sequences(train_seq,maxlen=maxlen,truncating=truncating,padding=padding)\n",
    "test_seq  = tokenizer.texts_to_sequences(test_data)\n",
    "test_seq  = tf.keras.preprocessing.sequence.pad_sequences(test_seq,maxlen=maxlen,truncating=truncating,padding=padding)"
   ]
  },
  {
   "cell_type": "code",
   "execution_count": 35,
   "metadata": {},
   "outputs": [
    {
     "name": "stdout",
     "output_type": "stream",
     "text": [
      "[ 328    1  799 3405 2404   47  389 2214    1    6 2614 8863    0    0\n",
      "    0    0    0    0    0    0    0    0    0    0    0    0    0    0\n",
      "    0    0    0    0    0    0    0    0    0    0    0    0]\n",
      "[   4 6840 3096 3097   23    2  161    1  390 2842    6  251    9  889\n",
      "    0    0    0    0    0    0    0    0    0    0    0    0    0    0\n",
      "    0    0    0    0    0    0    0    0    0    0    0    0]\n",
      "[ 153  890    2  891 1445 2215  595 5650  221  133   36   45    2 8864\n",
      "    0    0    0    0    0    0    0    0    0    0    0    0    0    0\n",
      "    0    0    0    0    0    0    0    0    0    0    0    0]\n",
      "[1252   38  213  382    2 1572   29  288   23   10 2405 1446 5651  958\n",
      "    0    0    0    0    0    0    0    0    0    0    0    0    0    0\n",
      "    0    0    0    0    0    0    0    0    0    0    0    0]\n",
      "[ 715  672 5652 1043 8865  662  553    5    4   92 1253   90    0    0\n",
      "    0    0    0    0    0    0    0    0    0    0    0    0    0    0\n",
      "    0    0    0    0    0    0    0    0    0    0    0    0]\n"
     ]
    }
   ],
   "source": [
    "for i in train_seq[:5]:\n",
    "    print(i)"
   ]
  },
  {
   "cell_type": "code",
   "execution_count": 36,
   "metadata": {},
   "outputs": [
    {
     "name": "stdout",
     "output_type": "stream",
     "text": [
      "Model: \"sequential\"\n",
      "_________________________________________________________________\n",
      "Layer (type)                 Output Shape              Param #   \n",
      "=================================================================\n",
      "embedding (Embedding)        (None, 40, 32)            320000    \n",
      "_________________________________________________________________\n",
      "global_average_pooling1d (Gl (None, 32)                0         \n",
      "_________________________________________________________________\n",
      "dense (Dense)                (None, 6)                 198       \n",
      "_________________________________________________________________\n",
      "dense_1 (Dense)              (None, 1)                 7         \n",
      "=================================================================\n",
      "Total params: 320,205\n",
      "Trainable params: 320,205\n",
      "Non-trainable params: 0\n",
      "_________________________________________________________________\n"
     ]
    }
   ],
   "source": [
    "model1 = tf.keras.models.Sequential([\n",
    "    tf.keras.layers.Embedding(num_words,embedding_dim,input_length=maxlen),\n",
    "    tf.keras.layers.GlobalAveragePooling1D(),\n",
    "    tf.keras.layers.Dense(6,activation='relu'),\n",
    "    tf.keras.layers.Dense(1,activation=\"sigmoid\")\n",
    "])\n",
    "\n",
    "model1.summary()"
   ]
  },
  {
   "cell_type": "code",
   "execution_count": 44,
   "metadata": {},
   "outputs": [],
   "source": [
    "import numpy as np\n",
    "train_label = np.array(train_label)\n",
    "test_label  = np.array(test_label)"
   ]
  },
  {
   "cell_type": "code",
   "execution_count": 38,
   "metadata": {},
   "outputs": [],
   "source": [
    "model1.compile(optimizer='adam',loss=tf.keras.losses.binary_crossentropy,metrics=['acc'])"
   ]
  },
  {
   "cell_type": "code",
   "execution_count": 47,
   "metadata": {},
   "outputs": [
    {
     "name": "stdout",
     "output_type": "stream",
     "text": [
      "Train on 20000 samples, validate on 6709 samples\n",
      "Epoch 1/20\n",
      "20000/20000 [==============================] - 6s 278us/sample - loss: 0.1552 - acc: 0.9455 - val_loss: 0.3730 - val_acc: 0.8520\n",
      "Epoch 2/20\n",
      "20000/20000 [==============================] - 6s 280us/sample - loss: 0.1355 - acc: 0.9528 - val_loss: 0.3965 - val_acc: 0.8520\n",
      "Epoch 3/20\n",
      "20000/20000 [==============================] - 6s 284us/sample - loss: 0.1187 - acc: 0.9606 - val_loss: 0.4247 - val_acc: 0.8453\n",
      "Epoch 4/20\n",
      "20000/20000 [==============================] - 6s 285us/sample - loss: 0.1071 - acc: 0.9646 - val_loss: 0.4493 - val_acc: 0.8445\n",
      "Epoch 5/20\n",
      "20000/20000 [==============================] - 6s 281us/sample - loss: 0.0937 - acc: 0.9706 - val_loss: 0.4832 - val_acc: 0.8395\n",
      "Epoch 6/20\n",
      "20000/20000 [==============================] - 6s 291us/sample - loss: 0.0834 - acc: 0.9728 - val_loss: 0.5184 - val_acc: 0.8354\n",
      "Epoch 7/20\n",
      "20000/20000 [==============================] - 6s 297us/sample - loss: 0.0742 - acc: 0.9771 - val_loss: 0.5620 - val_acc: 0.8319\n",
      "Epoch 8/20\n",
      "20000/20000 [==============================] - 6s 289us/sample - loss: 0.0671 - acc: 0.9791 - val_loss: 0.5949 - val_acc: 0.8299\n",
      "Epoch 9/20\n",
      "20000/20000 [==============================] - 6s 306us/sample - loss: 0.0602 - acc: 0.9822 - val_loss: 0.6223 - val_acc: 0.8284\n",
      "Epoch 10/20\n",
      "20000/20000 [==============================] - 6s 290us/sample - loss: 0.0543 - acc: 0.9853 - val_loss: 0.6680 - val_acc: 0.8272\n",
      "Epoch 11/20\n",
      "20000/20000 [==============================] - 6s 290us/sample - loss: 0.0485 - acc: 0.9867 - val_loss: 0.7005 - val_acc: 0.8272\n",
      "Epoch 12/20\n",
      "20000/20000 [==============================] - 6s 289us/sample - loss: 0.0431 - acc: 0.9882 - val_loss: 0.7478 - val_acc: 0.8244\n",
      "Epoch 13/20\n",
      "20000/20000 [==============================] - 6s 290us/sample - loss: 0.0386 - acc: 0.9898 - val_loss: 0.7823 - val_acc: 0.8210\n",
      "Epoch 14/20\n",
      "20000/20000 [==============================] - 6s 290us/sample - loss: 0.0355 - acc: 0.9902 - val_loss: 0.8462 - val_acc: 0.8185\n",
      "Epoch 15/20\n",
      "20000/20000 [==============================] - 6s 290us/sample - loss: 0.0319 - acc: 0.9919 - val_loss: 0.8675 - val_acc: 0.8168\n",
      "Epoch 16/20\n",
      "20000/20000 [==============================] - 6s 290us/sample - loss: 0.0301 - acc: 0.9924 - val_loss: 0.9241 - val_acc: 0.8143\n",
      "Epoch 17/20\n",
      "20000/20000 [==============================] - 6s 290us/sample - loss: 0.0264 - acc: 0.9930 - val_loss: 0.9594 - val_acc: 0.8137\n",
      "Epoch 18/20\n",
      "20000/20000 [==============================] - 6s 289us/sample - loss: 0.0237 - acc: 0.9941 - val_loss: 1.0109 - val_acc: 0.8103\n",
      "Epoch 19/20\n",
      "20000/20000 [==============================] - 6s 289us/sample - loss: 0.0219 - acc: 0.9941 - val_loss: 1.0621 - val_acc: 0.8094\n",
      "Epoch 20/20\n",
      "20000/20000 [==============================] - 6s 290us/sample - loss: 0.0202 - acc: 0.9952 - val_loss: 1.1186 - val_acc: 0.8097\n"
     ]
    }
   ],
   "source": [
    "his1 = model1.fit(train_seq,train_label ,epochs=20,validation_data=(test_seq,test_label))"
   ]
  },
  {
   "cell_type": "code",
   "execution_count": 48,
   "metadata": {},
   "outputs": [
    {
     "data": {
      "text/plain": [
       "[<matplotlib.lines.Line2D at 0x23a3e2f6470>]"
      ]
     },
     "execution_count": 48,
     "metadata": {},
     "output_type": "execute_result"
    },
    {
     "data": {
      "image/png": "[encoded data removed]",
      "text/plain": [
       "<Figure size 1008x360 with 2 Axes>"
      ]
     },
     "metadata": {
      "needs_background": "light"
     },
     "output_type": "display_data"
    }
   ],
   "source": [
    "_ , ax = plt.subplots(1,2,figsize=(14,5))\n",
    "ax[0].plot(his1.history['acc'])\n",
    "ax[0].plot(his1.history['val_acc'])\n",
    "ax[1].plot(his1.history['loss'])\n",
    "ax[1].plot(his1.history['val_loss'])"
   ]
  }
 ],
 "metadata": {
  "kernelspec": {
   "display_name": "Python 3",
   "language": "python",
   "name": "python3"
  },
  "language_info": {
   "codemirror_mode": {
    "name": "ipython",
    "version": 3
   },
   "file_extension": ".py",
   "mimetype": "text/x-python",
   "name": "python",
   "nbconvert_exporter": "python",
   "pygments_lexer": "ipython3",
   "version": "3.7.3"
  }
 },
 "nbformat": 4,
 "nbformat_minor": 2
}
