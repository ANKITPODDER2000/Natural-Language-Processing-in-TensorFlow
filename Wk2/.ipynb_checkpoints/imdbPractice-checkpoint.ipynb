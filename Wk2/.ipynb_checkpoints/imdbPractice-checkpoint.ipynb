{
 "cells": [
  {
   "cell_type": "code",
   "execution_count": 1,
   "metadata": {},
   "outputs": [
    {
     "name": "stdout",
     "output_type": "stream",
     "text": [
      "Version of tensorflow is :=  2.1.0\n"
     ]
    }
   ],
   "source": [
    "import tensorflow as tf\n",
    "print(\"Version of tensorflow is := \",tf.__version__)"
   ]
  },
  {
   "cell_type": "code",
   "execution_count": 10,
   "metadata": {},
   "outputs": [],
   "source": [
    "from tensorflow.keras.preprocessing.text import Tokenizer\n",
    "from tensorflow.keras.preprocessing.sequence import pad_sequences"
   ]
  },
  {
   "cell_type": "code",
   "execution_count": 32,
   "metadata": {},
   "outputs": [],
   "source": [
    "import numpy as np"
   ]
  },
  {
   "cell_type": "code",
   "execution_count": 44,
   "metadata": {},
   "outputs": [],
   "source": [
    "import matplotlib.pyplot as plt\n",
    "%matplotlib inline"
   ]
  },
  {
   "cell_type": "code",
   "execution_count": 3,
   "metadata": {},
   "outputs": [],
   "source": [
    "import tensorflow_datasets as tfds\n",
    "imdb,info = tfds.load(\"imdb_reviews\",with_info=True,as_supervised=True)"
   ]
  },
  {
   "cell_type": "code",
   "execution_count": 4,
   "metadata": {},
   "outputs": [],
   "source": [
    "train_data = imdb['train']\n",
    "test_data  = imdb['test']"
   ]
  },
  {
   "cell_type": "code",
   "execution_count": 26,
   "metadata": {},
   "outputs": [],
   "source": [
    "train_string = []\n",
    "train_label  = []\n",
    "\n",
    "test_string  = []\n",
    "test_label   = []\n",
    "\n",
    "for s,l in train_data:\n",
    "    train_string.append(str(s.numpy()))\n",
    "    train_label.append(l.numpy())\n",
    "    \n",
    "for s,l in test_data:\n",
    "    test_string.append(str(s.numpy()))\n",
    "    test_label.append(l.numpy())"
   ]
  },
  {
   "cell_type": "code",
   "execution_count": 27,
   "metadata": {},
   "outputs": [
    {
     "name": "stdout",
     "output_type": "stream",
     "text": [
      "len of train_string :=  25000\n",
      "len of train_label :=  25000\n",
      "len of test_string :=  25000\n",
      "len of test_label :=  25000\n"
     ]
    }
   ],
   "source": [
    "print(\"len of train_string := \",len(train_string))\n",
    "print(\"len of train_label := \",len(train_label))\n",
    "print(\"len of test_string := \",len(test_string))\n",
    "print(\"len of test_label := \",len(test_label))"
   ]
  },
  {
   "cell_type": "code",
   "execution_count": 28,
   "metadata": {},
   "outputs": [
    {
     "data": {
      "text/plain": [
       "str"
      ]
     },
     "execution_count": 28,
     "metadata": {},
     "output_type": "execute_result"
    }
   ],
   "source": [
    "type(train_string[0])"
   ]
  },
  {
   "cell_type": "code",
   "execution_count": 29,
   "metadata": {},
   "outputs": [],
   "source": [
    "num_words = 10000\n",
    "embedding = 16\n",
    "oov_token = \"<OOV>\"\n",
    "max_len   = 120\n",
    "truncating = \"post\""
   ]
  },
  {
   "cell_type": "code",
   "execution_count": 46,
   "metadata": {},
   "outputs": [],
   "source": [
    "tokenizer = Tokenizer(num_words=num_words,oov_token=oov_token)\n",
    "tokenizer.fit_on_texts(train_string)\n",
    "word_index = tokenizer.word_index\n",
    "seq1 = tokenizer.texts_to_sequences(train_string)\n",
    "seq2 = tokenizer.texts_to_sequences(test_string)\n",
    "\n",
    "X_train = pad_sequences(seq1,maxlen = max_len,truncating = truncating)\n",
    "X_test  = pad_sequences(seq2,maxlen = max_len,truncating = truncating)"
   ]
  },
  {
   "cell_type": "code",
   "execution_count": 49,
   "metadata": {},
   "outputs": [],
   "source": [
    "y_train = np.array(train_label)\n",
    "y_test  = np.array(test_label)"
   ]
  },
  {
   "cell_type": "code",
   "execution_count": 50,
   "metadata": {},
   "outputs": [
    {
     "name": "stdout",
     "output_type": "stream",
     "text": [
      "Shape of X_train :=  (25000, 120)\n",
      "Shape of y_train :=  (25000,)\n",
      "======================================\n",
      "Shape of X_test :=  (25000, 120)\n",
      "Shape of y_test :=  (25000,)\n"
     ]
    }
   ],
   "source": [
    "print(\"Shape of X_train := \",X_train.shape)\n",
    "print(\"Shape of y_train := \",y_train.shape)\n",
    "print(\"======================================\")\n",
    "print(\"Shape of X_test := \",X_test.shape)\n",
    "print(\"Shape of y_test := \",y_test.shape)"
   ]
  },
  {
   "cell_type": "code",
   "execution_count": 51,
   "metadata": {},
   "outputs": [
    {
     "name": "stdout",
     "output_type": "stream",
     "text": [
      "Model: \"sequential_1\"\n",
      "_________________________________________________________________\n",
      "Layer (type)                 Output Shape              Param #   \n",
      "=================================================================\n",
      "embedding_1 (Embedding)      (None, 120, 16)           160000    \n",
      "_________________________________________________________________\n",
      "global_average_pooling1d_1 ( (None, 16)                0         \n",
      "_________________________________________________________________\n",
      "flatten_1 (Flatten)          (None, 16)                0         \n",
      "_________________________________________________________________\n",
      "dense_2 (Dense)              (None, 6)                 102       \n",
      "_________________________________________________________________\n",
      "dense_3 (Dense)              (None, 1)                 7         \n",
      "=================================================================\n",
      "Total params: 160,109\n",
      "Trainable params: 160,109\n",
      "Non-trainable params: 0\n",
      "_________________________________________________________________\n"
     ]
    }
   ],
   "source": [
    "model1 = tf.keras.models.Sequential([\n",
    "    tf.keras.layers.Embedding(num_words,embedding,input_length=max_len),\n",
    "    tf.keras.layers.GlobalAveragePooling1D(),\n",
    "    tf.keras.layers.Flatten(),\n",
    "    tf.keras.layers.Dense(6,activation=\"relu\"),\n",
    "    tf.keras.layers.Dense(1,activation=\"sigmoid\")\n",
    "])\n",
    "model1.summary()"
   ]
  },
  {
   "cell_type": "code",
   "execution_count": 52,
   "metadata": {},
   "outputs": [],
   "source": [
    "model1.compile(optimizer=\"adam\",loss=tf.keras.losses.binary_crossentropy,metrics=['acc'])"
   ]
  },
  {
   "cell_type": "code",
   "execution_count": 53,
   "metadata": {},
   "outputs": [
    {
     "name": "stdout",
     "output_type": "stream",
     "text": [
      "Train on 25000 samples, validate on 25000 samples\n",
      "Epoch 1/10\n",
      "25000/25000 [==============================] - ETA: 9:50 - loss: 0.6936 - acc: 0.437 - ETA: 2:37 - loss: 0.6931 - acc: 0.484 - ETA: 50s - loss: 0.6929 - acc: 0.524 - ETA: 28s - loss: 0.6929 - acc: 0.52 - ETA: 21s - loss: 0.6927 - acc: 0.52 - ETA: 18s - loss: 0.6926 - acc: 0.52 - ETA: 17s - loss: 0.6925 - acc: 0.52 - ETA: 16s - loss: 0.6925 - acc: 0.51 - ETA: 15s - loss: 0.6925 - acc: 0.51 - ETA: 15s - loss: 0.6922 - acc: 0.51 - ETA: 14s - loss: 0.6921 - acc: 0.51 - ETA: 12s - loss: 0.6914 - acc: 0.52 - ETA: 11s - loss: 0.6909 - acc: 0.52 - ETA: 10s - loss: 0.6905 - acc: 0.52 - ETA: 9s - loss: 0.6901 - acc: 0.5263 - ETA: 8s - loss: 0.6898 - acc: 0.535 - ETA: 8s - loss: 0.6894 - acc: 0.546 - ETA: 7s - loss: 0.6886 - acc: 0.557 - ETA: 7s - loss: 0.6881 - acc: 0.560 - ETA: 6s - loss: 0.6873 - acc: 0.569 - ETA: 6s - loss: 0.6862 - acc: 0.576 - ETA: 6s - loss: 0.6855 - acc: 0.580 - ETA: 6s - loss: 0.6842 - acc: 0.589 - ETA: 5s - loss: 0.6832 - acc: 0.594 - ETA: 5s - loss: 0.6820 - acc: 0.602 - ETA: 5s - loss: 0.6805 - acc: 0.607 - ETA: 5s - loss: 0.6792 - acc: 0.612 - ETA: 5s - loss: 0.6785 - acc: 0.614 - ETA: 4s - loss: 0.6775 - acc: 0.616 - ETA: 4s - loss: 0.6761 - acc: 0.620 - ETA: 4s - loss: 0.6746 - acc: 0.625 - ETA: 4s - loss: 0.6730 - acc: 0.630 - ETA: 4s - loss: 0.6706 - acc: 0.637 - ETA: 4s - loss: 0.6689 - acc: 0.640 - ETA: 3s - loss: 0.6670 - acc: 0.643 - ETA: 3s - loss: 0.6653 - acc: 0.645 - ETA: 3s - loss: 0.6632 - acc: 0.649 - ETA: 3s - loss: 0.6613 - acc: 0.652 - ETA: 3s - loss: 0.6584 - acc: 0.656 - ETA: 3s - loss: 0.6562 - acc: 0.659 - ETA: 3s - loss: 0.6542 - acc: 0.661 - ETA: 3s - loss: 0.6514 - acc: 0.665 - ETA: 3s - loss: 0.6488 - acc: 0.668 - ETA: 2s - loss: 0.6470 - acc: 0.670 - ETA: 2s - loss: 0.6445 - acc: 0.673 - ETA: 2s - loss: 0.6422 - acc: 0.675 - ETA: 2s - loss: 0.6404 - acc: 0.678 - ETA: 2s - loss: 0.6385 - acc: 0.680 - ETA: 2s - loss: 0.6362 - acc: 0.682 - ETA: 2s - loss: 0.6342 - acc: 0.684 - ETA: 2s - loss: 0.6319 - acc: 0.686 - ETA: 2s - loss: 0.6294 - acc: 0.689 - ETA: 2s - loss: 0.6267 - acc: 0.691 - ETA: 2s - loss: 0.6234 - acc: 0.694 - ETA: 2s - loss: 0.6217 - acc: 0.695 - ETA: 1s - loss: 0.6191 - acc: 0.697 - ETA: 1s - loss: 0.6169 - acc: 0.699 - ETA: 1s - loss: 0.6149 - acc: 0.701 - ETA: 1s - loss: 0.6130 - acc: 0.703 - ETA: 1s - loss: 0.6103 - acc: 0.705 - ETA: 1s - loss: 0.6082 - acc: 0.706 - ETA: 1s - loss: 0.6062 - acc: 0.708 - ETA: 1s - loss: 0.6037 - acc: 0.710 - ETA: 1s - loss: 0.6016 - acc: 0.711 - ETA: 1s - loss: 0.5989 - acc: 0.713 - ETA: 1s - loss: 0.5974 - acc: 0.714 - ETA: 1s - loss: 0.5948 - acc: 0.716 - ETA: 1s - loss: 0.5929 - acc: 0.717 - ETA: 1s - loss: 0.5902 - acc: 0.719 - ETA: 0s - loss: 0.5881 - acc: 0.720 - ETA: 0s - loss: 0.5859 - acc: 0.722 - ETA: 0s - loss: 0.5841 - acc: 0.723 - ETA: 0s - loss: 0.5821 - acc: 0.724 - ETA: 0s - loss: 0.5801 - acc: 0.726 - ETA: 0s - loss: 0.5779 - acc: 0.727 - ETA: 0s - loss: 0.5754 - acc: 0.729 - ETA: 0s - loss: 0.5732 - acc: 0.731 - ETA: 0s - loss: 0.5715 - acc: 0.732 - ETA: 0s - loss: 0.5696 - acc: 0.733 - ETA: 0s - loss: 0.5670 - acc: 0.734 - ETA: 0s - loss: 0.5647 - acc: 0.736 - ETA: 0s - loss: 0.5629 - acc: 0.737 - ETA: 0s - loss: 0.5606 - acc: 0.738 - ETA: 0s - loss: 0.5584 - acc: 0.740 - ETA: 0s - loss: 0.5571 - acc: 0.740 - 7s 261us/sample - loss: 0.5566 - acc: 0.7408 - val_loss: 0.4138 - val_acc: 0.8224\n",
      "Epoch 2/10\n",
      "25000/25000 [==============================] - ETA: 4s - loss: 0.3510 - acc: 0.906 - ETA: 5s - loss: 0.3557 - acc: 0.847 - ETA: 4s - loss: 0.3849 - acc: 0.830 - ETA: 4s - loss: 0.3867 - acc: 0.838 - ETA: 5s - loss: 0.3818 - acc: 0.843 - ETA: 4s - loss: 0.3729 - acc: 0.852 - ETA: 4s - loss: 0.3726 - acc: 0.853 - ETA: 4s - loss: 0.3648 - acc: 0.859 - ETA: 4s - loss: 0.3631 - acc: 0.859 - ETA: 4s - loss: 0.3616 - acc: 0.859 - ETA: 4s - loss: 0.3624 - acc: 0.858 - ETA: 4s - loss: 0.3619 - acc: 0.858 - ETA: 4s - loss: 0.3628 - acc: 0.858 - ETA: 4s - loss: 0.3618 - acc: 0.860 - ETA: 4s - loss: 0.3594 - acc: 0.862 - ETA: 3s - loss: 0.3557 - acc: 0.863 - ETA: 3s - loss: 0.3570 - acc: 0.861 - ETA: 3s - loss: 0.3573 - acc: 0.859 - ETA: 3s - loss: 0.3572 - acc: 0.859 - ETA: 3s - loss: 0.3548 - acc: 0.862 - ETA: 3s - loss: 0.3530 - acc: 0.863 - ETA: 3s - loss: 0.3518 - acc: 0.864 - ETA: 3s - loss: 0.3509 - acc: 0.864 - ETA: 3s - loss: 0.3519 - acc: 0.862 - ETA: 3s - loss: 0.3531 - acc: 0.861 - ETA: 3s - loss: 0.3530 - acc: 0.859 - ETA: 3s - loss: 0.3510 - acc: 0.861 - ETA: 3s - loss: 0.3500 - acc: 0.861 - ETA: 3s - loss: 0.3499 - acc: 0.861 - ETA: 3s - loss: 0.3482 - acc: 0.862 - ETA: 3s - loss: 0.3469 - acc: 0.862 - ETA: 3s - loss: 0.3465 - acc: 0.862 - ETA: 3s - loss: 0.3455 - acc: 0.863 - ETA: 2s - loss: 0.3454 - acc: 0.862 - ETA: 2s - loss: 0.3441 - acc: 0.863 - ETA: 2s - loss: 0.3429 - acc: 0.864 - ETA: 2s - loss: 0.3427 - acc: 0.864 - ETA: 2s - loss: 0.3417 - acc: 0.864 - ETA: 2s - loss: 0.3404 - acc: 0.864 - ETA: 2s - loss: 0.3399 - acc: 0.863 - ETA: 2s - loss: 0.3397 - acc: 0.863 - ETA: 2s - loss: 0.3398 - acc: 0.863 - ETA: 2s - loss: 0.3399 - acc: 0.862 - ETA: 2s - loss: 0.3388 - acc: 0.863 - ETA: 2s - loss: 0.3385 - acc: 0.863 - ETA: 2s - loss: 0.3385 - acc: 0.863 - ETA: 2s - loss: 0.3387 - acc: 0.862 - ETA: 2s - loss: 0.3390 - acc: 0.862 - ETA: 2s - loss: 0.3380 - acc: 0.862 - ETA: 2s - loss: 0.3389 - acc: 0.861 - ETA: 1s - loss: 0.3387 - acc: 0.861 - ETA: 1s - loss: 0.3380 - acc: 0.862 - ETA: 1s - loss: 0.3369 - acc: 0.862 - ETA: 1s - loss: 0.3370 - acc: 0.862 - ETA: 1s - loss: 0.3367 - acc: 0.862 - ETA: 1s - loss: 0.3358 - acc: 0.862 - ETA: 1s - loss: 0.3349 - acc: 0.862 - ETA: 1s - loss: 0.3348 - acc: 0.862 - ETA: 1s - loss: 0.3364 - acc: 0.861 - ETA: 1s - loss: 0.3369 - acc: 0.861 - ETA: 1s - loss: 0.3369 - acc: 0.861 - ETA: 1s - loss: 0.3369 - acc: 0.861 - ETA: 1s - loss: 0.3365 - acc: 0.861 - ETA: 1s - loss: 0.3362 - acc: 0.861 - ETA: 1s - loss: 0.3362 - acc: 0.861 - ETA: 1s - loss: 0.3356 - acc: 0.861 - ETA: 1s - loss: 0.3353 - acc: 0.862 - ETA: 1s - loss: 0.3355 - acc: 0.861 - ETA: 1s - loss: 0.3352 - acc: 0.862 - ETA: 0s - loss: 0.3350 - acc: 0.862 - ETA: 0s - loss: 0.3346 - acc: 0.862 - ETA: 0s - loss: 0.3344 - acc: 0.862 - ETA: 0s - loss: 0.3337 - acc: 0.862 - ETA: 0s - loss: 0.3339 - acc: 0.862 - ETA: 0s - loss: 0.3340 - acc: 0.862 - ETA: 0s - loss: 0.3337 - acc: 0.862 - ETA: 0s - loss: 0.3345 - acc: 0.862 - ETA: 0s - loss: 0.3338 - acc: 0.862 - ETA: 0s - loss: 0.3335 - acc: 0.862 - ETA: 0s - loss: 0.3329 - acc: 0.863 - ETA: 0s - loss: 0.3330 - acc: 0.863 - ETA: 0s - loss: 0.3336 - acc: 0.862 - ETA: 0s - loss: 0.3338 - acc: 0.862 - ETA: 0s - loss: 0.3337 - acc: 0.861 - ETA: 0s - loss: 0.3331 - acc: 0.862 - ETA: 0s - loss: 0.3328 - acc: 0.862 - ETA: 0s - loss: 0.3331 - acc: 0.862 - ETA: 0s - loss: 0.3326 - acc: 0.862 - 6s 235us/sample - loss: 0.3328 - acc: 0.8622 - val_loss: 0.3684 - val_acc: 0.8365\n",
      "Epoch 3/10\n"
     ]
    },
    {
     "name": "stdout",
     "output_type": "stream",
     "text": [
      "25000/25000 [==============================] - ETA: 5s - loss: 0.2209 - acc: 0.937 - ETA: 5s - loss: 0.2547 - acc: 0.906 - ETA: 4s - loss: 0.2452 - acc: 0.909 - ETA: 4s - loss: 0.2556 - acc: 0.898 - ETA: 5s - loss: 0.2728 - acc: 0.887 - ETA: 5s - loss: 0.2735 - acc: 0.887 - ETA: 4s - loss: 0.2776 - acc: 0.885 - ETA: 4s - loss: 0.2839 - acc: 0.880 - ETA: 5s - loss: 0.2835 - acc: 0.880 - ETA: 5s - loss: 0.2815 - acc: 0.884 - ETA: 5s - loss: 0.2805 - acc: 0.887 - ETA: 5s - loss: 0.2813 - acc: 0.886 - ETA: 5s - loss: 0.2827 - acc: 0.887 - ETA: 5s - loss: 0.2798 - acc: 0.888 - ETA: 5s - loss: 0.2810 - acc: 0.887 - ETA: 5s - loss: 0.2790 - acc: 0.888 - ETA: 5s - loss: 0.2793 - acc: 0.888 - ETA: 5s - loss: 0.2761 - acc: 0.890 - ETA: 5s - loss: 0.2786 - acc: 0.890 - ETA: 5s - loss: 0.2807 - acc: 0.888 - ETA: 5s - loss: 0.2790 - acc: 0.889 - ETA: 5s - loss: 0.2818 - acc: 0.887 - ETA: 5s - loss: 0.2810 - acc: 0.888 - ETA: 5s - loss: 0.2808 - acc: 0.889 - ETA: 5s - loss: 0.2802 - acc: 0.889 - ETA: 5s - loss: 0.2786 - acc: 0.889 - ETA: 5s - loss: 0.2788 - acc: 0.889 - ETA: 5s - loss: 0.2759 - acc: 0.890 - ETA: 5s - loss: 0.2737 - acc: 0.891 - ETA: 5s - loss: 0.2721 - acc: 0.891 - ETA: 4s - loss: 0.2726 - acc: 0.891 - ETA: 4s - loss: 0.2743 - acc: 0.890 - ETA: 4s - loss: 0.2730 - acc: 0.891 - ETA: 4s - loss: 0.2713 - acc: 0.892 - ETA: 4s - loss: 0.2705 - acc: 0.893 - ETA: 4s - loss: 0.2699 - acc: 0.893 - ETA: 4s - loss: 0.2693 - acc: 0.894 - ETA: 4s - loss: 0.2689 - acc: 0.894 - ETA: 4s - loss: 0.2680 - acc: 0.894 - ETA: 4s - loss: 0.2663 - acc: 0.895 - ETA: 4s - loss: 0.2662 - acc: 0.896 - ETA: 4s - loss: 0.2662 - acc: 0.896 - ETA: 4s - loss: 0.2651 - acc: 0.896 - ETA: 4s - loss: 0.2652 - acc: 0.896 - ETA: 3s - loss: 0.2657 - acc: 0.895 - ETA: 3s - loss: 0.2663 - acc: 0.895 - ETA: 3s - loss: 0.2662 - acc: 0.895 - ETA: 3s - loss: 0.2679 - acc: 0.894 - ETA: 3s - loss: 0.2675 - acc: 0.894 - ETA: 3s - loss: 0.2664 - acc: 0.895 - ETA: 3s - loss: 0.2666 - acc: 0.894 - ETA: 3s - loss: 0.2667 - acc: 0.895 - ETA: 3s - loss: 0.2669 - acc: 0.894 - ETA: 3s - loss: 0.2680 - acc: 0.894 - ETA: 3s - loss: 0.2688 - acc: 0.894 - ETA: 3s - loss: 0.2682 - acc: 0.894 - ETA: 3s - loss: 0.2679 - acc: 0.894 - ETA: 3s - loss: 0.2681 - acc: 0.894 - ETA: 3s - loss: 0.2693 - acc: 0.894 - ETA: 2s - loss: 0.2696 - acc: 0.893 - ETA: 2s - loss: 0.2698 - acc: 0.893 - ETA: 2s - loss: 0.2688 - acc: 0.894 - ETA: 2s - loss: 0.2682 - acc: 0.894 - ETA: 2s - loss: 0.2672 - acc: 0.894 - ETA: 2s - loss: 0.2679 - acc: 0.894 - ETA: 2s - loss: 0.2672 - acc: 0.894 - ETA: 2s - loss: 0.2669 - acc: 0.894 - ETA: 2s - loss: 0.2678 - acc: 0.894 - ETA: 2s - loss: 0.2683 - acc: 0.893 - ETA: 2s - loss: 0.2682 - acc: 0.893 - ETA: 2s - loss: 0.2680 - acc: 0.893 - ETA: 2s - loss: 0.2683 - acc: 0.893 - ETA: 2s - loss: 0.2685 - acc: 0.893 - ETA: 2s - loss: 0.2681 - acc: 0.893 - ETA: 2s - loss: 0.2681 - acc: 0.893 - ETA: 2s - loss: 0.2681 - acc: 0.893 - ETA: 2s - loss: 0.2680 - acc: 0.893 - ETA: 1s - loss: 0.2681 - acc: 0.893 - ETA: 1s - loss: 0.2686 - acc: 0.893 - ETA: 1s - loss: 0.2688 - acc: 0.892 - ETA: 1s - loss: 0.2688 - acc: 0.893 - ETA: 1s - loss: 0.2686 - acc: 0.893 - ETA: 1s - loss: 0.2682 - acc: 0.893 - ETA: 1s - loss: 0.2678 - acc: 0.893 - ETA: 1s - loss: 0.2684 - acc: 0.893 - ETA: 1s - loss: 0.2685 - acc: 0.893 - ETA: 1s - loss: 0.2680 - acc: 0.893 - ETA: 1s - loss: 0.2681 - acc: 0.893 - ETA: 1s - loss: 0.2689 - acc: 0.893 - ETA: 1s - loss: 0.2690 - acc: 0.893 - ETA: 1s - loss: 0.2689 - acc: 0.893 - ETA: 1s - loss: 0.2696 - acc: 0.892 - ETA: 1s - loss: 0.2694 - acc: 0.892 - ETA: 1s - loss: 0.2697 - acc: 0.892 - ETA: 0s - loss: 0.2694 - acc: 0.892 - ETA: 0s - loss: 0.2695 - acc: 0.892 - ETA: 0s - loss: 0.2692 - acc: 0.892 - ETA: 0s - loss: 0.2691 - acc: 0.892 - ETA: 0s - loss: 0.2692 - acc: 0.892 - ETA: 0s - loss: 0.2689 - acc: 0.892 - ETA: 0s - loss: 0.2689 - acc: 0.892 - ETA: 0s - loss: 0.2689 - acc: 0.892 - ETA: 0s - loss: 0.2695 - acc: 0.892 - ETA: 0s - loss: 0.2692 - acc: 0.892 - ETA: 0s - loss: 0.2689 - acc: 0.892 - ETA: 0s - loss: 0.2695 - acc: 0.892 - ETA: 0s - loss: 0.2697 - acc: 0.892 - ETA: 0s - loss: 0.2696 - acc: 0.891 - ETA: 0s - loss: 0.2695 - acc: 0.891 - ETA: 0s - loss: 0.2695 - acc: 0.891 - ETA: 0s - loss: 0.2697 - acc: 0.891 - ETA: 0s - loss: 0.2696 - acc: 0.891 - ETA: 0s - loss: 0.2694 - acc: 0.892 - 7s 290us/sample - loss: 0.2693 - acc: 0.8922 - val_loss: 0.3742 - val_acc: 0.8345\n",
      "Epoch 4/10\n"
     ]
    },
    {
     "name": "stdout",
     "output_type": "stream",
     "text": [
      "25000/25000 [==============================] - ETA: 6s - loss: 0.2406 - acc: 0.968 - ETA: 5s - loss: 0.2301 - acc: 0.920 - ETA: 5s - loss: 0.2160 - acc: 0.923 - ETA: 5s - loss: 0.2183 - acc: 0.923 - ETA: 5s - loss: 0.2140 - acc: 0.928 - ETA: 5s - loss: 0.2122 - acc: 0.927 - ETA: 5s - loss: 0.2101 - acc: 0.928 - ETA: 5s - loss: 0.2044 - acc: 0.933 - ETA: 6s - loss: 0.2019 - acc: 0.934 - ETA: 6s - loss: 0.2084 - acc: 0.931 - ETA: 6s - loss: 0.2116 - acc: 0.929 - ETA: 6s - loss: 0.2161 - acc: 0.926 - ETA: 5s - loss: 0.2198 - acc: 0.923 - ETA: 5s - loss: 0.2224 - acc: 0.923 - ETA: 5s - loss: 0.2234 - acc: 0.921 - ETA: 5s - loss: 0.2239 - acc: 0.921 - ETA: 5s - loss: 0.2253 - acc: 0.920 - ETA: 5s - loss: 0.2263 - acc: 0.917 - ETA: 5s - loss: 0.2243 - acc: 0.918 - ETA: 5s - loss: 0.2236 - acc: 0.919 - ETA: 5s - loss: 0.2266 - acc: 0.917 - ETA: 5s - loss: 0.2267 - acc: 0.917 - ETA: 5s - loss: 0.2242 - acc: 0.918 - ETA: 5s - loss: 0.2233 - acc: 0.918 - ETA: 5s - loss: 0.2251 - acc: 0.917 - ETA: 5s - loss: 0.2243 - acc: 0.918 - ETA: 4s - loss: 0.2256 - acc: 0.916 - ETA: 4s - loss: 0.2246 - acc: 0.917 - ETA: 4s - loss: 0.2250 - acc: 0.917 - ETA: 4s - loss: 0.2267 - acc: 0.916 - ETA: 4s - loss: 0.2272 - acc: 0.915 - ETA: 4s - loss: 0.2270 - acc: 0.915 - ETA: 4s - loss: 0.2260 - acc: 0.916 - ETA: 4s - loss: 0.2267 - acc: 0.915 - ETA: 4s - loss: 0.2266 - acc: 0.915 - ETA: 4s - loss: 0.2259 - acc: 0.915 - ETA: 3s - loss: 0.2265 - acc: 0.915 - ETA: 3s - loss: 0.2261 - acc: 0.915 - ETA: 3s - loss: 0.2284 - acc: 0.914 - ETA: 3s - loss: 0.2290 - acc: 0.913 - ETA: 3s - loss: 0.2286 - acc: 0.914 - ETA: 3s - loss: 0.2277 - acc: 0.914 - ETA: 3s - loss: 0.2286 - acc: 0.914 - ETA: 3s - loss: 0.2290 - acc: 0.913 - ETA: 2s - loss: 0.2280 - acc: 0.913 - ETA: 2s - loss: 0.2288 - acc: 0.913 - ETA: 2s - loss: 0.2291 - acc: 0.913 - ETA: 2s - loss: 0.2289 - acc: 0.914 - ETA: 2s - loss: 0.2293 - acc: 0.913 - ETA: 2s - loss: 0.2294 - acc: 0.913 - ETA: 2s - loss: 0.2299 - acc: 0.913 - ETA: 2s - loss: 0.2299 - acc: 0.913 - ETA: 2s - loss: 0.2297 - acc: 0.913 - ETA: 2s - loss: 0.2296 - acc: 0.913 - ETA: 2s - loss: 0.2295 - acc: 0.912 - ETA: 2s - loss: 0.2300 - acc: 0.912 - ETA: 2s - loss: 0.2303 - acc: 0.912 - ETA: 2s - loss: 0.2301 - acc: 0.911 - ETA: 2s - loss: 0.2295 - acc: 0.912 - ETA: 2s - loss: 0.2296 - acc: 0.911 - ETA: 2s - loss: 0.2293 - acc: 0.911 - ETA: 2s - loss: 0.2290 - acc: 0.912 - ETA: 2s - loss: 0.2293 - acc: 0.911 - ETA: 2s - loss: 0.2301 - acc: 0.911 - ETA: 2s - loss: 0.2304 - acc: 0.911 - ETA: 2s - loss: 0.2297 - acc: 0.912 - ETA: 2s - loss: 0.2295 - acc: 0.912 - ETA: 2s - loss: 0.2299 - acc: 0.911 - ETA: 1s - loss: 0.2297 - acc: 0.911 - ETA: 1s - loss: 0.2302 - acc: 0.911 - ETA: 1s - loss: 0.2306 - acc: 0.911 - ETA: 1s - loss: 0.2314 - acc: 0.911 - ETA: 1s - loss: 0.2314 - acc: 0.911 - ETA: 1s - loss: 0.2309 - acc: 0.911 - ETA: 1s - loss: 0.2308 - acc: 0.911 - ETA: 1s - loss: 0.2309 - acc: 0.911 - ETA: 1s - loss: 0.2306 - acc: 0.911 - ETA: 1s - loss: 0.2308 - acc: 0.911 - ETA: 1s - loss: 0.2310 - acc: 0.911 - ETA: 1s - loss: 0.2320 - acc: 0.911 - ETA: 1s - loss: 0.2319 - acc: 0.911 - ETA: 1s - loss: 0.2326 - acc: 0.910 - ETA: 1s - loss: 0.2324 - acc: 0.910 - ETA: 1s - loss: 0.2323 - acc: 0.911 - ETA: 1s - loss: 0.2327 - acc: 0.910 - ETA: 0s - loss: 0.2338 - acc: 0.910 - ETA: 0s - loss: 0.2345 - acc: 0.909 - ETA: 0s - loss: 0.2352 - acc: 0.909 - ETA: 0s - loss: 0.2353 - acc: 0.909 - ETA: 0s - loss: 0.2351 - acc: 0.909 - ETA: 0s - loss: 0.2344 - acc: 0.910 - ETA: 0s - loss: 0.2340 - acc: 0.910 - ETA: 0s - loss: 0.2341 - acc: 0.910 - ETA: 0s - loss: 0.2340 - acc: 0.910 - ETA: 0s - loss: 0.2339 - acc: 0.909 - ETA: 0s - loss: 0.2336 - acc: 0.909 - ETA: 0s - loss: 0.2338 - acc: 0.909 - ETA: 0s - loss: 0.2338 - acc: 0.909 - ETA: 0s - loss: 0.2332 - acc: 0.909 - ETA: 0s - loss: 0.2337 - acc: 0.909 - 7s 261us/sample - loss: 0.2338 - acc: 0.9094 - val_loss: 0.4031 - val_acc: 0.8240\n",
      "Epoch 5/10\n",
      "25000/25000 [==============================] - ETA: 4s - loss: 0.3537 - acc: 0.843 - ETA: 4s - loss: 0.1969 - acc: 0.921 - ETA: 3s - loss: 0.1953 - acc: 0.921 - ETA: 3s - loss: 0.1941 - acc: 0.922 - ETA: 3s - loss: 0.2040 - acc: 0.919 - ETA: 3s - loss: 0.2043 - acc: 0.922 - ETA: 3s - loss: 0.2053 - acc: 0.920 - ETA: 3s - loss: 0.1954 - acc: 0.926 - ETA: 3s - loss: 0.1945 - acc: 0.927 - ETA: 3s - loss: 0.1910 - acc: 0.928 - ETA: 3s - loss: 0.1894 - acc: 0.929 - ETA: 2s - loss: 0.1879 - acc: 0.930 - ETA: 2s - loss: 0.1878 - acc: 0.930 - ETA: 2s - loss: 0.1919 - acc: 0.929 - ETA: 2s - loss: 0.1933 - acc: 0.927 - ETA: 2s - loss: 0.1961 - acc: 0.926 - ETA: 2s - loss: 0.1966 - acc: 0.926 - ETA: 2s - loss: 0.1976 - acc: 0.925 - ETA: 2s - loss: 0.1968 - acc: 0.926 - ETA: 2s - loss: 0.1989 - acc: 0.926 - ETA: 2s - loss: 0.1992 - acc: 0.926 - ETA: 2s - loss: 0.1990 - acc: 0.926 - ETA: 2s - loss: 0.1996 - acc: 0.926 - ETA: 2s - loss: 0.1998 - acc: 0.926 - ETA: 2s - loss: 0.2010 - acc: 0.926 - ETA: 2s - loss: 0.2006 - acc: 0.926 - ETA: 2s - loss: 0.2011 - acc: 0.925 - ETA: 2s - loss: 0.2036 - acc: 0.923 - ETA: 2s - loss: 0.2036 - acc: 0.923 - ETA: 2s - loss: 0.2040 - acc: 0.923 - ETA: 1s - loss: 0.2041 - acc: 0.923 - ETA: 1s - loss: 0.2054 - acc: 0.923 - ETA: 1s - loss: 0.2058 - acc: 0.923 - ETA: 1s - loss: 0.2062 - acc: 0.924 - ETA: 1s - loss: 0.2065 - acc: 0.923 - ETA: 1s - loss: 0.2065 - acc: 0.923 - ETA: 1s - loss: 0.2068 - acc: 0.923 - ETA: 1s - loss: 0.2070 - acc: 0.923 - ETA: 1s - loss: 0.2073 - acc: 0.922 - ETA: 1s - loss: 0.2074 - acc: 0.922 - ETA: 1s - loss: 0.2075 - acc: 0.922 - ETA: 1s - loss: 0.2074 - acc: 0.922 - ETA: 1s - loss: 0.2072 - acc: 0.922 - ETA: 1s - loss: 0.2068 - acc: 0.921 - ETA: 1s - loss: 0.2078 - acc: 0.921 - ETA: 1s - loss: 0.2075 - acc: 0.921 - ETA: 1s - loss: 0.2078 - acc: 0.921 - ETA: 1s - loss: 0.2065 - acc: 0.921 - ETA: 1s - loss: 0.2062 - acc: 0.922 - ETA: 1s - loss: 0.2068 - acc: 0.921 - ETA: 1s - loss: 0.2068 - acc: 0.921 - ETA: 1s - loss: 0.2072 - acc: 0.921 - ETA: 1s - loss: 0.2071 - acc: 0.921 - ETA: 1s - loss: 0.2076 - acc: 0.921 - ETA: 0s - loss: 0.2083 - acc: 0.920 - ETA: 0s - loss: 0.2080 - acc: 0.920 - ETA: 0s - loss: 0.2072 - acc: 0.921 - ETA: 0s - loss: 0.2076 - acc: 0.920 - ETA: 0s - loss: 0.2069 - acc: 0.921 - ETA: 0s - loss: 0.2061 - acc: 0.921 - ETA: 0s - loss: 0.2066 - acc: 0.921 - ETA: 0s - loss: 0.2067 - acc: 0.921 - ETA: 0s - loss: 0.2076 - acc: 0.921 - ETA: 0s - loss: 0.2073 - acc: 0.921 - ETA: 0s - loss: 0.2084 - acc: 0.921 - ETA: 0s - loss: 0.2088 - acc: 0.921 - ETA: 0s - loss: 0.2084 - acc: 0.921 - ETA: 0s - loss: 0.2086 - acc: 0.921 - ETA: 0s - loss: 0.2083 - acc: 0.921 - ETA: 0s - loss: 0.2083 - acc: 0.921 - ETA: 0s - loss: 0.2073 - acc: 0.921 - ETA: 0s - loss: 0.2074 - acc: 0.922 - ETA: 0s - loss: 0.2077 - acc: 0.921 - ETA: 0s - loss: 0.2079 - acc: 0.921 - ETA: 0s - loss: 0.2082 - acc: 0.921 - 5s 202us/sample - loss: 0.2081 - acc: 0.9217 - val_loss: 0.4186 - val_acc: 0.8242\n",
      "Epoch 6/10\n"
     ]
    },
    {
     "name": "stdout",
     "output_type": "stream",
     "text": [
      "25000/25000 [==============================] - ETA: 6s - loss: 0.1618 - acc: 0.937 - ETA: 5s - loss: 0.1920 - acc: 0.941 - ETA: 4s - loss: 0.1732 - acc: 0.947 - ETA: 4s - loss: 0.1806 - acc: 0.938 - ETA: 4s - loss: 0.1792 - acc: 0.936 - ETA: 4s - loss: 0.1881 - acc: 0.931 - ETA: 3s - loss: 0.1840 - acc: 0.934 - ETA: 3s - loss: 0.1812 - acc: 0.936 - ETA: 3s - loss: 0.1750 - acc: 0.938 - ETA: 3s - loss: 0.1720 - acc: 0.940 - ETA: 3s - loss: 0.1724 - acc: 0.940 - ETA: 3s - loss: 0.1727 - acc: 0.940 - ETA: 3s - loss: 0.1710 - acc: 0.941 - ETA: 3s - loss: 0.1702 - acc: 0.940 - ETA: 3s - loss: 0.1679 - acc: 0.941 - ETA: 3s - loss: 0.1680 - acc: 0.941 - ETA: 3s - loss: 0.1660 - acc: 0.942 - ETA: 3s - loss: 0.1687 - acc: 0.941 - ETA: 3s - loss: 0.1704 - acc: 0.941 - ETA: 3s - loss: 0.1698 - acc: 0.941 - ETA: 3s - loss: 0.1713 - acc: 0.939 - ETA: 3s - loss: 0.1711 - acc: 0.939 - ETA: 2s - loss: 0.1726 - acc: 0.939 - ETA: 2s - loss: 0.1715 - acc: 0.939 - ETA: 2s - loss: 0.1724 - acc: 0.938 - ETA: 2s - loss: 0.1735 - acc: 0.937 - ETA: 2s - loss: 0.1736 - acc: 0.937 - ETA: 2s - loss: 0.1757 - acc: 0.936 - ETA: 2s - loss: 0.1748 - acc: 0.936 - ETA: 2s - loss: 0.1755 - acc: 0.936 - ETA: 2s - loss: 0.1753 - acc: 0.936 - ETA: 2s - loss: 0.1744 - acc: 0.937 - ETA: 2s - loss: 0.1744 - acc: 0.937 - ETA: 2s - loss: 0.1738 - acc: 0.937 - ETA: 2s - loss: 0.1751 - acc: 0.936 - ETA: 2s - loss: 0.1753 - acc: 0.936 - ETA: 2s - loss: 0.1750 - acc: 0.937 - ETA: 2s - loss: 0.1762 - acc: 0.936 - ETA: 2s - loss: 0.1763 - acc: 0.936 - ETA: 2s - loss: 0.1773 - acc: 0.936 - ETA: 2s - loss: 0.1773 - acc: 0.936 - ETA: 2s - loss: 0.1778 - acc: 0.936 - ETA: 2s - loss: 0.1780 - acc: 0.936 - ETA: 2s - loss: 0.1780 - acc: 0.936 - ETA: 1s - loss: 0.1787 - acc: 0.936 - ETA: 1s - loss: 0.1805 - acc: 0.935 - ETA: 1s - loss: 0.1814 - acc: 0.934 - ETA: 1s - loss: 0.1826 - acc: 0.934 - ETA: 1s - loss: 0.1829 - acc: 0.934 - ETA: 1s - loss: 0.1836 - acc: 0.933 - ETA: 1s - loss: 0.1836 - acc: 0.933 - ETA: 1s - loss: 0.1840 - acc: 0.933 - ETA: 1s - loss: 0.1839 - acc: 0.933 - ETA: 1s - loss: 0.1843 - acc: 0.933 - ETA: 1s - loss: 0.1847 - acc: 0.933 - ETA: 1s - loss: 0.1843 - acc: 0.933 - ETA: 1s - loss: 0.1839 - acc: 0.933 - ETA: 1s - loss: 0.1838 - acc: 0.933 - ETA: 1s - loss: 0.1848 - acc: 0.933 - ETA: 1s - loss: 0.1854 - acc: 0.932 - ETA: 1s - loss: 0.1861 - acc: 0.932 - ETA: 1s - loss: 0.1866 - acc: 0.932 - ETA: 1s - loss: 0.1869 - acc: 0.931 - ETA: 1s - loss: 0.1864 - acc: 0.931 - ETA: 1s - loss: 0.1865 - acc: 0.931 - ETA: 1s - loss: 0.1858 - acc: 0.932 - ETA: 0s - loss: 0.1864 - acc: 0.932 - ETA: 0s - loss: 0.1866 - acc: 0.932 - ETA: 0s - loss: 0.1860 - acc: 0.932 - ETA: 0s - loss: 0.1862 - acc: 0.932 - ETA: 0s - loss: 0.1860 - acc: 0.932 - ETA: 0s - loss: 0.1855 - acc: 0.932 - ETA: 0s - loss: 0.1859 - acc: 0.931 - ETA: 0s - loss: 0.1868 - acc: 0.931 - ETA: 0s - loss: 0.1868 - acc: 0.931 - ETA: 0s - loss: 0.1869 - acc: 0.931 - ETA: 0s - loss: 0.1876 - acc: 0.931 - ETA: 0s - loss: 0.1879 - acc: 0.931 - ETA: 0s - loss: 0.1878 - acc: 0.930 - ETA: 0s - loss: 0.1876 - acc: 0.931 - ETA: 0s - loss: 0.1876 - acc: 0.931 - ETA: 0s - loss: 0.1872 - acc: 0.931 - ETA: 0s - loss: 0.1874 - acc: 0.931 - 5s 218us/sample - loss: 0.1874 - acc: 0.9313 - val_loss: 0.4480 - val_acc: 0.8180\n",
      "Epoch 7/10\n",
      "25000/25000 [==============================] - ETA: 7s - loss: 0.1362 - acc: 0.968 - ETA: 5s - loss: 0.1580 - acc: 0.944 - ETA: 5s - loss: 0.1670 - acc: 0.950 - ETA: 5s - loss: 0.1579 - acc: 0.953 - ETA: 5s - loss: 0.1508 - acc: 0.957 - ETA: 5s - loss: 0.1452 - acc: 0.959 - ETA: 5s - loss: 0.1472 - acc: 0.958 - ETA: 4s - loss: 0.1446 - acc: 0.960 - ETA: 4s - loss: 0.1463 - acc: 0.958 - ETA: 4s - loss: 0.1456 - acc: 0.957 - ETA: 4s - loss: 0.1429 - acc: 0.956 - ETA: 4s - loss: 0.1449 - acc: 0.955 - ETA: 4s - loss: 0.1438 - acc: 0.955 - ETA: 3s - loss: 0.1438 - acc: 0.956 - ETA: 3s - loss: 0.1477 - acc: 0.953 - ETA: 3s - loss: 0.1495 - acc: 0.952 - ETA: 3s - loss: 0.1495 - acc: 0.952 - ETA: 3s - loss: 0.1523 - acc: 0.950 - ETA: 3s - loss: 0.1534 - acc: 0.949 - ETA: 3s - loss: 0.1551 - acc: 0.948 - ETA: 3s - loss: 0.1567 - acc: 0.947 - ETA: 3s - loss: 0.1566 - acc: 0.947 - ETA: 3s - loss: 0.1550 - acc: 0.947 - ETA: 3s - loss: 0.1559 - acc: 0.947 - ETA: 3s - loss: 0.1557 - acc: 0.947 - ETA: 3s - loss: 0.1560 - acc: 0.947 - ETA: 3s - loss: 0.1554 - acc: 0.947 - ETA: 3s - loss: 0.1557 - acc: 0.946 - ETA: 3s - loss: 0.1549 - acc: 0.947 - ETA: 3s - loss: 0.1546 - acc: 0.947 - ETA: 2s - loss: 0.1549 - acc: 0.946 - ETA: 2s - loss: 0.1554 - acc: 0.947 - ETA: 2s - loss: 0.1539 - acc: 0.947 - ETA: 2s - loss: 0.1551 - acc: 0.947 - ETA: 2s - loss: 0.1559 - acc: 0.946 - ETA: 2s - loss: 0.1559 - acc: 0.946 - ETA: 2s - loss: 0.1570 - acc: 0.946 - ETA: 2s - loss: 0.1566 - acc: 0.946 - ETA: 2s - loss: 0.1565 - acc: 0.946 - ETA: 2s - loss: 0.1570 - acc: 0.945 - ETA: 2s - loss: 0.1580 - acc: 0.945 - ETA: 2s - loss: 0.1583 - acc: 0.945 - ETA: 2s - loss: 0.1581 - acc: 0.945 - ETA: 2s - loss: 0.1579 - acc: 0.945 - ETA: 2s - loss: 0.1574 - acc: 0.945 - ETA: 2s - loss: 0.1585 - acc: 0.944 - ETA: 2s - loss: 0.1582 - acc: 0.945 - ETA: 2s - loss: 0.1578 - acc: 0.945 - ETA: 2s - loss: 0.1572 - acc: 0.945 - ETA: 2s - loss: 0.1589 - acc: 0.944 - ETA: 2s - loss: 0.1594 - acc: 0.944 - ETA: 2s - loss: 0.1596 - acc: 0.944 - ETA: 2s - loss: 0.1608 - acc: 0.943 - ETA: 2s - loss: 0.1609 - acc: 0.943 - ETA: 2s - loss: 0.1616 - acc: 0.943 - ETA: 2s - loss: 0.1616 - acc: 0.943 - ETA: 1s - loss: 0.1612 - acc: 0.943 - ETA: 1s - loss: 0.1612 - acc: 0.943 - ETA: 1s - loss: 0.1620 - acc: 0.942 - ETA: 1s - loss: 0.1626 - acc: 0.942 - ETA: 1s - loss: 0.1628 - acc: 0.942 - ETA: 1s - loss: 0.1636 - acc: 0.942 - ETA: 1s - loss: 0.1638 - acc: 0.942 - ETA: 1s - loss: 0.1648 - acc: 0.942 - ETA: 1s - loss: 0.1645 - acc: 0.942 - ETA: 1s - loss: 0.1647 - acc: 0.942 - ETA: 1s - loss: 0.1644 - acc: 0.942 - ETA: 1s - loss: 0.1637 - acc: 0.942 - ETA: 1s - loss: 0.1639 - acc: 0.942 - ETA: 1s - loss: 0.1639 - acc: 0.942 - ETA: 1s - loss: 0.1651 - acc: 0.941 - ETA: 1s - loss: 0.1655 - acc: 0.941 - ETA: 1s - loss: 0.1656 - acc: 0.941 - ETA: 1s - loss: 0.1655 - acc: 0.941 - ETA: 1s - loss: 0.1656 - acc: 0.941 - ETA: 0s - loss: 0.1659 - acc: 0.940 - ETA: 0s - loss: 0.1666 - acc: 0.940 - ETA: 0s - loss: 0.1676 - acc: 0.940 - ETA: 0s - loss: 0.1681 - acc: 0.939 - ETA: 0s - loss: 0.1683 - acc: 0.939 - ETA: 0s - loss: 0.1680 - acc: 0.939 - ETA: 0s - loss: 0.1678 - acc: 0.939 - ETA: 0s - loss: 0.1678 - acc: 0.940 - ETA: 0s - loss: 0.1678 - acc: 0.940 - ETA: 0s - loss: 0.1680 - acc: 0.940 - ETA: 0s - loss: 0.1687 - acc: 0.939 - ETA: 0s - loss: 0.1685 - acc: 0.939 - ETA: 0s - loss: 0.1688 - acc: 0.939 - ETA: 0s - loss: 0.1681 - acc: 0.940 - ETA: 0s - loss: 0.1681 - acc: 0.939 - ETA: 0s - loss: 0.1691 - acc: 0.939 - 6s 239us/sample - loss: 0.1692 - acc: 0.9396 - val_loss: 0.4782 - val_acc: 0.8179\n",
      "Epoch 8/10\n"
     ]
    },
    {
     "name": "stdout",
     "output_type": "stream",
     "text": [
      "25000/25000 [==============================] - ETA: 5s - loss: 0.3020 - acc: 0.906 - ETA: 4s - loss: 0.2082 - acc: 0.947 - ETA: 4s - loss: 0.1816 - acc: 0.944 - ETA: 4s - loss: 0.1634 - acc: 0.945 - ETA: 3s - loss: 0.1633 - acc: 0.942 - ETA: 3s - loss: 0.1579 - acc: 0.947 - ETA: 3s - loss: 0.1568 - acc: 0.946 - ETA: 3s - loss: 0.1548 - acc: 0.947 - ETA: 3s - loss: 0.1518 - acc: 0.948 - ETA: 4s - loss: 0.1495 - acc: 0.949 - ETA: 4s - loss: 0.1512 - acc: 0.947 - ETA: 4s - loss: 0.1476 - acc: 0.949 - ETA: 3s - loss: 0.1455 - acc: 0.951 - ETA: 3s - loss: 0.1441 - acc: 0.951 - ETA: 3s - loss: 0.1421 - acc: 0.952 - ETA: 3s - loss: 0.1400 - acc: 0.954 - ETA: 3s - loss: 0.1408 - acc: 0.953 - ETA: 3s - loss: 0.1419 - acc: 0.953 - ETA: 3s - loss: 0.1415 - acc: 0.953 - ETA: 3s - loss: 0.1410 - acc: 0.953 - ETA: 3s - loss: 0.1396 - acc: 0.953 - ETA: 3s - loss: 0.1383 - acc: 0.954 - ETA: 3s - loss: 0.1384 - acc: 0.954 - ETA: 3s - loss: 0.1388 - acc: 0.954 - ETA: 3s - loss: 0.1384 - acc: 0.954 - ETA: 3s - loss: 0.1394 - acc: 0.954 - ETA: 3s - loss: 0.1391 - acc: 0.953 - ETA: 3s - loss: 0.1437 - acc: 0.952 - ETA: 3s - loss: 0.1437 - acc: 0.952 - ETA: 3s - loss: 0.1429 - acc: 0.951 - ETA: 3s - loss: 0.1422 - acc: 0.951 - ETA: 3s - loss: 0.1432 - acc: 0.950 - ETA: 2s - loss: 0.1436 - acc: 0.950 - ETA: 2s - loss: 0.1431 - acc: 0.950 - ETA: 2s - loss: 0.1428 - acc: 0.950 - ETA: 2s - loss: 0.1423 - acc: 0.951 - ETA: 2s - loss: 0.1431 - acc: 0.950 - ETA: 2s - loss: 0.1431 - acc: 0.950 - ETA: 2s - loss: 0.1428 - acc: 0.950 - ETA: 2s - loss: 0.1439 - acc: 0.950 - ETA: 2s - loss: 0.1445 - acc: 0.950 - ETA: 2s - loss: 0.1464 - acc: 0.950 - ETA: 2s - loss: 0.1461 - acc: 0.950 - ETA: 2s - loss: 0.1459 - acc: 0.950 - ETA: 2s - loss: 0.1460 - acc: 0.950 - ETA: 2s - loss: 0.1458 - acc: 0.950 - ETA: 2s - loss: 0.1456 - acc: 0.950 - ETA: 2s - loss: 0.1455 - acc: 0.950 - ETA: 1s - loss: 0.1463 - acc: 0.950 - ETA: 1s - loss: 0.1465 - acc: 0.950 - ETA: 1s - loss: 0.1467 - acc: 0.950 - ETA: 1s - loss: 0.1468 - acc: 0.950 - ETA: 1s - loss: 0.1480 - acc: 0.949 - ETA: 1s - loss: 0.1479 - acc: 0.949 - ETA: 1s - loss: 0.1483 - acc: 0.949 - ETA: 1s - loss: 0.1493 - acc: 0.949 - ETA: 1s - loss: 0.1493 - acc: 0.949 - ETA: 1s - loss: 0.1502 - acc: 0.948 - ETA: 1s - loss: 0.1497 - acc: 0.948 - ETA: 1s - loss: 0.1496 - acc: 0.948 - ETA: 1s - loss: 0.1508 - acc: 0.948 - ETA: 1s - loss: 0.1515 - acc: 0.948 - ETA: 1s - loss: 0.1522 - acc: 0.947 - ETA: 1s - loss: 0.1519 - acc: 0.947 - ETA: 1s - loss: 0.1523 - acc: 0.947 - ETA: 0s - loss: 0.1526 - acc: 0.947 - ETA: 0s - loss: 0.1531 - acc: 0.947 - ETA: 0s - loss: 0.1525 - acc: 0.947 - ETA: 0s - loss: 0.1527 - acc: 0.947 - ETA: 0s - loss: 0.1527 - acc: 0.947 - ETA: 0s - loss: 0.1522 - acc: 0.947 - ETA: 0s - loss: 0.1521 - acc: 0.947 - ETA: 0s - loss: 0.1527 - acc: 0.947 - ETA: 0s - loss: 0.1524 - acc: 0.947 - ETA: 0s - loss: 0.1523 - acc: 0.947 - ETA: 0s - loss: 0.1521 - acc: 0.947 - ETA: 0s - loss: 0.1535 - acc: 0.946 - ETA: 0s - loss: 0.1537 - acc: 0.946 - ETA: 0s - loss: 0.1539 - acc: 0.946 - ETA: 0s - loss: 0.1538 - acc: 0.946 - ETA: 0s - loss: 0.1545 - acc: 0.946 - ETA: 0s - loss: 0.1543 - acc: 0.946 - ETA: 0s - loss: 0.1543 - acc: 0.946 - ETA: 0s - loss: 0.1540 - acc: 0.946 - 6s 227us/sample - loss: 0.1545 - acc: 0.9462 - val_loss: 0.5205 - val_acc: 0.8104\n",
      "Epoch 9/10\n",
      "25000/25000 [==============================] - ETA: 8s - loss: 0.0719 - acc: 0.968 - ETA: 4s - loss: 0.1032 - acc: 0.974 - ETA: 4s - loss: 0.1087 - acc: 0.967 - ETA: 4s - loss: 0.1231 - acc: 0.962 - ETA: 4s - loss: 0.1221 - acc: 0.963 - ETA: 4s - loss: 0.1194 - acc: 0.965 - ETA: 3s - loss: 0.1208 - acc: 0.962 - ETA: 3s - loss: 0.1198 - acc: 0.961 - ETA: 3s - loss: 0.1182 - acc: 0.961 - ETA: 3s - loss: 0.1189 - acc: 0.961 - ETA: 3s - loss: 0.1177 - acc: 0.961 - ETA: 3s - loss: 0.1218 - acc: 0.961 - ETA: 3s - loss: 0.1231 - acc: 0.961 - ETA: 3s - loss: 0.1223 - acc: 0.962 - ETA: 3s - loss: 0.1207 - acc: 0.963 - ETA: 3s - loss: 0.1198 - acc: 0.963 - ETA: 3s - loss: 0.1196 - acc: 0.964 - ETA: 3s - loss: 0.1226 - acc: 0.962 - ETA: 3s - loss: 0.1226 - acc: 0.963 - ETA: 3s - loss: 0.1245 - acc: 0.962 - ETA: 3s - loss: 0.1254 - acc: 0.961 - ETA: 3s - loss: 0.1263 - acc: 0.961 - ETA: 3s - loss: 0.1277 - acc: 0.960 - ETA: 2s - loss: 0.1282 - acc: 0.961 - ETA: 2s - loss: 0.1278 - acc: 0.960 - ETA: 2s - loss: 0.1276 - acc: 0.960 - ETA: 2s - loss: 0.1291 - acc: 0.959 - ETA: 2s - loss: 0.1295 - acc: 0.959 - ETA: 2s - loss: 0.1295 - acc: 0.959 - ETA: 2s - loss: 0.1301 - acc: 0.958 - ETA: 2s - loss: 0.1306 - acc: 0.958 - ETA: 2s - loss: 0.1298 - acc: 0.958 - ETA: 2s - loss: 0.1298 - acc: 0.958 - ETA: 2s - loss: 0.1296 - acc: 0.957 - ETA: 2s - loss: 0.1299 - acc: 0.957 - ETA: 2s - loss: 0.1308 - acc: 0.957 - ETA: 2s - loss: 0.1314 - acc: 0.957 - ETA: 2s - loss: 0.1321 - acc: 0.957 - ETA: 2s - loss: 0.1323 - acc: 0.957 - ETA: 2s - loss: 0.1319 - acc: 0.957 - ETA: 2s - loss: 0.1315 - acc: 0.957 - ETA: 2s - loss: 0.1320 - acc: 0.957 - ETA: 2s - loss: 0.1327 - acc: 0.957 - ETA: 1s - loss: 0.1332 - acc: 0.957 - ETA: 1s - loss: 0.1342 - acc: 0.956 - ETA: 1s - loss: 0.1335 - acc: 0.956 - ETA: 1s - loss: 0.1349 - acc: 0.956 - ETA: 1s - loss: 0.1361 - acc: 0.955 - ETA: 1s - loss: 0.1366 - acc: 0.955 - ETA: 1s - loss: 0.1367 - acc: 0.955 - ETA: 1s - loss: 0.1370 - acc: 0.955 - ETA: 1s - loss: 0.1370 - acc: 0.955 - ETA: 1s - loss: 0.1373 - acc: 0.955 - ETA: 1s - loss: 0.1373 - acc: 0.955 - ETA: 1s - loss: 0.1379 - acc: 0.954 - ETA: 1s - loss: 0.1373 - acc: 0.955 - ETA: 1s - loss: 0.1375 - acc: 0.954 - ETA: 1s - loss: 0.1387 - acc: 0.954 - ETA: 1s - loss: 0.1393 - acc: 0.953 - ETA: 1s - loss: 0.1395 - acc: 0.953 - ETA: 1s - loss: 0.1402 - acc: 0.953 - ETA: 1s - loss: 0.1398 - acc: 0.953 - ETA: 1s - loss: 0.1400 - acc: 0.952 - ETA: 0s - loss: 0.1401 - acc: 0.952 - ETA: 0s - loss: 0.1399 - acc: 0.952 - ETA: 0s - loss: 0.1398 - acc: 0.952 - ETA: 0s - loss: 0.1396 - acc: 0.952 - ETA: 0s - loss: 0.1395 - acc: 0.952 - ETA: 0s - loss: 0.1398 - acc: 0.952 - ETA: 0s - loss: 0.1397 - acc: 0.952 - ETA: 0s - loss: 0.1394 - acc: 0.952 - ETA: 0s - loss: 0.1394 - acc: 0.952 - ETA: 0s - loss: 0.1401 - acc: 0.952 - ETA: 0s - loss: 0.1403 - acc: 0.952 - ETA: 0s - loss: 0.1409 - acc: 0.952 - ETA: 0s - loss: 0.1413 - acc: 0.952 - ETA: 0s - loss: 0.1414 - acc: 0.952 - ETA: 0s - loss: 0.1415 - acc: 0.952 - ETA: 0s - loss: 0.1418 - acc: 0.951 - ETA: 0s - loss: 0.1418 - acc: 0.951 - ETA: 0s - loss: 0.1417 - acc: 0.951 - ETA: 0s - loss: 0.1421 - acc: 0.951 - 5s 217us/sample - loss: 0.1420 - acc: 0.9517 - val_loss: 0.5588 - val_acc: 0.8086\n",
      "Epoch 10/10\n"
     ]
    },
    {
     "name": "stdout",
     "output_type": "stream",
     "text": [
      "25000/25000 [==============================] - ETA: 5s - loss: 0.0769 - acc: 0.968 - ETA: 4s - loss: 0.1128 - acc: 0.968 - ETA: 5s - loss: 0.1049 - acc: 0.965 - ETA: 5s - loss: 0.1047 - acc: 0.964 - ETA: 5s - loss: 0.0997 - acc: 0.968 - ETA: 5s - loss: 0.1031 - acc: 0.969 - ETA: 5s - loss: 0.0975 - acc: 0.971 - ETA: 5s - loss: 0.0948 - acc: 0.972 - ETA: 4s - loss: 0.1099 - acc: 0.968 - ETA: 4s - loss: 0.1113 - acc: 0.965 - ETA: 4s - loss: 0.1099 - acc: 0.967 - ETA: 4s - loss: 0.1065 - acc: 0.969 - ETA: 4s - loss: 0.1047 - acc: 0.969 - ETA: 4s - loss: 0.1069 - acc: 0.969 - ETA: 4s - loss: 0.1093 - acc: 0.968 - ETA: 4s - loss: 0.1086 - acc: 0.969 - ETA: 4s - loss: 0.1124 - acc: 0.967 - ETA: 4s - loss: 0.1141 - acc: 0.967 - ETA: 4s - loss: 0.1148 - acc: 0.966 - ETA: 4s - loss: 0.1160 - acc: 0.967 - ETA: 3s - loss: 0.1153 - acc: 0.966 - ETA: 3s - loss: 0.1143 - acc: 0.966 - ETA: 3s - loss: 0.1134 - acc: 0.967 - ETA: 3s - loss: 0.1147 - acc: 0.967 - ETA: 3s - loss: 0.1134 - acc: 0.967 - ETA: 3s - loss: 0.1131 - acc: 0.967 - ETA: 3s - loss: 0.1132 - acc: 0.967 - ETA: 3s - loss: 0.1131 - acc: 0.967 - ETA: 3s - loss: 0.1129 - acc: 0.967 - ETA: 3s - loss: 0.1141 - acc: 0.966 - ETA: 3s - loss: 0.1148 - acc: 0.966 - ETA: 3s - loss: 0.1145 - acc: 0.965 - ETA: 3s - loss: 0.1146 - acc: 0.965 - ETA: 3s - loss: 0.1137 - acc: 0.965 - ETA: 3s - loss: 0.1132 - acc: 0.966 - ETA: 3s - loss: 0.1134 - acc: 0.966 - ETA: 3s - loss: 0.1132 - acc: 0.966 - ETA: 2s - loss: 0.1142 - acc: 0.965 - ETA: 2s - loss: 0.1143 - acc: 0.966 - ETA: 2s - loss: 0.1137 - acc: 0.966 - ETA: 2s - loss: 0.1156 - acc: 0.965 - ETA: 2s - loss: 0.1164 - acc: 0.964 - ETA: 2s - loss: 0.1158 - acc: 0.964 - ETA: 2s - loss: 0.1160 - acc: 0.964 - ETA: 2s - loss: 0.1166 - acc: 0.963 - ETA: 2s - loss: 0.1171 - acc: 0.963 - ETA: 2s - loss: 0.1177 - acc: 0.962 - ETA: 2s - loss: 0.1178 - acc: 0.962 - ETA: 2s - loss: 0.1179 - acc: 0.962 - ETA: 2s - loss: 0.1179 - acc: 0.962 - ETA: 2s - loss: 0.1179 - acc: 0.962 - ETA: 2s - loss: 0.1185 - acc: 0.962 - ETA: 2s - loss: 0.1191 - acc: 0.962 - ETA: 2s - loss: 0.1190 - acc: 0.962 - ETA: 2s - loss: 0.1188 - acc: 0.962 - ETA: 2s - loss: 0.1188 - acc: 0.962 - ETA: 2s - loss: 0.1187 - acc: 0.962 - ETA: 2s - loss: 0.1190 - acc: 0.962 - ETA: 2s - loss: 0.1196 - acc: 0.962 - ETA: 2s - loss: 0.1194 - acc: 0.962 - ETA: 2s - loss: 0.1194 - acc: 0.962 - ETA: 2s - loss: 0.1199 - acc: 0.962 - ETA: 2s - loss: 0.1200 - acc: 0.962 - ETA: 1s - loss: 0.1211 - acc: 0.962 - ETA: 1s - loss: 0.1207 - acc: 0.962 - ETA: 1s - loss: 0.1216 - acc: 0.961 - ETA: 1s - loss: 0.1225 - acc: 0.961 - ETA: 1s - loss: 0.1229 - acc: 0.960 - ETA: 1s - loss: 0.1233 - acc: 0.960 - ETA: 1s - loss: 0.1226 - acc: 0.960 - ETA: 1s - loss: 0.1231 - acc: 0.960 - ETA: 1s - loss: 0.1238 - acc: 0.960 - ETA: 1s - loss: 0.1238 - acc: 0.960 - ETA: 1s - loss: 0.1243 - acc: 0.960 - ETA: 1s - loss: 0.1245 - acc: 0.959 - ETA: 1s - loss: 0.1250 - acc: 0.959 - ETA: 1s - loss: 0.1254 - acc: 0.959 - ETA: 0s - loss: 0.1252 - acc: 0.959 - ETA: 0s - loss: 0.1256 - acc: 0.959 - ETA: 0s - loss: 0.1255 - acc: 0.959 - ETA: 0s - loss: 0.1262 - acc: 0.958 - ETA: 0s - loss: 0.1262 - acc: 0.958 - ETA: 0s - loss: 0.1263 - acc: 0.958 - ETA: 0s - loss: 0.1264 - acc: 0.958 - ETA: 0s - loss: 0.1268 - acc: 0.958 - ETA: 0s - loss: 0.1270 - acc: 0.958 - ETA: 0s - loss: 0.1278 - acc: 0.957 - ETA: 0s - loss: 0.1279 - acc: 0.957 - ETA: 0s - loss: 0.1282 - acc: 0.957 - ETA: 0s - loss: 0.1286 - acc: 0.957 - ETA: 0s - loss: 0.1292 - acc: 0.957 - ETA: 0s - loss: 0.1294 - acc: 0.956 - ETA: 0s - loss: 0.1293 - acc: 0.956 - 6s 241us/sample - loss: 0.1295 - acc: 0.9568 - val_loss: 0.6036 - val_acc: 0.8035\n"
     ]
    }
   ],
   "source": [
    "his1 = model1.fit(X_train,y_train,epochs=10,validation_data=(X_test,y_test))"
   ]
  },
  {
   "cell_type": "code",
   "execution_count": 54,
   "metadata": {},
   "outputs": [
    {
     "data": {
      "text/plain": [
       "<matplotlib.legend.Legend at 0x152fc00f278>"
      ]
     },
     "execution_count": 54,
     "metadata": {},
     "output_type": "execute_result"
    },
    {
     "data": {
      "image/png": "[encoded data removed]",
      "text/plain": [
       "<Figure size 1008x360 with 2 Axes>"
      ]
     },
     "metadata": {
      "needs_background": "light"
     },
     "output_type": "display_data"
    }
   ],
   "source": [
    "_,ax = plt.subplots(1,2,figsize=(14,5))\n",
    "ax[0].plot(his1.history['acc'],label = \"Training\")\n",
    "ax[0].plot(his1.history['val_acc'],label = \"Validation\")\n",
    "ax[0].set_title(\"Accurecy\")\n",
    "ax[0].legend()\n",
    "\n",
    "ax[1].plot(his1.history['loss'],label = \"Training\")\n",
    "ax[1].plot(his1.history['val_loss'],label = \"Validation\")\n",
    "ax[1].set_title(\"Cross Entropy\")\n",
    "ax[1].legend()"
   ]
  },
  {
   "cell_type": "code",
   "execution_count": 55,
   "metadata": {},
   "outputs": [
    {
     "data": {
      "text/plain": [
       "[0.82236,\n",
       " 0.83648,\n",
       " 0.83452,\n",
       " 0.82404,\n",
       " 0.8242,\n",
       " 0.818,\n",
       " 0.81788,\n",
       " 0.81044,\n",
       " 0.8086,\n",
       " 0.80348]"
      ]
     },
     "execution_count": 55,
     "metadata": {},
     "output_type": "execute_result"
    }
   ],
   "source": [
    "his1.history['val_acc']"
   ]
  },
  {
   "cell_type": "code",
   "execution_count": 58,
   "metadata": {},
   "outputs": [
    {
     "data": {
      "text/plain": [
       "(10000, 16)"
      ]
     },
     "execution_count": 58,
     "metadata": {},
     "output_type": "execute_result"
    }
   ],
   "source": [
    "e = model1.layers[0]\n",
    "weights = e.get_weights()[0]\n",
    "weights.shape"
   ]
  },
  {
   "cell_type": "code",
   "execution_count": 59,
   "metadata": {},
   "outputs": [],
   "source": [
    "import io"
   ]
  },
  {
   "cell_type": "code",
   "execution_count": 60,
   "metadata": {},
   "outputs": [],
   "source": [
    "out_v = io.open(\"vecs.tsv\",'w',encoding='utf-8')\n",
    "out_m = io.open(\"meta.tsv\",'w',encoding='utf-8')"
   ]
  },
  {
   "cell_type": "code",
   "execution_count": 61,
   "metadata": {},
   "outputs": [],
   "source": [
    "rev_word_index = {}\n",
    "for k,v in word_index.items():\n",
    "    rev_word_index[v] = k"
   ]
  },
  {
   "cell_type": "code",
   "execution_count": 64,
   "metadata": {},
   "outputs": [
    {
     "ename": "TypeError",
     "evalue": "sequence item 0: expected str instance, numpy.float32 found",
     "output_type": "error",
     "traceback": [
      "\u001b[1;31m---------------------------------------------------------------------------\u001b[0m",
      "\u001b[1;31mTypeError\u001b[0m                                 Traceback (most recent call last)",
      "\u001b[1;32m<ipython-input-64-200b9e78f7ec>\u001b[0m in \u001b[0;36m<module>\u001b[1;34m\u001b[0m\n\u001b[0;32m      3\u001b[0m     \u001b[0membedding\u001b[0m \u001b[1;33m=\u001b[0m \u001b[0mweights\u001b[0m\u001b[1;33m[\u001b[0m\u001b[0mi\u001b[0m\u001b[1;33m]\u001b[0m\u001b[1;33m\u001b[0m\u001b[1;33m\u001b[0m\u001b[0m\n\u001b[0;32m      4\u001b[0m     \u001b[0mout_m\u001b[0m\u001b[1;33m.\u001b[0m\u001b[0mwrite\u001b[0m\u001b[1;33m(\u001b[0m\u001b[0mword\u001b[0m\u001b[1;33m+\u001b[0m\u001b[1;34m\"\\n\"\u001b[0m\u001b[1;33m)\u001b[0m\u001b[1;33m\u001b[0m\u001b[1;33m\u001b[0m\u001b[0m\n\u001b[1;32m----> 5\u001b[1;33m     \u001b[0mout_v\u001b[0m\u001b[1;33m.\u001b[0m\u001b[0mwrite\u001b[0m\u001b[1;33m(\u001b[0m\u001b[1;34m\"\\t\"\u001b[0m\u001b[1;33m.\u001b[0m\u001b[0mjoin\u001b[0m\u001b[1;33m(\u001b[0m\u001b[0membedding\u001b[0m\u001b[1;33m)\u001b[0m\u001b[1;33m+\u001b[0m\u001b[1;34m\"\\n\"\u001b[0m\u001b[1;33m)\u001b[0m\u001b[1;33m\u001b[0m\u001b[1;33m\u001b[0m\u001b[0m\n\u001b[0m",
      "\u001b[1;31mTypeError\u001b[0m: sequence item 0: expected str instance, numpy.float32 found"
     ]
    }
   ],
   "source": [
    "for i in (1,num_words):\n",
    "    word = rev_word_index[i]\n",
    "    embedding = weights[i]\n",
    "    out_m.write(word+\"\\n\")\n",
    "    out_v.write(\"\\t\".join([str(x) for x in embedding])+\"\\n\")"
   ]
  },
  {
   "cell_type": "code",
   "execution_count": null,
   "metadata": {},
   "outputs": [],
   "source": []
  }
 ],
 "metadata": {
  "kernelspec": {
   "display_name": "Python 3",
   "language": "python",
   "name": "python3"
  },
  "language_info": {
   "codemirror_mode": {
    "name": "ipython",
    "version": 3
   },
   "file_extension": ".py",
   "mimetype": "text/x-python",
   "name": "python",
   "nbconvert_exporter": "python",
   "pygments_lexer": "ipython3",
   "version": "3.7.3"
  }
 },
 "nbformat": 4,
 "nbformat_minor": 2
}
