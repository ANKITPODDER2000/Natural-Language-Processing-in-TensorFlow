{
 "cells": [
  {
   "cell_type": "code",
   "execution_count": 1,
   "metadata": {},
   "outputs": [
    {
     "name": "stdout",
     "output_type": "stream",
     "text": [
      "Version of tensorflow is :=  2.1.0\n"
     ]
    }
   ],
   "source": [
    "import tensorflow as tf\n",
    "print(\"Version of tensorflow is := \",tf.__version__)"
   ]
  },
  {
   "cell_type": "code",
   "execution_count": 2,
   "metadata": {},
   "outputs": [],
   "source": [
    "from tensorflow.keras.preprocessing.text import Tokenizer\n",
    "from tensorflow.keras.preprocessing.sequence import pad_sequences"
   ]
  },
  {
   "cell_type": "code",
   "execution_count": 3,
   "metadata": {},
   "outputs": [],
   "source": [
    "import numpy as np"
   ]
  },
  {
   "cell_type": "code",
   "execution_count": 4,
   "metadata": {},
   "outputs": [],
   "source": [
    "import matplotlib.pyplot as plt\n",
    "%matplotlib inline"
   ]
  },
  {
   "cell_type": "code",
   "execution_count": 5,
   "metadata": {},
   "outputs": [],
   "source": [
    "import tensorflow_datasets as tfds\n",
    "imdb,info = tfds.load(\"imdb_reviews\",with_info=True,as_supervised=True)"
   ]
  },
  {
   "cell_type": "code",
   "execution_count": 6,
   "metadata": {},
   "outputs": [],
   "source": [
    "train_data = imdb['train']\n",
    "test_data  = imdb['test']"
   ]
  },
  {
   "cell_type": "code",
   "execution_count": 7,
   "metadata": {},
   "outputs": [],
   "source": [
    "train_string = []\n",
    "train_label  = []\n",
    "\n",
    "test_string  = []\n",
    "test_label   = []\n",
    "\n",
    "for s,l in train_data:\n",
    "    train_string.append(str(s.numpy()))\n",
    "    train_label.append(l.numpy())\n",
    "    \n",
    "for s,l in test_data:\n",
    "    test_string.append(str(s.numpy()))\n",
    "    test_label.append(l.numpy())"
   ]
  },
  {
   "cell_type": "code",
   "execution_count": 8,
   "metadata": {},
   "outputs": [
    {
     "name": "stdout",
     "output_type": "stream",
     "text": [
      "len of train_string :=  25000\n",
      "len of train_label :=  25000\n",
      "len of test_string :=  25000\n",
      "len of test_label :=  25000\n"
     ]
    }
   ],
   "source": [
    "print(\"len of train_string := \",len(train_string))\n",
    "print(\"len of train_label := \",len(train_label))\n",
    "print(\"len of test_string := \",len(test_string))\n",
    "print(\"len of test_label := \",len(test_label))"
   ]
  },
  {
   "cell_type": "code",
   "execution_count": 9,
   "metadata": {},
   "outputs": [
    {
     "data": {
      "text/plain": [
       "str"
      ]
     },
     "execution_count": 9,
     "metadata": {},
     "output_type": "execute_result"
    }
   ],
   "source": [
    "type(train_string[0])"
   ]
  },
  {
   "cell_type": "code",
   "execution_count": 10,
   "metadata": {},
   "outputs": [],
   "source": [
    "num_words = 10000\n",
    "embedding = 16\n",
    "oov_token = \"<OOV>\"\n",
    "max_len   = 120\n",
    "truncating = \"post\""
   ]
  },
  {
   "cell_type": "code",
   "execution_count": 11,
   "metadata": {},
   "outputs": [],
   "source": [
    "tokenizer = Tokenizer(num_words=num_words,oov_token=oov_token)\n",
    "tokenizer.fit_on_texts(train_string)\n",
    "word_index = tokenizer.word_index\n",
    "seq1 = tokenizer.texts_to_sequences(train_string)\n",
    "seq2 = tokenizer.texts_to_sequences(test_string)\n",
    "\n",
    "X_train = pad_sequences(seq1,maxlen = max_len,truncating = truncating)\n",
    "X_test  = pad_sequences(seq2,maxlen = max_len,truncating = truncating)"
   ]
  },
  {
   "cell_type": "code",
   "execution_count": 12,
   "metadata": {},
   "outputs": [],
   "source": [
    "y_train = np.array(train_label)\n",
    "y_test  = np.array(test_label)"
   ]
  },
  {
   "cell_type": "code",
   "execution_count": 13,
   "metadata": {},
   "outputs": [
    {
     "name": "stdout",
     "output_type": "stream",
     "text": [
      "Shape of X_train :=  (25000, 120)\n",
      "Shape of y_train :=  (25000,)\n",
      "======================================\n",
      "Shape of X_test :=  (25000, 120)\n",
      "Shape of y_test :=  (25000,)\n"
     ]
    }
   ],
   "source": [
    "print(\"Shape of X_train := \",X_train.shape)\n",
    "print(\"Shape of y_train := \",y_train.shape)\n",
    "print(\"======================================\")\n",
    "print(\"Shape of X_test := \",X_test.shape)\n",
    "print(\"Shape of y_test := \",y_test.shape)"
   ]
  },
  {
   "cell_type": "code",
   "execution_count": 14,
   "metadata": {},
   "outputs": [
    {
     "name": "stdout",
     "output_type": "stream",
     "text": [
      "Model: \"sequential\"\n",
      "_________________________________________________________________\n",
      "Layer (type)                 Output Shape              Param #   \n",
      "=================================================================\n",
      "embedding (Embedding)        (None, 120, 16)           160000    \n",
      "_________________________________________________________________\n",
      "global_average_pooling1d (Gl (None, 16)                0         \n",
      "_________________________________________________________________\n",
      "flatten (Flatten)            (None, 16)                0         \n",
      "_________________________________________________________________\n",
      "dense (Dense)                (None, 6)                 102       \n",
      "_________________________________________________________________\n",
      "dense_1 (Dense)              (None, 1)                 7         \n",
      "=================================================================\n",
      "Total params: 160,109\n",
      "Trainable params: 160,109\n",
      "Non-trainable params: 0\n",
      "_________________________________________________________________\n"
     ]
    }
   ],
   "source": [
    "model1 = tf.keras.models.Sequential([\n",
    "    tf.keras.layers.Embedding(num_words,embedding,input_length=max_len),\n",
    "    tf.keras.layers.GlobalAveragePooling1D(),\n",
    "    tf.keras.layers.Flatten(),\n",
    "    tf.keras.layers.Dense(6,activation=\"relu\"),\n",
    "    tf.keras.layers.Dense(1,activation=\"sigmoid\")\n",
    "])\n",
    "model1.summary()"
   ]
  },
  {
   "cell_type": "code",
   "execution_count": 15,
   "metadata": {},
   "outputs": [],
   "source": [
    "model1.compile(optimizer=\"adam\",loss=tf.keras.losses.binary_crossentropy,metrics=['acc'])"
   ]
  },
  {
   "cell_type": "code",
   "execution_count": 16,
   "metadata": {},
   "outputs": [
    {
     "name": "stdout",
     "output_type": "stream",
     "text": [
      "Train on 25000 samples, validate on 25000 samples\n",
      "Epoch 1/15\n",
      "25000/25000 [==============================] - ETA: 24:17 - loss: 0.6935 - acc: 0.50 - ETA: 4:58 - loss: 0.6934 - acc: 0.4625 - ETA: 1:56 - loss: 0.6933 - acc: 0.454 - ETA: 1:06 - loss: 0.6931 - acc: 0.502 - ETA: 47s - loss: 0.6930 - acc: 0.520 - ETA: 37s - loss: 0.6929 - acc: 0.53 - ETA: 34s - loss: 0.6929 - acc: 0.53 - ETA: 33s - loss: 0.6928 - acc: 0.53 - ETA: 28s - loss: 0.6926 - acc: 0.54 - ETA: 25s - loss: 0.6925 - acc: 0.54 - ETA: 21s - loss: 0.6924 - acc: 0.53 - ETA: 19s - loss: 0.6920 - acc: 0.54 - ETA: 17s - loss: 0.6915 - acc: 0.53 - ETA: 16s - loss: 0.6912 - acc: 0.53 - ETA: 14s - loss: 0.6912 - acc: 0.53 - ETA: 13s - loss: 0.6909 - acc: 0.53 - ETA: 12s - loss: 0.6906 - acc: 0.53 - ETA: 12s - loss: 0.6901 - acc: 0.54 - ETA: 11s - loss: 0.6893 - acc: 0.54 - ETA: 10s - loss: 0.6888 - acc: 0.54 - ETA: 9s - loss: 0.6883 - acc: 0.5463 - ETA: 9s - loss: 0.6877 - acc: 0.546 - ETA: 8s - loss: 0.6870 - acc: 0.549 - ETA: 8s - loss: 0.6862 - acc: 0.552 - ETA: 8s - loss: 0.6855 - acc: 0.554 - ETA: 7s - loss: 0.6844 - acc: 0.557 - ETA: 7s - loss: 0.6833 - acc: 0.559 - ETA: 6s - loss: 0.6826 - acc: 0.559 - ETA: 6s - loss: 0.6815 - acc: 0.563 - ETA: 6s - loss: 0.6804 - acc: 0.566 - ETA: 6s - loss: 0.6791 - acc: 0.570 - ETA: 5s - loss: 0.6783 - acc: 0.572 - ETA: 5s - loss: 0.6773 - acc: 0.574 - ETA: 5s - loss: 0.6759 - acc: 0.578 - ETA: 5s - loss: 0.6749 - acc: 0.580 - ETA: 4s - loss: 0.6729 - acc: 0.584 - ETA: 4s - loss: 0.6719 - acc: 0.585 - ETA: 4s - loss: 0.6708 - acc: 0.587 - ETA: 4s - loss: 0.6694 - acc: 0.591 - ETA: 4s - loss: 0.6681 - acc: 0.595 - ETA: 4s - loss: 0.6670 - acc: 0.598 - ETA: 4s - loss: 0.6662 - acc: 0.599 - ETA: 3s - loss: 0.6652 - acc: 0.601 - ETA: 3s - loss: 0.6638 - acc: 0.605 - ETA: 3s - loss: 0.6631 - acc: 0.607 - ETA: 3s - loss: 0.6616 - acc: 0.611 - ETA: 3s - loss: 0.6607 - acc: 0.612 - ETA: 3s - loss: 0.6602 - acc: 0.614 - ETA: 3s - loss: 0.6591 - acc: 0.616 - ETA: 3s - loss: 0.6580 - acc: 0.619 - ETA: 3s - loss: 0.6566 - acc: 0.622 - ETA: 3s - loss: 0.6553 - acc: 0.624 - ETA: 2s - loss: 0.6544 - acc: 0.626 - ETA: 2s - loss: 0.6530 - acc: 0.628 - ETA: 2s - loss: 0.6515 - acc: 0.630 - ETA: 2s - loss: 0.6502 - acc: 0.632 - ETA: 2s - loss: 0.6496 - acc: 0.633 - ETA: 2s - loss: 0.6489 - acc: 0.634 - ETA: 2s - loss: 0.6479 - acc: 0.635 - ETA: 2s - loss: 0.6470 - acc: 0.637 - ETA: 2s - loss: 0.6459 - acc: 0.638 - ETA: 2s - loss: 0.6444 - acc: 0.641 - ETA: 2s - loss: 0.6432 - acc: 0.643 - ETA: 2s - loss: 0.6425 - acc: 0.644 - ETA: 2s - loss: 0.6424 - acc: 0.644 - ETA: 2s - loss: 0.6415 - acc: 0.646 - ETA: 2s - loss: 0.6395 - acc: 0.649 - ETA: 1s - loss: 0.6377 - acc: 0.652 - ETA: 1s - loss: 0.6360 - acc: 0.654 - ETA: 1s - loss: 0.6343 - acc: 0.656 - ETA: 1s - loss: 0.6320 - acc: 0.659 - ETA: 1s - loss: 0.6305 - acc: 0.662 - ETA: 1s - loss: 0.6287 - acc: 0.664 - ETA: 1s - loss: 0.6272 - acc: 0.667 - ETA: 1s - loss: 0.6270 - acc: 0.667 - ETA: 1s - loss: 0.6264 - acc: 0.668 - ETA: 1s - loss: 0.6257 - acc: 0.669 - ETA: 1s - loss: 0.6249 - acc: 0.670 - ETA: 1s - loss: 0.6239 - acc: 0.671 - ETA: 0s - loss: 0.6233 - acc: 0.671 - ETA: 0s - loss: 0.6229 - acc: 0.672 - ETA: 0s - loss: 0.6222 - acc: 0.673 - ETA: 0s - loss: 0.6211 - acc: 0.674 - ETA: 0s - loss: 0.6201 - acc: 0.676 - ETA: 0s - loss: 0.6191 - acc: 0.677 - ETA: 0s - loss: 0.6179 - acc: 0.678 - ETA: 0s - loss: 0.6164 - acc: 0.680 - ETA: 0s - loss: 0.6146 - acc: 0.682 - ETA: 0s - loss: 0.6129 - acc: 0.684 - ETA: 0s - loss: 0.6117 - acc: 0.685 - ETA: 0s - loss: 0.6099 - acc: 0.687 - ETA: 0s - loss: 0.6086 - acc: 0.689 - ETA: 0s - loss: 0.6077 - acc: 0.690 - ETA: 0s - loss: 0.6064 - acc: 0.692 - 8s 325us/sample - loss: 0.6053 - acc: 0.6934 - val_loss: 0.5056 - val_acc: 0.8166\n",
      "Epoch 2/15\n",
      "25000/25000 [==============================] - ETA: 7s - loss: 0.4736 - acc: 0.906 - ETA: 5s - loss: 0.4785 - acc: 0.826 - ETA: 5s - loss: 0.4735 - acc: 0.834 - ETA: 4s - loss: 0.4755 - acc: 0.831 - ETA: 4s - loss: 0.4754 - acc: 0.833 - ETA: 4s - loss: 0.4715 - acc: 0.836 - ETA: 4s - loss: 0.4695 - acc: 0.840 - ETA: 3s - loss: 0.4663 - acc: 0.842 - ETA: 3s - loss: 0.4676 - acc: 0.841 - ETA: 3s - loss: 0.4668 - acc: 0.841 - ETA: 3s - loss: 0.4643 - acc: 0.843 - ETA: 3s - loss: 0.4617 - acc: 0.844 - ETA: 3s - loss: 0.4613 - acc: 0.845 - ETA: 3s - loss: 0.4604 - acc: 0.844 - ETA: 3s - loss: 0.4598 - acc: 0.844 - ETA: 3s - loss: 0.4577 - acc: 0.846 - ETA: 3s - loss: 0.4547 - acc: 0.848 - ETA: 3s - loss: 0.4543 - acc: 0.849 - ETA: 3s - loss: 0.4547 - acc: 0.848 - ETA: 3s - loss: 0.4550 - acc: 0.847 - ETA: 3s - loss: 0.4530 - acc: 0.848 - ETA: 2s - loss: 0.4520 - acc: 0.848 - ETA: 2s - loss: 0.4492 - acc: 0.850 - ETA: 2s - loss: 0.4470 - acc: 0.852 - ETA: 2s - loss: 0.4459 - acc: 0.853 - ETA: 2s - loss: 0.4445 - acc: 0.853 - ETA: 2s - loss: 0.4437 - acc: 0.853 - ETA: 2s - loss: 0.4433 - acc: 0.853 - ETA: 2s - loss: 0.4423 - acc: 0.853 - ETA: 2s - loss: 0.4406 - acc: 0.854 - ETA: 2s - loss: 0.4410 - acc: 0.853 - ETA: 2s - loss: 0.4411 - acc: 0.852 - ETA: 2s - loss: 0.4407 - acc: 0.851 - ETA: 2s - loss: 0.4406 - acc: 0.852 - ETA: 2s - loss: 0.4403 - acc: 0.852 - ETA: 2s - loss: 0.4402 - acc: 0.851 - ETA: 2s - loss: 0.4395 - acc: 0.851 - ETA: 2s - loss: 0.4387 - acc: 0.851 - ETA: 2s - loss: 0.4383 - acc: 0.851 - ETA: 2s - loss: 0.4380 - acc: 0.851 - ETA: 2s - loss: 0.4377 - acc: 0.851 - ETA: 2s - loss: 0.4370 - acc: 0.851 - ETA: 2s - loss: 0.4363 - acc: 0.851 - ETA: 1s - loss: 0.4359 - acc: 0.851 - ETA: 1s - loss: 0.4347 - acc: 0.852 - ETA: 1s - loss: 0.4341 - acc: 0.852 - ETA: 1s - loss: 0.4326 - acc: 0.852 - ETA: 1s - loss: 0.4328 - acc: 0.852 - ETA: 1s - loss: 0.4326 - acc: 0.853 - ETA: 1s - loss: 0.4323 - acc: 0.853 - ETA: 1s - loss: 0.4318 - acc: 0.853 - ETA: 1s - loss: 0.4313 - acc: 0.853 - ETA: 1s - loss: 0.4303 - acc: 0.854 - ETA: 1s - loss: 0.4300 - acc: 0.854 - ETA: 1s - loss: 0.4296 - acc: 0.853 - ETA: 1s - loss: 0.4290 - acc: 0.854 - ETA: 1s - loss: 0.4287 - acc: 0.853 - ETA: 1s - loss: 0.4278 - acc: 0.854 - ETA: 1s - loss: 0.4276 - acc: 0.853 - ETA: 1s - loss: 0.4270 - acc: 0.853 - ETA: 1s - loss: 0.4259 - acc: 0.854 - ETA: 1s - loss: 0.4253 - acc: 0.854 - ETA: 0s - loss: 0.4246 - acc: 0.855 - ETA: 0s - loss: 0.4236 - acc: 0.855 - ETA: 0s - loss: 0.4232 - acc: 0.855 - ETA: 0s - loss: 0.4228 - acc: 0.855 - ETA: 0s - loss: 0.4217 - acc: 0.856 - ETA: 0s - loss: 0.4215 - acc: 0.856 - ETA: 0s - loss: 0.4204 - acc: 0.856 - ETA: 0s - loss: 0.4199 - acc: 0.856 - ETA: 0s - loss: 0.4193 - acc: 0.857 - ETA: 0s - loss: 0.4190 - acc: 0.856 - ETA: 0s - loss: 0.4187 - acc: 0.856 - ETA: 0s - loss: 0.4191 - acc: 0.856 - ETA: 0s - loss: 0.4188 - acc: 0.856 - ETA: 0s - loss: 0.4182 - acc: 0.856 - ETA: 0s - loss: 0.4175 - acc: 0.856 - ETA: 0s - loss: 0.4165 - acc: 0.857 - ETA: 0s - loss: 0.4165 - acc: 0.856 - ETA: 0s - loss: 0.4164 - acc: 0.856 - ETA: 0s - loss: 0.4158 - acc: 0.856 - ETA: 0s - loss: 0.4152 - acc: 0.856 - 5s 214us/sample - loss: 0.4152 - acc: 0.8568 - val_loss: 0.4187 - val_acc: 0.8338\n",
      "Epoch 3/15\n"
     ]
    },
    {
     "name": "stdout",
     "output_type": "stream",
     "text": [
      "25000/25000 [==============================] - ETA: 5s - loss: 0.2891 - acc: 0.937 - ETA: 4s - loss: 0.3566 - acc: 0.875 - ETA: 4s - loss: 0.3562 - acc: 0.876 - ETA: 3s - loss: 0.3418 - acc: 0.893 - ETA: 3s - loss: 0.3410 - acc: 0.896 - ETA: 3s - loss: 0.3408 - acc: 0.895 - ETA: 3s - loss: 0.3370 - acc: 0.899 - ETA: 3s - loss: 0.3405 - acc: 0.895 - ETA: 3s - loss: 0.3420 - acc: 0.891 - ETA: 3s - loss: 0.3412 - acc: 0.889 - ETA: 3s - loss: 0.3418 - acc: 0.888 - ETA: 3s - loss: 0.3405 - acc: 0.889 - ETA: 3s - loss: 0.3389 - acc: 0.891 - ETA: 3s - loss: 0.3388 - acc: 0.892 - ETA: 3s - loss: 0.3388 - acc: 0.890 - ETA: 3s - loss: 0.3369 - acc: 0.892 - ETA: 3s - loss: 0.3388 - acc: 0.891 - ETA: 3s - loss: 0.3393 - acc: 0.891 - ETA: 3s - loss: 0.3368 - acc: 0.893 - ETA: 3s - loss: 0.3361 - acc: 0.894 - ETA: 3s - loss: 0.3365 - acc: 0.893 - ETA: 2s - loss: 0.3355 - acc: 0.894 - ETA: 2s - loss: 0.3366 - acc: 0.891 - ETA: 2s - loss: 0.3356 - acc: 0.893 - ETA: 2s - loss: 0.3351 - acc: 0.892 - ETA: 2s - loss: 0.3344 - acc: 0.893 - ETA: 2s - loss: 0.3345 - acc: 0.892 - ETA: 2s - loss: 0.3353 - acc: 0.890 - ETA: 2s - loss: 0.3342 - acc: 0.891 - ETA: 2s - loss: 0.3339 - acc: 0.890 - ETA: 2s - loss: 0.3335 - acc: 0.890 - ETA: 2s - loss: 0.3334 - acc: 0.890 - ETA: 2s - loss: 0.3337 - acc: 0.890 - ETA: 2s - loss: 0.3336 - acc: 0.889 - ETA: 2s - loss: 0.3341 - acc: 0.888 - ETA: 2s - loss: 0.3337 - acc: 0.888 - ETA: 2s - loss: 0.3332 - acc: 0.889 - ETA: 2s - loss: 0.3319 - acc: 0.889 - ETA: 2s - loss: 0.3311 - acc: 0.890 - ETA: 2s - loss: 0.3306 - acc: 0.890 - ETA: 2s - loss: 0.3296 - acc: 0.890 - ETA: 1s - loss: 0.3292 - acc: 0.890 - ETA: 1s - loss: 0.3289 - acc: 0.890 - ETA: 1s - loss: 0.3288 - acc: 0.890 - ETA: 1s - loss: 0.3289 - acc: 0.889 - ETA: 1s - loss: 0.3287 - acc: 0.890 - ETA: 1s - loss: 0.3282 - acc: 0.890 - ETA: 1s - loss: 0.3286 - acc: 0.889 - ETA: 1s - loss: 0.3283 - acc: 0.889 - ETA: 1s - loss: 0.3280 - acc: 0.889 - ETA: 1s - loss: 0.3280 - acc: 0.889 - ETA: 1s - loss: 0.3284 - acc: 0.888 - ETA: 1s - loss: 0.3279 - acc: 0.888 - ETA: 1s - loss: 0.3269 - acc: 0.889 - ETA: 1s - loss: 0.3256 - acc: 0.889 - ETA: 1s - loss: 0.3250 - acc: 0.890 - ETA: 1s - loss: 0.3247 - acc: 0.890 - ETA: 0s - loss: 0.3253 - acc: 0.890 - ETA: 0s - loss: 0.3251 - acc: 0.890 - ETA: 0s - loss: 0.3252 - acc: 0.890 - ETA: 0s - loss: 0.3245 - acc: 0.890 - ETA: 0s - loss: 0.3240 - acc: 0.890 - ETA: 0s - loss: 0.3234 - acc: 0.891 - ETA: 0s - loss: 0.3230 - acc: 0.891 - ETA: 0s - loss: 0.3231 - acc: 0.891 - ETA: 0s - loss: 0.3230 - acc: 0.891 - ETA: 0s - loss: 0.3225 - acc: 0.891 - ETA: 0s - loss: 0.3223 - acc: 0.891 - ETA: 0s - loss: 0.3223 - acc: 0.891 - ETA: 0s - loss: 0.3225 - acc: 0.890 - ETA: 0s - loss: 0.3222 - acc: 0.890 - ETA: 0s - loss: 0.3223 - acc: 0.890 - ETA: 0s - loss: 0.3226 - acc: 0.890 - ETA: 0s - loss: 0.3229 - acc: 0.889 - ETA: 0s - loss: 0.3227 - acc: 0.889 - 5s 199us/sample - loss: 0.3223 - acc: 0.8899 - val_loss: 0.3994 - val_acc: 0.8330\n",
      "Epoch 4/15\n",
      "25000/25000 [==============================] - ETA: 5s - loss: 0.2366 - acc: 0.937 - ETA: 4s - loss: 0.2432 - acc: 0.918 - ETA: 4s - loss: 0.2626 - acc: 0.914 - ETA: 3s - loss: 0.2645 - acc: 0.918 - ETA: 3s - loss: 0.2618 - acc: 0.920 - ETA: 3s - loss: 0.2629 - acc: 0.919 - ETA: 3s - loss: 0.2633 - acc: 0.917 - ETA: 3s - loss: 0.2607 - acc: 0.918 - ETA: 3s - loss: 0.2638 - acc: 0.918 - ETA: 3s - loss: 0.2637 - acc: 0.917 - ETA: 3s - loss: 0.2603 - acc: 0.919 - ETA: 3s - loss: 0.2641 - acc: 0.918 - ETA: 3s - loss: 0.2628 - acc: 0.919 - ETA: 3s - loss: 0.2660 - acc: 0.917 - ETA: 3s - loss: 0.2655 - acc: 0.918 - ETA: 3s - loss: 0.2658 - acc: 0.917 - ETA: 2s - loss: 0.2673 - acc: 0.916 - ETA: 2s - loss: 0.2666 - acc: 0.916 - ETA: 2s - loss: 0.2664 - acc: 0.916 - ETA: 2s - loss: 0.2650 - acc: 0.917 - ETA: 2s - loss: 0.2652 - acc: 0.916 - ETA: 2s - loss: 0.2665 - acc: 0.916 - ETA: 2s - loss: 0.2674 - acc: 0.915 - ETA: 2s - loss: 0.2685 - acc: 0.915 - ETA: 2s - loss: 0.2688 - acc: 0.915 - ETA: 2s - loss: 0.2697 - acc: 0.915 - ETA: 2s - loss: 0.2693 - acc: 0.915 - ETA: 2s - loss: 0.2693 - acc: 0.915 - ETA: 2s - loss: 0.2702 - acc: 0.914 - ETA: 2s - loss: 0.2703 - acc: 0.914 - ETA: 2s - loss: 0.2703 - acc: 0.913 - ETA: 2s - loss: 0.2697 - acc: 0.914 - ETA: 2s - loss: 0.2690 - acc: 0.914 - ETA: 2s - loss: 0.2685 - acc: 0.914 - ETA: 2s - loss: 0.2676 - acc: 0.914 - ETA: 1s - loss: 0.2672 - acc: 0.914 - ETA: 1s - loss: 0.2680 - acc: 0.913 - ETA: 1s - loss: 0.2691 - acc: 0.913 - ETA: 1s - loss: 0.2686 - acc: 0.913 - ETA: 1s - loss: 0.2681 - acc: 0.913 - ETA: 1s - loss: 0.2677 - acc: 0.913 - ETA: 1s - loss: 0.2670 - acc: 0.913 - ETA: 1s - loss: 0.2672 - acc: 0.913 - ETA: 1s - loss: 0.2669 - acc: 0.913 - ETA: 1s - loss: 0.2679 - acc: 0.913 - ETA: 1s - loss: 0.2678 - acc: 0.913 - ETA: 1s - loss: 0.2691 - acc: 0.912 - ETA: 1s - loss: 0.2692 - acc: 0.912 - ETA: 1s - loss: 0.2688 - acc: 0.912 - ETA: 1s - loss: 0.2684 - acc: 0.912 - ETA: 1s - loss: 0.2682 - acc: 0.912 - ETA: 1s - loss: 0.2680 - acc: 0.912 - ETA: 1s - loss: 0.2679 - acc: 0.912 - ETA: 1s - loss: 0.2678 - acc: 0.912 - ETA: 1s - loss: 0.2680 - acc: 0.912 - ETA: 1s - loss: 0.2681 - acc: 0.911 - ETA: 0s - loss: 0.2679 - acc: 0.911 - ETA: 0s - loss: 0.2685 - acc: 0.911 - ETA: 0s - loss: 0.2687 - acc: 0.910 - ETA: 0s - loss: 0.2693 - acc: 0.910 - ETA: 0s - loss: 0.2691 - acc: 0.910 - ETA: 0s - loss: 0.2690 - acc: 0.910 - ETA: 0s - loss: 0.2689 - acc: 0.910 - ETA: 0s - loss: 0.2685 - acc: 0.910 - ETA: 0s - loss: 0.2683 - acc: 0.910 - ETA: 0s - loss: 0.2690 - acc: 0.910 - ETA: 0s - loss: 0.2691 - acc: 0.909 - ETA: 0s - loss: 0.2691 - acc: 0.909 - ETA: 0s - loss: 0.2693 - acc: 0.909 - ETA: 0s - loss: 0.2689 - acc: 0.909 - ETA: 0s - loss: 0.2691 - acc: 0.909 - ETA: 0s - loss: 0.2684 - acc: 0.909 - ETA: 0s - loss: 0.2686 - acc: 0.909 - 5s 196us/sample - loss: 0.2684 - acc: 0.9090 - val_loss: 0.4045 - val_acc: 0.8264\n",
      "Epoch 5/15\n"
     ]
    },
    {
     "name": "stdout",
     "output_type": "stream",
     "text": [
      "25000/25000 [==============================] - ETA: 5s - loss: 0.2518 - acc: 0.906 - ETA: 4s - loss: 0.2391 - acc: 0.911 - ETA: 3s - loss: 0.2401 - acc: 0.923 - ETA: 3s - loss: 0.2292 - acc: 0.929 - ETA: 3s - loss: 0.2268 - acc: 0.925 - ETA: 3s - loss: 0.2304 - acc: 0.923 - ETA: 3s - loss: 0.2337 - acc: 0.923 - ETA: 3s - loss: 0.2307 - acc: 0.926 - ETA: 2s - loss: 0.2366 - acc: 0.923 - ETA: 2s - loss: 0.2327 - acc: 0.926 - ETA: 2s - loss: 0.2330 - acc: 0.926 - ETA: 2s - loss: 0.2305 - acc: 0.928 - ETA: 2s - loss: 0.2280 - acc: 0.931 - ETA: 2s - loss: 0.2296 - acc: 0.930 - ETA: 2s - loss: 0.2288 - acc: 0.930 - ETA: 2s - loss: 0.2266 - acc: 0.931 - ETA: 2s - loss: 0.2276 - acc: 0.930 - ETA: 2s - loss: 0.2285 - acc: 0.930 - ETA: 2s - loss: 0.2300 - acc: 0.929 - ETA: 2s - loss: 0.2308 - acc: 0.929 - ETA: 2s - loss: 0.2323 - acc: 0.928 - ETA: 2s - loss: 0.2302 - acc: 0.929 - ETA: 2s - loss: 0.2304 - acc: 0.928 - ETA: 2s - loss: 0.2291 - acc: 0.929 - ETA: 2s - loss: 0.2285 - acc: 0.929 - ETA: 2s - loss: 0.2289 - acc: 0.928 - ETA: 2s - loss: 0.2285 - acc: 0.929 - ETA: 2s - loss: 0.2293 - acc: 0.928 - ETA: 1s - loss: 0.2294 - acc: 0.928 - ETA: 1s - loss: 0.2301 - acc: 0.928 - ETA: 1s - loss: 0.2304 - acc: 0.927 - ETA: 1s - loss: 0.2308 - acc: 0.926 - ETA: 1s - loss: 0.2307 - acc: 0.927 - ETA: 1s - loss: 0.2319 - acc: 0.926 - ETA: 1s - loss: 0.2323 - acc: 0.926 - ETA: 1s - loss: 0.2322 - acc: 0.926 - ETA: 1s - loss: 0.2317 - acc: 0.926 - ETA: 1s - loss: 0.2310 - acc: 0.926 - ETA: 1s - loss: 0.2316 - acc: 0.926 - ETA: 1s - loss: 0.2319 - acc: 0.925 - ETA: 1s - loss: 0.2320 - acc: 0.925 - ETA: 1s - loss: 0.2317 - acc: 0.925 - ETA: 1s - loss: 0.2311 - acc: 0.925 - ETA: 1s - loss: 0.2312 - acc: 0.925 - ETA: 1s - loss: 0.2310 - acc: 0.925 - ETA: 1s - loss: 0.2307 - acc: 0.925 - ETA: 1s - loss: 0.2314 - acc: 0.924 - ETA: 0s - loss: 0.2310 - acc: 0.924 - ETA: 0s - loss: 0.2318 - acc: 0.923 - ETA: 0s - loss: 0.2321 - acc: 0.923 - ETA: 0s - loss: 0.2325 - acc: 0.923 - ETA: 0s - loss: 0.2325 - acc: 0.923 - ETA: 0s - loss: 0.2326 - acc: 0.923 - ETA: 0s - loss: 0.2321 - acc: 0.923 - ETA: 0s - loss: 0.2316 - acc: 0.923 - ETA: 0s - loss: 0.2314 - acc: 0.923 - ETA: 0s - loss: 0.2311 - acc: 0.923 - ETA: 0s - loss: 0.2309 - acc: 0.923 - ETA: 0s - loss: 0.2306 - acc: 0.923 - ETA: 0s - loss: 0.2308 - acc: 0.923 - ETA: 0s - loss: 0.2305 - acc: 0.923 - ETA: 0s - loss: 0.2311 - acc: 0.923 - ETA: 0s - loss: 0.2309 - acc: 0.923 - ETA: 0s - loss: 0.2306 - acc: 0.923 - ETA: 0s - loss: 0.2303 - acc: 0.923 - ETA: 0s - loss: 0.2308 - acc: 0.923 - 5s 182us/sample - loss: 0.2307 - acc: 0.9232 - val_loss: 0.4220 - val_acc: 0.8209\n",
      "Epoch 6/15\n",
      "25000/25000 [==============================] - ETA: 6s - loss: 0.0926 - acc: 1.000 - ETA: 3s - loss: 0.1893 - acc: 0.932 - ETA: 3s - loss: 0.1930 - acc: 0.935 - ETA: 3s - loss: 0.1817 - acc: 0.940 - ETA: 3s - loss: 0.1856 - acc: 0.943 - ETA: 3s - loss: 0.1857 - acc: 0.942 - ETA: 3s - loss: 0.1851 - acc: 0.944 - ETA: 3s - loss: 0.1905 - acc: 0.943 - ETA: 2s - loss: 0.1923 - acc: 0.942 - ETA: 2s - loss: 0.1929 - acc: 0.943 - ETA: 2s - loss: 0.1913 - acc: 0.943 - ETA: 2s - loss: 0.1908 - acc: 0.943 - ETA: 2s - loss: 0.1962 - acc: 0.940 - ETA: 2s - loss: 0.1939 - acc: 0.942 - ETA: 2s - loss: 0.1949 - acc: 0.941 - ETA: 2s - loss: 0.1954 - acc: 0.940 - ETA: 2s - loss: 0.1968 - acc: 0.940 - ETA: 2s - loss: 0.1959 - acc: 0.940 - ETA: 2s - loss: 0.1951 - acc: 0.940 - ETA: 2s - loss: 0.1958 - acc: 0.940 - ETA: 2s - loss: 0.1965 - acc: 0.940 - ETA: 2s - loss: 0.1964 - acc: 0.940 - ETA: 2s - loss: 0.1971 - acc: 0.939 - ETA: 2s - loss: 0.1989 - acc: 0.938 - ETA: 2s - loss: 0.1985 - acc: 0.938 - ETA: 2s - loss: 0.1971 - acc: 0.939 - ETA: 2s - loss: 0.1965 - acc: 0.939 - ETA: 1s - loss: 0.1971 - acc: 0.939 - ETA: 1s - loss: 0.1973 - acc: 0.938 - ETA: 1s - loss: 0.1984 - acc: 0.938 - ETA: 1s - loss: 0.1979 - acc: 0.937 - ETA: 1s - loss: 0.1978 - acc: 0.937 - ETA: 1s - loss: 0.1980 - acc: 0.937 - ETA: 1s - loss: 0.1980 - acc: 0.937 - ETA: 1s - loss: 0.1987 - acc: 0.937 - ETA: 1s - loss: 0.1987 - acc: 0.937 - ETA: 1s - loss: 0.1986 - acc: 0.937 - ETA: 1s - loss: 0.1984 - acc: 0.937 - ETA: 1s - loss: 0.1991 - acc: 0.936 - ETA: 1s - loss: 0.2005 - acc: 0.936 - ETA: 1s - loss: 0.1998 - acc: 0.936 - ETA: 1s - loss: 0.1994 - acc: 0.936 - ETA: 1s - loss: 0.1998 - acc: 0.936 - ETA: 1s - loss: 0.2007 - acc: 0.935 - ETA: 1s - loss: 0.2007 - acc: 0.935 - ETA: 1s - loss: 0.2005 - acc: 0.935 - ETA: 0s - loss: 0.2014 - acc: 0.934 - ETA: 0s - loss: 0.2011 - acc: 0.934 - ETA: 0s - loss: 0.2014 - acc: 0.934 - ETA: 0s - loss: 0.2010 - acc: 0.934 - ETA: 0s - loss: 0.2017 - acc: 0.934 - ETA: 0s - loss: 0.2018 - acc: 0.934 - ETA: 0s - loss: 0.2017 - acc: 0.934 - ETA: 0s - loss: 0.2021 - acc: 0.933 - ETA: 0s - loss: 0.2022 - acc: 0.933 - ETA: 0s - loss: 0.2019 - acc: 0.933 - ETA: 0s - loss: 0.2020 - acc: 0.934 - ETA: 0s - loss: 0.2017 - acc: 0.934 - ETA: 0s - loss: 0.2022 - acc: 0.934 - ETA: 0s - loss: 0.2029 - acc: 0.933 - ETA: 0s - loss: 0.2027 - acc: 0.933 - ETA: 0s - loss: 0.2035 - acc: 0.933 - ETA: 0s - loss: 0.2033 - acc: 0.933 - ETA: 0s - loss: 0.2031 - acc: 0.933 - ETA: 0s - loss: 0.2039 - acc: 0.933 - ETA: 0s - loss: 0.2041 - acc: 0.933 - 5s 180us/sample - loss: 0.2040 - acc: 0.9332 - val_loss: 0.4484 - val_acc: 0.8174\n",
      "Epoch 7/15\n",
      "25000/25000 [==============================] - ETA: 6s - loss: 0.2101 - acc: 0.906 - ETA: 3s - loss: 0.1795 - acc: 0.947 - ETA: 3s - loss: 0.1857 - acc: 0.944 - ETA: 3s - loss: 0.1713 - acc: 0.952 - ETA: 3s - loss: 0.1754 - acc: 0.952 - ETA: 3s - loss: 0.1728 - acc: 0.951 - ETA: 3s - loss: 0.1712 - acc: 0.950 - ETA: 3s - loss: 0.1702 - acc: 0.952 - ETA: 3s - loss: 0.1710 - acc: 0.950 - ETA: 2s - loss: 0.1703 - acc: 0.950 - ETA: 2s - loss: 0.1715 - acc: 0.950 - ETA: 2s - loss: 0.1736 - acc: 0.949 - ETA: 2s - loss: 0.1742 - acc: 0.948 - ETA: 2s - loss: 0.1743 - acc: 0.948 - ETA: 2s - loss: 0.1752 - acc: 0.948 - ETA: 2s - loss: 0.1775 - acc: 0.947 - ETA: 2s - loss: 0.1765 - acc: 0.947 - ETA: 2s - loss: 0.1757 - acc: 0.947 - ETA: 2s - loss: 0.1747 - acc: 0.947 - ETA: 2s - loss: 0.1741 - acc: 0.948 - ETA: 2s - loss: 0.1748 - acc: 0.948 - ETA: 2s - loss: 0.1731 - acc: 0.949 - ETA: 2s - loss: 0.1743 - acc: 0.948 - ETA: 2s - loss: 0.1733 - acc: 0.949 - ETA: 2s - loss: 0.1729 - acc: 0.949 - ETA: 2s - loss: 0.1728 - acc: 0.949 - ETA: 2s - loss: 0.1721 - acc: 0.949 - ETA: 2s - loss: 0.1726 - acc: 0.949 - ETA: 2s - loss: 0.1728 - acc: 0.949 - ETA: 2s - loss: 0.1729 - acc: 0.948 - ETA: 1s - loss: 0.1730 - acc: 0.948 - ETA: 1s - loss: 0.1722 - acc: 0.949 - ETA: 1s - loss: 0.1722 - acc: 0.948 - ETA: 1s - loss: 0.1731 - acc: 0.948 - ETA: 1s - loss: 0.1731 - acc: 0.948 - ETA: 1s - loss: 0.1738 - acc: 0.948 - ETA: 1s - loss: 0.1742 - acc: 0.948 - ETA: 1s - loss: 0.1742 - acc: 0.948 - ETA: 1s - loss: 0.1738 - acc: 0.948 - ETA: 1s - loss: 0.1737 - acc: 0.948 - ETA: 1s - loss: 0.1747 - acc: 0.948 - ETA: 1s - loss: 0.1760 - acc: 0.947 - ETA: 1s - loss: 0.1769 - acc: 0.946 - ETA: 1s - loss: 0.1766 - acc: 0.946 - ETA: 1s - loss: 0.1773 - acc: 0.946 - ETA: 1s - loss: 0.1776 - acc: 0.946 - ETA: 1s - loss: 0.1772 - acc: 0.946 - ETA: 1s - loss: 0.1779 - acc: 0.946 - ETA: 0s - loss: 0.1780 - acc: 0.945 - ETA: 0s - loss: 0.1785 - acc: 0.945 - ETA: 0s - loss: 0.1788 - acc: 0.945 - ETA: 0s - loss: 0.1790 - acc: 0.945 - ETA: 0s - loss: 0.1786 - acc: 0.945 - ETA: 0s - loss: 0.1796 - acc: 0.944 - ETA: 0s - loss: 0.1796 - acc: 0.944 - ETA: 0s - loss: 0.1801 - acc: 0.944 - ETA: 0s - loss: 0.1797 - acc: 0.944 - ETA: 0s - loss: 0.1798 - acc: 0.944 - ETA: 0s - loss: 0.1799 - acc: 0.944 - ETA: 0s - loss: 0.1796 - acc: 0.944 - ETA: 0s - loss: 0.1795 - acc: 0.944 - ETA: 0s - loss: 0.1790 - acc: 0.944 - ETA: 0s - loss: 0.1795 - acc: 0.944 - ETA: 0s - loss: 0.1799 - acc: 0.944 - ETA: 0s - loss: 0.1802 - acc: 0.944 - ETA: 0s - loss: 0.1808 - acc: 0.943 - ETA: 0s - loss: 0.1810 - acc: 0.943 - ETA: 0s - loss: 0.1813 - acc: 0.943 - ETA: 0s - loss: 0.1818 - acc: 0.943 - ETA: 0s - loss: 0.1819 - acc: 0.943 - ETA: 0s - loss: 0.1825 - acc: 0.942 - ETA: 0s - loss: 0.1825 - acc: 0.942 - 5s 199us/sample - loss: 0.1827 - acc: 0.9426 - val_loss: 0.4810 - val_acc: 0.8147\n",
      "Epoch 8/15\n"
     ]
    },
    {
     "name": "stdout",
     "output_type": "stream",
     "text": [
      "25000/25000 [==============================] - ETA: 3s - loss: 0.2332 - acc: 0.906 - ETA: 4s - loss: 0.1793 - acc: 0.943 - ETA: 3s - loss: 0.1551 - acc: 0.961 - ETA: 3s - loss: 0.1479 - acc: 0.965 - ETA: 3s - loss: 0.1487 - acc: 0.965 - ETA: 3s - loss: 0.1463 - acc: 0.965 - ETA: 3s - loss: 0.1422 - acc: 0.966 - ETA: 3s - loss: 0.1437 - acc: 0.967 - ETA: 3s - loss: 0.1447 - acc: 0.965 - ETA: 3s - loss: 0.1450 - acc: 0.963 - ETA: 3s - loss: 0.1445 - acc: 0.963 - ETA: 3s - loss: 0.1475 - acc: 0.962 - ETA: 3s - loss: 0.1470 - acc: 0.962 - ETA: 3s - loss: 0.1476 - acc: 0.961 - ETA: 3s - loss: 0.1485 - acc: 0.961 - ETA: 3s - loss: 0.1507 - acc: 0.960 - ETA: 3s - loss: 0.1528 - acc: 0.958 - ETA: 2s - loss: 0.1541 - acc: 0.958 - ETA: 2s - loss: 0.1533 - acc: 0.959 - ETA: 2s - loss: 0.1524 - acc: 0.959 - ETA: 2s - loss: 0.1535 - acc: 0.959 - ETA: 2s - loss: 0.1538 - acc: 0.959 - ETA: 2s - loss: 0.1544 - acc: 0.958 - ETA: 2s - loss: 0.1548 - acc: 0.958 - ETA: 2s - loss: 0.1551 - acc: 0.958 - ETA: 2s - loss: 0.1559 - acc: 0.957 - ETA: 2s - loss: 0.1575 - acc: 0.956 - ETA: 2s - loss: 0.1566 - acc: 0.956 - ETA: 2s - loss: 0.1567 - acc: 0.956 - ETA: 2s - loss: 0.1559 - acc: 0.956 - ETA: 2s - loss: 0.1567 - acc: 0.956 - ETA: 2s - loss: 0.1573 - acc: 0.956 - ETA: 2s - loss: 0.1572 - acc: 0.956 - ETA: 2s - loss: 0.1571 - acc: 0.955 - ETA: 2s - loss: 0.1570 - acc: 0.955 - ETA: 2s - loss: 0.1575 - acc: 0.955 - ETA: 2s - loss: 0.1585 - acc: 0.955 - ETA: 2s - loss: 0.1589 - acc: 0.954 - ETA: 1s - loss: 0.1603 - acc: 0.954 - ETA: 1s - loss: 0.1606 - acc: 0.953 - ETA: 1s - loss: 0.1599 - acc: 0.953 - ETA: 1s - loss: 0.1594 - acc: 0.954 - ETA: 1s - loss: 0.1587 - acc: 0.954 - ETA: 1s - loss: 0.1580 - acc: 0.954 - ETA: 1s - loss: 0.1587 - acc: 0.953 - ETA: 1s - loss: 0.1586 - acc: 0.953 - ETA: 1s - loss: 0.1577 - acc: 0.954 - ETA: 1s - loss: 0.1582 - acc: 0.953 - ETA: 1s - loss: 0.1587 - acc: 0.953 - ETA: 1s - loss: 0.1597 - acc: 0.953 - ETA: 1s - loss: 0.1602 - acc: 0.952 - ETA: 1s - loss: 0.1601 - acc: 0.952 - ETA: 1s - loss: 0.1601 - acc: 0.952 - ETA: 1s - loss: 0.1600 - acc: 0.952 - ETA: 1s - loss: 0.1604 - acc: 0.952 - ETA: 1s - loss: 0.1610 - acc: 0.952 - ETA: 1s - loss: 0.1617 - acc: 0.952 - ETA: 1s - loss: 0.1624 - acc: 0.951 - ETA: 0s - loss: 0.1624 - acc: 0.952 - ETA: 0s - loss: 0.1623 - acc: 0.952 - ETA: 0s - loss: 0.1620 - acc: 0.952 - ETA: 0s - loss: 0.1621 - acc: 0.952 - ETA: 0s - loss: 0.1623 - acc: 0.951 - ETA: 0s - loss: 0.1622 - acc: 0.951 - ETA: 0s - loss: 0.1625 - acc: 0.951 - ETA: 0s - loss: 0.1626 - acc: 0.951 - ETA: 0s - loss: 0.1632 - acc: 0.951 - ETA: 0s - loss: 0.1632 - acc: 0.951 - ETA: 0s - loss: 0.1629 - acc: 0.951 - ETA: 0s - loss: 0.1633 - acc: 0.950 - ETA: 0s - loss: 0.1635 - acc: 0.950 - ETA: 0s - loss: 0.1635 - acc: 0.950 - ETA: 0s - loss: 0.1641 - acc: 0.950 - ETA: 0s - loss: 0.1638 - acc: 0.950 - ETA: 0s - loss: 0.1645 - acc: 0.949 - ETA: 0s - loss: 0.1642 - acc: 0.949 - ETA: 0s - loss: 0.1638 - acc: 0.949 - 5s 205us/sample - loss: 0.1640 - acc: 0.9499 - val_loss: 0.5197 - val_acc: 0.8078\n",
      "Epoch 9/15\n",
      "25000/25000 [==============================] - ETA: 4s - loss: 0.1186 - acc: 0.968 - ETA: 4s - loss: 0.1368 - acc: 0.965 - ETA: 4s - loss: 0.1406 - acc: 0.965 - ETA: 4s - loss: 0.1321 - acc: 0.967 - ETA: 4s - loss: 0.1344 - acc: 0.965 - ETA: 4s - loss: 0.1284 - acc: 0.966 - ETA: 4s - loss: 0.1238 - acc: 0.968 - ETA: 4s - loss: 0.1271 - acc: 0.968 - ETA: 4s - loss: 0.1254 - acc: 0.970 - ETA: 4s - loss: 0.1270 - acc: 0.969 - ETA: 4s - loss: 0.1257 - acc: 0.969 - ETA: 3s - loss: 0.1280 - acc: 0.968 - ETA: 3s - loss: 0.1280 - acc: 0.968 - ETA: 3s - loss: 0.1276 - acc: 0.968 - ETA: 3s - loss: 0.1294 - acc: 0.967 - ETA: 3s - loss: 0.1269 - acc: 0.968 - ETA: 3s - loss: 0.1275 - acc: 0.967 - ETA: 3s - loss: 0.1303 - acc: 0.966 - ETA: 3s - loss: 0.1327 - acc: 0.965 - ETA: 3s - loss: 0.1337 - acc: 0.964 - ETA: 3s - loss: 0.1330 - acc: 0.964 - ETA: 3s - loss: 0.1318 - acc: 0.965 - ETA: 3s - loss: 0.1303 - acc: 0.966 - ETA: 2s - loss: 0.1321 - acc: 0.965 - ETA: 2s - loss: 0.1329 - acc: 0.965 - ETA: 2s - loss: 0.1338 - acc: 0.965 - ETA: 2s - loss: 0.1328 - acc: 0.965 - ETA: 2s - loss: 0.1329 - acc: 0.964 - ETA: 2s - loss: 0.1337 - acc: 0.964 - ETA: 2s - loss: 0.1339 - acc: 0.964 - ETA: 2s - loss: 0.1341 - acc: 0.964 - ETA: 2s - loss: 0.1367 - acc: 0.963 - ETA: 2s - loss: 0.1356 - acc: 0.964 - ETA: 2s - loss: 0.1354 - acc: 0.963 - ETA: 2s - loss: 0.1351 - acc: 0.963 - ETA: 2s - loss: 0.1354 - acc: 0.963 - ETA: 2s - loss: 0.1370 - acc: 0.962 - ETA: 2s - loss: 0.1374 - acc: 0.962 - ETA: 2s - loss: 0.1382 - acc: 0.962 - ETA: 2s - loss: 0.1401 - acc: 0.962 - ETA: 2s - loss: 0.1400 - acc: 0.961 - ETA: 2s - loss: 0.1398 - acc: 0.961 - ETA: 1s - loss: 0.1408 - acc: 0.960 - ETA: 1s - loss: 0.1401 - acc: 0.961 - ETA: 1s - loss: 0.1406 - acc: 0.960 - ETA: 1s - loss: 0.1408 - acc: 0.960 - ETA: 1s - loss: 0.1420 - acc: 0.960 - ETA: 1s - loss: 0.1420 - acc: 0.960 - ETA: 1s - loss: 0.1422 - acc: 0.960 - ETA: 1s - loss: 0.1421 - acc: 0.960 - ETA: 1s - loss: 0.1415 - acc: 0.960 - ETA: 1s - loss: 0.1422 - acc: 0.960 - ETA: 1s - loss: 0.1433 - acc: 0.959 - ETA: 1s - loss: 0.1429 - acc: 0.960 - ETA: 1s - loss: 0.1433 - acc: 0.959 - ETA: 1s - loss: 0.1437 - acc: 0.959 - ETA: 1s - loss: 0.1441 - acc: 0.959 - ETA: 1s - loss: 0.1444 - acc: 0.959 - ETA: 1s - loss: 0.1444 - acc: 0.959 - ETA: 1s - loss: 0.1445 - acc: 0.959 - ETA: 1s - loss: 0.1446 - acc: 0.959 - ETA: 1s - loss: 0.1455 - acc: 0.958 - ETA: 1s - loss: 0.1461 - acc: 0.958 - ETA: 0s - loss: 0.1453 - acc: 0.959 - ETA: 0s - loss: 0.1455 - acc: 0.958 - ETA: 0s - loss: 0.1458 - acc: 0.958 - ETA: 0s - loss: 0.1458 - acc: 0.958 - ETA: 0s - loss: 0.1463 - acc: 0.958 - ETA: 0s - loss: 0.1466 - acc: 0.958 - ETA: 0s - loss: 0.1469 - acc: 0.958 - ETA: 0s - loss: 0.1479 - acc: 0.957 - ETA: 0s - loss: 0.1479 - acc: 0.957 - ETA: 0s - loss: 0.1477 - acc: 0.957 - ETA: 0s - loss: 0.1473 - acc: 0.957 - ETA: 0s - loss: 0.1475 - acc: 0.957 - ETA: 0s - loss: 0.1481 - acc: 0.957 - ETA: 0s - loss: 0.1486 - acc: 0.957 - ETA: 0s - loss: 0.1489 - acc: 0.957 - ETA: 0s - loss: 0.1493 - acc: 0.956 - ETA: 0s - loss: 0.1497 - acc: 0.956 - ETA: 0s - loss: 0.1499 - acc: 0.956 - ETA: 0s - loss: 0.1503 - acc: 0.955 - 5s 214us/sample - loss: 0.1502 - acc: 0.9559 - val_loss: 0.5674 - val_acc: 0.8080\n",
      "Epoch 10/15\n"
     ]
    },
    {
     "name": "stdout",
     "output_type": "stream",
     "text": [
      "25000/25000 [==============================] - ETA: 4s - loss: 0.2573 - acc: 0.875 - ETA: 5s - loss: 0.1148 - acc: 0.961 - ETA: 5s - loss: 0.1134 - acc: 0.966 - ETA: 4s - loss: 0.1134 - acc: 0.970 - ETA: 4s - loss: 0.1032 - acc: 0.974 - ETA: 3s - loss: 0.1032 - acc: 0.976 - ETA: 3s - loss: 0.1026 - acc: 0.976 - ETA: 3s - loss: 0.1010 - acc: 0.977 - ETA: 3s - loss: 0.1017 - acc: 0.978 - ETA: 3s - loss: 0.1033 - acc: 0.977 - ETA: 3s - loss: 0.1032 - acc: 0.977 - ETA: 3s - loss: 0.1030 - acc: 0.976 - ETA: 3s - loss: 0.1071 - acc: 0.975 - ETA: 3s - loss: 0.1078 - acc: 0.974 - ETA: 3s - loss: 0.1086 - acc: 0.973 - ETA: 3s - loss: 0.1111 - acc: 0.972 - ETA: 3s - loss: 0.1119 - acc: 0.972 - ETA: 3s - loss: 0.1107 - acc: 0.972 - ETA: 3s - loss: 0.1106 - acc: 0.972 - ETA: 3s - loss: 0.1113 - acc: 0.972 - ETA: 3s - loss: 0.1127 - acc: 0.972 - ETA: 3s - loss: 0.1139 - acc: 0.972 - ETA: 3s - loss: 0.1141 - acc: 0.971 - ETA: 3s - loss: 0.1138 - acc: 0.971 - ETA: 3s - loss: 0.1158 - acc: 0.970 - ETA: 3s - loss: 0.1170 - acc: 0.970 - ETA: 3s - loss: 0.1184 - acc: 0.970 - ETA: 3s - loss: 0.1199 - acc: 0.969 - ETA: 3s - loss: 0.1219 - acc: 0.968 - ETA: 2s - loss: 0.1229 - acc: 0.967 - ETA: 2s - loss: 0.1214 - acc: 0.968 - ETA: 2s - loss: 0.1217 - acc: 0.967 - ETA: 2s - loss: 0.1225 - acc: 0.967 - ETA: 2s - loss: 0.1228 - acc: 0.967 - ETA: 2s - loss: 0.1228 - acc: 0.967 - ETA: 2s - loss: 0.1227 - acc: 0.968 - ETA: 2s - loss: 0.1223 - acc: 0.968 - ETA: 2s - loss: 0.1228 - acc: 0.967 - ETA: 2s - loss: 0.1218 - acc: 0.968 - ETA: 2s - loss: 0.1216 - acc: 0.968 - ETA: 2s - loss: 0.1217 - acc: 0.968 - ETA: 2s - loss: 0.1231 - acc: 0.967 - ETA: 2s - loss: 0.1237 - acc: 0.967 - ETA: 2s - loss: 0.1233 - acc: 0.967 - ETA: 2s - loss: 0.1233 - acc: 0.967 - ETA: 2s - loss: 0.1227 - acc: 0.967 - ETA: 2s - loss: 0.1242 - acc: 0.966 - ETA: 2s - loss: 0.1258 - acc: 0.966 - ETA: 2s - loss: 0.1272 - acc: 0.966 - ETA: 2s - loss: 0.1273 - acc: 0.966 - ETA: 2s - loss: 0.1269 - acc: 0.966 - ETA: 1s - loss: 0.1278 - acc: 0.966 - ETA: 1s - loss: 0.1282 - acc: 0.965 - ETA: 1s - loss: 0.1280 - acc: 0.965 - ETA: 1s - loss: 0.1282 - acc: 0.965 - ETA: 1s - loss: 0.1285 - acc: 0.965 - ETA: 1s - loss: 0.1299 - acc: 0.965 - ETA: 1s - loss: 0.1298 - acc: 0.964 - ETA: 1s - loss: 0.1311 - acc: 0.964 - ETA: 1s - loss: 0.1313 - acc: 0.964 - ETA: 1s - loss: 0.1322 - acc: 0.964 - ETA: 1s - loss: 0.1321 - acc: 0.964 - ETA: 1s - loss: 0.1325 - acc: 0.963 - ETA: 1s - loss: 0.1332 - acc: 0.963 - ETA: 1s - loss: 0.1337 - acc: 0.963 - ETA: 1s - loss: 0.1334 - acc: 0.963 - ETA: 0s - loss: 0.1332 - acc: 0.963 - ETA: 0s - loss: 0.1331 - acc: 0.963 - ETA: 0s - loss: 0.1333 - acc: 0.963 - ETA: 0s - loss: 0.1335 - acc: 0.963 - ETA: 0s - loss: 0.1342 - acc: 0.962 - ETA: 0s - loss: 0.1343 - acc: 0.962 - ETA: 0s - loss: 0.1343 - acc: 0.962 - ETA: 0s - loss: 0.1347 - acc: 0.962 - ETA: 0s - loss: 0.1349 - acc: 0.962 - ETA: 0s - loss: 0.1356 - acc: 0.962 - ETA: 0s - loss: 0.1355 - acc: 0.962 - ETA: 0s - loss: 0.1356 - acc: 0.962 - ETA: 0s - loss: 0.1361 - acc: 0.962 - ETA: 0s - loss: 0.1358 - acc: 0.962 - ETA: 0s - loss: 0.1354 - acc: 0.962 - ETA: 0s - loss: 0.1352 - acc: 0.962 - 5s 216us/sample - loss: 0.1362 - acc: 0.9620 - val_loss: 0.6103 - val_acc: 0.8038\n",
      "Epoch 11/15\n",
      "25000/25000 [==============================] - ETA: 5s - loss: 0.0493 - acc: 1.000 - ETA: 4s - loss: 0.1161 - acc: 0.977 - ETA: 3s - loss: 0.1101 - acc: 0.976 - ETA: 3s - loss: 0.1080 - acc: 0.976 - ETA: 3s - loss: 0.1131 - acc: 0.974 - ETA: 3s - loss: 0.1148 - acc: 0.973 - ETA: 3s - loss: 0.1174 - acc: 0.971 - ETA: 3s - loss: 0.1163 - acc: 0.970 - ETA: 3s - loss: 0.1165 - acc: 0.971 - ETA: 3s - loss: 0.1151 - acc: 0.972 - ETA: 3s - loss: 0.1132 - acc: 0.972 - ETA: 3s - loss: 0.1141 - acc: 0.971 - ETA: 3s - loss: 0.1133 - acc: 0.972 - ETA: 3s - loss: 0.1111 - acc: 0.972 - ETA: 3s - loss: 0.1095 - acc: 0.972 - ETA: 2s - loss: 0.1083 - acc: 0.973 - ETA: 2s - loss: 0.1114 - acc: 0.972 - ETA: 2s - loss: 0.1103 - acc: 0.973 - ETA: 2s - loss: 0.1116 - acc: 0.973 - ETA: 2s - loss: 0.1115 - acc: 0.973 - ETA: 2s - loss: 0.1114 - acc: 0.973 - ETA: 2s - loss: 0.1114 - acc: 0.973 - ETA: 2s - loss: 0.1111 - acc: 0.973 - ETA: 2s - loss: 0.1108 - acc: 0.973 - ETA: 2s - loss: 0.1100 - acc: 0.974 - ETA: 2s - loss: 0.1108 - acc: 0.973 - ETA: 2s - loss: 0.1101 - acc: 0.973 - ETA: 2s - loss: 0.1103 - acc: 0.973 - ETA: 2s - loss: 0.1108 - acc: 0.972 - ETA: 2s - loss: 0.1112 - acc: 0.973 - ETA: 2s - loss: 0.1110 - acc: 0.972 - ETA: 2s - loss: 0.1104 - acc: 0.973 - ETA: 2s - loss: 0.1110 - acc: 0.972 - ETA: 2s - loss: 0.1112 - acc: 0.972 - ETA: 2s - loss: 0.1118 - acc: 0.972 - ETA: 2s - loss: 0.1113 - acc: 0.972 - ETA: 2s - loss: 0.1119 - acc: 0.972 - ETA: 2s - loss: 0.1126 - acc: 0.971 - ETA: 2s - loss: 0.1127 - acc: 0.971 - ETA: 2s - loss: 0.1124 - acc: 0.971 - ETA: 2s - loss: 0.1131 - acc: 0.971 - ETA: 2s - loss: 0.1133 - acc: 0.971 - ETA: 1s - loss: 0.1143 - acc: 0.970 - ETA: 1s - loss: 0.1142 - acc: 0.971 - ETA: 1s - loss: 0.1150 - acc: 0.970 - ETA: 1s - loss: 0.1144 - acc: 0.970 - ETA: 1s - loss: 0.1148 - acc: 0.970 - ETA: 1s - loss: 0.1144 - acc: 0.970 - ETA: 1s - loss: 0.1143 - acc: 0.970 - ETA: 1s - loss: 0.1143 - acc: 0.970 - ETA: 1s - loss: 0.1145 - acc: 0.970 - ETA: 1s - loss: 0.1156 - acc: 0.970 - ETA: 1s - loss: 0.1156 - acc: 0.970 - ETA: 1s - loss: 0.1156 - acc: 0.970 - ETA: 1s - loss: 0.1157 - acc: 0.970 - ETA: 1s - loss: 0.1156 - acc: 0.970 - ETA: 1s - loss: 0.1164 - acc: 0.969 - ETA: 1s - loss: 0.1166 - acc: 0.969 - ETA: 1s - loss: 0.1180 - acc: 0.969 - ETA: 1s - loss: 0.1186 - acc: 0.968 - ETA: 1s - loss: 0.1181 - acc: 0.968 - ETA: 1s - loss: 0.1184 - acc: 0.968 - ETA: 0s - loss: 0.1190 - acc: 0.968 - ETA: 0s - loss: 0.1188 - acc: 0.968 - ETA: 0s - loss: 0.1190 - acc: 0.968 - ETA: 0s - loss: 0.1195 - acc: 0.967 - ETA: 0s - loss: 0.1197 - acc: 0.967 - ETA: 0s - loss: 0.1198 - acc: 0.967 - ETA: 0s - loss: 0.1197 - acc: 0.967 - ETA: 0s - loss: 0.1207 - acc: 0.967 - ETA: 0s - loss: 0.1206 - acc: 0.967 - ETA: 0s - loss: 0.1204 - acc: 0.967 - ETA: 0s - loss: 0.1203 - acc: 0.967 - ETA: 0s - loss: 0.1208 - acc: 0.967 - ETA: 0s - loss: 0.1216 - acc: 0.967 - ETA: 0s - loss: 0.1218 - acc: 0.967 - ETA: 0s - loss: 0.1223 - acc: 0.967 - ETA: 0s - loss: 0.1226 - acc: 0.967 - ETA: 0s - loss: 0.1225 - acc: 0.967 - ETA: 0s - loss: 0.1232 - acc: 0.966 - ETA: 0s - loss: 0.1235 - acc: 0.966 - ETA: 0s - loss: 0.1238 - acc: 0.966 - 6s 220us/sample - loss: 0.1238 - acc: 0.9664 - val_loss: 0.6588 - val_acc: 0.8012\n",
      "Epoch 12/15\n"
     ]
    },
    {
     "name": "stdout",
     "output_type": "stream",
     "text": [
      "25000/25000 [==============================] - ETA: 4s - loss: 0.1357 - acc: 0.968 - ETA: 4s - loss: 0.1272 - acc: 0.972 - ETA: 4s - loss: 0.1048 - acc: 0.979 - ETA: 5s - loss: 0.0996 - acc: 0.979 - ETA: 5s - loss: 0.0943 - acc: 0.980 - ETA: 4s - loss: 0.0918 - acc: 0.980 - ETA: 4s - loss: 0.0915 - acc: 0.979 - ETA: 4s - loss: 0.0922 - acc: 0.978 - ETA: 4s - loss: 0.0922 - acc: 0.978 - ETA: 4s - loss: 0.0919 - acc: 0.978 - ETA: 4s - loss: 0.0898 - acc: 0.979 - ETA: 4s - loss: 0.0897 - acc: 0.978 - ETA: 4s - loss: 0.0878 - acc: 0.979 - ETA: 4s - loss: 0.0879 - acc: 0.979 - ETA: 4s - loss: 0.0885 - acc: 0.979 - ETA: 4s - loss: 0.0877 - acc: 0.980 - ETA: 4s - loss: 0.0888 - acc: 0.980 - ETA: 4s - loss: 0.0891 - acc: 0.980 - ETA: 4s - loss: 0.0905 - acc: 0.978 - ETA: 4s - loss: 0.0914 - acc: 0.978 - ETA: 4s - loss: 0.0906 - acc: 0.978 - ETA: 4s - loss: 0.0933 - acc: 0.977 - ETA: 4s - loss: 0.0933 - acc: 0.977 - ETA: 4s - loss: 0.0928 - acc: 0.977 - ETA: 4s - loss: 0.0939 - acc: 0.977 - ETA: 4s - loss: 0.0949 - acc: 0.976 - ETA: 4s - loss: 0.0970 - acc: 0.976 - ETA: 4s - loss: 0.0973 - acc: 0.976 - ETA: 4s - loss: 0.0975 - acc: 0.976 - ETA: 4s - loss: 0.0982 - acc: 0.976 - ETA: 4s - loss: 0.0974 - acc: 0.976 - ETA: 3s - loss: 0.0982 - acc: 0.976 - ETA: 3s - loss: 0.0990 - acc: 0.976 - ETA: 3s - loss: 0.0986 - acc: 0.976 - ETA: 3s - loss: 0.1001 - acc: 0.975 - ETA: 3s - loss: 0.0997 - acc: 0.976 - ETA: 3s - loss: 0.0993 - acc: 0.975 - ETA: 3s - loss: 0.0989 - acc: 0.976 - ETA: 3s - loss: 0.0987 - acc: 0.976 - ETA: 3s - loss: 0.0978 - acc: 0.976 - ETA: 3s - loss: 0.0994 - acc: 0.975 - ETA: 3s - loss: 0.0989 - acc: 0.975 - ETA: 3s - loss: 0.0994 - acc: 0.975 - ETA: 3s - loss: 0.0996 - acc: 0.975 - ETA: 3s - loss: 0.1002 - acc: 0.975 - ETA: 3s - loss: 0.1003 - acc: 0.975 - ETA: 3s - loss: 0.1003 - acc: 0.975 - ETA: 2s - loss: 0.1010 - acc: 0.975 - ETA: 3s - loss: 0.1008 - acc: 0.975 - ETA: 2s - loss: 0.1016 - acc: 0.974 - ETA: 2s - loss: 0.1020 - acc: 0.974 - ETA: 2s - loss: 0.1017 - acc: 0.974 - ETA: 2s - loss: 0.1025 - acc: 0.974 - ETA: 2s - loss: 0.1031 - acc: 0.974 - ETA: 2s - loss: 0.1031 - acc: 0.974 - ETA: 2s - loss: 0.1028 - acc: 0.974 - ETA: 2s - loss: 0.1035 - acc: 0.974 - ETA: 2s - loss: 0.1035 - acc: 0.974 - ETA: 2s - loss: 0.1053 - acc: 0.973 - ETA: 2s - loss: 0.1050 - acc: 0.974 - ETA: 2s - loss: 0.1055 - acc: 0.973 - ETA: 1s - loss: 0.1048 - acc: 0.974 - ETA: 1s - loss: 0.1044 - acc: 0.974 - ETA: 1s - loss: 0.1050 - acc: 0.974 - ETA: 1s - loss: 0.1052 - acc: 0.974 - ETA: 1s - loss: 0.1053 - acc: 0.974 - ETA: 1s - loss: 0.1054 - acc: 0.974 - ETA: 1s - loss: 0.1066 - acc: 0.973 - ETA: 1s - loss: 0.1069 - acc: 0.973 - ETA: 1s - loss: 0.1072 - acc: 0.973 - ETA: 1s - loss: 0.1070 - acc: 0.973 - ETA: 1s - loss: 0.1070 - acc: 0.973 - ETA: 1s - loss: 0.1072 - acc: 0.973 - ETA: 1s - loss: 0.1083 - acc: 0.972 - ETA: 1s - loss: 0.1082 - acc: 0.972 - ETA: 0s - loss: 0.1087 - acc: 0.972 - ETA: 0s - loss: 0.1089 - acc: 0.972 - ETA: 0s - loss: 0.1097 - acc: 0.972 - ETA: 0s - loss: 0.1097 - acc: 0.972 - ETA: 0s - loss: 0.1097 - acc: 0.972 - ETA: 0s - loss: 0.1094 - acc: 0.972 - ETA: 0s - loss: 0.1101 - acc: 0.971 - ETA: 0s - loss: 0.1110 - acc: 0.971 - ETA: 0s - loss: 0.1108 - acc: 0.971 - ETA: 0s - loss: 0.1111 - acc: 0.971 - ETA: 0s - loss: 0.1112 - acc: 0.971 - ETA: 0s - loss: 0.1114 - acc: 0.971 - ETA: 0s - loss: 0.1113 - acc: 0.971 - ETA: 0s - loss: 0.1125 - acc: 0.970 - 6s 237us/sample - loss: 0.1130 - acc: 0.9705 - val_loss: 0.7348 - val_acc: 0.7989\n",
      "Epoch 13/15\n",
      "25000/25000 [==============================] - ETA: 6s - loss: 0.1034 - acc: 0.968 - ETA: 5s - loss: 0.1294 - acc: 0.968 - ETA: 4s - loss: 0.1177 - acc: 0.968 - ETA: 5s - loss: 0.1033 - acc: 0.975 - ETA: 4s - loss: 0.1026 - acc: 0.977 - ETA: 4s - loss: 0.0942 - acc: 0.980 - ETA: 4s - loss: 0.0958 - acc: 0.979 - ETA: 4s - loss: 0.0992 - acc: 0.978 - ETA: 4s - loss: 0.0974 - acc: 0.978 - ETA: 4s - loss: 0.0982 - acc: 0.978 - ETA: 4s - loss: 0.1002 - acc: 0.977 - ETA: 4s - loss: 0.0986 - acc: 0.977 - ETA: 4s - loss: 0.0981 - acc: 0.978 - ETA: 3s - loss: 0.0964 - acc: 0.978 - ETA: 3s - loss: 0.0945 - acc: 0.979 - ETA: 3s - loss: 0.0951 - acc: 0.979 - ETA: 3s - loss: 0.0960 - acc: 0.979 - ETA: 3s - loss: 0.0945 - acc: 0.979 - ETA: 3s - loss: 0.0937 - acc: 0.979 - ETA: 3s - loss: 0.0953 - acc: 0.979 - ETA: 3s - loss: 0.0935 - acc: 0.979 - ETA: 3s - loss: 0.0927 - acc: 0.980 - ETA: 3s - loss: 0.0940 - acc: 0.979 - ETA: 3s - loss: 0.0941 - acc: 0.979 - ETA: 3s - loss: 0.0933 - acc: 0.979 - ETA: 3s - loss: 0.0934 - acc: 0.979 - ETA: 3s - loss: 0.0936 - acc: 0.979 - ETA: 2s - loss: 0.0952 - acc: 0.979 - ETA: 2s - loss: 0.0952 - acc: 0.978 - ETA: 2s - loss: 0.0941 - acc: 0.979 - ETA: 2s - loss: 0.0956 - acc: 0.978 - ETA: 2s - loss: 0.0952 - acc: 0.978 - ETA: 2s - loss: 0.0954 - acc: 0.978 - ETA: 2s - loss: 0.0962 - acc: 0.978 - ETA: 2s - loss: 0.0960 - acc: 0.978 - ETA: 2s - loss: 0.0961 - acc: 0.978 - ETA: 2s - loss: 0.0960 - acc: 0.978 - ETA: 2s - loss: 0.0975 - acc: 0.977 - ETA: 2s - loss: 0.0986 - acc: 0.977 - ETA: 2s - loss: 0.0986 - acc: 0.977 - ETA: 2s - loss: 0.0974 - acc: 0.977 - ETA: 2s - loss: 0.0965 - acc: 0.978 - ETA: 2s - loss: 0.0972 - acc: 0.978 - ETA: 2s - loss: 0.0977 - acc: 0.977 - ETA: 1s - loss: 0.0983 - acc: 0.977 - ETA: 1s - loss: 0.0988 - acc: 0.977 - ETA: 1s - loss: 0.0989 - acc: 0.977 - ETA: 1s - loss: 0.0988 - acc: 0.977 - ETA: 1s - loss: 0.0981 - acc: 0.977 - ETA: 1s - loss: 0.0986 - acc: 0.977 - ETA: 1s - loss: 0.0984 - acc: 0.977 - ETA: 1s - loss: 0.0982 - acc: 0.977 - ETA: 1s - loss: 0.0981 - acc: 0.977 - ETA: 1s - loss: 0.0985 - acc: 0.977 - ETA: 1s - loss: 0.0984 - acc: 0.977 - ETA: 1s - loss: 0.0985 - acc: 0.977 - ETA: 1s - loss: 0.0982 - acc: 0.977 - ETA: 1s - loss: 0.0990 - acc: 0.977 - ETA: 1s - loss: 0.1001 - acc: 0.976 - ETA: 1s - loss: 0.1009 - acc: 0.976 - ETA: 1s - loss: 0.1003 - acc: 0.976 - ETA: 1s - loss: 0.1004 - acc: 0.976 - ETA: 1s - loss: 0.1005 - acc: 0.976 - ETA: 1s - loss: 0.1006 - acc: 0.976 - ETA: 1s - loss: 0.1007 - acc: 0.975 - ETA: 1s - loss: 0.1009 - acc: 0.975 - ETA: 1s - loss: 0.1006 - acc: 0.976 - ETA: 1s - loss: 0.1008 - acc: 0.975 - ETA: 0s - loss: 0.1003 - acc: 0.975 - ETA: 0s - loss: 0.1009 - acc: 0.975 - ETA: 0s - loss: 0.1010 - acc: 0.975 - ETA: 0s - loss: 0.1010 - acc: 0.975 - ETA: 0s - loss: 0.1004 - acc: 0.975 - ETA: 0s - loss: 0.1006 - acc: 0.975 - ETA: 0s - loss: 0.1004 - acc: 0.975 - ETA: 0s - loss: 0.1007 - acc: 0.975 - ETA: 0s - loss: 0.1008 - acc: 0.975 - ETA: 0s - loss: 0.1010 - acc: 0.975 - ETA: 0s - loss: 0.1018 - acc: 0.975 - ETA: 0s - loss: 0.1023 - acc: 0.974 - ETA: 0s - loss: 0.1020 - acc: 0.974 - ETA: 0s - loss: 0.1022 - acc: 0.974 - ETA: 0s - loss: 0.1020 - acc: 0.974 - ETA: 0s - loss: 0.1022 - acc: 0.974 - ETA: 0s - loss: 0.1030 - acc: 0.974 - ETA: 0s - loss: 0.1032 - acc: 0.974 - ETA: 0s - loss: 0.1027 - acc: 0.974 - 6s 227us/sample - loss: 0.1031 - acc: 0.9744 - val_loss: 0.7953 - val_acc: 0.7962\n",
      "Epoch 14/15\n"
     ]
    },
    {
     "name": "stdout",
     "output_type": "stream",
     "text": [
      "25000/25000 [==============================] - ETA: 6s - loss: 0.0409 - acc: 1.000 - ETA: 5s - loss: 0.0875 - acc: 0.980 - ETA: 5s - loss: 0.0988 - acc: 0.974 - ETA: 5s - loss: 0.1114 - acc: 0.972 - ETA: 4s - loss: 0.1079 - acc: 0.974 - ETA: 4s - loss: 0.1015 - acc: 0.976 - ETA: 4s - loss: 0.1042 - acc: 0.975 - ETA: 4s - loss: 0.1004 - acc: 0.976 - ETA: 4s - loss: 0.0990 - acc: 0.976 - ETA: 4s - loss: 0.0967 - acc: 0.976 - ETA: 4s - loss: 0.0946 - acc: 0.977 - ETA: 4s - loss: 0.0930 - acc: 0.978 - ETA: 4s - loss: 0.0935 - acc: 0.978 - ETA: 4s - loss: 0.0905 - acc: 0.979 - ETA: 4s - loss: 0.0917 - acc: 0.979 - ETA: 4s - loss: 0.0903 - acc: 0.979 - ETA: 4s - loss: 0.0911 - acc: 0.979 - ETA: 4s - loss: 0.0917 - acc: 0.980 - ETA: 4s - loss: 0.0922 - acc: 0.979 - ETA: 4s - loss: 0.0925 - acc: 0.979 - ETA: 3s - loss: 0.0923 - acc: 0.979 - ETA: 3s - loss: 0.0902 - acc: 0.979 - ETA: 3s - loss: 0.0897 - acc: 0.980 - ETA: 3s - loss: 0.0893 - acc: 0.980 - ETA: 3s - loss: 0.0908 - acc: 0.979 - ETA: 3s - loss: 0.0908 - acc: 0.979 - ETA: 3s - loss: 0.0913 - acc: 0.979 - ETA: 3s - loss: 0.0915 - acc: 0.979 - ETA: 3s - loss: 0.0908 - acc: 0.980 - ETA: 3s - loss: 0.0908 - acc: 0.980 - ETA: 3s - loss: 0.0905 - acc: 0.980 - ETA: 3s - loss: 0.0904 - acc: 0.979 - ETA: 3s - loss: 0.0895 - acc: 0.980 - ETA: 3s - loss: 0.0906 - acc: 0.979 - ETA: 3s - loss: 0.0907 - acc: 0.979 - ETA: 3s - loss: 0.0902 - acc: 0.979 - ETA: 3s - loss: 0.0899 - acc: 0.979 - ETA: 2s - loss: 0.0903 - acc: 0.979 - ETA: 2s - loss: 0.0894 - acc: 0.979 - ETA: 2s - loss: 0.0893 - acc: 0.979 - ETA: 2s - loss: 0.0896 - acc: 0.979 - ETA: 2s - loss: 0.0913 - acc: 0.978 - ETA: 2s - loss: 0.0923 - acc: 0.978 - ETA: 2s - loss: 0.0918 - acc: 0.978 - ETA: 2s - loss: 0.0924 - acc: 0.978 - ETA: 2s - loss: 0.0931 - acc: 0.978 - ETA: 2s - loss: 0.0924 - acc: 0.978 - ETA: 2s - loss: 0.0925 - acc: 0.978 - ETA: 2s - loss: 0.0920 - acc: 0.978 - ETA: 2s - loss: 0.0921 - acc: 0.978 - ETA: 2s - loss: 0.0927 - acc: 0.978 - ETA: 1s - loss: 0.0932 - acc: 0.978 - ETA: 1s - loss: 0.0942 - acc: 0.977 - ETA: 1s - loss: 0.0942 - acc: 0.978 - ETA: 1s - loss: 0.0938 - acc: 0.978 - ETA: 1s - loss: 0.0936 - acc: 0.978 - ETA: 1s - loss: 0.0939 - acc: 0.977 - ETA: 1s - loss: 0.0934 - acc: 0.978 - ETA: 1s - loss: 0.0928 - acc: 0.978 - ETA: 1s - loss: 0.0927 - acc: 0.978 - ETA: 1s - loss: 0.0927 - acc: 0.978 - ETA: 1s - loss: 0.0931 - acc: 0.978 - ETA: 1s - loss: 0.0928 - acc: 0.978 - ETA: 1s - loss: 0.0927 - acc: 0.978 - ETA: 1s - loss: 0.0926 - acc: 0.978 - ETA: 1s - loss: 0.0928 - acc: 0.978 - ETA: 1s - loss: 0.0925 - acc: 0.978 - ETA: 1s - loss: 0.0926 - acc: 0.978 - ETA: 1s - loss: 0.0924 - acc: 0.978 - ETA: 1s - loss: 0.0926 - acc: 0.978 - ETA: 0s - loss: 0.0930 - acc: 0.978 - ETA: 0s - loss: 0.0930 - acc: 0.977 - ETA: 0s - loss: 0.0935 - acc: 0.977 - ETA: 0s - loss: 0.0934 - acc: 0.977 - ETA: 0s - loss: 0.0934 - acc: 0.977 - ETA: 0s - loss: 0.0933 - acc: 0.977 - ETA: 0s - loss: 0.0935 - acc: 0.977 - ETA: 0s - loss: 0.0939 - acc: 0.977 - ETA: 0s - loss: 0.0938 - acc: 0.977 - ETA: 0s - loss: 0.0936 - acc: 0.977 - ETA: 0s - loss: 0.0937 - acc: 0.977 - ETA: 0s - loss: 0.0943 - acc: 0.977 - ETA: 0s - loss: 0.0941 - acc: 0.977 - ETA: 0s - loss: 0.0942 - acc: 0.977 - ETA: 0s - loss: 0.0941 - acc: 0.977 - ETA: 0s - loss: 0.0938 - acc: 0.977 - ETA: 0s - loss: 0.0939 - acc: 0.977 - ETA: 0s - loss: 0.0939 - acc: 0.977 - ETA: 0s - loss: 0.0941 - acc: 0.977 - ETA: 0s - loss: 0.0939 - acc: 0.977 - ETA: 0s - loss: 0.0936 - acc: 0.977 - 6s 240us/sample - loss: 0.0936 - acc: 0.9776 - val_loss: 0.8443 - val_acc: 0.7944\n",
      "Epoch 15/15\n",
      "25000/25000 [==============================] - ETA: 5s - loss: 0.0247 - acc: 1.000 - ETA: 4s - loss: 0.0525 - acc: 0.989 - ETA: 4s - loss: 0.0716 - acc: 0.983 - ETA: 5s - loss: 0.0722 - acc: 0.984 - ETA: 5s - loss: 0.0772 - acc: 0.985 - ETA: 5s - loss: 0.0824 - acc: 0.984 - ETA: 5s - loss: 0.0814 - acc: 0.985 - ETA: 4s - loss: 0.0779 - acc: 0.985 - ETA: 4s - loss: 0.0759 - acc: 0.985 - ETA: 4s - loss: 0.0743 - acc: 0.985 - ETA: 4s - loss: 0.0732 - acc: 0.986 - ETA: 4s - loss: 0.0740 - acc: 0.985 - ETA: 4s - loss: 0.0711 - acc: 0.986 - ETA: 4s - loss: 0.0727 - acc: 0.985 - ETA: 4s - loss: 0.0695 - acc: 0.986 - ETA: 4s - loss: 0.0728 - acc: 0.985 - ETA: 4s - loss: 0.0730 - acc: 0.985 - ETA: 4s - loss: 0.0739 - acc: 0.985 - ETA: 4s - loss: 0.0773 - acc: 0.984 - ETA: 4s - loss: 0.0776 - acc: 0.984 - ETA: 4s - loss: 0.0801 - acc: 0.983 - ETA: 4s - loss: 0.0813 - acc: 0.983 - ETA: 3s - loss: 0.0806 - acc: 0.983 - ETA: 3s - loss: 0.0790 - acc: 0.983 - ETA: 3s - loss: 0.0783 - acc: 0.984 - ETA: 3s - loss: 0.0770 - acc: 0.984 - ETA: 3s - loss: 0.0765 - acc: 0.984 - ETA: 3s - loss: 0.0775 - acc: 0.984 - ETA: 3s - loss: 0.0764 - acc: 0.984 - ETA: 3s - loss: 0.0768 - acc: 0.984 - ETA: 3s - loss: 0.0759 - acc: 0.984 - ETA: 3s - loss: 0.0764 - acc: 0.984 - ETA: 3s - loss: 0.0772 - acc: 0.984 - ETA: 3s - loss: 0.0781 - acc: 0.984 - ETA: 3s - loss: 0.0778 - acc: 0.984 - ETA: 3s - loss: 0.0788 - acc: 0.983 - ETA: 3s - loss: 0.0797 - acc: 0.983 - ETA: 3s - loss: 0.0811 - acc: 0.983 - ETA: 3s - loss: 0.0820 - acc: 0.982 - ETA: 3s - loss: 0.0809 - acc: 0.983 - ETA: 3s - loss: 0.0815 - acc: 0.982 - ETA: 3s - loss: 0.0822 - acc: 0.982 - ETA: 2s - loss: 0.0829 - acc: 0.982 - ETA: 2s - loss: 0.0823 - acc: 0.982 - ETA: 2s - loss: 0.0828 - acc: 0.982 - ETA: 2s - loss: 0.0821 - acc: 0.982 - ETA: 2s - loss: 0.0818 - acc: 0.983 - ETA: 2s - loss: 0.0831 - acc: 0.982 - ETA: 2s - loss: 0.0834 - acc: 0.982 - ETA: 2s - loss: 0.0833 - acc: 0.982 - ETA: 2s - loss: 0.0831 - acc: 0.982 - ETA: 2s - loss: 0.0825 - acc: 0.982 - ETA: 2s - loss: 0.0825 - acc: 0.982 - ETA: 2s - loss: 0.0821 - acc: 0.982 - ETA: 2s - loss: 0.0819 - acc: 0.982 - ETA: 2s - loss: 0.0831 - acc: 0.982 - ETA: 2s - loss: 0.0836 - acc: 0.982 - ETA: 2s - loss: 0.0842 - acc: 0.982 - ETA: 2s - loss: 0.0851 - acc: 0.981 - ETA: 2s - loss: 0.0848 - acc: 0.981 - ETA: 2s - loss: 0.0845 - acc: 0.981 - ETA: 1s - loss: 0.0839 - acc: 0.981 - ETA: 1s - loss: 0.0844 - acc: 0.981 - ETA: 1s - loss: 0.0840 - acc: 0.981 - ETA: 1s - loss: 0.0840 - acc: 0.981 - ETA: 1s - loss: 0.0842 - acc: 0.981 - ETA: 1s - loss: 0.0840 - acc: 0.981 - ETA: 1s - loss: 0.0845 - acc: 0.981 - ETA: 1s - loss: 0.0844 - acc: 0.981 - ETA: 1s - loss: 0.0840 - acc: 0.981 - ETA: 1s - loss: 0.0841 - acc: 0.981 - ETA: 1s - loss: 0.0843 - acc: 0.981 - ETA: 1s - loss: 0.0844 - acc: 0.981 - ETA: 1s - loss: 0.0847 - acc: 0.981 - ETA: 1s - loss: 0.0845 - acc: 0.981 - ETA: 1s - loss: 0.0843 - acc: 0.981 - ETA: 1s - loss: 0.0842 - acc: 0.981 - ETA: 1s - loss: 0.0847 - acc: 0.981 - ETA: 1s - loss: 0.0843 - acc: 0.981 - ETA: 0s - loss: 0.0843 - acc: 0.981 - ETA: 0s - loss: 0.0844 - acc: 0.981 - ETA: 0s - loss: 0.0838 - acc: 0.981 - ETA: 0s - loss: 0.0836 - acc: 0.981 - ETA: 0s - loss: 0.0835 - acc: 0.981 - ETA: 0s - loss: 0.0836 - acc: 0.981 - ETA: 0s - loss: 0.0837 - acc: 0.981 - ETA: 0s - loss: 0.0838 - acc: 0.981 - ETA: 0s - loss: 0.0839 - acc: 0.981 - ETA: 0s - loss: 0.0836 - acc: 0.981 - ETA: 0s - loss: 0.0836 - acc: 0.981 - ETA: 0s - loss: 0.0836 - acc: 0.981 - ETA: 0s - loss: 0.0843 - acc: 0.981 - ETA: 0s - loss: 0.0846 - acc: 0.980 - ETA: 0s - loss: 0.0848 - acc: 0.980 - ETA: 0s - loss: 0.0854 - acc: 0.980 - ETA: 0s - loss: 0.0855 - acc: 0.980 - ETA: 0s - loss: 0.0854 - acc: 0.980 - 6s 250us/sample - loss: 0.0852 - acc: 0.9806 - val_loss: 0.8859 - val_acc: 0.7884\n"
     ]
    }
   ],
   "source": [
    "his1 = model1.fit(X_train,y_train,epochs=15,validation_data=(X_test,y_test))"
   ]
  },
  {
   "cell_type": "code",
   "execution_count": 17,
   "metadata": {},
   "outputs": [
    {
     "data": {
      "text/plain": [
       "<matplotlib.legend.Legend at 0x1a852560630>"
      ]
     },
     "execution_count": 17,
     "metadata": {},
     "output_type": "execute_result"
    },
    {
     "data": {
      "image/png": "[encoded data removed]",
      "text/plain": [
       "<Figure size 1008x360 with 2 Axes>"
      ]
     },
     "metadata": {
      "needs_background": "light"
     },
     "output_type": "display_data"
    }
   ],
   "source": [
    "_,ax = plt.subplots(1,2,figsize=(14,5))\n",
    "ax[0].plot(his1.history['acc'],label = \"Training\")\n",
    "ax[0].plot(his1.history['val_acc'],label = \"Validation\")\n",
    "ax[0].set_title(\"Accurecy\")\n",
    "ax[0].legend()\n",
    "\n",
    "ax[1].plot(his1.history['loss'],label = \"Training\")\n",
    "ax[1].plot(his1.history['val_loss'],label = \"Validation\")\n",
    "ax[1].set_title(\"Cross Entropy\")\n",
    "ax[1].legend()"
   ]
  },
  {
   "cell_type": "code",
   "execution_count": 18,
   "metadata": {},
   "outputs": [
    {
     "data": {
      "text/plain": [
       "[0.81664,\n",
       " 0.83384,\n",
       " 0.83296,\n",
       " 0.82636,\n",
       " 0.82092,\n",
       " 0.81744,\n",
       " 0.81468,\n",
       " 0.80776,\n",
       " 0.80804,\n",
       " 0.80384,\n",
       " 0.8012,\n",
       " 0.79892,\n",
       " 0.79624,\n",
       " 0.79436,\n",
       " 0.78836]"
      ]
     },
     "execution_count": 18,
     "metadata": {},
     "output_type": "execute_result"
    }
   ],
   "source": [
    "his1.history['val_acc']"
   ]
  },
  {
   "cell_type": "code",
   "execution_count": 19,
   "metadata": {},
   "outputs": [
    {
     "data": {
      "text/plain": [
       "(10000, 16)"
      ]
     },
     "execution_count": 19,
     "metadata": {},
     "output_type": "execute_result"
    }
   ],
   "source": [
    "e = model1.layers[0]\n",
    "weights = e.get_weights()[0]\n",
    "weights.shape"
   ]
  },
  {
   "cell_type": "code",
   "execution_count": 27,
   "metadata": {},
   "outputs": [],
   "source": [
    "import io"
   ]
  },
  {
   "cell_type": "code",
   "execution_count": 28,
   "metadata": {},
   "outputs": [],
   "source": [
    "out_v = io.open(\"vecs1_new.tsv\",'w',encoding='utf-8')\n",
    "out_m = io.open(\"meta1_new.tsv\",'w',encoding='utf-8')"
   ]
  },
  {
   "cell_type": "code",
   "execution_count": 29,
   "metadata": {},
   "outputs": [],
   "source": [
    "rev_word_index = {}\n",
    "for k,v in word_index.items():\n",
    "    rev_word_index[v] = k"
   ]
  },
  {
   "cell_type": "code",
   "execution_count": 30,
   "metadata": {},
   "outputs": [
    {
     "name": "stdout",
     "output_type": "stream",
     "text": [
      "999\n",
      "1998\n",
      "2997\n",
      "3996\n",
      "4995\n",
      "5994\n",
      "6993\n",
      "7992\n",
      "8991\n",
      "9990\n"
     ]
    }
   ],
   "source": [
    "for i in range(1,num_words):\n",
    "    word = rev_word_index[i]\n",
    "    embedding = weights[i]\n",
    "    out_m.write(word+\"\\n\")\n",
    "    out_v.write(\"\\t\".join([str(x) for x in embedding])+\"\\n\")\n",
    "    if i%999==0:\n",
    "        print(i)"
   ]
  },
  {
   "cell_type": "code",
   "execution_count": 31,
   "metadata": {},
   "outputs": [],
   "source": [
    "out_m.close()"
   ]
  },
  {
   "cell_type": "code",
   "execution_count": 32,
   "metadata": {},
   "outputs": [],
   "source": [
    "out_v.close()"
   ]
  },
  {
   "cell_type": "code",
   "execution_count": null,
   "metadata": {},
   "outputs": [],
   "source": []
  }
 ],
 "metadata": {
  "kernelspec": {
   "display_name": "Python 3",
   "language": "python",
   "name": "python3"
  },
  "language_info": {
   "codemirror_mode": {
    "name": "ipython",
    "version": 3
   },
   "file_extension": ".py",
   "mimetype": "text/x-python",
   "name": "python",
   "nbconvert_exporter": "python",
   "pygments_lexer": "ipython3",
   "version": "3.7.3"
  }
 },
 "nbformat": 4,
 "nbformat_minor": 2
}
