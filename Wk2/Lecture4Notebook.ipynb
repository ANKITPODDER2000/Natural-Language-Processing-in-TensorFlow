{
 "cells": [
  {
   "cell_type": "markdown",
   "metadata": {},
   "source": [
    "# !pip install -q  tensorflow-datasets"
   ]
  },
  {
   "cell_type": "code",
   "execution_count": 1,
   "metadata": {},
   "outputs": [],
   "source": [
    "import tensorflow as tf"
   ]
  },
  {
   "cell_type": "code",
   "execution_count": 2,
   "metadata": {},
   "outputs": [],
   "source": [
    "import tensorflow_datasets as tfds"
   ]
  },
  {
   "cell_type": "code",
   "execution_count": 3,
   "metadata": {},
   "outputs": [],
   "source": [
    "imdb , info = tfds.load(name=\"imdb_reviews\",with_info=True,as_supervised=True)"
   ]
  },
  {
   "cell_type": "code",
   "execution_count": 4,
   "metadata": {},
   "outputs": [],
   "source": [
    "import numpy as np"
   ]
  },
  {
   "cell_type": "code",
   "execution_count": 5,
   "metadata": {},
   "outputs": [],
   "source": [
    "train_data , test_data = imdb['train'],imdb['test']"
   ]
  },
  {
   "cell_type": "code",
   "execution_count": 6,
   "metadata": {},
   "outputs": [],
   "source": [
    "train_sentence = []\n",
    "train_label    = []\n",
    "test_sentence  = []\n",
    "test_label     = []\n",
    "\n",
    "for s,l in train_data:\n",
    "    train_sentence.append(s.numpy())\n",
    "    train_label.append(l.numpy())\n",
    "    \n",
    "for s,l in test_data:\n",
    "    test_sentence.append(s.numpy())\n",
    "    test_label.append(l.numpy())"
   ]
  },
  {
   "cell_type": "code",
   "execution_count": 7,
   "metadata": {},
   "outputs": [
    {
     "data": {
      "text/plain": [
       "'This is a big step down after the surprisingly enjoyable original. This sequel isn\\\\\\'t nearly as fun as part one, and it instead spends too much time on plot development. Tim Thomerson is still the best thing about this series, but his wisecracking is toned down in this entry. The performances are all adequate, but this time the script lets us down. The action is merely routine and the plot is only mildly interesting, so I need lots of silly laughs in order to stay entertained during a \"Trancers\" movie. Unfortunately, the laughs are few and far between, and so, this film is watchable at best.'"
      ]
     },
     "execution_count": 7,
     "metadata": {},
     "output_type": "execute_result"
    }
   ],
   "source": [
    "str(train_sentence[0])[2:-1]"
   ]
  },
  {
   "cell_type": "code",
   "execution_count": 8,
   "metadata": {},
   "outputs": [
    {
     "data": {
      "text/plain": [
       "0"
      ]
     },
     "execution_count": 8,
     "metadata": {},
     "output_type": "execute_result"
    }
   ],
   "source": [
    "train_label[0]"
   ]
  },
  {
   "cell_type": "code",
   "execution_count": 9,
   "metadata": {},
   "outputs": [],
   "source": [
    "train_label_final = np.array(train_label)\n",
    "test_label_final  = np.array(test_label)"
   ]
  },
  {
   "cell_type": "code",
   "execution_count": 10,
   "metadata": {},
   "outputs": [],
   "source": [
    "for i in range(len(test_sentence)):\n",
    "    test_sentence[i] = str(test_sentence[i])[2:-1]"
   ]
  },
  {
   "cell_type": "code",
   "execution_count": 11,
   "metadata": {},
   "outputs": [],
   "source": [
    "for i in range(len(train_sentence)):\n",
    "    train_sentence[i] = str(train_sentence[i])[2:-1]"
   ]
  },
  {
   "cell_type": "code",
   "execution_count": 12,
   "metadata": {},
   "outputs": [],
   "source": [
    "vocab_size = 10000\n",
    "emdedding_dim = 16\n",
    "max_len = 120\n",
    "trunc_type = 'post'\n",
    "oov_tok = '<OOV>'"
   ]
  },
  {
   "cell_type": "code",
   "execution_count": 13,
   "metadata": {},
   "outputs": [],
   "source": [
    "from tensorflow.keras.preprocessing.text import Tokenizer\n",
    "from tensorflow.keras.preprocessing.sequence import pad_sequences"
   ]
  },
  {
   "cell_type": "code",
   "execution_count": 14,
   "metadata": {},
   "outputs": [],
   "source": [
    "tokenizer = Tokenizer(num_words=vocab_size,oov_token=oov_tok)\n",
    "tokenizer.fit_on_texts(train_sentence)\n",
    "word_index = tokenizer.word_index\n",
    "sequence = tokenizer.texts_to_sequences(train_sentence)\n",
    "padded = pad_sequences(sequence,maxlen=max_len,truncating=trunc_type)"
   ]
  },
  {
   "cell_type": "code",
   "execution_count": 15,
   "metadata": {},
   "outputs": [
    {
     "data": {
      "text/plain": [
       "107"
      ]
     },
     "execution_count": 15,
     "metadata": {},
     "output_type": "execute_result"
    }
   ],
   "source": [
    "len(sequence[0])"
   ]
  },
  {
   "cell_type": "code",
   "execution_count": 16,
   "metadata": {},
   "outputs": [],
   "source": [
    "test_sequence = tokenizer.texts_to_sequences(test_sentence)\n",
    "test_padded   = pad_sequences(test_sequence,maxlen=max_len)"
   ]
  },
  {
   "cell_type": "code",
   "execution_count": null,
   "metadata": {},
   "outputs": [],
   "source": []
  },
  {
   "cell_type": "code",
   "execution_count": 17,
   "metadata": {},
   "outputs": [],
   "source": [
    "model1 = tf.keras.models.Sequential([\n",
    "    tf.keras.layers.Embedding(vocab_size,emdedding_dim,input_length=max_len),\n",
    "    tf.keras.layers.Flatten(),\n",
    "    tf.keras.layers.Dense(6,activation=\"relu\"),\n",
    "    tf.keras.layers.Dense(1,activation=\"sigmoid\")\n",
    "])"
   ]
  },
  {
   "cell_type": "code",
   "execution_count": 18,
   "metadata": {},
   "outputs": [],
   "source": [
    "model1.compile(optimizer='adam',loss=tf.keras.losses.binary_crossentropy,metrics=['acc'])"
   ]
  },
  {
   "cell_type": "code",
   "execution_count": 19,
   "metadata": {},
   "outputs": [
    {
     "name": "stdout",
     "output_type": "stream",
     "text": [
      "Model: \"sequential\"\n",
      "_________________________________________________________________\n",
      "Layer (type)                 Output Shape              Param #   \n",
      "=================================================================\n",
      "embedding (Embedding)        (None, 120, 16)           160000    \n",
      "_________________________________________________________________\n",
      "flatten (Flatten)            (None, 1920)              0         \n",
      "_________________________________________________________________\n",
      "dense (Dense)                (None, 6)                 11526     \n",
      "_________________________________________________________________\n",
      "dense_1 (Dense)              (None, 1)                 7         \n",
      "=================================================================\n",
      "Total params: 171,533\n",
      "Trainable params: 171,533\n",
      "Non-trainable params: 0\n",
      "_________________________________________________________________\n"
     ]
    }
   ],
   "source": [
    "model1.summary()"
   ]
  },
  {
   "cell_type": "code",
   "execution_count": 20,
   "metadata": {},
   "outputs": [
    {
     "name": "stdout",
     "output_type": "stream",
     "text": [
      "Train on 25000 samples, validate on 25000 samples\n",
      "Epoch 1/10\n",
      "25000/25000 [==============================] - ETA: 23:26 - loss: 0.6871 - acc: 0.62 - ETA: 2:59 - loss: 0.6949 - acc: 0.5000 - ETA: 1:44 - loss: 0.6941 - acc: 0.504 - ETA: 1:14 - loss: 0.6943 - acc: 0.504 - ETA: 58s - loss: 0.6942 - acc: 0.495 - ETA: 45s - loss: 0.6938 - acc: 0.50 - ETA: 40s - loss: 0.6939 - acc: 0.49 - ETA: 37s - loss: 0.6938 - acc: 0.50 - ETA: 33s - loss: 0.6936 - acc: 0.50 - ETA: 30s - loss: 0.6932 - acc: 0.51 - ETA: 27s - loss: 0.6927 - acc: 0.51 - ETA: 25s - loss: 0.6930 - acc: 0.51 - ETA: 23s - loss: 0.6929 - acc: 0.51 - ETA: 22s - loss: 0.6927 - acc: 0.51 - ETA: 20s - loss: 0.6925 - acc: 0.51 - ETA: 19s - loss: 0.6924 - acc: 0.52 - ETA: 18s - loss: 0.6923 - acc: 0.52 - ETA: 18s - loss: 0.6925 - acc: 0.51 - ETA: 18s - loss: 0.6925 - acc: 0.51 - ETA: 18s - loss: 0.6924 - acc: 0.51 - ETA: 18s - loss: 0.6923 - acc: 0.51 - ETA: 18s - loss: 0.6923 - acc: 0.51 - ETA: 17s - loss: 0.6921 - acc: 0.52 - ETA: 16s - loss: 0.6920 - acc: 0.52 - ETA: 15s - loss: 0.6916 - acc: 0.53 - ETA: 14s - loss: 0.6913 - acc: 0.53 - ETA: 14s - loss: 0.6910 - acc: 0.53 - ETA: 13s - loss: 0.6908 - acc: 0.53 - ETA: 13s - loss: 0.6905 - acc: 0.53 - ETA: 12s - loss: 0.6901 - acc: 0.54 - ETA: 12s - loss: 0.6896 - acc: 0.54 - ETA: 12s - loss: 0.6889 - acc: 0.54 - ETA: 11s - loss: 0.6886 - acc: 0.55 - ETA: 11s - loss: 0.6881 - acc: 0.55 - ETA: 11s - loss: 0.6880 - acc: 0.55 - ETA: 12s - loss: 0.6876 - acc: 0.55 - ETA: 12s - loss: 0.6875 - acc: 0.55 - ETA: 12s - loss: 0.6872 - acc: 0.55 - ETA: 11s - loss: 0.6865 - acc: 0.55 - ETA: 11s - loss: 0.6855 - acc: 0.55 - ETA: 11s - loss: 0.6848 - acc: 0.55 - ETA: 10s - loss: 0.6838 - acc: 0.56 - ETA: 10s - loss: 0.6829 - acc: 0.56 - ETA: 10s - loss: 0.6811 - acc: 0.56 - ETA: 10s - loss: 0.6802 - acc: 0.57 - ETA: 10s - loss: 0.6784 - acc: 0.57 - ETA: 9s - loss: 0.6771 - acc: 0.5766 - ETA: 9s - loss: 0.6752 - acc: 0.581 - ETA: 9s - loss: 0.6735 - acc: 0.584 - ETA: 9s - loss: 0.6714 - acc: 0.587 - ETA: 9s - loss: 0.6688 - acc: 0.591 - ETA: 8s - loss: 0.6661 - acc: 0.595 - ETA: 8s - loss: 0.6641 - acc: 0.598 - ETA: 8s - loss: 0.6613 - acc: 0.602 - ETA: 8s - loss: 0.6586 - acc: 0.606 - ETA: 8s - loss: 0.6553 - acc: 0.610 - ETA: 7s - loss: 0.6525 - acc: 0.613 - ETA: 7s - loss: 0.6496 - acc: 0.616 - ETA: 7s - loss: 0.6467 - acc: 0.620 - ETA: 7s - loss: 0.6456 - acc: 0.621 - ETA: 7s - loss: 0.6446 - acc: 0.621 - ETA: 7s - loss: 0.6439 - acc: 0.622 - ETA: 7s - loss: 0.6421 - acc: 0.624 - ETA: 7s - loss: 0.6387 - acc: 0.627 - ETA: 7s - loss: 0.6364 - acc: 0.629 - ETA: 7s - loss: 0.6353 - acc: 0.630 - ETA: 7s - loss: 0.6340 - acc: 0.632 - ETA: 7s - loss: 0.6339 - acc: 0.632 - ETA: 7s - loss: 0.6327 - acc: 0.633 - ETA: 7s - loss: 0.6325 - acc: 0.633 - ETA: 7s - loss: 0.6300 - acc: 0.636 - ETA: 7s - loss: 0.6290 - acc: 0.637 - ETA: 7s - loss: 0.6276 - acc: 0.638 - ETA: 7s - loss: 0.6273 - acc: 0.638 - ETA: 7s - loss: 0.6253 - acc: 0.640 - ETA: 7s - loss: 0.6218 - acc: 0.644 - ETA: 6s - loss: 0.6190 - acc: 0.646 - ETA: 6s - loss: 0.6165 - acc: 0.648 - ETA: 6s - loss: 0.6140 - acc: 0.650 - ETA: 6s - loss: 0.6113 - acc: 0.652 - ETA: 6s - loss: 0.6077 - acc: 0.655 - ETA: 6s - loss: 0.6046 - acc: 0.658 - ETA: 6s - loss: 0.6021 - acc: 0.660 - ETA: 5s - loss: 0.5986 - acc: 0.663 - ETA: 5s - loss: 0.5970 - acc: 0.665 - ETA: 5s - loss: 0.5941 - acc: 0.667 - ETA: 5s - loss: 0.5919 - acc: 0.669 - ETA: 5s - loss: 0.5893 - acc: 0.671 - ETA: 5s - loss: 0.5872 - acc: 0.673 - ETA: 5s - loss: 0.5851 - acc: 0.675 - ETA: 5s - loss: 0.5836 - acc: 0.676 - ETA: 5s - loss: 0.5832 - acc: 0.676 - ETA: 5s - loss: 0.5823 - acc: 0.677 - ETA: 5s - loss: 0.5818 - acc: 0.678 - ETA: 5s - loss: 0.5809 - acc: 0.679 - ETA: 5s - loss: 0.5781 - acc: 0.681 - ETA: 4s - loss: 0.5748 - acc: 0.683 - ETA: 4s - loss: 0.5722 - acc: 0.685 - ETA: 4s - loss: 0.5702 - acc: 0.687 - ETA: 4s - loss: 0.5680 - acc: 0.689 - ETA: 4s - loss: 0.5655 - acc: 0.691 - ETA: 4s - loss: 0.5639 - acc: 0.692 - ETA: 4s - loss: 0.5627 - acc: 0.693 - ETA: 4s - loss: 0.5609 - acc: 0.694 - ETA: 4s - loss: 0.5595 - acc: 0.695 - ETA: 3s - loss: 0.5577 - acc: 0.697 - ETA: 3s - loss: 0.5550 - acc: 0.699 - ETA: 3s - loss: 0.5544 - acc: 0.699 - ETA: 3s - loss: 0.5536 - acc: 0.700 - ETA: 3s - loss: 0.5527 - acc: 0.701 - ETA: 3s - loss: 0.5522 - acc: 0.701 - ETA: 3s - loss: 0.5519 - acc: 0.701 - ETA: 3s - loss: 0.5508 - acc: 0.702 - ETA: 3s - loss: 0.5492 - acc: 0.703 - ETA: 3s - loss: 0.5478 - acc: 0.704 - ETA: 3s - loss: 0.5475 - acc: 0.705 - ETA: 3s - loss: 0.5471 - acc: 0.705 - ETA: 3s - loss: 0.5464 - acc: 0.705 - ETA: 3s - loss: 0.5460 - acc: 0.705 - ETA: 3s - loss: 0.5439 - acc: 0.707 - ETA: 3s - loss: 0.5423 - acc: 0.708 - ETA: 3s - loss: 0.5407 - acc: 0.709 - ETA: 3s - loss: 0.5393 - acc: 0.710 - ETA: 2s - loss: 0.5388 - acc: 0.711 - ETA: 2s - loss: 0.5386 - acc: 0.711 - ETA: 2s - loss: 0.5382 - acc: 0.711 - ETA: 2s - loss: 0.5375 - acc: 0.712 - ETA: 2s - loss: 0.5363 - acc: 0.713 - ETA: 2s - loss: 0.5352 - acc: 0.713 - ETA: 2s - loss: 0.5329 - acc: 0.715 - ETA: 2s - loss: 0.5316 - acc: 0.716 - ETA: 2s - loss: 0.5308 - acc: 0.716 - ETA: 2s - loss: 0.5297 - acc: 0.717 - ETA: 2s - loss: 0.5277 - acc: 0.719 - ETA: 2s - loss: 0.5263 - acc: 0.720 - ETA: 2s - loss: 0.5250 - acc: 0.721 - ETA: 1s - loss: 0.5230 - acc: 0.723 - ETA: 1s - loss: 0.5219 - acc: 0.723 - ETA: 1s - loss: 0.5203 - acc: 0.724 - ETA: 1s - loss: 0.5186 - acc: 0.725 - ETA: 1s - loss: 0.5171 - acc: 0.726 - ETA: 1s - loss: 0.5155 - acc: 0.727 - ETA: 1s - loss: 0.5147 - acc: 0.728 - ETA: 1s - loss: 0.5131 - acc: 0.729 - ETA: 1s - loss: 0.5122 - acc: 0.730 - ETA: 1s - loss: 0.5112 - acc: 0.731 - ETA: 1s - loss: 0.5098 - acc: 0.732 - ETA: 0s - loss: 0.5091 - acc: 0.732 - ETA: 0s - loss: 0.5074 - acc: 0.734 - ETA: 0s - loss: 0.5063 - acc: 0.734 - ETA: 0s - loss: 0.5046 - acc: 0.736 - ETA: 0s - loss: 0.5042 - acc: 0.736 - ETA: 0s - loss: 0.5034 - acc: 0.737 - ETA: 0s - loss: 0.5024 - acc: 0.738 - ETA: 0s - loss: 0.5011 - acc: 0.738 - ETA: 0s - loss: 0.5002 - acc: 0.739 - ETA: 0s - loss: 0.4986 - acc: 0.740 - ETA: 0s - loss: 0.4975 - acc: 0.741 - 13s 526us/sample - loss: 0.4962 - acc: 0.7425 - val_loss: 0.3430 - val_acc: 0.8514\n",
      "Epoch 2/10\n"
     ]
    },
    {
     "name": "stdout",
     "output_type": "stream",
     "text": [
      "25000/25000 [==============================] - ETA: 8s - loss: 0.2439 - acc: 0.937 - ETA: 6s - loss: 0.2380 - acc: 0.925 - ETA: 6s - loss: 0.2360 - acc: 0.918 - ETA: 7s - loss: 0.2302 - acc: 0.922 - ETA: 7s - loss: 0.2301 - acc: 0.923 - ETA: 8s - loss: 0.2314 - acc: 0.922 - ETA: 10s - loss: 0.2329 - acc: 0.91 - ETA: 11s - loss: 0.2403 - acc: 0.91 - ETA: 11s - loss: 0.2416 - acc: 0.91 - ETA: 10s - loss: 0.2378 - acc: 0.91 - ETA: 10s - loss: 0.2369 - acc: 0.91 - ETA: 9s - loss: 0.2384 - acc: 0.9171 - ETA: 9s - loss: 0.2392 - acc: 0.916 - ETA: 8s - loss: 0.2362 - acc: 0.916 - ETA: 8s - loss: 0.2397 - acc: 0.913 - ETA: 8s - loss: 0.2409 - acc: 0.911 - ETA: 9s - loss: 0.2452 - acc: 0.910 - ETA: 9s - loss: 0.2460 - acc: 0.909 - ETA: 10s - loss: 0.2453 - acc: 0.90 - ETA: 10s - loss: 0.2457 - acc: 0.90 - ETA: 10s - loss: 0.2435 - acc: 0.91 - ETA: 9s - loss: 0.2398 - acc: 0.9134 - ETA: 9s - loss: 0.2439 - acc: 0.912 - ETA: 9s - loss: 0.2433 - acc: 0.912 - ETA: 9s - loss: 0.2414 - acc: 0.913 - ETA: 9s - loss: 0.2397 - acc: 0.915 - ETA: 8s - loss: 0.2404 - acc: 0.915 - ETA: 8s - loss: 0.2441 - acc: 0.914 - ETA: 8s - loss: 0.2453 - acc: 0.912 - ETA: 8s - loss: 0.2479 - acc: 0.911 - ETA: 8s - loss: 0.2473 - acc: 0.912 - ETA: 7s - loss: 0.2466 - acc: 0.912 - ETA: 7s - loss: 0.2460 - acc: 0.912 - ETA: 7s - loss: 0.2461 - acc: 0.912 - ETA: 7s - loss: 0.2444 - acc: 0.913 - ETA: 7s - loss: 0.2432 - acc: 0.913 - ETA: 7s - loss: 0.2445 - acc: 0.911 - ETA: 6s - loss: 0.2449 - acc: 0.911 - ETA: 6s - loss: 0.2435 - acc: 0.912 - ETA: 6s - loss: 0.2434 - acc: 0.911 - ETA: 6s - loss: 0.2420 - acc: 0.912 - ETA: 6s - loss: 0.2417 - acc: 0.912 - ETA: 6s - loss: 0.2420 - acc: 0.911 - ETA: 6s - loss: 0.2449 - acc: 0.910 - ETA: 6s - loss: 0.2453 - acc: 0.910 - ETA: 6s - loss: 0.2454 - acc: 0.910 - ETA: 6s - loss: 0.2445 - acc: 0.910 - ETA: 6s - loss: 0.2448 - acc: 0.910 - ETA: 6s - loss: 0.2446 - acc: 0.910 - ETA: 6s - loss: 0.2443 - acc: 0.910 - ETA: 6s - loss: 0.2448 - acc: 0.910 - ETA: 6s - loss: 0.2448 - acc: 0.909 - ETA: 6s - loss: 0.2438 - acc: 0.909 - ETA: 6s - loss: 0.2433 - acc: 0.909 - ETA: 6s - loss: 0.2435 - acc: 0.909 - ETA: 6s - loss: 0.2431 - acc: 0.909 - ETA: 6s - loss: 0.2432 - acc: 0.909 - ETA: 6s - loss: 0.2421 - acc: 0.910 - ETA: 6s - loss: 0.2428 - acc: 0.909 - ETA: 6s - loss: 0.2442 - acc: 0.908 - ETA: 6s - loss: 0.2440 - acc: 0.908 - ETA: 6s - loss: 0.2439 - acc: 0.908 - ETA: 6s - loss: 0.2441 - acc: 0.908 - ETA: 6s - loss: 0.2444 - acc: 0.908 - ETA: 6s - loss: 0.2444 - acc: 0.908 - ETA: 6s - loss: 0.2444 - acc: 0.908 - ETA: 6s - loss: 0.2453 - acc: 0.908 - ETA: 6s - loss: 0.2457 - acc: 0.907 - ETA: 6s - loss: 0.2450 - acc: 0.908 - ETA: 5s - loss: 0.2442 - acc: 0.909 - ETA: 5s - loss: 0.2441 - acc: 0.909 - ETA: 5s - loss: 0.2450 - acc: 0.908 - ETA: 5s - loss: 0.2454 - acc: 0.908 - ETA: 5s - loss: 0.2450 - acc: 0.908 - ETA: 5s - loss: 0.2456 - acc: 0.908 - ETA: 5s - loss: 0.2454 - acc: 0.908 - ETA: 5s - loss: 0.2445 - acc: 0.908 - ETA: 5s - loss: 0.2434 - acc: 0.908 - ETA: 5s - loss: 0.2428 - acc: 0.908 - ETA: 5s - loss: 0.2426 - acc: 0.908 - ETA: 5s - loss: 0.2426 - acc: 0.908 - ETA: 5s - loss: 0.2430 - acc: 0.908 - ETA: 5s - loss: 0.2427 - acc: 0.908 - ETA: 5s - loss: 0.2422 - acc: 0.908 - ETA: 5s - loss: 0.2421 - acc: 0.908 - ETA: 5s - loss: 0.2420 - acc: 0.908 - ETA: 5s - loss: 0.2429 - acc: 0.908 - ETA: 5s - loss: 0.2427 - acc: 0.908 - ETA: 5s - loss: 0.2434 - acc: 0.907 - ETA: 4s - loss: 0.2434 - acc: 0.908 - ETA: 4s - loss: 0.2435 - acc: 0.907 - ETA: 4s - loss: 0.2437 - acc: 0.907 - ETA: 4s - loss: 0.2430 - acc: 0.907 - ETA: 4s - loss: 0.2432 - acc: 0.907 - ETA: 4s - loss: 0.2428 - acc: 0.907 - ETA: 4s - loss: 0.2430 - acc: 0.907 - ETA: 4s - loss: 0.2433 - acc: 0.907 - ETA: 4s - loss: 0.2438 - acc: 0.907 - ETA: 4s - loss: 0.2435 - acc: 0.907 - ETA: 4s - loss: 0.2439 - acc: 0.906 - ETA: 3s - loss: 0.2444 - acc: 0.906 - ETA: 3s - loss: 0.2441 - acc: 0.906 - ETA: 3s - loss: 0.2438 - acc: 0.907 - ETA: 3s - loss: 0.2439 - acc: 0.907 - ETA: 3s - loss: 0.2439 - acc: 0.907 - ETA: 3s - loss: 0.2441 - acc: 0.907 - ETA: 3s - loss: 0.2448 - acc: 0.906 - ETA: 3s - loss: 0.2445 - acc: 0.907 - ETA: 3s - loss: 0.2458 - acc: 0.906 - ETA: 3s - loss: 0.2452 - acc: 0.906 - ETA: 3s - loss: 0.2461 - acc: 0.906 - ETA: 2s - loss: 0.2460 - acc: 0.906 - ETA: 2s - loss: 0.2456 - acc: 0.906 - ETA: 2s - loss: 0.2450 - acc: 0.906 - ETA: 2s - loss: 0.2446 - acc: 0.906 - ETA: 2s - loss: 0.2452 - acc: 0.906 - ETA: 2s - loss: 0.2446 - acc: 0.906 - ETA: 2s - loss: 0.2442 - acc: 0.907 - ETA: 2s - loss: 0.2441 - acc: 0.907 - ETA: 2s - loss: 0.2440 - acc: 0.907 - ETA: 2s - loss: 0.2438 - acc: 0.907 - ETA: 2s - loss: 0.2438 - acc: 0.907 - ETA: 2s - loss: 0.2439 - acc: 0.906 - ETA: 2s - loss: 0.2431 - acc: 0.907 - ETA: 1s - loss: 0.2435 - acc: 0.906 - ETA: 1s - loss: 0.2436 - acc: 0.906 - ETA: 1s - loss: 0.2435 - acc: 0.906 - ETA: 1s - loss: 0.2436 - acc: 0.906 - ETA: 1s - loss: 0.2429 - acc: 0.906 - ETA: 1s - loss: 0.2431 - acc: 0.906 - ETA: 1s - loss: 0.2432 - acc: 0.906 - ETA: 1s - loss: 0.2430 - acc: 0.906 - ETA: 1s - loss: 0.2429 - acc: 0.906 - ETA: 1s - loss: 0.2428 - acc: 0.906 - ETA: 1s - loss: 0.2434 - acc: 0.906 - ETA: 1s - loss: 0.2436 - acc: 0.905 - ETA: 1s - loss: 0.2437 - acc: 0.905 - ETA: 1s - loss: 0.2433 - acc: 0.906 - ETA: 0s - loss: 0.2430 - acc: 0.906 - ETA: 0s - loss: 0.2430 - acc: 0.906 - ETA: 0s - loss: 0.2429 - acc: 0.906 - ETA: 0s - loss: 0.2435 - acc: 0.906 - ETA: 0s - loss: 0.2433 - acc: 0.906 - ETA: 0s - loss: 0.2433 - acc: 0.906 - ETA: 0s - loss: 0.2432 - acc: 0.906 - ETA: 0s - loss: 0.2425 - acc: 0.906 - ETA: 0s - loss: 0.2426 - acc: 0.906 - ETA: 0s - loss: 0.2422 - acc: 0.906 - ETA: 0s - loss: 0.2423 - acc: 0.906 - ETA: 0s - loss: 0.2418 - acc: 0.906 - ETA: 0s - loss: 0.2422 - acc: 0.906 - ETA: 0s - loss: 0.2422 - acc: 0.906 - ETA: 0s - loss: 0.2421 - acc: 0.906 - 10s 410us/sample - loss: 0.2422 - acc: 0.9064 - val_loss: 0.3696 - val_acc: 0.8408\n",
      "Epoch 3/10\n"
     ]
    },
    {
     "name": "stdout",
     "output_type": "stream",
     "text": [
      "25000/25000 [==============================] - ETA: 8s - loss: 0.0553 - acc: 1.000 - ETA: 6s - loss: 0.1109 - acc: 0.976 - ETA: 6s - loss: 0.1100 - acc: 0.975 - ETA: 5s - loss: 0.1116 - acc: 0.973 - ETA: 6s - loss: 0.1052 - acc: 0.975 - ETA: 6s - loss: 0.1021 - acc: 0.978 - ETA: 6s - loss: 0.1043 - acc: 0.979 - ETA: 6s - loss: 0.1032 - acc: 0.979 - ETA: 6s - loss: 0.1035 - acc: 0.978 - ETA: 6s - loss: 0.1045 - acc: 0.977 - ETA: 6s - loss: 0.1035 - acc: 0.978 - ETA: 6s - loss: 0.1069 - acc: 0.978 - ETA: 6s - loss: 0.1057 - acc: 0.978 - ETA: 6s - loss: 0.1056 - acc: 0.978 - ETA: 6s - loss: 0.1073 - acc: 0.977 - ETA: 6s - loss: 0.1065 - acc: 0.977 - ETA: 6s - loss: 0.1081 - acc: 0.975 - ETA: 6s - loss: 0.1097 - acc: 0.974 - ETA: 6s - loss: 0.1095 - acc: 0.974 - ETA: 6s - loss: 0.1086 - acc: 0.975 - ETA: 6s - loss: 0.1073 - acc: 0.975 - ETA: 6s - loss: 0.1063 - acc: 0.975 - ETA: 6s - loss: 0.1056 - acc: 0.974 - ETA: 6s - loss: 0.1071 - acc: 0.974 - ETA: 5s - loss: 0.1069 - acc: 0.974 - ETA: 5s - loss: 0.1075 - acc: 0.974 - ETA: 5s - loss: 0.1077 - acc: 0.974 - ETA: 5s - loss: 0.1079 - acc: 0.974 - ETA: 5s - loss: 0.1085 - acc: 0.973 - ETA: 5s - loss: 0.1085 - acc: 0.974 - ETA: 5s - loss: 0.1076 - acc: 0.974 - ETA: 5s - loss: 0.1075 - acc: 0.974 - ETA: 5s - loss: 0.1070 - acc: 0.974 - ETA: 5s - loss: 0.1060 - acc: 0.974 - ETA: 5s - loss: 0.1052 - acc: 0.975 - ETA: 5s - loss: 0.1054 - acc: 0.975 - ETA: 5s - loss: 0.1045 - acc: 0.975 - ETA: 5s - loss: 0.1047 - acc: 0.975 - ETA: 5s - loss: 0.1036 - acc: 0.976 - ETA: 5s - loss: 0.1034 - acc: 0.976 - ETA: 5s - loss: 0.1029 - acc: 0.976 - ETA: 5s - loss: 0.1036 - acc: 0.976 - ETA: 4s - loss: 0.1026 - acc: 0.976 - ETA: 4s - loss: 0.1022 - acc: 0.976 - ETA: 4s - loss: 0.1015 - acc: 0.977 - ETA: 4s - loss: 0.1012 - acc: 0.976 - ETA: 4s - loss: 0.1011 - acc: 0.976 - ETA: 4s - loss: 0.1008 - acc: 0.977 - ETA: 4s - loss: 0.1003 - acc: 0.976 - ETA: 4s - loss: 0.1003 - acc: 0.976 - ETA: 4s - loss: 0.1006 - acc: 0.976 - ETA: 4s - loss: 0.1008 - acc: 0.976 - ETA: 4s - loss: 0.1004 - acc: 0.976 - ETA: 4s - loss: 0.0999 - acc: 0.976 - ETA: 4s - loss: 0.0999 - acc: 0.976 - ETA: 4s - loss: 0.0996 - acc: 0.976 - ETA: 4s - loss: 0.1001 - acc: 0.976 - ETA: 4s - loss: 0.1004 - acc: 0.976 - ETA: 4s - loss: 0.1003 - acc: 0.976 - ETA: 3s - loss: 0.0998 - acc: 0.976 - ETA: 3s - loss: 0.1003 - acc: 0.976 - ETA: 3s - loss: 0.1003 - acc: 0.976 - ETA: 3s - loss: 0.0996 - acc: 0.977 - ETA: 3s - loss: 0.0998 - acc: 0.976 - ETA: 3s - loss: 0.0999 - acc: 0.976 - ETA: 3s - loss: 0.0997 - acc: 0.977 - ETA: 3s - loss: 0.0995 - acc: 0.977 - ETA: 3s - loss: 0.0993 - acc: 0.977 - ETA: 3s - loss: 0.0991 - acc: 0.977 - ETA: 3s - loss: 0.0989 - acc: 0.977 - ETA: 3s - loss: 0.0985 - acc: 0.977 - ETA: 3s - loss: 0.0987 - acc: 0.977 - ETA: 3s - loss: 0.0987 - acc: 0.977 - ETA: 3s - loss: 0.0986 - acc: 0.977 - ETA: 3s - loss: 0.0988 - acc: 0.977 - ETA: 3s - loss: 0.0986 - acc: 0.977 - ETA: 3s - loss: 0.0983 - acc: 0.977 - ETA: 3s - loss: 0.0983 - acc: 0.977 - ETA: 3s - loss: 0.0988 - acc: 0.977 - ETA: 3s - loss: 0.0988 - acc: 0.977 - ETA: 3s - loss: 0.0986 - acc: 0.977 - ETA: 3s - loss: 0.0988 - acc: 0.977 - ETA: 3s - loss: 0.0988 - acc: 0.977 - ETA: 3s - loss: 0.0985 - acc: 0.977 - ETA: 3s - loss: 0.0981 - acc: 0.977 - ETA: 3s - loss: 0.0978 - acc: 0.977 - ETA: 3s - loss: 0.0977 - acc: 0.977 - ETA: 3s - loss: 0.0978 - acc: 0.977 - ETA: 3s - loss: 0.0981 - acc: 0.977 - ETA: 3s - loss: 0.0983 - acc: 0.977 - ETA: 3s - loss: 0.0986 - acc: 0.977 - ETA: 3s - loss: 0.0985 - acc: 0.977 - ETA: 3s - loss: 0.0984 - acc: 0.977 - ETA: 3s - loss: 0.0982 - acc: 0.977 - ETA: 3s - loss: 0.0980 - acc: 0.977 - ETA: 3s - loss: 0.0977 - acc: 0.977 - ETA: 3s - loss: 0.0976 - acc: 0.977 - ETA: 3s - loss: 0.0977 - acc: 0.977 - ETA: 3s - loss: 0.0975 - acc: 0.977 - ETA: 3s - loss: 0.0978 - acc: 0.977 - ETA: 3s - loss: 0.0976 - acc: 0.977 - ETA: 3s - loss: 0.0976 - acc: 0.977 - ETA: 3s - loss: 0.0974 - acc: 0.977 - ETA: 3s - loss: 0.0971 - acc: 0.977 - ETA: 3s - loss: 0.0969 - acc: 0.977 - ETA: 3s - loss: 0.0970 - acc: 0.977 - ETA: 3s - loss: 0.0968 - acc: 0.977 - ETA: 3s - loss: 0.0971 - acc: 0.977 - ETA: 3s - loss: 0.0969 - acc: 0.977 - ETA: 3s - loss: 0.0971 - acc: 0.976 - ETA: 3s - loss: 0.0970 - acc: 0.976 - ETA: 2s - loss: 0.0969 - acc: 0.976 - ETA: 2s - loss: 0.0972 - acc: 0.976 - ETA: 2s - loss: 0.0970 - acc: 0.976 - ETA: 2s - loss: 0.0969 - acc: 0.976 - ETA: 2s - loss: 0.0968 - acc: 0.976 - ETA: 2s - loss: 0.0966 - acc: 0.977 - ETA: 2s - loss: 0.0969 - acc: 0.976 - ETA: 2s - loss: 0.0968 - acc: 0.977 - ETA: 2s - loss: 0.0967 - acc: 0.977 - ETA: 2s - loss: 0.0968 - acc: 0.976 - ETA: 2s - loss: 0.0966 - acc: 0.977 - ETA: 2s - loss: 0.0967 - acc: 0.976 - ETA: 2s - loss: 0.0966 - acc: 0.977 - ETA: 2s - loss: 0.0963 - acc: 0.977 - ETA: 2s - loss: 0.0960 - acc: 0.977 - ETA: 2s - loss: 0.0960 - acc: 0.977 - ETA: 2s - loss: 0.0961 - acc: 0.977 - ETA: 2s - loss: 0.0958 - acc: 0.977 - ETA: 2s - loss: 0.0956 - acc: 0.977 - ETA: 2s - loss: 0.0958 - acc: 0.977 - ETA: 2s - loss: 0.0960 - acc: 0.977 - ETA: 1s - loss: 0.0961 - acc: 0.976 - ETA: 1s - loss: 0.0959 - acc: 0.976 - ETA: 1s - loss: 0.0958 - acc: 0.976 - ETA: 1s - loss: 0.0957 - acc: 0.976 - ETA: 1s - loss: 0.0958 - acc: 0.976 - ETA: 1s - loss: 0.0956 - acc: 0.976 - ETA: 1s - loss: 0.0955 - acc: 0.977 - ETA: 1s - loss: 0.0952 - acc: 0.977 - ETA: 1s - loss: 0.0951 - acc: 0.977 - ETA: 1s - loss: 0.0950 - acc: 0.977 - ETA: 1s - loss: 0.0951 - acc: 0.977 - ETA: 1s - loss: 0.0952 - acc: 0.977 - ETA: 1s - loss: 0.0950 - acc: 0.977 - ETA: 1s - loss: 0.0950 - acc: 0.977 - ETA: 1s - loss: 0.0948 - acc: 0.977 - ETA: 1s - loss: 0.0944 - acc: 0.977 - ETA: 1s - loss: 0.0942 - acc: 0.977 - ETA: 1s - loss: 0.0942 - acc: 0.977 - ETA: 1s - loss: 0.0940 - acc: 0.977 - ETA: 0s - loss: 0.0942 - acc: 0.977 - ETA: 0s - loss: 0.0945 - acc: 0.977 - ETA: 0s - loss: 0.0945 - acc: 0.976 - ETA: 0s - loss: 0.0943 - acc: 0.977 - ETA: 0s - loss: 0.0942 - acc: 0.976 - ETA: 0s - loss: 0.0942 - acc: 0.976 - ETA: 0s - loss: 0.0939 - acc: 0.977 - ETA: 0s - loss: 0.0942 - acc: 0.976 - ETA: 0s - loss: 0.0940 - acc: 0.977 - ETA: 0s - loss: 0.0940 - acc: 0.977 - ETA: 0s - loss: 0.0940 - acc: 0.977 - ETA: 0s - loss: 0.0943 - acc: 0.977 - ETA: 0s - loss: 0.0943 - acc: 0.976 - ETA: 0s - loss: 0.0942 - acc: 0.976 - ETA: 0s - loss: 0.0944 - acc: 0.976 - ETA: 0s - loss: 0.0942 - acc: 0.976 - ETA: 0s - loss: 0.0944 - acc: 0.976 - ETA: 0s - loss: 0.0943 - acc: 0.976 - ETA: 0s - loss: 0.0942 - acc: 0.976 - ETA: 0s - loss: 0.0942 - acc: 0.976 - 12s 464us/sample - loss: 0.0946 - acc: 0.9765 - val_loss: 0.4493 - val_acc: 0.8311\n",
      "Epoch 4/10\n"
     ]
    },
    {
     "name": "stdout",
     "output_type": "stream",
     "text": [
      "25000/25000 [==============================] - ETA: 5s - loss: 0.0393 - acc: 1.000 - ETA: 5s - loss: 0.0319 - acc: 0.996 - ETA: 5s - loss: 0.0268 - acc: 0.997 - ETA: 5s - loss: 0.0248 - acc: 0.998 - ETA: 5s - loss: 0.0292 - acc: 0.997 - ETA: 5s - loss: 0.0293 - acc: 0.998 - ETA: 5s - loss: 0.0286 - acc: 0.998 - ETA: 5s - loss: 0.0285 - acc: 0.998 - ETA: 5s - loss: 0.0276 - acc: 0.998 - ETA: 5s - loss: 0.0267 - acc: 0.998 - ETA: 6s - loss: 0.0263 - acc: 0.998 - ETA: 5s - loss: 0.0258 - acc: 0.998 - ETA: 5s - loss: 0.0274 - acc: 0.998 - ETA: 5s - loss: 0.0267 - acc: 0.998 - ETA: 5s - loss: 0.0266 - acc: 0.997 - ETA: 5s - loss: 0.0261 - acc: 0.998 - ETA: 5s - loss: 0.0258 - acc: 0.998 - ETA: 5s - loss: 0.0276 - acc: 0.997 - ETA: 5s - loss: 0.0272 - acc: 0.997 - ETA: 5s - loss: 0.0268 - acc: 0.998 - ETA: 5s - loss: 0.0276 - acc: 0.997 - ETA: 5s - loss: 0.0273 - acc: 0.998 - ETA: 5s - loss: 0.0270 - acc: 0.997 - ETA: 5s - loss: 0.0268 - acc: 0.998 - ETA: 4s - loss: 0.0266 - acc: 0.997 - ETA: 4s - loss: 0.0262 - acc: 0.998 - ETA: 4s - loss: 0.0267 - acc: 0.997 - ETA: 4s - loss: 0.0280 - acc: 0.997 - ETA: 4s - loss: 0.0282 - acc: 0.997 - ETA: 4s - loss: 0.0280 - acc: 0.997 - ETA: 4s - loss: 0.0277 - acc: 0.997 - ETA: 4s - loss: 0.0274 - acc: 0.997 - ETA: 4s - loss: 0.0271 - acc: 0.997 - ETA: 4s - loss: 0.0268 - acc: 0.997 - ETA: 4s - loss: 0.0264 - acc: 0.997 - ETA: 4s - loss: 0.0262 - acc: 0.997 - ETA: 4s - loss: 0.0260 - acc: 0.998 - ETA: 4s - loss: 0.0264 - acc: 0.997 - ETA: 4s - loss: 0.0263 - acc: 0.998 - ETA: 4s - loss: 0.0262 - acc: 0.998 - ETA: 4s - loss: 0.0260 - acc: 0.998 - ETA: 4s - loss: 0.0257 - acc: 0.998 - ETA: 4s - loss: 0.0262 - acc: 0.997 - ETA: 4s - loss: 0.0267 - acc: 0.997 - ETA: 4s - loss: 0.0266 - acc: 0.997 - ETA: 4s - loss: 0.0272 - acc: 0.997 - ETA: 3s - loss: 0.0276 - acc: 0.997 - ETA: 3s - loss: 0.0277 - acc: 0.997 - ETA: 3s - loss: 0.0283 - acc: 0.997 - ETA: 3s - loss: 0.0281 - acc: 0.997 - ETA: 3s - loss: 0.0286 - acc: 0.997 - ETA: 3s - loss: 0.0285 - acc: 0.997 - ETA: 4s - loss: 0.0286 - acc: 0.996 - ETA: 4s - loss: 0.0285 - acc: 0.996 - ETA: 4s - loss: 0.0283 - acc: 0.996 - ETA: 4s - loss: 0.0288 - acc: 0.996 - ETA: 4s - loss: 0.0288 - acc: 0.996 - ETA: 3s - loss: 0.0288 - acc: 0.996 - ETA: 3s - loss: 0.0287 - acc: 0.996 - ETA: 4s - loss: 0.0287 - acc: 0.996 - ETA: 4s - loss: 0.0286 - acc: 0.996 - ETA: 4s - loss: 0.0285 - acc: 0.996 - ETA: 4s - loss: 0.0285 - acc: 0.996 - ETA: 4s - loss: 0.0284 - acc: 0.996 - ETA: 4s - loss: 0.0283 - acc: 0.997 - ETA: 4s - loss: 0.0282 - acc: 0.997 - ETA: 4s - loss: 0.0280 - acc: 0.997 - ETA: 3s - loss: 0.0278 - acc: 0.997 - ETA: 3s - loss: 0.0275 - acc: 0.997 - ETA: 3s - loss: 0.0273 - acc: 0.997 - ETA: 3s - loss: 0.0277 - acc: 0.997 - ETA: 3s - loss: 0.0279 - acc: 0.997 - ETA: 3s - loss: 0.0278 - acc: 0.997 - ETA: 3s - loss: 0.0276 - acc: 0.997 - ETA: 3s - loss: 0.0276 - acc: 0.997 - ETA: 3s - loss: 0.0279 - acc: 0.997 - ETA: 3s - loss: 0.0279 - acc: 0.997 - ETA: 3s - loss: 0.0279 - acc: 0.997 - ETA: 3s - loss: 0.0279 - acc: 0.997 - ETA: 3s - loss: 0.0280 - acc: 0.997 - ETA: 3s - loss: 0.0278 - acc: 0.997 - ETA: 3s - loss: 0.0276 - acc: 0.997 - ETA: 3s - loss: 0.0278 - acc: 0.997 - ETA: 3s - loss: 0.0277 - acc: 0.997 - ETA: 3s - loss: 0.0277 - acc: 0.997 - ETA: 3s - loss: 0.0276 - acc: 0.997 - ETA: 3s - loss: 0.0282 - acc: 0.997 - ETA: 3s - loss: 0.0281 - acc: 0.997 - ETA: 3s - loss: 0.0280 - acc: 0.997 - ETA: 3s - loss: 0.0279 - acc: 0.997 - ETA: 3s - loss: 0.0280 - acc: 0.997 - ETA: 2s - loss: 0.0279 - acc: 0.997 - ETA: 2s - loss: 0.0278 - acc: 0.997 - ETA: 2s - loss: 0.0276 - acc: 0.997 - ETA: 2s - loss: 0.0278 - acc: 0.996 - ETA: 2s - loss: 0.0277 - acc: 0.996 - ETA: 2s - loss: 0.0275 - acc: 0.996 - ETA: 2s - loss: 0.0274 - acc: 0.997 - ETA: 2s - loss: 0.0272 - acc: 0.997 - ETA: 2s - loss: 0.0271 - acc: 0.997 - ETA: 2s - loss: 0.0270 - acc: 0.997 - ETA: 2s - loss: 0.0269 - acc: 0.997 - ETA: 2s - loss: 0.0268 - acc: 0.997 - ETA: 2s - loss: 0.0269 - acc: 0.997 - ETA: 1s - loss: 0.0267 - acc: 0.997 - ETA: 1s - loss: 0.0267 - acc: 0.997 - ETA: 1s - loss: 0.0266 - acc: 0.997 - ETA: 1s - loss: 0.0268 - acc: 0.997 - ETA: 1s - loss: 0.0269 - acc: 0.997 - ETA: 1s - loss: 0.0267 - acc: 0.996 - ETA: 1s - loss: 0.0267 - acc: 0.996 - ETA: 1s - loss: 0.0266 - acc: 0.996 - ETA: 1s - loss: 0.0265 - acc: 0.996 - ETA: 1s - loss: 0.0264 - acc: 0.997 - ETA: 1s - loss: 0.0264 - acc: 0.996 - ETA: 1s - loss: 0.0263 - acc: 0.997 - ETA: 1s - loss: 0.0262 - acc: 0.997 - ETA: 1s - loss: 0.0261 - acc: 0.997 - ETA: 1s - loss: 0.0260 - acc: 0.997 - ETA: 1s - loss: 0.0261 - acc: 0.997 - ETA: 0s - loss: 0.0260 - acc: 0.997 - ETA: 0s - loss: 0.0260 - acc: 0.997 - ETA: 0s - loss: 0.0259 - acc: 0.997 - ETA: 0s - loss: 0.0258 - acc: 0.997 - ETA: 0s - loss: 0.0262 - acc: 0.996 - ETA: 0s - loss: 0.0263 - acc: 0.996 - ETA: 0s - loss: 0.0261 - acc: 0.996 - ETA: 0s - loss: 0.0262 - acc: 0.996 - ETA: 0s - loss: 0.0261 - acc: 0.996 - ETA: 0s - loss: 0.0260 - acc: 0.996 - ETA: 0s - loss: 0.0260 - acc: 0.996 - ETA: 0s - loss: 0.0260 - acc: 0.996 - ETA: 0s - loss: 0.0260 - acc: 0.996 - ETA: 0s - loss: 0.0259 - acc: 0.996 - ETA: 0s - loss: 0.0261 - acc: 0.996 - ETA: 0s - loss: 0.0260 - acc: 0.997 - ETA: 0s - loss: 0.0258 - acc: 0.997 - ETA: 0s - loss: 0.0260 - acc: 0.996 - ETA: 0s - loss: 0.0260 - acc: 0.996 - ETA: 0s - loss: 0.0260 - acc: 0.996 - ETA: 0s - loss: 0.0260 - acc: 0.996 - 10s 401us/sample - loss: 0.0259 - acc: 0.9969 - val_loss: 0.5203 - val_acc: 0.8289\n",
      "Epoch 5/10\n"
     ]
    },
    {
     "name": "stdout",
     "output_type": "stream",
     "text": [
      "25000/25000 [==============================] - ETA: 10s - loss: 0.0077 - acc: 1.00 - ETA: 6s - loss: 0.0240 - acc: 0.9961 - ETA: 5s - loss: 0.0153 - acc: 0.998 - ETA: 5s - loss: 0.0191 - acc: 0.997 - ETA: 5s - loss: 0.0158 - acc: 0.998 - ETA: 5s - loss: 0.0137 - acc: 0.998 - ETA: 5s - loss: 0.0124 - acc: 0.998 - ETA: 5s - loss: 0.0170 - acc: 0.997 - ETA: 5s - loss: 0.0156 - acc: 0.997 - ETA: 5s - loss: 0.0148 - acc: 0.998 - ETA: 5s - loss: 0.0140 - acc: 0.998 - ETA: 5s - loss: 0.0133 - acc: 0.998 - ETA: 5s - loss: 0.0136 - acc: 0.998 - ETA: 5s - loss: 0.0131 - acc: 0.998 - ETA: 5s - loss: 0.0127 - acc: 0.998 - ETA: 4s - loss: 0.0122 - acc: 0.998 - ETA: 4s - loss: 0.0119 - acc: 0.998 - ETA: 4s - loss: 0.0116 - acc: 0.998 - ETA: 4s - loss: 0.0112 - acc: 0.998 - ETA: 4s - loss: 0.0109 - acc: 0.998 - ETA: 4s - loss: 0.0107 - acc: 0.998 - ETA: 4s - loss: 0.0113 - acc: 0.998 - ETA: 4s - loss: 0.0111 - acc: 0.998 - ETA: 4s - loss: 0.0108 - acc: 0.998 - ETA: 4s - loss: 0.0106 - acc: 0.998 - ETA: 4s - loss: 0.0104 - acc: 0.999 - ETA: 4s - loss: 0.0102 - acc: 0.999 - ETA: 4s - loss: 0.0101 - acc: 0.999 - ETA: 4s - loss: 0.0100 - acc: 0.999 - ETA: 4s - loss: 0.0098 - acc: 0.999 - ETA: 4s - loss: 0.0097 - acc: 0.999 - ETA: 4s - loss: 0.0096 - acc: 0.999 - ETA: 4s - loss: 0.0095 - acc: 0.999 - ETA: 4s - loss: 0.0095 - acc: 0.999 - ETA: 4s - loss: 0.0095 - acc: 0.999 - ETA: 4s - loss: 0.0100 - acc: 0.999 - ETA: 3s - loss: 0.0099 - acc: 0.999 - ETA: 3s - loss: 0.0098 - acc: 0.999 - ETA: 3s - loss: 0.0097 - acc: 0.999 - ETA: 3s - loss: 0.0101 - acc: 0.999 - ETA: 3s - loss: 0.0101 - acc: 0.998 - ETA: 3s - loss: 0.0106 - acc: 0.998 - ETA: 3s - loss: 0.0105 - acc: 0.998 - ETA: 3s - loss: 0.0104 - acc: 0.998 - ETA: 3s - loss: 0.0103 - acc: 0.998 - ETA: 3s - loss: 0.0102 - acc: 0.998 - ETA: 3s - loss: 0.0101 - acc: 0.998 - ETA: 3s - loss: 0.0099 - acc: 0.999 - ETA: 3s - loss: 0.0103 - acc: 0.998 - ETA: 3s - loss: 0.0102 - acc: 0.998 - ETA: 3s - loss: 0.0101 - acc: 0.998 - ETA: 3s - loss: 0.0104 - acc: 0.998 - ETA: 3s - loss: 0.0104 - acc: 0.998 - ETA: 3s - loss: 0.0103 - acc: 0.998 - ETA: 2s - loss: 0.0102 - acc: 0.998 - ETA: 2s - loss: 0.0101 - acc: 0.999 - ETA: 2s - loss: 0.0100 - acc: 0.999 - ETA: 2s - loss: 0.0101 - acc: 0.998 - ETA: 2s - loss: 0.0100 - acc: 0.998 - ETA: 2s - loss: 0.0100 - acc: 0.998 - ETA: 2s - loss: 0.0099 - acc: 0.999 - ETA: 2s - loss: 0.0098 - acc: 0.999 - ETA: 2s - loss: 0.0097 - acc: 0.999 - ETA: 2s - loss: 0.0098 - acc: 0.998 - ETA: 2s - loss: 0.0098 - acc: 0.999 - ETA: 2s - loss: 0.0097 - acc: 0.999 - ETA: 2s - loss: 0.0097 - acc: 0.999 - ETA: 2s - loss: 0.0096 - acc: 0.999 - ETA: 2s - loss: 0.0095 - acc: 0.999 - ETA: 2s - loss: 0.0097 - acc: 0.999 - ETA: 2s - loss: 0.0097 - acc: 0.999 - ETA: 2s - loss: 0.0096 - acc: 0.999 - ETA: 2s - loss: 0.0096 - acc: 0.999 - ETA: 2s - loss: 0.0095 - acc: 0.999 - ETA: 2s - loss: 0.0097 - acc: 0.999 - ETA: 2s - loss: 0.0096 - acc: 0.999 - ETA: 1s - loss: 0.0096 - acc: 0.999 - ETA: 1s - loss: 0.0096 - acc: 0.998 - ETA: 1s - loss: 0.0095 - acc: 0.999 - ETA: 1s - loss: 0.0095 - acc: 0.999 - ETA: 1s - loss: 0.0094 - acc: 0.999 - ETA: 1s - loss: 0.0093 - acc: 0.999 - ETA: 1s - loss: 0.0093 - acc: 0.999 - ETA: 1s - loss: 0.0092 - acc: 0.999 - ETA: 1s - loss: 0.0092 - acc: 0.999 - ETA: 1s - loss: 0.0091 - acc: 0.999 - ETA: 1s - loss: 0.0093 - acc: 0.998 - ETA: 1s - loss: 0.0093 - acc: 0.999 - ETA: 1s - loss: 0.0093 - acc: 0.998 - ETA: 1s - loss: 0.0092 - acc: 0.998 - ETA: 1s - loss: 0.0092 - acc: 0.998 - ETA: 1s - loss: 0.0091 - acc: 0.999 - ETA: 1s - loss: 0.0093 - acc: 0.998 - ETA: 1s - loss: 0.0095 - acc: 0.998 - ETA: 1s - loss: 0.0095 - acc: 0.998 - ETA: 0s - loss: 0.0094 - acc: 0.998 - ETA: 0s - loss: 0.0094 - acc: 0.998 - ETA: 0s - loss: 0.0095 - acc: 0.998 - ETA: 0s - loss: 0.0095 - acc: 0.998 - ETA: 0s - loss: 0.0094 - acc: 0.998 - ETA: 0s - loss: 0.0096 - acc: 0.998 - ETA: 0s - loss: 0.0096 - acc: 0.998 - ETA: 0s - loss: 0.0096 - acc: 0.998 - ETA: 0s - loss: 0.0096 - acc: 0.998 - ETA: 0s - loss: 0.0096 - acc: 0.998 - ETA: 0s - loss: 0.0095 - acc: 0.998 - ETA: 0s - loss: 0.0094 - acc: 0.998 - ETA: 0s - loss: 0.0094 - acc: 0.998 - ETA: 0s - loss: 0.0094 - acc: 0.998 - ETA: 0s - loss: 0.0093 - acc: 0.998 - ETA: 0s - loss: 0.0094 - acc: 0.998 - ETA: 0s - loss: 0.0095 - acc: 0.998 - ETA: 0s - loss: 0.0095 - acc: 0.998 - 8s 303us/sample - loss: 0.0095 - acc: 0.9988 - val_loss: 0.5934 - val_acc: 0.8289\n",
      "Epoch 6/10\n"
     ]
    },
    {
     "name": "stdout",
     "output_type": "stream",
     "text": [
      "25000/25000 [==============================] - ETA: 3s - loss: 0.0024 - acc: 1.000 - ETA: 5s - loss: 0.0034 - acc: 1.000 - ETA: 5s - loss: 0.0032 - acc: 1.000 - ETA: 5s - loss: 0.0032 - acc: 1.000 - ETA: 5s - loss: 0.0032 - acc: 1.000 - ETA: 5s - loss: 0.0031 - acc: 1.000 - ETA: 5s - loss: 0.0031 - acc: 1.000 - ETA: 5s - loss: 0.0030 - acc: 1.000 - ETA: 5s - loss: 0.0029 - acc: 1.000 - ETA: 5s - loss: 0.0030 - acc: 1.000 - ETA: 5s - loss: 0.0030 - acc: 1.000 - ETA: 5s - loss: 0.0029 - acc: 1.000 - ETA: 5s - loss: 0.0029 - acc: 1.000 - ETA: 5s - loss: 0.0029 - acc: 1.000 - ETA: 5s - loss: 0.0028 - acc: 1.000 - ETA: 4s - loss: 0.0033 - acc: 0.999 - ETA: 4s - loss: 0.0032 - acc: 0.999 - ETA: 4s - loss: 0.0032 - acc: 0.999 - ETA: 4s - loss: 0.0042 - acc: 0.999 - ETA: 4s - loss: 0.0041 - acc: 0.999 - ETA: 4s - loss: 0.0040 - acc: 0.999 - ETA: 4s - loss: 0.0040 - acc: 0.999 - ETA: 4s - loss: 0.0039 - acc: 0.999 - ETA: 4s - loss: 0.0039 - acc: 0.999 - ETA: 4s - loss: 0.0038 - acc: 0.999 - ETA: 4s - loss: 0.0038 - acc: 0.999 - ETA: 4s - loss: 0.0038 - acc: 0.999 - ETA: 4s - loss: 0.0037 - acc: 0.999 - ETA: 4s - loss: 0.0037 - acc: 0.999 - ETA: 4s - loss: 0.0036 - acc: 0.999 - ETA: 4s - loss: 0.0036 - acc: 0.999 - ETA: 4s - loss: 0.0035 - acc: 0.999 - ETA: 4s - loss: 0.0035 - acc: 0.999 - ETA: 4s - loss: 0.0035 - acc: 0.999 - ETA: 4s - loss: 0.0034 - acc: 0.999 - ETA: 4s - loss: 0.0034 - acc: 0.999 - ETA: 3s - loss: 0.0034 - acc: 0.999 - ETA: 3s - loss: 0.0033 - acc: 0.999 - ETA: 3s - loss: 0.0033 - acc: 0.999 - ETA: 3s - loss: 0.0033 - acc: 0.999 - ETA: 3s - loss: 0.0032 - acc: 0.999 - ETA: 3s - loss: 0.0032 - acc: 0.999 - ETA: 3s - loss: 0.0032 - acc: 0.999 - ETA: 3s - loss: 0.0032 - acc: 0.999 - ETA: 3s - loss: 0.0031 - acc: 0.999 - ETA: 3s - loss: 0.0031 - acc: 0.999 - ETA: 3s - loss: 0.0031 - acc: 0.999 - ETA: 3s - loss: 0.0031 - acc: 0.999 - ETA: 3s - loss: 0.0031 - acc: 0.999 - ETA: 3s - loss: 0.0031 - acc: 0.999 - ETA: 3s - loss: 0.0031 - acc: 0.999 - ETA: 3s - loss: 0.0035 - acc: 0.999 - ETA: 3s - loss: 0.0035 - acc: 0.999 - ETA: 3s - loss: 0.0034 - acc: 0.999 - ETA: 2s - loss: 0.0034 - acc: 0.999 - ETA: 2s - loss: 0.0034 - acc: 0.999 - ETA: 2s - loss: 0.0034 - acc: 0.999 - ETA: 2s - loss: 0.0034 - acc: 0.999 - ETA: 2s - loss: 0.0034 - acc: 0.999 - ETA: 2s - loss: 0.0034 - acc: 0.999 - ETA: 2s - loss: 0.0034 - acc: 0.999 - ETA: 2s - loss: 0.0036 - acc: 0.999 - ETA: 2s - loss: 0.0036 - acc: 0.999 - ETA: 2s - loss: 0.0036 - acc: 0.999 - ETA: 2s - loss: 0.0039 - acc: 0.999 - ETA: 2s - loss: 0.0038 - acc: 0.999 - ETA: 2s - loss: 0.0038 - acc: 0.999 - ETA: 2s - loss: 0.0038 - acc: 0.999 - ETA: 2s - loss: 0.0038 - acc: 0.999 - ETA: 2s - loss: 0.0041 - acc: 0.999 - ETA: 2s - loss: 0.0040 - acc: 0.999 - ETA: 2s - loss: 0.0040 - acc: 0.999 - ETA: 2s - loss: 0.0042 - acc: 0.999 - ETA: 1s - loss: 0.0042 - acc: 0.999 - ETA: 1s - loss: 0.0042 - acc: 0.999 - ETA: 1s - loss: 0.0042 - acc: 0.999 - ETA: 1s - loss: 0.0041 - acc: 0.999 - ETA: 1s - loss: 0.0041 - acc: 0.999 - ETA: 1s - loss: 0.0041 - acc: 0.999 - ETA: 1s - loss: 0.0041 - acc: 0.999 - ETA: 1s - loss: 0.0041 - acc: 0.999 - ETA: 1s - loss: 0.0040 - acc: 0.999 - ETA: 1s - loss: 0.0040 - acc: 0.999 - ETA: 1s - loss: 0.0040 - acc: 0.999 - ETA: 1s - loss: 0.0040 - acc: 0.999 - ETA: 1s - loss: 0.0040 - acc: 0.999 - ETA: 1s - loss: 0.0040 - acc: 0.999 - ETA: 1s - loss: 0.0039 - acc: 0.999 - ETA: 1s - loss: 0.0039 - acc: 0.999 - ETA: 1s - loss: 0.0039 - acc: 0.999 - ETA: 1s - loss: 0.0039 - acc: 0.999 - ETA: 1s - loss: 0.0039 - acc: 0.999 - ETA: 0s - loss: 0.0039 - acc: 0.999 - ETA: 0s - loss: 0.0042 - acc: 0.999 - ETA: 0s - loss: 0.0043 - acc: 0.999 - ETA: 0s - loss: 0.0043 - acc: 0.999 - ETA: 0s - loss: 0.0042 - acc: 0.999 - ETA: 0s - loss: 0.0043 - acc: 0.999 - ETA: 0s - loss: 0.0042 - acc: 0.999 - ETA: 0s - loss: 0.0042 - acc: 0.999 - ETA: 0s - loss: 0.0042 - acc: 0.999 - ETA: 0s - loss: 0.0042 - acc: 0.999 - ETA: 0s - loss: 0.0042 - acc: 0.999 - ETA: 0s - loss: 0.0042 - acc: 0.999 - ETA: 0s - loss: 0.0041 - acc: 0.999 - ETA: 0s - loss: 0.0041 - acc: 0.999 - ETA: 0s - loss: 0.0041 - acc: 0.999 - ETA: 0s - loss: 0.0041 - acc: 0.999 - ETA: 0s - loss: 0.0041 - acc: 0.999 - ETA: 0s - loss: 0.0041 - acc: 0.999 - ETA: 0s - loss: 0.0041 - acc: 0.999 - 8s 303us/sample - loss: 0.0041 - acc: 0.9995 - val_loss: 0.6510 - val_acc: 0.8266\n",
      "Epoch 7/10\n"
     ]
    },
    {
     "name": "stdout",
     "output_type": "stream",
     "text": [
      "25000/25000 [==============================] - ETA: 4s - loss: 0.0015 - acc: 1.000 - ETA: 5s - loss: 0.0018 - acc: 1.000 - ETA: 5s - loss: 0.0016 - acc: 1.000 - ETA: 5s - loss: 0.0015 - acc: 1.000 - ETA: 5s - loss: 0.0016 - acc: 1.000 - ETA: 5s - loss: 0.0017 - acc: 1.000 - ETA: 5s - loss: 0.0017 - acc: 1.000 - ETA: 5s - loss: 0.0017 - acc: 1.000 - ETA: 5s - loss: 0.0016 - acc: 1.000 - ETA: 5s - loss: 0.0016 - acc: 1.000 - ETA: 5s - loss: 0.0015 - acc: 1.000 - ETA: 5s - loss: 0.0015 - acc: 1.000 - ETA: 5s - loss: 0.0015 - acc: 1.000 - ETA: 5s - loss: 0.0015 - acc: 1.000 - ETA: 5s - loss: 0.0015 - acc: 1.000 - ETA: 5s - loss: 0.0014 - acc: 1.000 - ETA: 5s - loss: 0.0014 - acc: 1.000 - ETA: 5s - loss: 0.0014 - acc: 1.000 - ETA: 5s - loss: 0.0014 - acc: 1.000 - ETA: 5s - loss: 0.0014 - acc: 1.000 - ETA: 4s - loss: 0.0014 - acc: 1.000 - ETA: 4s - loss: 0.0014 - acc: 1.000 - ETA: 4s - loss: 0.0014 - acc: 1.000 - ETA: 4s - loss: 0.0014 - acc: 1.000 - ETA: 4s - loss: 0.0014 - acc: 1.000 - ETA: 4s - loss: 0.0014 - acc: 1.000 - ETA: 4s - loss: 0.0014 - acc: 1.000 - ETA: 4s - loss: 0.0015 - acc: 1.000 - ETA: 4s - loss: 0.0015 - acc: 1.000 - ETA: 4s - loss: 0.0015 - acc: 1.000 - ETA: 4s - loss: 0.0015 - acc: 1.000 - ETA: 4s - loss: 0.0015 - acc: 1.000 - ETA: 4s - loss: 0.0015 - acc: 1.000 - ETA: 4s - loss: 0.0015 - acc: 1.000 - ETA: 4s - loss: 0.0015 - acc: 1.000 - ETA: 4s - loss: 0.0015 - acc: 1.000 - ETA: 4s - loss: 0.0015 - acc: 1.000 - ETA: 4s - loss: 0.0015 - acc: 1.000 - ETA: 4s - loss: 0.0014 - acc: 1.000 - ETA: 4s - loss: 0.0014 - acc: 1.000 - ETA: 4s - loss: 0.0014 - acc: 1.000 - ETA: 3s - loss: 0.0014 - acc: 1.000 - ETA: 3s - loss: 0.0014 - acc: 1.000 - ETA: 3s - loss: 0.0014 - acc: 1.000 - ETA: 3s - loss: 0.0014 - acc: 1.000 - ETA: 3s - loss: 0.0014 - acc: 1.000 - ETA: 3s - loss: 0.0014 - acc: 1.000 - ETA: 3s - loss: 0.0014 - acc: 1.000 - ETA: 3s - loss: 0.0014 - acc: 1.000 - ETA: 3s - loss: 0.0014 - acc: 1.000 - ETA: 3s - loss: 0.0014 - acc: 1.000 - ETA: 3s - loss: 0.0014 - acc: 1.000 - ETA: 3s - loss: 0.0014 - acc: 1.000 - ETA: 3s - loss: 0.0014 - acc: 1.000 - ETA: 3s - loss: 0.0014 - acc: 1.000 - ETA: 3s - loss: 0.0014 - acc: 1.000 - ETA: 3s - loss: 0.0014 - acc: 1.000 - ETA: 3s - loss: 0.0014 - acc: 1.000 - ETA: 3s - loss: 0.0014 - acc: 1.000 - ETA: 3s - loss: 0.0014 - acc: 1.000 - ETA: 3s - loss: 0.0014 - acc: 1.000 - ETA: 3s - loss: 0.0014 - acc: 1.000 - ETA: 3s - loss: 0.0014 - acc: 1.000 - ETA: 3s - loss: 0.0014 - acc: 1.000 - ETA: 3s - loss: 0.0014 - acc: 1.000 - ETA: 3s - loss: 0.0014 - acc: 1.000 - ETA: 3s - loss: 0.0014 - acc: 1.000 - ETA: 3s - loss: 0.0014 - acc: 1.000 - ETA: 3s - loss: 0.0014 - acc: 1.000 - ETA: 3s - loss: 0.0014 - acc: 1.000 - ETA: 3s - loss: 0.0014 - acc: 1.000 - ETA: 3s - loss: 0.0014 - acc: 1.000 - ETA: 3s - loss: 0.0014 - acc: 1.000 - ETA: 3s - loss: 0.0014 - acc: 1.000 - ETA: 3s - loss: 0.0014 - acc: 1.000 - ETA: 3s - loss: 0.0014 - acc: 1.000 - ETA: 3s - loss: 0.0014 - acc: 1.000 - ETA: 3s - loss: 0.0014 - acc: 1.000 - ETA: 3s - loss: 0.0014 - acc: 1.000 - ETA: 3s - loss: 0.0014 - acc: 1.000 - ETA: 3s - loss: 0.0014 - acc: 1.000 - ETA: 3s - loss: 0.0014 - acc: 0.999 - ETA: 3s - loss: 0.0014 - acc: 0.999 - ETA: 3s - loss: 0.0014 - acc: 0.999 - ETA: 3s - loss: 0.0014 - acc: 0.999 - ETA: 2s - loss: 0.0014 - acc: 0.999 - ETA: 2s - loss: 0.0014 - acc: 0.999 - ETA: 2s - loss: 0.0014 - acc: 0.999 - ETA: 2s - loss: 0.0014 - acc: 0.999 - ETA: 2s - loss: 0.0014 - acc: 0.999 - ETA: 2s - loss: 0.0014 - acc: 0.999 - ETA: 2s - loss: 0.0014 - acc: 0.999 - ETA: 2s - loss: 0.0014 - acc: 0.999 - ETA: 2s - loss: 0.0014 - acc: 0.999 - ETA: 2s - loss: 0.0014 - acc: 0.999 - ETA: 2s - loss: 0.0014 - acc: 0.999 - ETA: 2s - loss: 0.0014 - acc: 0.999 - ETA: 2s - loss: 0.0014 - acc: 0.999 - ETA: 2s - loss: 0.0014 - acc: 0.999 - ETA: 2s - loss: 0.0014 - acc: 0.999 - ETA: 2s - loss: 0.0014 - acc: 0.999 - ETA: 2s - loss: 0.0014 - acc: 0.999 - ETA: 2s - loss: 0.0014 - acc: 0.999 - ETA: 2s - loss: 0.0014 - acc: 0.999 - ETA: 2s - loss: 0.0014 - acc: 0.999 - ETA: 2s - loss: 0.0014 - acc: 0.999 - ETA: 2s - loss: 0.0014 - acc: 0.999 - ETA: 2s - loss: 0.0014 - acc: 0.999 - ETA: 2s - loss: 0.0014 - acc: 0.999 - ETA: 2s - loss: 0.0014 - acc: 0.999 - ETA: 2s - loss: 0.0014 - acc: 0.999 - ETA: 2s - loss: 0.0014 - acc: 0.999 - ETA: 2s - loss: 0.0014 - acc: 0.999 - ETA: 2s - loss: 0.0014 - acc: 0.999 - ETA: 2s - loss: 0.0014 - acc: 0.999 - ETA: 2s - loss: 0.0014 - acc: 0.999 - ETA: 2s - loss: 0.0014 - acc: 0.999 - ETA: 2s - loss: 0.0014 - acc: 0.999 - ETA: 1s - loss: 0.0014 - acc: 0.999 - ETA: 1s - loss: 0.0014 - acc: 0.999 - ETA: 1s - loss: 0.0014 - acc: 0.999 - ETA: 1s - loss: 0.0014 - acc: 0.999 - ETA: 1s - loss: 0.0014 - acc: 0.999 - ETA: 1s - loss: 0.0014 - acc: 1.000 - ETA: 1s - loss: 0.0014 - acc: 1.000 - ETA: 1s - loss: 0.0014 - acc: 1.000 - ETA: 1s - loss: 0.0014 - acc: 1.000 - ETA: 1s - loss: 0.0014 - acc: 1.000 - ETA: 1s - loss: 0.0014 - acc: 1.000 - ETA: 1s - loss: 0.0014 - acc: 1.000 - ETA: 1s - loss: 0.0014 - acc: 1.000 - ETA: 1s - loss: 0.0014 - acc: 1.000 - ETA: 1s - loss: 0.0014 - acc: 1.000 - ETA: 1s - loss: 0.0014 - acc: 1.000 - ETA: 1s - loss: 0.0014 - acc: 1.000 - ETA: 1s - loss: 0.0013 - acc: 1.000 - ETA: 1s - loss: 0.0013 - acc: 1.000 - ETA: 1s - loss: 0.0013 - acc: 1.000 - ETA: 1s - loss: 0.0013 - acc: 1.000 - ETA: 0s - loss: 0.0013 - acc: 1.000 - ETA: 0s - loss: 0.0013 - acc: 1.000 - ETA: 0s - loss: 0.0013 - acc: 1.000 - ETA: 0s - loss: 0.0013 - acc: 1.000 - ETA: 0s - loss: 0.0013 - acc: 1.000 - ETA: 0s - loss: 0.0013 - acc: 1.000 - ETA: 0s - loss: 0.0013 - acc: 1.000 - ETA: 0s - loss: 0.0013 - acc: 1.000 - ETA: 0s - loss: 0.0013 - acc: 1.000 - ETA: 0s - loss: 0.0013 - acc: 1.000 - ETA: 0s - loss: 0.0013 - acc: 1.000 - ETA: 0s - loss: 0.0013 - acc: 1.000 - ETA: 0s - loss: 0.0013 - acc: 0.999 - ETA: 0s - loss: 0.0013 - acc: 0.999 - ETA: 0s - loss: 0.0013 - acc: 0.999 - ETA: 0s - loss: 0.0013 - acc: 0.999 - 11s 439us/sample - loss: 0.0013 - acc: 0.9999 - val_loss: 0.6890 - val_acc: 0.8282\n",
      "Epoch 8/10\n"
     ]
    },
    {
     "name": "stdout",
     "output_type": "stream",
     "text": [
      "25000/25000 [==============================] - ETA: 11s - loss: 0.0012 - acc: 1.00 - ETA: 8s - loss: 7.2129e-04 - acc: 1.000 - ETA: 7s - loss: 7.5606e-04 - acc: 1.000 - ETA: 7s - loss: 7.8759e-04 - acc: 1.000 - ETA: 7s - loss: 7.3538e-04 - acc: 1.000 - ETA: 7s - loss: 7.2543e-04 - acc: 1.000 - ETA: 8s - loss: 7.0667e-04 - acc: 1.000 - ETA: 8s - loss: 7.0209e-04 - acc: 1.000 - ETA: 8s - loss: 6.8517e-04 - acc: 1.000 - ETA: 7s - loss: 6.8232e-04 - acc: 1.000 - ETA: 7s - loss: 6.8674e-04 - acc: 1.000 - ETA: 7s - loss: 6.7988e-04 - acc: 1.000 - ETA: 7s - loss: 6.8685e-04 - acc: 1.000 - ETA: 7s - loss: 6.8336e-04 - acc: 1.000 - ETA: 7s - loss: 6.7546e-04 - acc: 1.000 - ETA: 7s - loss: 6.6938e-04 - acc: 1.000 - ETA: 7s - loss: 6.7011e-04 - acc: 1.000 - ETA: 7s - loss: 6.6258e-04 - acc: 1.000 - ETA: 7s - loss: 6.7254e-04 - acc: 1.000 - ETA: 7s - loss: 6.6937e-04 - acc: 1.000 - ETA: 7s - loss: 6.6472e-04 - acc: 1.000 - ETA: 7s - loss: 6.6556e-04 - acc: 1.000 - ETA: 6s - loss: 6.6307e-04 - acc: 1.000 - ETA: 6s - loss: 6.5622e-04 - acc: 1.000 - ETA: 6s - loss: 6.5128e-04 - acc: 1.000 - ETA: 6s - loss: 6.4920e-04 - acc: 1.000 - ETA: 6s - loss: 6.4779e-04 - acc: 1.000 - ETA: 6s - loss: 6.5176e-04 - acc: 1.000 - ETA: 6s - loss: 6.6550e-04 - acc: 1.000 - ETA: 6s - loss: 6.6414e-04 - acc: 1.000 - ETA: 6s - loss: 6.6039e-04 - acc: 1.000 - ETA: 6s - loss: 6.6090e-04 - acc: 1.000 - ETA: 6s - loss: 6.5821e-04 - acc: 1.000 - ETA: 6s - loss: 6.5394e-04 - acc: 1.000 - ETA: 6s - loss: 6.5067e-04 - acc: 1.000 - ETA: 6s - loss: 6.4800e-04 - acc: 1.000 - ETA: 6s - loss: 6.4370e-04 - acc: 1.000 - ETA: 6s - loss: 6.4892e-04 - acc: 1.000 - ETA: 5s - loss: 6.4507e-04 - acc: 1.000 - ETA: 5s - loss: 6.4689e-04 - acc: 1.000 - ETA: 5s - loss: 6.4643e-04 - acc: 1.000 - ETA: 5s - loss: 6.4597e-04 - acc: 1.000 - ETA: 5s - loss: 6.4430e-04 - acc: 1.000 - ETA: 5s - loss: 6.4265e-04 - acc: 1.000 - ETA: 5s - loss: 6.3922e-04 - acc: 1.000 - ETA: 5s - loss: 6.3848e-04 - acc: 1.000 - ETA: 5s - loss: 6.3933e-04 - acc: 1.000 - ETA: 5s - loss: 6.3740e-04 - acc: 1.000 - ETA: 5s - loss: 6.3353e-04 - acc: 1.000 - ETA: 5s - loss: 6.3137e-04 - acc: 1.000 - ETA: 5s - loss: 6.3181e-04 - acc: 1.000 - ETA: 5s - loss: 6.3114e-04 - acc: 1.000 - ETA: 5s - loss: 6.3101e-04 - acc: 1.000 - ETA: 5s - loss: 6.2958e-04 - acc: 1.000 - ETA: 5s - loss: 6.2876e-04 - acc: 1.000 - ETA: 4s - loss: 6.2756e-04 - acc: 1.000 - ETA: 4s - loss: 6.2818e-04 - acc: 1.000 - ETA: 4s - loss: 6.2942e-04 - acc: 1.000 - ETA: 4s - loss: 6.2639e-04 - acc: 1.000 - ETA: 4s - loss: 6.2531e-04 - acc: 1.000 - ETA: 4s - loss: 6.2368e-04 - acc: 1.000 - ETA: 4s - loss: 6.2345e-04 - acc: 1.000 - ETA: 4s - loss: 6.2172e-04 - acc: 1.000 - ETA: 4s - loss: 6.1989e-04 - acc: 1.000 - ETA: 4s - loss: 6.1824e-04 - acc: 1.000 - ETA: 4s - loss: 6.1814e-04 - acc: 1.000 - ETA: 4s - loss: 6.1593e-04 - acc: 1.000 - ETA: 4s - loss: 6.1491e-04 - acc: 1.000 - ETA: 4s - loss: 6.1431e-04 - acc: 1.000 - ETA: 4s - loss: 6.1287e-04 - acc: 1.000 - ETA: 4s - loss: 6.1317e-04 - acc: 1.000 - ETA: 4s - loss: 6.1655e-04 - acc: 1.000 - ETA: 4s - loss: 6.1587e-04 - acc: 1.000 - ETA: 4s - loss: 6.1408e-04 - acc: 1.000 - ETA: 4s - loss: 6.1416e-04 - acc: 1.000 - ETA: 4s - loss: 6.1483e-04 - acc: 1.000 - ETA: 4s - loss: 6.1457e-04 - acc: 1.000 - ETA: 3s - loss: 6.1438e-04 - acc: 1.000 - ETA: 3s - loss: 6.1387e-04 - acc: 1.000 - ETA: 3s - loss: 6.1164e-04 - acc: 1.000 - ETA: 3s - loss: 6.1098e-04 - acc: 1.000 - ETA: 3s - loss: 6.1069e-04 - acc: 1.000 - ETA: 3s - loss: 6.0953e-04 - acc: 1.000 - ETA: 3s - loss: 6.0890e-04 - acc: 1.000 - ETA: 3s - loss: 6.0816e-04 - acc: 1.000 - ETA: 3s - loss: 6.0654e-04 - acc: 1.000 - ETA: 3s - loss: 6.0556e-04 - acc: 1.000 - ETA: 3s - loss: 6.0515e-04 - acc: 1.000 - ETA: 3s - loss: 6.0552e-04 - acc: 1.000 - ETA: 3s - loss: 6.0480e-04 - acc: 1.000 - ETA: 3s - loss: 6.0466e-04 - acc: 1.000 - ETA: 3s - loss: 6.0276e-04 - acc: 1.000 - ETA: 3s - loss: 6.0268e-04 - acc: 1.000 - ETA: 3s - loss: 6.0003e-04 - acc: 1.000 - ETA: 3s - loss: 5.9796e-04 - acc: 1.000 - ETA: 3s - loss: 5.9547e-04 - acc: 1.000 - ETA: 2s - loss: 5.9521e-04 - acc: 1.000 - ETA: 2s - loss: 5.9429e-04 - acc: 1.000 - ETA: 2s - loss: 5.9394e-04 - acc: 1.000 - ETA: 2s - loss: 5.9255e-04 - acc: 1.000 - ETA: 2s - loss: 5.9012e-04 - acc: 1.000 - ETA: 2s - loss: 5.8902e-04 - acc: 1.000 - ETA: 2s - loss: 5.8826e-04 - acc: 1.000 - ETA: 2s - loss: 5.8823e-04 - acc: 1.000 - ETA: 2s - loss: 5.8768e-04 - acc: 1.000 - ETA: 2s - loss: 5.8692e-04 - acc: 1.000 - ETA: 2s - loss: 5.8678e-04 - acc: 1.000 - ETA: 2s - loss: 5.8604e-04 - acc: 1.000 - ETA: 2s - loss: 5.8606e-04 - acc: 1.000 - ETA: 2s - loss: 5.8473e-04 - acc: 1.000 - ETA: 2s - loss: 5.8333e-04 - acc: 1.000 - ETA: 2s - loss: 5.8220e-04 - acc: 1.000 - ETA: 2s - loss: 5.8051e-04 - acc: 1.000 - ETA: 2s - loss: 5.7978e-04 - acc: 1.000 - ETA: 2s - loss: 5.7980e-04 - acc: 1.000 - ETA: 2s - loss: 5.7866e-04 - acc: 1.000 - ETA: 2s - loss: 5.7780e-04 - acc: 1.000 - ETA: 2s - loss: 5.7675e-04 - acc: 1.000 - ETA: 2s - loss: 5.7561e-04 - acc: 1.000 - ETA: 2s - loss: 5.7445e-04 - acc: 1.000 - ETA: 1s - loss: 5.7324e-04 - acc: 1.000 - ETA: 1s - loss: 5.7274e-04 - acc: 1.000 - ETA: 1s - loss: 5.7248e-04 - acc: 1.000 - ETA: 1s - loss: 5.7214e-04 - acc: 1.000 - ETA: 1s - loss: 5.7137e-04 - acc: 1.000 - ETA: 1s - loss: 5.7035e-04 - acc: 1.000 - ETA: 1s - loss: 5.6931e-04 - acc: 1.000 - ETA: 1s - loss: 5.6881e-04 - acc: 1.000 - ETA: 1s - loss: 5.6863e-04 - acc: 1.000 - ETA: 1s - loss: 5.6816e-04 - acc: 1.000 - ETA: 1s - loss: 5.6677e-04 - acc: 1.000 - ETA: 1s - loss: 5.6630e-04 - acc: 1.000 - ETA: 1s - loss: 5.6523e-04 - acc: 1.000 - ETA: 1s - loss: 5.6415e-04 - acc: 1.000 - ETA: 1s - loss: 5.6395e-04 - acc: 1.000 - ETA: 1s - loss: 5.6374e-04 - acc: 1.000 - ETA: 1s - loss: 5.6296e-04 - acc: 1.000 - ETA: 1s - loss: 5.6221e-04 - acc: 1.000 - ETA: 0s - loss: 5.6099e-04 - acc: 1.000 - ETA: 0s - loss: 5.6159e-04 - acc: 1.000 - ETA: 0s - loss: 5.6074e-04 - acc: 1.000 - ETA: 0s - loss: 5.6038e-04 - acc: 1.000 - ETA: 0s - loss: 5.5997e-04 - acc: 1.000 - ETA: 0s - loss: 5.6044e-04 - acc: 1.000 - ETA: 0s - loss: 5.5976e-04 - acc: 1.000 - ETA: 0s - loss: 5.5959e-04 - acc: 1.000 - ETA: 0s - loss: 5.6021e-04 - acc: 1.000 - ETA: 0s - loss: 5.6010e-04 - acc: 1.000 - ETA: 0s - loss: 5.5968e-04 - acc: 1.000 - ETA: 0s - loss: 5.5968e-04 - acc: 1.000 - ETA: 0s - loss: 5.5913e-04 - acc: 1.000 - ETA: 0s - loss: 5.5946e-04 - acc: 1.000 - ETA: 0s - loss: 5.5885e-04 - acc: 1.000 - ETA: 0s - loss: 5.5858e-04 - acc: 1.000 - ETA: 0s - loss: 5.5898e-04 - acc: 1.000 - ETA: 0s - loss: 5.5923e-04 - acc: 1.000 - ETA: 0s - loss: 5.5851e-04 - acc: 1.000 - ETA: 0s - loss: 5.5810e-04 - acc: 1.000 - ETA: 0s - loss: 5.5824e-04 - acc: 1.000 - ETA: 0s - loss: 5.5837e-04 - acc: 1.000 - ETA: 0s - loss: 5.5768e-04 - acc: 1.000 - ETA: 0s - loss: 5.5720e-04 - acc: 1.000 - ETA: 0s - loss: 5.5559e-04 - acc: 1.000 - 12s 463us/sample - loss: 5.5483e-04 - acc: 1.0000 - val_loss: 0.7280 - val_acc: 0.8292\n",
      "Epoch 9/10\n"
     ]
    },
    {
     "name": "stdout",
     "output_type": "stream",
     "text": [
      "25000/25000 [==============================] - ETA: 10s - loss: 5.3833e-04 - acc: 1.00 - ETA: 6s - loss: 3.1061e-04 - acc: 1.0000 - ETA: 5s - loss: 3.2158e-04 - acc: 1.000 - ETA: 5s - loss: 3.2898e-04 - acc: 1.000 - ETA: 5s - loss: 3.2315e-04 - acc: 1.000 - ETA: 5s - loss: 3.3128e-04 - acc: 1.000 - ETA: 5s - loss: 3.4125e-04 - acc: 1.000 - ETA: 5s - loss: 3.5163e-04 - acc: 1.000 - ETA: 5s - loss: 3.5267e-04 - acc: 1.000 - ETA: 5s - loss: 3.6010e-04 - acc: 1.000 - ETA: 5s - loss: 3.6378e-04 - acc: 1.000 - ETA: 5s - loss: 3.5696e-04 - acc: 1.000 - ETA: 5s - loss: 3.5414e-04 - acc: 1.000 - ETA: 5s - loss: 3.4872e-04 - acc: 1.000 - ETA: 5s - loss: 3.4856e-04 - acc: 1.000 - ETA: 5s - loss: 3.4896e-04 - acc: 1.000 - ETA: 5s - loss: 3.5133e-04 - acc: 1.000 - ETA: 5s - loss: 3.4772e-04 - acc: 1.000 - ETA: 5s - loss: 3.4571e-04 - acc: 1.000 - ETA: 4s - loss: 3.4835e-04 - acc: 1.000 - ETA: 4s - loss: 3.4484e-04 - acc: 1.000 - ETA: 4s - loss: 3.4565e-04 - acc: 1.000 - ETA: 4s - loss: 3.4559e-04 - acc: 1.000 - ETA: 4s - loss: 3.4406e-04 - acc: 1.000 - ETA: 4s - loss: 3.4224e-04 - acc: 1.000 - ETA: 4s - loss: 3.3850e-04 - acc: 1.000 - ETA: 4s - loss: 3.3667e-04 - acc: 1.000 - ETA: 4s - loss: 3.3717e-04 - acc: 1.000 - ETA: 4s - loss: 3.3429e-04 - acc: 1.000 - ETA: 4s - loss: 3.3315e-04 - acc: 1.000 - ETA: 4s - loss: 3.3215e-04 - acc: 1.000 - ETA: 4s - loss: 3.3130e-04 - acc: 1.000 - ETA: 4s - loss: 3.2928e-04 - acc: 1.000 - ETA: 4s - loss: 3.2883e-04 - acc: 1.000 - ETA: 4s - loss: 3.2731e-04 - acc: 1.000 - ETA: 4s - loss: 3.2729e-04 - acc: 1.000 - ETA: 4s - loss: 3.3182e-04 - acc: 1.000 - ETA: 4s - loss: 3.3283e-04 - acc: 1.000 - ETA: 4s - loss: 3.3114e-04 - acc: 1.000 - ETA: 4s - loss: 3.3024e-04 - acc: 1.000 - ETA: 4s - loss: 3.2961e-04 - acc: 1.000 - ETA: 4s - loss: 3.2745e-04 - acc: 1.000 - ETA: 4s - loss: 3.2662e-04 - acc: 1.000 - ETA: 4s - loss: 3.2554e-04 - acc: 1.000 - ETA: 4s - loss: 3.2544e-04 - acc: 1.000 - ETA: 4s - loss: 3.2466e-04 - acc: 1.000 - ETA: 4s - loss: 3.2284e-04 - acc: 1.000 - ETA: 3s - loss: 3.2688e-04 - acc: 1.000 - ETA: 3s - loss: 3.2790e-04 - acc: 1.000 - ETA: 3s - loss: 3.2629e-04 - acc: 1.000 - ETA: 3s - loss: 3.2796e-04 - acc: 1.000 - ETA: 3s - loss: 3.2656e-04 - acc: 1.000 - ETA: 3s - loss: 3.2529e-04 - acc: 1.000 - ETA: 3s - loss: 3.2570e-04 - acc: 1.000 - ETA: 3s - loss: 3.2496e-04 - acc: 1.000 - ETA: 3s - loss: 3.2387e-04 - acc: 1.000 - ETA: 3s - loss: 3.2326e-04 - acc: 1.000 - ETA: 3s - loss: 3.2265e-04 - acc: 1.000 - ETA: 3s - loss: 3.2290e-04 - acc: 1.000 - ETA: 3s - loss: 3.2225e-04 - acc: 1.000 - ETA: 3s - loss: 3.2244e-04 - acc: 1.000 - ETA: 3s - loss: 3.2294e-04 - acc: 1.000 - ETA: 3s - loss: 3.2194e-04 - acc: 1.000 - ETA: 3s - loss: 3.2186e-04 - acc: 1.000 - ETA: 3s - loss: 3.2143e-04 - acc: 1.000 - ETA: 3s - loss: 3.2053e-04 - acc: 1.000 - ETA: 3s - loss: 3.2013e-04 - acc: 1.000 - ETA: 2s - loss: 3.1954e-04 - acc: 1.000 - ETA: 2s - loss: 3.1890e-04 - acc: 1.000 - ETA: 2s - loss: 3.1845e-04 - acc: 1.000 - ETA: 2s - loss: 3.1763e-04 - acc: 1.000 - ETA: 2s - loss: 3.1762e-04 - acc: 1.000 - ETA: 2s - loss: 3.1666e-04 - acc: 1.000 - ETA: 2s - loss: 3.1637e-04 - acc: 1.000 - ETA: 2s - loss: 3.1582e-04 - acc: 1.000 - ETA: 2s - loss: 3.1569e-04 - acc: 1.000 - ETA: 2s - loss: 3.1567e-04 - acc: 1.000 - ETA: 2s - loss: 3.1581e-04 - acc: 1.000 - ETA: 2s - loss: 3.1606e-04 - acc: 1.000 - ETA: 2s - loss: 3.1544e-04 - acc: 1.000 - ETA: 2s - loss: 3.1558e-04 - acc: 1.000 - ETA: 2s - loss: 3.1517e-04 - acc: 1.000 - ETA: 2s - loss: 3.1460e-04 - acc: 1.000 - ETA: 2s - loss: 3.1405e-04 - acc: 1.000 - ETA: 2s - loss: 3.1480e-04 - acc: 1.000 - ETA: 2s - loss: 3.1468e-04 - acc: 1.000 - ETA: 2s - loss: 3.1451e-04 - acc: 1.000 - ETA: 2s - loss: 3.1359e-04 - acc: 1.000 - ETA: 2s - loss: 3.1266e-04 - acc: 1.000 - ETA: 2s - loss: 3.1138e-04 - acc: 1.000 - ETA: 2s - loss: 3.1044e-04 - acc: 1.000 - ETA: 1s - loss: 3.0948e-04 - acc: 1.000 - ETA: 1s - loss: 3.0892e-04 - acc: 1.000 - ETA: 1s - loss: 3.0877e-04 - acc: 1.000 - ETA: 1s - loss: 3.0822e-04 - acc: 1.000 - ETA: 1s - loss: 3.0803e-04 - acc: 1.000 - ETA: 1s - loss: 3.0735e-04 - acc: 1.000 - ETA: 1s - loss: 3.0670e-04 - acc: 1.000 - ETA: 1s - loss: 3.0612e-04 - acc: 1.000 - ETA: 1s - loss: 3.0526e-04 - acc: 1.000 - ETA: 1s - loss: 3.0459e-04 - acc: 1.000 - ETA: 1s - loss: 3.0391e-04 - acc: 1.000 - ETA: 1s - loss: 3.0321e-04 - acc: 1.000 - ETA: 1s - loss: 3.0218e-04 - acc: 1.000 - ETA: 1s - loss: 3.0249e-04 - acc: 1.000 - ETA: 1s - loss: 3.0200e-04 - acc: 1.000 - ETA: 1s - loss: 3.0151e-04 - acc: 1.000 - ETA: 1s - loss: 3.0127e-04 - acc: 1.000 - ETA: 1s - loss: 3.0116e-04 - acc: 1.000 - ETA: 1s - loss: 3.0102e-04 - acc: 1.000 - ETA: 1s - loss: 3.0074e-04 - acc: 1.000 - ETA: 1s - loss: 3.0029e-04 - acc: 1.000 - ETA: 0s - loss: 2.9955e-04 - acc: 1.000 - ETA: 0s - loss: 2.9879e-04 - acc: 1.000 - ETA: 0s - loss: 2.9917e-04 - acc: 1.000 - ETA: 0s - loss: 2.9879e-04 - acc: 1.000 - ETA: 0s - loss: 2.9808e-04 - acc: 1.000 - ETA: 0s - loss: 2.9828e-04 - acc: 1.000 - ETA: 0s - loss: 2.9773e-04 - acc: 1.000 - ETA: 0s - loss: 2.9730e-04 - acc: 1.000 - ETA: 0s - loss: 2.9715e-04 - acc: 1.000 - ETA: 0s - loss: 2.9704e-04 - acc: 1.000 - ETA: 0s - loss: 2.9617e-04 - acc: 1.000 - ETA: 0s - loss: 2.9610e-04 - acc: 1.000 - ETA: 0s - loss: 2.9591e-04 - acc: 1.000 - ETA: 0s - loss: 2.9570e-04 - acc: 1.000 - ETA: 0s - loss: 2.9555e-04 - acc: 1.000 - ETA: 0s - loss: 2.9522e-04 - acc: 1.000 - ETA: 0s - loss: 2.9519e-04 - acc: 1.000 - ETA: 0s - loss: 2.9500e-04 - acc: 1.000 - ETA: 0s - loss: 2.9403e-04 - acc: 1.000 - ETA: 0s - loss: 2.9416e-04 - acc: 1.000 - ETA: 0s - loss: 2.9398e-04 - acc: 1.000 - ETA: 0s - loss: 2.9393e-04 - acc: 1.000 - ETA: 0s - loss: 2.9391e-04 - acc: 1.000 - ETA: 0s - loss: 2.9410e-04 - acc: 1.000 - 9s 359us/sample - loss: 2.9388e-04 - acc: 1.0000 - val_loss: 0.7648 - val_acc: 0.8291\n",
      "Epoch 10/10\n"
     ]
    },
    {
     "name": "stdout",
     "output_type": "stream",
     "text": [
      "25000/25000 [==============================] - ETA: 5s - loss: 2.5914e-04 - acc: 1.000 - ETA: 5s - loss: 1.9784e-04 - acc: 1.000 - ETA: 5s - loss: 1.8739e-04 - acc: 1.000 - ETA: 5s - loss: 1.7693e-04 - acc: 1.000 - ETA: 5s - loss: 1.7979e-04 - acc: 1.000 - ETA: 5s - loss: 1.8860e-04 - acc: 1.000 - ETA: 5s - loss: 1.9096e-04 - acc: 1.000 - ETA: 5s - loss: 1.9159e-04 - acc: 1.000 - ETA: 5s - loss: 1.9565e-04 - acc: 1.000 - ETA: 5s - loss: 1.9080e-04 - acc: 1.000 - ETA: 5s - loss: 1.9180e-04 - acc: 1.000 - ETA: 5s - loss: 1.9243e-04 - acc: 1.000 - ETA: 5s - loss: 1.9047e-04 - acc: 1.000 - ETA: 5s - loss: 1.9436e-04 - acc: 1.000 - ETA: 5s - loss: 1.9571e-04 - acc: 1.000 - ETA: 5s - loss: 1.9622e-04 - acc: 1.000 - ETA: 4s - loss: 1.9516e-04 - acc: 1.000 - ETA: 4s - loss: 1.9558e-04 - acc: 1.000 - ETA: 4s - loss: 1.9576e-04 - acc: 1.000 - ETA: 4s - loss: 1.9491e-04 - acc: 1.000 - ETA: 4s - loss: 1.9288e-04 - acc: 1.000 - ETA: 4s - loss: 1.9206e-04 - acc: 1.000 - ETA: 4s - loss: 1.9279e-04 - acc: 1.000 - ETA: 5s - loss: 1.9348e-04 - acc: 1.000 - ETA: 5s - loss: 1.9301e-04 - acc: 1.000 - ETA: 5s - loss: 1.9413e-04 - acc: 1.000 - ETA: 5s - loss: 1.9350e-04 - acc: 1.000 - ETA: 5s - loss: 1.9282e-04 - acc: 1.000 - ETA: 5s - loss: 1.9248e-04 - acc: 1.000 - ETA: 5s - loss: 1.9142e-04 - acc: 1.000 - ETA: 5s - loss: 1.9155e-04 - acc: 1.000 - ETA: 5s - loss: 1.9077e-04 - acc: 1.000 - ETA: 5s - loss: 1.9188e-04 - acc: 1.000 - ETA: 5s - loss: 1.9138e-04 - acc: 1.000 - ETA: 5s - loss: 1.9016e-04 - acc: 1.000 - ETA: 5s - loss: 1.8922e-04 - acc: 1.000 - ETA: 5s - loss: 1.8973e-04 - acc: 1.000 - ETA: 5s - loss: 1.9042e-04 - acc: 1.000 - ETA: 5s - loss: 1.8943e-04 - acc: 1.000 - ETA: 5s - loss: 1.9016e-04 - acc: 1.000 - ETA: 5s - loss: 1.8974e-04 - acc: 1.000 - ETA: 5s - loss: 1.8881e-04 - acc: 1.000 - ETA: 4s - loss: 1.8984e-04 - acc: 1.000 - ETA: 4s - loss: 1.9289e-04 - acc: 1.000 - ETA: 4s - loss: 1.9317e-04 - acc: 1.000 - ETA: 4s - loss: 1.9235e-04 - acc: 1.000 - ETA: 4s - loss: 1.9294e-04 - acc: 1.000 - ETA: 4s - loss: 1.9300e-04 - acc: 1.000 - ETA: 4s - loss: 1.9229e-04 - acc: 1.000 - ETA: 4s - loss: 1.9136e-04 - acc: 1.000 - ETA: 4s - loss: 1.9103e-04 - acc: 1.000 - ETA: 4s - loss: 1.9127e-04 - acc: 1.000 - ETA: 4s - loss: 1.9096e-04 - acc: 1.000 - ETA: 4s - loss: 1.9133e-04 - acc: 1.000 - ETA: 4s - loss: 1.9094e-04 - acc: 1.000 - ETA: 4s - loss: 1.9039e-04 - acc: 1.000 - ETA: 4s - loss: 1.8996e-04 - acc: 1.000 - ETA: 3s - loss: 1.8991e-04 - acc: 1.000 - ETA: 3s - loss: 1.8973e-04 - acc: 1.000 - ETA: 3s - loss: 1.8936e-04 - acc: 1.000 - ETA: 3s - loss: 1.8916e-04 - acc: 1.000 - ETA: 3s - loss: 1.8838e-04 - acc: 1.000 - ETA: 3s - loss: 1.8823e-04 - acc: 1.000 - ETA: 3s - loss: 1.8810e-04 - acc: 1.000 - ETA: 3s - loss: 1.8771e-04 - acc: 1.000 - ETA: 3s - loss: 1.8734e-04 - acc: 1.000 - ETA: 3s - loss: 1.8681e-04 - acc: 1.000 - ETA: 3s - loss: 1.8639e-04 - acc: 1.000 - ETA: 3s - loss: 1.8639e-04 - acc: 1.000 - ETA: 3s - loss: 1.8625e-04 - acc: 1.000 - ETA: 3s - loss: 1.8642e-04 - acc: 1.000 - ETA: 3s - loss: 1.8614e-04 - acc: 1.000 - ETA: 3s - loss: 1.8610e-04 - acc: 1.000 - ETA: 3s - loss: 1.8522e-04 - acc: 1.000 - ETA: 3s - loss: 1.8487e-04 - acc: 1.000 - ETA: 3s - loss: 1.8463e-04 - acc: 1.000 - ETA: 3s - loss: 1.8414e-04 - acc: 1.000 - ETA: 3s - loss: 1.8431e-04 - acc: 1.000 - ETA: 3s - loss: 1.8387e-04 - acc: 1.000 - ETA: 3s - loss: 1.8365e-04 - acc: 1.000 - ETA: 3s - loss: 1.8398e-04 - acc: 1.000 - ETA: 3s - loss: 1.8382e-04 - acc: 1.000 - ETA: 3s - loss: 1.8327e-04 - acc: 1.000 - ETA: 3s - loss: 1.8327e-04 - acc: 1.000 - ETA: 3s - loss: 1.8324e-04 - acc: 1.000 - ETA: 3s - loss: 1.8335e-04 - acc: 1.000 - ETA: 3s - loss: 1.8303e-04 - acc: 1.000 - ETA: 3s - loss: 1.8293e-04 - acc: 1.000 - ETA: 3s - loss: 1.8276e-04 - acc: 1.000 - ETA: 3s - loss: 1.8229e-04 - acc: 1.000 - ETA: 2s - loss: 1.8191e-04 - acc: 1.000 - ETA: 2s - loss: 1.8187e-04 - acc: 1.000 - ETA: 2s - loss: 1.8183e-04 - acc: 1.000 - ETA: 2s - loss: 1.8146e-04 - acc: 1.000 - ETA: 2s - loss: 1.8133e-04 - acc: 1.000 - ETA: 2s - loss: 1.8116e-04 - acc: 1.000 - ETA: 2s - loss: 1.8088e-04 - acc: 1.000 - ETA: 2s - loss: 1.8082e-04 - acc: 1.000 - ETA: 2s - loss: 1.8082e-04 - acc: 1.000 - ETA: 2s - loss: 1.8076e-04 - acc: 1.000 - ETA: 2s - loss: 1.8056e-04 - acc: 1.000 - ETA: 2s - loss: 1.8056e-04 - acc: 1.000 - ETA: 2s - loss: 1.8032e-04 - acc: 1.000 - ETA: 2s - loss: 1.8039e-04 - acc: 1.000 - ETA: 2s - loss: 1.7984e-04 - acc: 1.000 - ETA: 2s - loss: 1.7952e-04 - acc: 1.000 - ETA: 2s - loss: 1.7951e-04 - acc: 1.000 - ETA: 2s - loss: 1.7969e-04 - acc: 1.000 - ETA: 2s - loss: 1.7963e-04 - acc: 1.000 - ETA: 2s - loss: 1.7912e-04 - acc: 1.000 - ETA: 2s - loss: 1.7906e-04 - acc: 1.000 - ETA: 2s - loss: 1.7896e-04 - acc: 1.000 - ETA: 2s - loss: 1.7864e-04 - acc: 1.000 - ETA: 2s - loss: 1.7871e-04 - acc: 1.000 - ETA: 2s - loss: 1.7847e-04 - acc: 1.000 - ETA: 2s - loss: 1.7838e-04 - acc: 1.000 - ETA: 2s - loss: 1.7813e-04 - acc: 1.000 - ETA: 2s - loss: 1.7787e-04 - acc: 1.000 - ETA: 1s - loss: 1.7778e-04 - acc: 1.000 - ETA: 1s - loss: 1.7778e-04 - acc: 1.000 - ETA: 1s - loss: 1.7743e-04 - acc: 1.000 - ETA: 1s - loss: 1.7723e-04 - acc: 1.000 - ETA: 1s - loss: 1.7716e-04 - acc: 1.000 - ETA: 1s - loss: 1.7693e-04 - acc: 1.000 - ETA: 1s - loss: 1.7688e-04 - acc: 1.000 - ETA: 1s - loss: 1.7693e-04 - acc: 1.000 - ETA: 1s - loss: 1.7677e-04 - acc: 1.000 - ETA: 1s - loss: 1.7673e-04 - acc: 1.000 - ETA: 1s - loss: 1.7648e-04 - acc: 1.000 - ETA: 1s - loss: 1.7646e-04 - acc: 1.000 - ETA: 1s - loss: 1.7608e-04 - acc: 1.000 - ETA: 1s - loss: 1.7596e-04 - acc: 1.000 - ETA: 1s - loss: 1.7595e-04 - acc: 1.000 - ETA: 1s - loss: 1.7591e-04 - acc: 1.000 - ETA: 1s - loss: 1.7571e-04 - acc: 1.000 - ETA: 1s - loss: 1.7582e-04 - acc: 1.000 - ETA: 1s - loss: 1.7580e-04 - acc: 1.000 - ETA: 1s - loss: 1.7582e-04 - acc: 1.000 - ETA: 1s - loss: 1.7574e-04 - acc: 1.000 - ETA: 1s - loss: 1.7549e-04 - acc: 1.000 - ETA: 1s - loss: 1.7528e-04 - acc: 1.000 - ETA: 1s - loss: 1.7525e-04 - acc: 1.000 - ETA: 1s - loss: 1.7519e-04 - acc: 1.000 - ETA: 1s - loss: 1.7526e-04 - acc: 1.000 - ETA: 1s - loss: 1.7519e-04 - acc: 1.000 - ETA: 1s - loss: 1.7516e-04 - acc: 1.000 - ETA: 1s - loss: 1.7656e-04 - acc: 1.000 - ETA: 1s - loss: 1.7617e-04 - acc: 1.000 - ETA: 1s - loss: 1.7657e-04 - acc: 1.000 - ETA: 0s - loss: 1.7639e-04 - acc: 1.000 - ETA: 0s - loss: 1.7656e-04 - acc: 1.000 - ETA: 0s - loss: 1.7634e-04 - acc: 1.000 - ETA: 0s - loss: 1.7609e-04 - acc: 1.000 - ETA: 0s - loss: 1.7594e-04 - acc: 1.000 - ETA: 0s - loss: 1.7610e-04 - acc: 1.000 - ETA: 0s - loss: 1.7634e-04 - acc: 1.000 - ETA: 0s - loss: 1.7667e-04 - acc: 1.000 - ETA: 0s - loss: 1.7639e-04 - acc: 1.000 - ETA: 0s - loss: 1.7607e-04 - acc: 1.000 - ETA: 0s - loss: 1.7586e-04 - acc: 1.000 - ETA: 0s - loss: 1.7589e-04 - acc: 1.000 - ETA: 0s - loss: 1.7565e-04 - acc: 1.000 - ETA: 0s - loss: 1.7540e-04 - acc: 1.000 - ETA: 0s - loss: 1.7528e-04 - acc: 1.000 - ETA: 0s - loss: 1.7519e-04 - acc: 1.000 - ETA: 0s - loss: 1.7504e-04 - acc: 1.000 - ETA: 0s - loss: 1.7486e-04 - acc: 1.000 - ETA: 0s - loss: 1.7509e-04 - acc: 1.000 - ETA: 0s - loss: 1.7486e-04 - acc: 1.000 - ETA: 0s - loss: 1.7477e-04 - acc: 1.000 - 12s 477us/sample - loss: 1.7480e-04 - acc: 1.0000 - val_loss: 0.8017 - val_acc: 0.8289\n"
     ]
    }
   ],
   "source": [
    "history = model1.fit(padded,train_label_final,epochs=10,validation_data=(test_padded,test_label_final))"
   ]
  },
  {
   "cell_type": "code",
   "execution_count": 21,
   "metadata": {},
   "outputs": [],
   "source": [
    "weights = model1.layers[0].get_weights()[0]"
   ]
  },
  {
   "cell_type": "code",
   "execution_count": 22,
   "metadata": {},
   "outputs": [
    {
     "data": {
      "text/plain": [
       "(10000, 16)"
      ]
     },
     "execution_count": 22,
     "metadata": {},
     "output_type": "execute_result"
    }
   ],
   "source": [
    "weights.shape"
   ]
  },
  {
   "cell_type": "code",
   "execution_count": 23,
   "metadata": {},
   "outputs": [],
   "source": [
    "reverse_word_index = dict([(value,key) for (key,value) in word_index.items()])"
   ]
  },
  {
   "cell_type": "code",
   "execution_count": 24,
   "metadata": {},
   "outputs": [],
   "source": [
    "import io"
   ]
  },
  {
   "cell_type": "code",
   "execution_count": 25,
   "metadata": {},
   "outputs": [],
   "source": [
    "out_v = io.open(\"vecs.tsv\",\"w\",encoding='utf-8')\n",
    "out_m = io.open(\"meta.tsv\",\"w\",encoding='utf-8')"
   ]
  },
  {
   "cell_type": "code",
   "execution_count": 26,
   "metadata": {},
   "outputs": [],
   "source": [
    "for word_num in range(1,vocab_size):\n",
    "    word = reverse_word_index[word_num]\n",
    "    embedding = weights[word_num]\n",
    "    out_m.write(word+'\\n')\n",
    "    out_v.write('\\t'.join([str(x) for x in embedding]) + '\\n')\n",
    "out_m.close()\n",
    "out_v.close()"
   ]
  },
  {
   "cell_type": "code",
   "execution_count": 27,
   "metadata": {},
   "outputs": [
    {
     "data": {
      "text/plain": [
       "array([-0.00716579,  0.11808513,  0.01629731,  0.04574597,  0.01705289,\n",
       "       -0.02778289, -0.02130054,  0.03049744, -0.00821611, -0.03973374,\n",
       "       -0.07429357, -0.00924375, -0.01466185, -0.01080307,  0.11026341,\n",
       "       -0.02700664], dtype=float32)"
      ]
     },
     "execution_count": 27,
     "metadata": {},
     "output_type": "execute_result"
    }
   ],
   "source": [
    "weights[0]"
   ]
  },
  {
   "cell_type": "code",
   "execution_count": 28,
   "metadata": {},
   "outputs": [
    {
     "data": {
      "text/plain": [
       "'of'"
      ]
     },
     "execution_count": 28,
     "metadata": {},
     "output_type": "execute_result"
    }
   ],
   "source": [
    "reverse_word_index[5]"
   ]
  },
  {
   "cell_type": "code",
   "execution_count": 29,
   "metadata": {},
   "outputs": [
    {
     "data": {
      "text/plain": [
       "84459"
      ]
     },
     "execution_count": 29,
     "metadata": {},
     "output_type": "execute_result"
    }
   ],
   "source": [
    "len(word_index)"
   ]
  },
  {
   "cell_type": "code",
   "execution_count": 30,
   "metadata": {},
   "outputs": [],
   "source": [
    "sen = [\"i am ankit\",\"hi there\"]\n",
    "tk = Tokenizer(3)"
   ]
  },
  {
   "cell_type": "code",
   "execution_count": 31,
   "metadata": {},
   "outputs": [
    {
     "name": "stdout",
     "output_type": "stream",
     "text": [
      "{'i': 1, 'am': 2, 'ankit': 3, 'hi': 4, 'there': 5}\n"
     ]
    }
   ],
   "source": [
    "tk.fit_on_texts(sen)\n",
    "print(tk.word_index)"
   ]
  },
  {
   "cell_type": "code",
   "execution_count": 32,
   "metadata": {},
   "outputs": [
    {
     "data": {
      "text/plain": [
       "[[1, 2], []]"
      ]
     },
     "execution_count": 32,
     "metadata": {},
     "output_type": "execute_result"
    }
   ],
   "source": [
    "tk.texts_to_sequences(sen)"
   ]
  },
  {
   "cell_type": "code",
   "execution_count": 33,
   "metadata": {},
   "outputs": [
    {
     "data": {
      "text/plain": [
       "array([1, 0, 1, ..., 0, 0, 0], dtype=int64)"
      ]
     },
     "execution_count": 33,
     "metadata": {},
     "output_type": "execute_result"
    }
   ],
   "source": [
    "test_label_final"
   ]
  },
  {
   "cell_type": "code",
   "execution_count": 36,
   "metadata": {},
   "outputs": [
    {
     "data": {
      "text/plain": [
       "array([[1]])"
      ]
     },
     "execution_count": 36,
     "metadata": {},
     "output_type": "execute_result"
    }
   ],
   "source": [
    "model1.predict_classes(test_padded[0:1])"
   ]
  },
  {
   "cell_type": "code",
   "execution_count": null,
   "metadata": {},
   "outputs": [],
   "source": []
  }
 ],
 "metadata": {
  "kernelspec": {
   "display_name": "Python 3",
   "language": "python",
   "name": "python3"
  },
  "language_info": {
   "codemirror_mode": {
    "name": "ipython",
    "version": 3
   },
   "file_extension": ".py",
   "mimetype": "text/x-python",
   "name": "python",
   "nbconvert_exporter": "python",
   "pygments_lexer": "ipython3",
   "version": "3.7.3"
  }
 },
 "nbformat": 4,
 "nbformat_minor": 2
}
